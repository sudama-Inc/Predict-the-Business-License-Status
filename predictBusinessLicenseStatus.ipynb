{
  "nbformat": 4,
  "nbformat_minor": 0,
  "metadata": {
    "colab": {
      "name": "predictBusinessLicenseStatus.ipynb",
      "provenance": [],
      "collapsed_sections": [],
      "authorship_tag": "ABX9TyMLvhwEFp47UMMKfrKpqBTM",
      "include_colab_link": true
    },
    "kernelspec": {
      "name": "python3",
      "display_name": "Python 3"
    },
    "language_info": {
      "name": "python"
    }
  },
  "cells": [
    {
      "cell_type": "markdown",
      "metadata": {
        "id": "view-in-github",
        "colab_type": "text"
      },
      "source": [
        "<a href=\"https://colab.research.google.com/github/sudama-Inc/Predict-the-Business-License-Status/blob/main/predictBusinessLicenseStatus.ipynb\" target=\"_parent\"><img src=\"https://colab.research.google.com/assets/colab-badge.svg\" alt=\"Open In Colab\"/></a>"
      ]
    },
    {
      "cell_type": "code",
      "execution_count": 1,
      "metadata": {
        "id": "Ssay6HAc__-B"
      },
      "outputs": [],
      "source": [
        "import pandas as pd\n",
        "import numpy as np\n",
        "\n",
        "import seaborn as sns\n",
        "import matplotlib.pyplot as plt\n",
        "\n",
        "import matplotlib.dates as mdates\n",
        "%matplotlib inline\n",
        "\n",
        "import datetime\n",
        "import re"
      ]
    },
    {
      "cell_type": "code",
      "source": [
        "from sklearn.preprocessing import MinMaxScaler\n",
        "from sklearn.linear_model import LinearRegression\n",
        "from sklearn.metrics import mean_squared_error, mean_absolute_error, r2_score\n",
        "from sklearn.ensemble import RandomForestRegressor\n",
        "from xgboost.sklearn import XGBRegressor\n",
        "\n",
        "from sklearn.model_selection import KFold, cross_val_score, train_test_split"
      ],
      "metadata": {
        "id": "ThFXY5bNAvTL"
      },
      "execution_count": 2,
      "outputs": []
    },
    {
      "cell_type": "markdown",
      "source": [
        "### Mount google Drive"
      ],
      "metadata": {
        "id": "sDakMZsZA2zv"
      }
    },
    {
      "cell_type": "code",
      "source": [
        "from google.colab import drive\n",
        "drive.mount('/content/drive')"
      ],
      "metadata": {
        "colab": {
          "base_uri": "https://localhost:8080/"
        },
        "id": "4y3idJ2yAwdr",
        "outputId": "a1e2cfa4-e84b-4e64-bbe2-8c16b37c590d"
      },
      "execution_count": 3,
      "outputs": [
        {
          "output_type": "stream",
          "name": "stdout",
          "text": [
            "Drive already mounted at /content/drive; to attempt to forcibly remount, call drive.mount(\"/content/drive\", force_remount=True).\n"
          ]
        }
      ]
    },
    {
      "cell_type": "markdown",
      "source": [
        "### Read Train DataSet"
      ],
      "metadata": {
        "id": "paw355IxBmcq"
      }
    },
    {
      "cell_type": "code",
      "source": [
        "df = pd.read_csv(\"/content/drive/MyDrive/Datasets/train_file.csv\")\n",
        "df.head(3)"
      ],
      "metadata": {
        "colab": {
          "base_uri": "https://localhost:8080/",
          "height": 428
        },
        "id": "s8PgNV5BBD7I",
        "outputId": "ad6bd31a-ea3b-4200-932b-e2323eb76b24"
      },
      "execution_count": 4,
      "outputs": [
        {
          "output_type": "stream",
          "name": "stderr",
          "text": [
            "/usr/local/lib/python3.7/dist-packages/IPython/core/interactiveshell.py:2882: DtypeWarning: Columns (9) have mixed types.Specify dtype option on import or set low_memory=False.\n",
            "  exec(code_obj, self.user_global_ns, self.user_ns)\n"
          ]
        },
        {
          "output_type": "execute_result",
          "data": {
            "text/plain": [
              "                 ID  LICENSE ID  ACCOUNT NUMBER  SITE NUMBER  \\\n",
              "0    35342-20020816     1256593           32811            1   \n",
              "1  1358463-20051116     1639294          262311           29   \n",
              "2  1980233-20090722     1980233          345008            1   \n",
              "\n",
              "            LEGAL NAME DOING BUSINESS AS NAME                     ADDRESS  \\\n",
              "0         CARMEN CAHUE  CLAUDIA'S BRIDAL SHOP  2625 S CENTRAL PARK AVE  1   \n",
              "1  ISLA TROPICAL, INC.          ISLA TROPICAL         2825 W MONTROSE AVE   \n",
              "2       DJS REMODELING   DJS REMODELING, INC.           1605  CLAVEY RD 1   \n",
              "\n",
              "       CITY STATE ZIP CODE  ...  LICENSE TERM START DATE  \\\n",
              "0   CHICAGO    IL  60623.0  ...      2002-08-16T00:00:00   \n",
              "1   CHICAGO    IL    60618  ...      2005-11-16T00:00:00   \n",
              "2  HIGHLAND    IL    60035  ...      2009-07-22T00:00:00   \n",
              "\n",
              "   LICENSE TERM EXPIRATION DATE LICENSE APPROVED FOR ISSUANCE  \\\n",
              "0           2003-08-15T00:00:00           2002-08-21T00:00:00   \n",
              "1           2006-11-15T00:00:00           2006-04-05T00:00:00   \n",
              "2           2011-07-15T00:00:00           2009-07-22T00:00:00   \n",
              "\n",
              "           DATE ISSUED  LICENSE STATUS CHANGE DATE   SSA   LATITUDE  \\\n",
              "0  2006-04-11T00:00:00                         NaN  25.0  41.843613   \n",
              "1  2006-06-12T00:00:00         2006-06-15T00:00:00  60.0  41.961132   \n",
              "2  2009-07-22T00:00:00                         NaN   NaN        NaN   \n",
              "\n",
              "   LONGITUDE                                           LOCATION LICENSE STATUS  \n",
              "0 -87.714618  {'latitude': '41.843612879431845', 'longitude'...            AAI  \n",
              "1 -87.699626  {'latitude': '41.96113244107215', 'longitude':...            AAC  \n",
              "2        NaN                                                NaN            AAI  \n",
              "\n",
              "[3 rows x 32 columns]"
            ],
            "text/html": [
              "\n",
              "  <div id=\"df-0a606463-f79e-4d79-842f-fd2e96fd006a\">\n",
              "    <div class=\"colab-df-container\">\n",
              "      <div>\n",
              "<style scoped>\n",
              "    .dataframe tbody tr th:only-of-type {\n",
              "        vertical-align: middle;\n",
              "    }\n",
              "\n",
              "    .dataframe tbody tr th {\n",
              "        vertical-align: top;\n",
              "    }\n",
              "\n",
              "    .dataframe thead th {\n",
              "        text-align: right;\n",
              "    }\n",
              "</style>\n",
              "<table border=\"1\" class=\"dataframe\">\n",
              "  <thead>\n",
              "    <tr style=\"text-align: right;\">\n",
              "      <th></th>\n",
              "      <th>ID</th>\n",
              "      <th>LICENSE ID</th>\n",
              "      <th>ACCOUNT NUMBER</th>\n",
              "      <th>SITE NUMBER</th>\n",
              "      <th>LEGAL NAME</th>\n",
              "      <th>DOING BUSINESS AS NAME</th>\n",
              "      <th>ADDRESS</th>\n",
              "      <th>CITY</th>\n",
              "      <th>STATE</th>\n",
              "      <th>ZIP CODE</th>\n",
              "      <th>...</th>\n",
              "      <th>LICENSE TERM START DATE</th>\n",
              "      <th>LICENSE TERM EXPIRATION DATE</th>\n",
              "      <th>LICENSE APPROVED FOR ISSUANCE</th>\n",
              "      <th>DATE ISSUED</th>\n",
              "      <th>LICENSE STATUS CHANGE DATE</th>\n",
              "      <th>SSA</th>\n",
              "      <th>LATITUDE</th>\n",
              "      <th>LONGITUDE</th>\n",
              "      <th>LOCATION</th>\n",
              "      <th>LICENSE STATUS</th>\n",
              "    </tr>\n",
              "  </thead>\n",
              "  <tbody>\n",
              "    <tr>\n",
              "      <th>0</th>\n",
              "      <td>35342-20020816</td>\n",
              "      <td>1256593</td>\n",
              "      <td>32811</td>\n",
              "      <td>1</td>\n",
              "      <td>CARMEN CAHUE</td>\n",
              "      <td>CLAUDIA'S BRIDAL SHOP</td>\n",
              "      <td>2625 S CENTRAL PARK AVE  1</td>\n",
              "      <td>CHICAGO</td>\n",
              "      <td>IL</td>\n",
              "      <td>60623.0</td>\n",
              "      <td>...</td>\n",
              "      <td>2002-08-16T00:00:00</td>\n",
              "      <td>2003-08-15T00:00:00</td>\n",
              "      <td>2002-08-21T00:00:00</td>\n",
              "      <td>2006-04-11T00:00:00</td>\n",
              "      <td>NaN</td>\n",
              "      <td>25.0</td>\n",
              "      <td>41.843613</td>\n",
              "      <td>-87.714618</td>\n",
              "      <td>{'latitude': '41.843612879431845', 'longitude'...</td>\n",
              "      <td>AAI</td>\n",
              "    </tr>\n",
              "    <tr>\n",
              "      <th>1</th>\n",
              "      <td>1358463-20051116</td>\n",
              "      <td>1639294</td>\n",
              "      <td>262311</td>\n",
              "      <td>29</td>\n",
              "      <td>ISLA TROPICAL, INC.</td>\n",
              "      <td>ISLA TROPICAL</td>\n",
              "      <td>2825 W MONTROSE AVE</td>\n",
              "      <td>CHICAGO</td>\n",
              "      <td>IL</td>\n",
              "      <td>60618</td>\n",
              "      <td>...</td>\n",
              "      <td>2005-11-16T00:00:00</td>\n",
              "      <td>2006-11-15T00:00:00</td>\n",
              "      <td>2006-04-05T00:00:00</td>\n",
              "      <td>2006-06-12T00:00:00</td>\n",
              "      <td>2006-06-15T00:00:00</td>\n",
              "      <td>60.0</td>\n",
              "      <td>41.961132</td>\n",
              "      <td>-87.699626</td>\n",
              "      <td>{'latitude': '41.96113244107215', 'longitude':...</td>\n",
              "      <td>AAC</td>\n",
              "    </tr>\n",
              "    <tr>\n",
              "      <th>2</th>\n",
              "      <td>1980233-20090722</td>\n",
              "      <td>1980233</td>\n",
              "      <td>345008</td>\n",
              "      <td>1</td>\n",
              "      <td>DJS REMODELING</td>\n",
              "      <td>DJS REMODELING, INC.</td>\n",
              "      <td>1605  CLAVEY RD 1</td>\n",
              "      <td>HIGHLAND</td>\n",
              "      <td>IL</td>\n",
              "      <td>60035</td>\n",
              "      <td>...</td>\n",
              "      <td>2009-07-22T00:00:00</td>\n",
              "      <td>2011-07-15T00:00:00</td>\n",
              "      <td>2009-07-22T00:00:00</td>\n",
              "      <td>2009-07-22T00:00:00</td>\n",
              "      <td>NaN</td>\n",
              "      <td>NaN</td>\n",
              "      <td>NaN</td>\n",
              "      <td>NaN</td>\n",
              "      <td>NaN</td>\n",
              "      <td>AAI</td>\n",
              "    </tr>\n",
              "  </tbody>\n",
              "</table>\n",
              "<p>3 rows × 32 columns</p>\n",
              "</div>\n",
              "      <button class=\"colab-df-convert\" onclick=\"convertToInteractive('df-0a606463-f79e-4d79-842f-fd2e96fd006a')\"\n",
              "              title=\"Convert this dataframe to an interactive table.\"\n",
              "              style=\"display:none;\">\n",
              "        \n",
              "  <svg xmlns=\"http://www.w3.org/2000/svg\" height=\"24px\"viewBox=\"0 0 24 24\"\n",
              "       width=\"24px\">\n",
              "    <path d=\"M0 0h24v24H0V0z\" fill=\"none\"/>\n",
              "    <path d=\"M18.56 5.44l.94 2.06.94-2.06 2.06-.94-2.06-.94-.94-2.06-.94 2.06-2.06.94zm-11 1L8.5 8.5l.94-2.06 2.06-.94-2.06-.94L8.5 2.5l-.94 2.06-2.06.94zm10 10l.94 2.06.94-2.06 2.06-.94-2.06-.94-.94-2.06-.94 2.06-2.06.94z\"/><path d=\"M17.41 7.96l-1.37-1.37c-.4-.4-.92-.59-1.43-.59-.52 0-1.04.2-1.43.59L10.3 9.45l-7.72 7.72c-.78.78-.78 2.05 0 2.83L4 21.41c.39.39.9.59 1.41.59.51 0 1.02-.2 1.41-.59l7.78-7.78 2.81-2.81c.8-.78.8-2.07 0-2.86zM5.41 20L4 18.59l7.72-7.72 1.47 1.35L5.41 20z\"/>\n",
              "  </svg>\n",
              "      </button>\n",
              "      \n",
              "  <style>\n",
              "    .colab-df-container {\n",
              "      display:flex;\n",
              "      flex-wrap:wrap;\n",
              "      gap: 12px;\n",
              "    }\n",
              "\n",
              "    .colab-df-convert {\n",
              "      background-color: #E8F0FE;\n",
              "      border: none;\n",
              "      border-radius: 50%;\n",
              "      cursor: pointer;\n",
              "      display: none;\n",
              "      fill: #1967D2;\n",
              "      height: 32px;\n",
              "      padding: 0 0 0 0;\n",
              "      width: 32px;\n",
              "    }\n",
              "\n",
              "    .colab-df-convert:hover {\n",
              "      background-color: #E2EBFA;\n",
              "      box-shadow: 0px 1px 2px rgba(60, 64, 67, 0.3), 0px 1px 3px 1px rgba(60, 64, 67, 0.15);\n",
              "      fill: #174EA6;\n",
              "    }\n",
              "\n",
              "    [theme=dark] .colab-df-convert {\n",
              "      background-color: #3B4455;\n",
              "      fill: #D2E3FC;\n",
              "    }\n",
              "\n",
              "    [theme=dark] .colab-df-convert:hover {\n",
              "      background-color: #434B5C;\n",
              "      box-shadow: 0px 1px 3px 1px rgba(0, 0, 0, 0.15);\n",
              "      filter: drop-shadow(0px 1px 2px rgba(0, 0, 0, 0.3));\n",
              "      fill: #FFFFFF;\n",
              "    }\n",
              "  </style>\n",
              "\n",
              "      <script>\n",
              "        const buttonEl =\n",
              "          document.querySelector('#df-0a606463-f79e-4d79-842f-fd2e96fd006a button.colab-df-convert');\n",
              "        buttonEl.style.display =\n",
              "          google.colab.kernel.accessAllowed ? 'block' : 'none';\n",
              "\n",
              "        async function convertToInteractive(key) {\n",
              "          const element = document.querySelector('#df-0a606463-f79e-4d79-842f-fd2e96fd006a');\n",
              "          const dataTable =\n",
              "            await google.colab.kernel.invokeFunction('convertToInteractive',\n",
              "                                                     [key], {});\n",
              "          if (!dataTable) return;\n",
              "\n",
              "          const docLinkHtml = 'Like what you see? Visit the ' +\n",
              "            '<a target=\"_blank\" href=https://colab.research.google.com/notebooks/data_table.ipynb>data table notebook</a>'\n",
              "            + ' to learn more about interactive tables.';\n",
              "          element.innerHTML = '';\n",
              "          dataTable['output_type'] = 'display_data';\n",
              "          await google.colab.output.renderOutput(dataTable, element);\n",
              "          const docLink = document.createElement('div');\n",
              "          docLink.innerHTML = docLinkHtml;\n",
              "          element.appendChild(docLink);\n",
              "        }\n",
              "      </script>\n",
              "    </div>\n",
              "  </div>\n",
              "  "
            ]
          },
          "metadata": {},
          "execution_count": 4
        }
      ]
    },
    {
      "cell_type": "code",
      "source": [
        "df.shape"
      ],
      "metadata": {
        "colab": {
          "base_uri": "https://localhost:8080/"
        },
        "id": "c9pwXBn2GIgd",
        "outputId": "748b135a-42d4-431c-9b1a-0e081590c867"
      },
      "execution_count": 5,
      "outputs": [
        {
          "output_type": "execute_result",
          "data": {
            "text/plain": [
              "(85895, 32)"
            ]
          },
          "metadata": {},
          "execution_count": 5
        }
      ]
    },
    {
      "cell_type": "code",
      "source": [
        "df.columns"
      ],
      "metadata": {
        "colab": {
          "base_uri": "https://localhost:8080/"
        },
        "id": "zq9nw6r0W5cH",
        "outputId": "3cb29829-80a7-4874-cc85-d978e423078f"
      },
      "execution_count": 6,
      "outputs": [
        {
          "output_type": "execute_result",
          "data": {
            "text/plain": [
              "Index(['ID', 'LICENSE ID', 'ACCOUNT NUMBER', 'SITE NUMBER', 'LEGAL NAME',\n",
              "       'DOING BUSINESS AS NAME', 'ADDRESS', 'CITY', 'STATE', 'ZIP CODE',\n",
              "       'WARD', 'PRECINCT', 'WARD PRECINCT', 'POLICE DISTRICT', 'LICENSE CODE',\n",
              "       'LICENSE DESCRIPTION', 'LICENSE NUMBER', 'APPLICATION TYPE',\n",
              "       'APPLICATION CREATED DATE', 'APPLICATION REQUIREMENTS COMPLETE',\n",
              "       'PAYMENT DATE', 'CONDITIONAL APPROVAL', 'LICENSE TERM START DATE',\n",
              "       'LICENSE TERM EXPIRATION DATE', 'LICENSE APPROVED FOR ISSUANCE',\n",
              "       'DATE ISSUED', 'LICENSE STATUS CHANGE DATE', 'SSA', 'LATITUDE',\n",
              "       'LONGITUDE', 'LOCATION', 'LICENSE STATUS'],\n",
              "      dtype='object')"
            ]
          },
          "metadata": {},
          "execution_count": 6
        }
      ]
    },
    {
      "cell_type": "code",
      "source": [
        "df['LICENSE STATUS'].unique()"
      ],
      "metadata": {
        "colab": {
          "base_uri": "https://localhost:8080/",
          "height": 502
        },
        "id": "tDL_TmOpB4GM",
        "outputId": "e57c9be2-8403-4afe-fa8d-59ae52b5b144"
      },
      "execution_count": 50,
      "outputs": [
        {
          "output_type": "error",
          "ename": "KeyError",
          "evalue": "ignored",
          "traceback": [
            "\u001b[0;31m---------------------------------------------------------------------------\u001b[0m",
            "\u001b[0;31mKeyError\u001b[0m                                  Traceback (most recent call last)",
            "\u001b[0;32m/usr/local/lib/python3.7/dist-packages/pandas/core/indexes/base.py\u001b[0m in \u001b[0;36mget_loc\u001b[0;34m(self, key, method, tolerance)\u001b[0m\n\u001b[1;32m   3360\u001b[0m             \u001b[0;32mtry\u001b[0m\u001b[0;34m:\u001b[0m\u001b[0;34m\u001b[0m\u001b[0;34m\u001b[0m\u001b[0m\n\u001b[0;32m-> 3361\u001b[0;31m                 \u001b[0;32mreturn\u001b[0m \u001b[0mself\u001b[0m\u001b[0;34m.\u001b[0m\u001b[0m_engine\u001b[0m\u001b[0;34m.\u001b[0m\u001b[0mget_loc\u001b[0m\u001b[0;34m(\u001b[0m\u001b[0mcasted_key\u001b[0m\u001b[0;34m)\u001b[0m\u001b[0;34m\u001b[0m\u001b[0;34m\u001b[0m\u001b[0m\n\u001b[0m\u001b[1;32m   3362\u001b[0m             \u001b[0;32mexcept\u001b[0m \u001b[0mKeyError\u001b[0m \u001b[0;32mas\u001b[0m \u001b[0merr\u001b[0m\u001b[0;34m:\u001b[0m\u001b[0;34m\u001b[0m\u001b[0;34m\u001b[0m\u001b[0m\n",
            "\u001b[0;32m/usr/local/lib/python3.7/dist-packages/pandas/_libs/index.pyx\u001b[0m in \u001b[0;36mpandas._libs.index.IndexEngine.get_loc\u001b[0;34m()\u001b[0m\n",
            "\u001b[0;32m/usr/local/lib/python3.7/dist-packages/pandas/_libs/index.pyx\u001b[0m in \u001b[0;36mpandas._libs.index.IndexEngine.get_loc\u001b[0;34m()\u001b[0m\n",
            "\u001b[0;32mpandas/_libs/hashtable_class_helper.pxi\u001b[0m in \u001b[0;36mpandas._libs.hashtable.PyObjectHashTable.get_item\u001b[0;34m()\u001b[0m\n",
            "\u001b[0;32mpandas/_libs/hashtable_class_helper.pxi\u001b[0m in \u001b[0;36mpandas._libs.hashtable.PyObjectHashTable.get_item\u001b[0;34m()\u001b[0m\n",
            "\u001b[0;31mKeyError\u001b[0m: 'LICENSE STATUS'",
            "\nThe above exception was the direct cause of the following exception:\n",
            "\u001b[0;31mKeyError\u001b[0m                                  Traceback (most recent call last)",
            "\u001b[0;32m<ipython-input-50-22ac66226b0d>\u001b[0m in \u001b[0;36m<module>\u001b[0;34m()\u001b[0m\n\u001b[0;32m----> 1\u001b[0;31m \u001b[0mdf\u001b[0m\u001b[0;34m[\u001b[0m\u001b[0;34m'LICENSE STATUS'\u001b[0m\u001b[0;34m]\u001b[0m\u001b[0;34m.\u001b[0m\u001b[0munique\u001b[0m\u001b[0;34m(\u001b[0m\u001b[0;34m)\u001b[0m\u001b[0;34m\u001b[0m\u001b[0;34m\u001b[0m\u001b[0m\n\u001b[0m",
            "\u001b[0;32m/usr/local/lib/python3.7/dist-packages/pandas/core/frame.py\u001b[0m in \u001b[0;36m__getitem__\u001b[0;34m(self, key)\u001b[0m\n\u001b[1;32m   3456\u001b[0m             \u001b[0;32mif\u001b[0m \u001b[0mself\u001b[0m\u001b[0;34m.\u001b[0m\u001b[0mcolumns\u001b[0m\u001b[0;34m.\u001b[0m\u001b[0mnlevels\u001b[0m \u001b[0;34m>\u001b[0m \u001b[0;36m1\u001b[0m\u001b[0;34m:\u001b[0m\u001b[0;34m\u001b[0m\u001b[0;34m\u001b[0m\u001b[0m\n\u001b[1;32m   3457\u001b[0m                 \u001b[0;32mreturn\u001b[0m \u001b[0mself\u001b[0m\u001b[0;34m.\u001b[0m\u001b[0m_getitem_multilevel\u001b[0m\u001b[0;34m(\u001b[0m\u001b[0mkey\u001b[0m\u001b[0;34m)\u001b[0m\u001b[0;34m\u001b[0m\u001b[0;34m\u001b[0m\u001b[0m\n\u001b[0;32m-> 3458\u001b[0;31m             \u001b[0mindexer\u001b[0m \u001b[0;34m=\u001b[0m \u001b[0mself\u001b[0m\u001b[0;34m.\u001b[0m\u001b[0mcolumns\u001b[0m\u001b[0;34m.\u001b[0m\u001b[0mget_loc\u001b[0m\u001b[0;34m(\u001b[0m\u001b[0mkey\u001b[0m\u001b[0;34m)\u001b[0m\u001b[0;34m\u001b[0m\u001b[0;34m\u001b[0m\u001b[0m\n\u001b[0m\u001b[1;32m   3459\u001b[0m             \u001b[0;32mif\u001b[0m \u001b[0mis_integer\u001b[0m\u001b[0;34m(\u001b[0m\u001b[0mindexer\u001b[0m\u001b[0;34m)\u001b[0m\u001b[0;34m:\u001b[0m\u001b[0;34m\u001b[0m\u001b[0;34m\u001b[0m\u001b[0m\n\u001b[1;32m   3460\u001b[0m                 \u001b[0mindexer\u001b[0m \u001b[0;34m=\u001b[0m \u001b[0;34m[\u001b[0m\u001b[0mindexer\u001b[0m\u001b[0;34m]\u001b[0m\u001b[0;34m\u001b[0m\u001b[0;34m\u001b[0m\u001b[0m\n",
            "\u001b[0;32m/usr/local/lib/python3.7/dist-packages/pandas/core/indexes/base.py\u001b[0m in \u001b[0;36mget_loc\u001b[0;34m(self, key, method, tolerance)\u001b[0m\n\u001b[1;32m   3361\u001b[0m                 \u001b[0;32mreturn\u001b[0m \u001b[0mself\u001b[0m\u001b[0;34m.\u001b[0m\u001b[0m_engine\u001b[0m\u001b[0;34m.\u001b[0m\u001b[0mget_loc\u001b[0m\u001b[0;34m(\u001b[0m\u001b[0mcasted_key\u001b[0m\u001b[0;34m)\u001b[0m\u001b[0;34m\u001b[0m\u001b[0;34m\u001b[0m\u001b[0m\n\u001b[1;32m   3362\u001b[0m             \u001b[0;32mexcept\u001b[0m \u001b[0mKeyError\u001b[0m \u001b[0;32mas\u001b[0m \u001b[0merr\u001b[0m\u001b[0;34m:\u001b[0m\u001b[0;34m\u001b[0m\u001b[0;34m\u001b[0m\u001b[0m\n\u001b[0;32m-> 3363\u001b[0;31m                 \u001b[0;32mraise\u001b[0m \u001b[0mKeyError\u001b[0m\u001b[0;34m(\u001b[0m\u001b[0mkey\u001b[0m\u001b[0;34m)\u001b[0m \u001b[0;32mfrom\u001b[0m \u001b[0merr\u001b[0m\u001b[0;34m\u001b[0m\u001b[0;34m\u001b[0m\u001b[0m\n\u001b[0m\u001b[1;32m   3364\u001b[0m \u001b[0;34m\u001b[0m\u001b[0m\n\u001b[1;32m   3365\u001b[0m         \u001b[0;32mif\u001b[0m \u001b[0mis_scalar\u001b[0m\u001b[0;34m(\u001b[0m\u001b[0mkey\u001b[0m\u001b[0;34m)\u001b[0m \u001b[0;32mand\u001b[0m \u001b[0misna\u001b[0m\u001b[0;34m(\u001b[0m\u001b[0mkey\u001b[0m\u001b[0;34m)\u001b[0m \u001b[0;32mand\u001b[0m \u001b[0;32mnot\u001b[0m \u001b[0mself\u001b[0m\u001b[0;34m.\u001b[0m\u001b[0mhasnans\u001b[0m\u001b[0;34m:\u001b[0m\u001b[0;34m\u001b[0m\u001b[0;34m\u001b[0m\u001b[0m\n",
            "\u001b[0;31mKeyError\u001b[0m: 'LICENSE STATUS'"
          ]
        }
      ]
    },
    {
      "cell_type": "code",
      "source": [
        "df.isnull().sum()"
      ],
      "metadata": {
        "colab": {
          "base_uri": "https://localhost:8080/"
        },
        "id": "TMri3gGqFJpQ",
        "outputId": "ac8e9aae-403a-49a6-a715-5266fe9d986f"
      },
      "execution_count": 8,
      "outputs": [
        {
          "output_type": "execute_result",
          "data": {
            "text/plain": [
              "ID                                       0\n",
              "LICENSE ID                               0\n",
              "ACCOUNT NUMBER                           0\n",
              "SITE NUMBER                              0\n",
              "LEGAL NAME                               0\n",
              "DOING BUSINESS AS NAME                   1\n",
              "ADDRESS                                  0\n",
              "CITY                                     0\n",
              "STATE                                    0\n",
              "ZIP CODE                                31\n",
              "WARD                                 49701\n",
              "PRECINCT                             56701\n",
              "WARD PRECINCT                        49700\n",
              "POLICE DISTRICT                      54012\n",
              "LICENSE CODE                             0\n",
              "LICENSE DESCRIPTION                      0\n",
              "LICENSE NUMBER                           1\n",
              "APPLICATION TYPE                         0\n",
              "APPLICATION CREATED DATE             64660\n",
              "APPLICATION REQUIREMENTS COMPLETE      214\n",
              "PAYMENT DATE                          1289\n",
              "CONDITIONAL APPROVAL                     0\n",
              "LICENSE TERM START DATE                228\n",
              "LICENSE TERM EXPIRATION DATE            18\n",
              "LICENSE APPROVED FOR ISSUANCE         6789\n",
              "DATE ISSUED                              0\n",
              "LICENSE STATUS CHANGE DATE           55400\n",
              "SSA                                  76446\n",
              "LATITUDE                             47246\n",
              "LONGITUDE                            47246\n",
              "LOCATION                             47246\n",
              "LICENSE STATUS                           0\n",
              "dtype: int64"
            ]
          },
          "metadata": {},
          "execution_count": 8
        }
      ]
    },
    {
      "cell_type": "markdown",
      "source": [
        "**Dataset have many missing values, Let's Analyse the data**"
      ],
      "metadata": {
        "id": "TS-wPQKXFrfe"
      }
    },
    {
      "cell_type": "code",
      "source": [
        "df.describe()"
      ],
      "metadata": {
        "colab": {
          "base_uri": "https://localhost:8080/",
          "height": 381
        },
        "id": "v7Qc-QLRFSiE",
        "outputId": "eeb84aff-28ed-48e7-d299-1eb363359aea"
      },
      "execution_count": 9,
      "outputs": [
        {
          "output_type": "execute_result",
          "data": {
            "text/plain": [
              "         LICENSE ID  ACCOUNT NUMBER   SITE NUMBER          WARD      PRECINCT  \\\n",
              "count  8.589500e+04    85895.000000  85895.000000  36194.000000  29194.000000   \n",
              "mean   1.751303e+06   196695.421701      2.556028     28.528927     54.632973   \n",
              "std    3.358780e+05   126819.343760      8.655706     13.921710    163.174955   \n",
              "min    3.079300e+04       10.000000      1.000000      1.000000      1.000000   \n",
              "25%    1.469024e+06    54615.000000      1.000000     17.000000     12.000000   \n",
              "50%    1.778754e+06   248313.000000      1.000000     30.000000     26.000000   \n",
              "75%    2.067578e+06   300243.500000      2.000000     42.000000     41.000000   \n",
              "max    2.456551e+06   397444.000000    417.000000     50.000000    999.000000   \n",
              "\n",
              "       POLICE DISTRICT  LICENSE CODE  LICENSE NUMBER          SSA  \\\n",
              "count     31883.000000  85895.000000    8.589400e+04  9449.000000   \n",
              "mean         13.529812   1111.736620    1.228151e+06    29.152080   \n",
              "std           7.275874    250.020872    7.431487e+05    17.419898   \n",
              "min           1.000000   1002.000000    1.290000e+02     1.000000   \n",
              "25%           8.000000   1010.000000    8.710900e+04    17.000000   \n",
              "50%          14.000000   1010.000000    1.442202e+06    28.000000   \n",
              "75%          19.000000   1011.000000    1.816581e+06    40.000000   \n",
              "max         181.000000   8340.000000    2.391410e+06    69.000000   \n",
              "\n",
              "           LATITUDE     LONGITUDE  \n",
              "count  38649.000000  38649.000000  \n",
              "mean      41.880952    -87.681165  \n",
              "std        0.079617      0.056248  \n",
              "min       41.644694    -87.915285  \n",
              "25%       41.834312    -87.719150  \n",
              "50%       41.892679    -87.673321  \n",
              "75%       41.938624    -87.639509  \n",
              "max       42.022660    -87.525872  "
            ],
            "text/html": [
              "\n",
              "  <div id=\"df-bd018df9-eb25-4937-aaaf-5b84d700281a\">\n",
              "    <div class=\"colab-df-container\">\n",
              "      <div>\n",
              "<style scoped>\n",
              "    .dataframe tbody tr th:only-of-type {\n",
              "        vertical-align: middle;\n",
              "    }\n",
              "\n",
              "    .dataframe tbody tr th {\n",
              "        vertical-align: top;\n",
              "    }\n",
              "\n",
              "    .dataframe thead th {\n",
              "        text-align: right;\n",
              "    }\n",
              "</style>\n",
              "<table border=\"1\" class=\"dataframe\">\n",
              "  <thead>\n",
              "    <tr style=\"text-align: right;\">\n",
              "      <th></th>\n",
              "      <th>LICENSE ID</th>\n",
              "      <th>ACCOUNT NUMBER</th>\n",
              "      <th>SITE NUMBER</th>\n",
              "      <th>WARD</th>\n",
              "      <th>PRECINCT</th>\n",
              "      <th>POLICE DISTRICT</th>\n",
              "      <th>LICENSE CODE</th>\n",
              "      <th>LICENSE NUMBER</th>\n",
              "      <th>SSA</th>\n",
              "      <th>LATITUDE</th>\n",
              "      <th>LONGITUDE</th>\n",
              "    </tr>\n",
              "  </thead>\n",
              "  <tbody>\n",
              "    <tr>\n",
              "      <th>count</th>\n",
              "      <td>8.589500e+04</td>\n",
              "      <td>85895.000000</td>\n",
              "      <td>85895.000000</td>\n",
              "      <td>36194.000000</td>\n",
              "      <td>29194.000000</td>\n",
              "      <td>31883.000000</td>\n",
              "      <td>85895.000000</td>\n",
              "      <td>8.589400e+04</td>\n",
              "      <td>9449.000000</td>\n",
              "      <td>38649.000000</td>\n",
              "      <td>38649.000000</td>\n",
              "    </tr>\n",
              "    <tr>\n",
              "      <th>mean</th>\n",
              "      <td>1.751303e+06</td>\n",
              "      <td>196695.421701</td>\n",
              "      <td>2.556028</td>\n",
              "      <td>28.528927</td>\n",
              "      <td>54.632973</td>\n",
              "      <td>13.529812</td>\n",
              "      <td>1111.736620</td>\n",
              "      <td>1.228151e+06</td>\n",
              "      <td>29.152080</td>\n",
              "      <td>41.880952</td>\n",
              "      <td>-87.681165</td>\n",
              "    </tr>\n",
              "    <tr>\n",
              "      <th>std</th>\n",
              "      <td>3.358780e+05</td>\n",
              "      <td>126819.343760</td>\n",
              "      <td>8.655706</td>\n",
              "      <td>13.921710</td>\n",
              "      <td>163.174955</td>\n",
              "      <td>7.275874</td>\n",
              "      <td>250.020872</td>\n",
              "      <td>7.431487e+05</td>\n",
              "      <td>17.419898</td>\n",
              "      <td>0.079617</td>\n",
              "      <td>0.056248</td>\n",
              "    </tr>\n",
              "    <tr>\n",
              "      <th>min</th>\n",
              "      <td>3.079300e+04</td>\n",
              "      <td>10.000000</td>\n",
              "      <td>1.000000</td>\n",
              "      <td>1.000000</td>\n",
              "      <td>1.000000</td>\n",
              "      <td>1.000000</td>\n",
              "      <td>1002.000000</td>\n",
              "      <td>1.290000e+02</td>\n",
              "      <td>1.000000</td>\n",
              "      <td>41.644694</td>\n",
              "      <td>-87.915285</td>\n",
              "    </tr>\n",
              "    <tr>\n",
              "      <th>25%</th>\n",
              "      <td>1.469024e+06</td>\n",
              "      <td>54615.000000</td>\n",
              "      <td>1.000000</td>\n",
              "      <td>17.000000</td>\n",
              "      <td>12.000000</td>\n",
              "      <td>8.000000</td>\n",
              "      <td>1010.000000</td>\n",
              "      <td>8.710900e+04</td>\n",
              "      <td>17.000000</td>\n",
              "      <td>41.834312</td>\n",
              "      <td>-87.719150</td>\n",
              "    </tr>\n",
              "    <tr>\n",
              "      <th>50%</th>\n",
              "      <td>1.778754e+06</td>\n",
              "      <td>248313.000000</td>\n",
              "      <td>1.000000</td>\n",
              "      <td>30.000000</td>\n",
              "      <td>26.000000</td>\n",
              "      <td>14.000000</td>\n",
              "      <td>1010.000000</td>\n",
              "      <td>1.442202e+06</td>\n",
              "      <td>28.000000</td>\n",
              "      <td>41.892679</td>\n",
              "      <td>-87.673321</td>\n",
              "    </tr>\n",
              "    <tr>\n",
              "      <th>75%</th>\n",
              "      <td>2.067578e+06</td>\n",
              "      <td>300243.500000</td>\n",
              "      <td>2.000000</td>\n",
              "      <td>42.000000</td>\n",
              "      <td>41.000000</td>\n",
              "      <td>19.000000</td>\n",
              "      <td>1011.000000</td>\n",
              "      <td>1.816581e+06</td>\n",
              "      <td>40.000000</td>\n",
              "      <td>41.938624</td>\n",
              "      <td>-87.639509</td>\n",
              "    </tr>\n",
              "    <tr>\n",
              "      <th>max</th>\n",
              "      <td>2.456551e+06</td>\n",
              "      <td>397444.000000</td>\n",
              "      <td>417.000000</td>\n",
              "      <td>50.000000</td>\n",
              "      <td>999.000000</td>\n",
              "      <td>181.000000</td>\n",
              "      <td>8340.000000</td>\n",
              "      <td>2.391410e+06</td>\n",
              "      <td>69.000000</td>\n",
              "      <td>42.022660</td>\n",
              "      <td>-87.525872</td>\n",
              "    </tr>\n",
              "  </tbody>\n",
              "</table>\n",
              "</div>\n",
              "      <button class=\"colab-df-convert\" onclick=\"convertToInteractive('df-bd018df9-eb25-4937-aaaf-5b84d700281a')\"\n",
              "              title=\"Convert this dataframe to an interactive table.\"\n",
              "              style=\"display:none;\">\n",
              "        \n",
              "  <svg xmlns=\"http://www.w3.org/2000/svg\" height=\"24px\"viewBox=\"0 0 24 24\"\n",
              "       width=\"24px\">\n",
              "    <path d=\"M0 0h24v24H0V0z\" fill=\"none\"/>\n",
              "    <path d=\"M18.56 5.44l.94 2.06.94-2.06 2.06-.94-2.06-.94-.94-2.06-.94 2.06-2.06.94zm-11 1L8.5 8.5l.94-2.06 2.06-.94-2.06-.94L8.5 2.5l-.94 2.06-2.06.94zm10 10l.94 2.06.94-2.06 2.06-.94-2.06-.94-.94-2.06-.94 2.06-2.06.94z\"/><path d=\"M17.41 7.96l-1.37-1.37c-.4-.4-.92-.59-1.43-.59-.52 0-1.04.2-1.43.59L10.3 9.45l-7.72 7.72c-.78.78-.78 2.05 0 2.83L4 21.41c.39.39.9.59 1.41.59.51 0 1.02-.2 1.41-.59l7.78-7.78 2.81-2.81c.8-.78.8-2.07 0-2.86zM5.41 20L4 18.59l7.72-7.72 1.47 1.35L5.41 20z\"/>\n",
              "  </svg>\n",
              "      </button>\n",
              "      \n",
              "  <style>\n",
              "    .colab-df-container {\n",
              "      display:flex;\n",
              "      flex-wrap:wrap;\n",
              "      gap: 12px;\n",
              "    }\n",
              "\n",
              "    .colab-df-convert {\n",
              "      background-color: #E8F0FE;\n",
              "      border: none;\n",
              "      border-radius: 50%;\n",
              "      cursor: pointer;\n",
              "      display: none;\n",
              "      fill: #1967D2;\n",
              "      height: 32px;\n",
              "      padding: 0 0 0 0;\n",
              "      width: 32px;\n",
              "    }\n",
              "\n",
              "    .colab-df-convert:hover {\n",
              "      background-color: #E2EBFA;\n",
              "      box-shadow: 0px 1px 2px rgba(60, 64, 67, 0.3), 0px 1px 3px 1px rgba(60, 64, 67, 0.15);\n",
              "      fill: #174EA6;\n",
              "    }\n",
              "\n",
              "    [theme=dark] .colab-df-convert {\n",
              "      background-color: #3B4455;\n",
              "      fill: #D2E3FC;\n",
              "    }\n",
              "\n",
              "    [theme=dark] .colab-df-convert:hover {\n",
              "      background-color: #434B5C;\n",
              "      box-shadow: 0px 1px 3px 1px rgba(0, 0, 0, 0.15);\n",
              "      filter: drop-shadow(0px 1px 2px rgba(0, 0, 0, 0.3));\n",
              "      fill: #FFFFFF;\n",
              "    }\n",
              "  </style>\n",
              "\n",
              "      <script>\n",
              "        const buttonEl =\n",
              "          document.querySelector('#df-bd018df9-eb25-4937-aaaf-5b84d700281a button.colab-df-convert');\n",
              "        buttonEl.style.display =\n",
              "          google.colab.kernel.accessAllowed ? 'block' : 'none';\n",
              "\n",
              "        async function convertToInteractive(key) {\n",
              "          const element = document.querySelector('#df-bd018df9-eb25-4937-aaaf-5b84d700281a');\n",
              "          const dataTable =\n",
              "            await google.colab.kernel.invokeFunction('convertToInteractive',\n",
              "                                                     [key], {});\n",
              "          if (!dataTable) return;\n",
              "\n",
              "          const docLinkHtml = 'Like what you see? Visit the ' +\n",
              "            '<a target=\"_blank\" href=https://colab.research.google.com/notebooks/data_table.ipynb>data table notebook</a>'\n",
              "            + ' to learn more about interactive tables.';\n",
              "          element.innerHTML = '';\n",
              "          dataTable['output_type'] = 'display_data';\n",
              "          await google.colab.output.renderOutput(dataTable, element);\n",
              "          const docLink = document.createElement('div');\n",
              "          docLink.innerHTML = docLinkHtml;\n",
              "          element.appendChild(docLink);\n",
              "        }\n",
              "      </script>\n",
              "    </div>\n",
              "  </div>\n",
              "  "
            ]
          },
          "metadata": {},
          "execution_count": 9
        }
      ]
    },
    {
      "cell_type": "markdown",
      "source": [
        "**In Data Analysis What All Things We Do**\n",
        "1.   Missing Values\n",
        "2.   Explore About the Numerical Variables\n",
        "3.   Explore About categorical Variables\n",
        "4.   Finding Relationship between features"
      ],
      "metadata": {
        "id": "sVqan05qP1Ba"
      }
    },
    {
      "cell_type": "code",
      "source": [
        "sns.heatmap(df.isnull(),yticklabels=False,cbar=False,cmap='viridis')"
      ],
      "metadata": {
        "colab": {
          "base_uri": "https://localhost:8080/",
          "height": 475
        },
        "id": "jOEarMiEFcI5",
        "outputId": "b0128aa2-5216-4e16-8251-495bcc0e0f37"
      },
      "execution_count": 10,
      "outputs": [
        {
          "output_type": "execute_result",
          "data": {
            "text/plain": [
              "<matplotlib.axes._subplots.AxesSubplot at 0x7f748f485950>"
            ]
          },
          "metadata": {},
          "execution_count": 10
        },
        {
          "output_type": "display_data",
          "data": {
            "text/plain": [
              "<Figure size 432x288 with 1 Axes>"
            ],
            "image/png": "[encoded data removed]"
          },
          "metadata": {
            "needs_background": "light"
          }
        }
      ]
    },
    {
      "cell_type": "markdown",
      "source": [
        "**Heat map**\n"
      ],
      "metadata": {
        "id": "NgNqVetZSQuE"
      }
    },
    {
      "cell_type": "markdown",
      "source": [
        "**Compute the correlation matrix**"
      ],
      "metadata": {
        "id": "SKWGrO5xSQuF"
      }
    },
    {
      "cell_type": "code",
      "source": [
        "# Drop id column\n",
        "\n",
        "df.corr()"
      ],
      "metadata": {
        "colab": {
          "base_uri": "https://localhost:8080/",
          "height": 490
        },
        "outputId": "d38648d5-8166-4cba-d079-616307c35013",
        "id": "hqQT4Z1FSQuG"
      },
      "execution_count": 11,
      "outputs": [
        {
          "output_type": "execute_result",
          "data": {
            "text/plain": [
              "                 LICENSE ID  ACCOUNT NUMBER  SITE NUMBER      WARD  PRECINCT  \\\n",
              "LICENSE ID         1.000000        0.359277     0.067159  0.005275 -0.138596   \n",
              "ACCOUNT NUMBER     0.359277        1.000000    -0.149178  0.009602 -0.094132   \n",
              "SITE NUMBER        0.067159       -0.149178     1.000000 -0.015393 -0.030387   \n",
              "WARD               0.005275        0.009602    -0.015393  1.000000  0.053996   \n",
              "PRECINCT          -0.138596       -0.094132    -0.030387  0.053996  1.000000   \n",
              "POLICE DISTRICT   -0.041838       -0.029867     0.011103  0.487728  0.184356   \n",
              "LICENSE CODE       0.010405        0.063140     0.109418 -0.040709 -0.026586   \n",
              "LICENSE NUMBER     0.476062        0.790922     0.042001  0.007125 -0.121079   \n",
              "SSA                0.034191        0.051646     0.023474 -0.147276  0.095194   \n",
              "LATITUDE          -0.023492       -0.012561    -0.005174  0.667520  0.097531   \n",
              "LONGITUDE          0.004883        0.017993     0.042247 -0.233630 -0.105979   \n",
              "\n",
              "                 POLICE DISTRICT  LICENSE CODE  LICENSE NUMBER       SSA  \\\n",
              "LICENSE ID             -0.041838      0.010405        0.476062  0.034191   \n",
              "ACCOUNT NUMBER         -0.029867      0.063140        0.790922  0.051646   \n",
              "SITE NUMBER             0.011103      0.109418        0.042001  0.023474   \n",
              "WARD                    0.487728     -0.040709        0.007125 -0.147276   \n",
              "PRECINCT                0.184356     -0.026586       -0.121079  0.095194   \n",
              "POLICE DISTRICT         1.000000      0.048442       -0.042338 -0.014021   \n",
              "LICENSE CODE            0.048442      1.000000        0.069720  0.062682   \n",
              "LICENSE NUMBER         -0.042338      0.069720        1.000000  0.047638   \n",
              "SSA                    -0.014021      0.062682        0.047638  1.000000   \n",
              "LATITUDE                0.619882     -0.009484       -0.010265 -0.039811   \n",
              "LONGITUDE              -0.455247     -0.001010        0.029111  0.078811   \n",
              "\n",
              "                 LATITUDE  LONGITUDE  \n",
              "LICENSE ID      -0.023492   0.004883  \n",
              "ACCOUNT NUMBER  -0.012561   0.017993  \n",
              "SITE NUMBER     -0.005174   0.042247  \n",
              "WARD             0.667520  -0.233630  \n",
              "PRECINCT         0.097531  -0.105979  \n",
              "POLICE DISTRICT  0.619882  -0.455247  \n",
              "LICENSE CODE    -0.009484  -0.001010  \n",
              "LICENSE NUMBER  -0.010265   0.029111  \n",
              "SSA             -0.039811   0.078811  \n",
              "LATITUDE         1.000000  -0.404510  \n",
              "LONGITUDE       -0.404510   1.000000  "
            ],
            "text/html": [
              "\n",
              "  <div id=\"df-9de9376d-5d23-40b7-ba0f-6a9497a5bbed\">\n",
              "    <div class=\"colab-df-container\">\n",
              "      <div>\n",
              "<style scoped>\n",
              "    .dataframe tbody tr th:only-of-type {\n",
              "        vertical-align: middle;\n",
              "    }\n",
              "\n",
              "    .dataframe tbody tr th {\n",
              "        vertical-align: top;\n",
              "    }\n",
              "\n",
              "    .dataframe thead th {\n",
              "        text-align: right;\n",
              "    }\n",
              "</style>\n",
              "<table border=\"1\" class=\"dataframe\">\n",
              "  <thead>\n",
              "    <tr style=\"text-align: right;\">\n",
              "      <th></th>\n",
              "      <th>LICENSE ID</th>\n",
              "      <th>ACCOUNT NUMBER</th>\n",
              "      <th>SITE NUMBER</th>\n",
              "      <th>WARD</th>\n",
              "      <th>PRECINCT</th>\n",
              "      <th>POLICE DISTRICT</th>\n",
              "      <th>LICENSE CODE</th>\n",
              "      <th>LICENSE NUMBER</th>\n",
              "      <th>SSA</th>\n",
              "      <th>LATITUDE</th>\n",
              "      <th>LONGITUDE</th>\n",
              "    </tr>\n",
              "  </thead>\n",
              "  <tbody>\n",
              "    <tr>\n",
              "      <th>LICENSE ID</th>\n",
              "      <td>1.000000</td>\n",
              "      <td>0.359277</td>\n",
              "      <td>0.067159</td>\n",
              "      <td>0.005275</td>\n",
              "      <td>-0.138596</td>\n",
              "      <td>-0.041838</td>\n",
              "      <td>0.010405</td>\n",
              "      <td>0.476062</td>\n",
              "      <td>0.034191</td>\n",
              "      <td>-0.023492</td>\n",
              "      <td>0.004883</td>\n",
              "    </tr>\n",
              "    <tr>\n",
              "      <th>ACCOUNT NUMBER</th>\n",
              "      <td>0.359277</td>\n",
              "      <td>1.000000</td>\n",
              "      <td>-0.149178</td>\n",
              "      <td>0.009602</td>\n",
              "      <td>-0.094132</td>\n",
              "      <td>-0.029867</td>\n",
              "      <td>0.063140</td>\n",
              "      <td>0.790922</td>\n",
              "      <td>0.051646</td>\n",
              "      <td>-0.012561</td>\n",
              "      <td>0.017993</td>\n",
              "    </tr>\n",
              "    <tr>\n",
              "      <th>SITE NUMBER</th>\n",
              "      <td>0.067159</td>\n",
              "      <td>-0.149178</td>\n",
              "      <td>1.000000</td>\n",
              "      <td>-0.015393</td>\n",
              "      <td>-0.030387</td>\n",
              "      <td>0.011103</td>\n",
              "      <td>0.109418</td>\n",
              "      <td>0.042001</td>\n",
              "      <td>0.023474</td>\n",
              "      <td>-0.005174</td>\n",
              "      <td>0.042247</td>\n",
              "    </tr>\n",
              "    <tr>\n",
              "      <th>WARD</th>\n",
              "      <td>0.005275</td>\n",
              "      <td>0.009602</td>\n",
              "      <td>-0.015393</td>\n",
              "      <td>1.000000</td>\n",
              "      <td>0.053996</td>\n",
              "      <td>0.487728</td>\n",
              "      <td>-0.040709</td>\n",
              "      <td>0.007125</td>\n",
              "      <td>-0.147276</td>\n",
              "      <td>0.667520</td>\n",
              "      <td>-0.233630</td>\n",
              "    </tr>\n",
              "    <tr>\n",
              "      <th>PRECINCT</th>\n",
              "      <td>-0.138596</td>\n",
              "      <td>-0.094132</td>\n",
              "      <td>-0.030387</td>\n",
              "      <td>0.053996</td>\n",
              "      <td>1.000000</td>\n",
              "      <td>0.184356</td>\n",
              "      <td>-0.026586</td>\n",
              "      <td>-0.121079</td>\n",
              "      <td>0.095194</td>\n",
              "      <td>0.097531</td>\n",
              "      <td>-0.105979</td>\n",
              "    </tr>\n",
              "    <tr>\n",
              "      <th>POLICE DISTRICT</th>\n",
              "      <td>-0.041838</td>\n",
              "      <td>-0.029867</td>\n",
              "      <td>0.011103</td>\n",
              "      <td>0.487728</td>\n",
              "      <td>0.184356</td>\n",
              "      <td>1.000000</td>\n",
              "      <td>0.048442</td>\n",
              "      <td>-0.042338</td>\n",
              "      <td>-0.014021</td>\n",
              "      <td>0.619882</td>\n",
              "      <td>-0.455247</td>\n",
              "    </tr>\n",
              "    <tr>\n",
              "      <th>LICENSE CODE</th>\n",
              "      <td>0.010405</td>\n",
              "      <td>0.063140</td>\n",
              "      <td>0.109418</td>\n",
              "      <td>-0.040709</td>\n",
              "      <td>-0.026586</td>\n",
              "      <td>0.048442</td>\n",
              "      <td>1.000000</td>\n",
              "      <td>0.069720</td>\n",
              "      <td>0.062682</td>\n",
              "      <td>-0.009484</td>\n",
              "      <td>-0.001010</td>\n",
              "    </tr>\n",
              "    <tr>\n",
              "      <th>LICENSE NUMBER</th>\n",
              "      <td>0.476062</td>\n",
              "      <td>0.790922</td>\n",
              "      <td>0.042001</td>\n",
              "      <td>0.007125</td>\n",
              "      <td>-0.121079</td>\n",
              "      <td>-0.042338</td>\n",
              "      <td>0.069720</td>\n",
              "      <td>1.000000</td>\n",
              "      <td>0.047638</td>\n",
              "      <td>-0.010265</td>\n",
              "      <td>0.029111</td>\n",
              "    </tr>\n",
              "    <tr>\n",
              "      <th>SSA</th>\n",
              "      <td>0.034191</td>\n",
              "      <td>0.051646</td>\n",
              "      <td>0.023474</td>\n",
              "      <td>-0.147276</td>\n",
              "      <td>0.095194</td>\n",
              "      <td>-0.014021</td>\n",
              "      <td>0.062682</td>\n",
              "      <td>0.047638</td>\n",
              "      <td>1.000000</td>\n",
              "      <td>-0.039811</td>\n",
              "      <td>0.078811</td>\n",
              "    </tr>\n",
              "    <tr>\n",
              "      <th>LATITUDE</th>\n",
              "      <td>-0.023492</td>\n",
              "      <td>-0.012561</td>\n",
              "      <td>-0.005174</td>\n",
              "      <td>0.667520</td>\n",
              "      <td>0.097531</td>\n",
              "      <td>0.619882</td>\n",
              "      <td>-0.009484</td>\n",
              "      <td>-0.010265</td>\n",
              "      <td>-0.039811</td>\n",
              "      <td>1.000000</td>\n",
              "      <td>-0.404510</td>\n",
              "    </tr>\n",
              "    <tr>\n",
              "      <th>LONGITUDE</th>\n",
              "      <td>0.004883</td>\n",
              "      <td>0.017993</td>\n",
              "      <td>0.042247</td>\n",
              "      <td>-0.233630</td>\n",
              "      <td>-0.105979</td>\n",
              "      <td>-0.455247</td>\n",
              "      <td>-0.001010</td>\n",
              "      <td>0.029111</td>\n",
              "      <td>0.078811</td>\n",
              "      <td>-0.404510</td>\n",
              "      <td>1.000000</td>\n",
              "    </tr>\n",
              "  </tbody>\n",
              "</table>\n",
              "</div>\n",
              "      <button class=\"colab-df-convert\" onclick=\"convertToInteractive('df-9de9376d-5d23-40b7-ba0f-6a9497a5bbed')\"\n",
              "              title=\"Convert this dataframe to an interactive table.\"\n",
              "              style=\"display:none;\">\n",
              "        \n",
              "  <svg xmlns=\"http://www.w3.org/2000/svg\" height=\"24px\"viewBox=\"0 0 24 24\"\n",
              "       width=\"24px\">\n",
              "    <path d=\"M0 0h24v24H0V0z\" fill=\"none\"/>\n",
              "    <path d=\"M18.56 5.44l.94 2.06.94-2.06 2.06-.94-2.06-.94-.94-2.06-.94 2.06-2.06.94zm-11 1L8.5 8.5l.94-2.06 2.06-.94-2.06-.94L8.5 2.5l-.94 2.06-2.06.94zm10 10l.94 2.06.94-2.06 2.06-.94-2.06-.94-.94-2.06-.94 2.06-2.06.94z\"/><path d=\"M17.41 7.96l-1.37-1.37c-.4-.4-.92-.59-1.43-.59-.52 0-1.04.2-1.43.59L10.3 9.45l-7.72 7.72c-.78.78-.78 2.05 0 2.83L4 21.41c.39.39.9.59 1.41.59.51 0 1.02-.2 1.41-.59l7.78-7.78 2.81-2.81c.8-.78.8-2.07 0-2.86zM5.41 20L4 18.59l7.72-7.72 1.47 1.35L5.41 20z\"/>\n",
              "  </svg>\n",
              "      </button>\n",
              "      \n",
              "  <style>\n",
              "    .colab-df-container {\n",
              "      display:flex;\n",
              "      flex-wrap:wrap;\n",
              "      gap: 12px;\n",
              "    }\n",
              "\n",
              "    .colab-df-convert {\n",
              "      background-color: #E8F0FE;\n",
              "      border: none;\n",
              "      border-radius: 50%;\n",
              "      cursor: pointer;\n",
              "      display: none;\n",
              "      fill: #1967D2;\n",
              "      height: 32px;\n",
              "      padding: 0 0 0 0;\n",
              "      width: 32px;\n",
              "    }\n",
              "\n",
              "    .colab-df-convert:hover {\n",
              "      background-color: #E2EBFA;\n",
              "      box-shadow: 0px 1px 2px rgba(60, 64, 67, 0.3), 0px 1px 3px 1px rgba(60, 64, 67, 0.15);\n",
              "      fill: #174EA6;\n",
              "    }\n",
              "\n",
              "    [theme=dark] .colab-df-convert {\n",
              "      background-color: #3B4455;\n",
              "      fill: #D2E3FC;\n",
              "    }\n",
              "\n",
              "    [theme=dark] .colab-df-convert:hover {\n",
              "      background-color: #434B5C;\n",
              "      box-shadow: 0px 1px 3px 1px rgba(0, 0, 0, 0.15);\n",
              "      filter: drop-shadow(0px 1px 2px rgba(0, 0, 0, 0.3));\n",
              "      fill: #FFFFFF;\n",
              "    }\n",
              "  </style>\n",
              "\n",
              "      <script>\n",
              "        const buttonEl =\n",
              "          document.querySelector('#df-9de9376d-5d23-40b7-ba0f-6a9497a5bbed button.colab-df-convert');\n",
              "        buttonEl.style.display =\n",
              "          google.colab.kernel.accessAllowed ? 'block' : 'none';\n",
              "\n",
              "        async function convertToInteractive(key) {\n",
              "          const element = document.querySelector('#df-9de9376d-5d23-40b7-ba0f-6a9497a5bbed');\n",
              "          const dataTable =\n",
              "            await google.colab.kernel.invokeFunction('convertToInteractive',\n",
              "                                                     [key], {});\n",
              "          if (!dataTable) return;\n",
              "\n",
              "          const docLinkHtml = 'Like what you see? Visit the ' +\n",
              "            '<a target=\"_blank\" href=https://colab.research.google.com/notebooks/data_table.ipynb>data table notebook</a>'\n",
              "            + ' to learn more about interactive tables.';\n",
              "          element.innerHTML = '';\n",
              "          dataTable['output_type'] = 'display_data';\n",
              "          await google.colab.output.renderOutput(dataTable, element);\n",
              "          const docLink = document.createElement('div');\n",
              "          docLink.innerHTML = docLinkHtml;\n",
              "          element.appendChild(docLink);\n",
              "        }\n",
              "      </script>\n",
              "    </div>\n",
              "  </div>\n",
              "  "
            ]
          },
          "metadata": {},
          "execution_count": 11
        }
      ]
    },
    {
      "cell_type": "markdown",
      "source": [
        "**Make the heat map**"
      ],
      "metadata": {
        "id": "lHqsK70QSQuH"
      }
    },
    {
      "cell_type": "code",
      "source": [
        "# plotting correlation heatmap\n",
        "dataplot = sns.heatmap(df.corr(), cmap=\"YlGnBu\", annot=True)\n",
        "  \n",
        "# displaying heatmap\n",
        "plt.show()"
      ],
      "metadata": {
        "colab": {
          "base_uri": "https://localhost:8080/",
          "height": 355
        },
        "outputId": "0401428d-cb06-41c8-e9d4-57f11fe2527d",
        "id": "lADmdN2gSQuH"
      },
      "execution_count": 12,
      "outputs": [
        {
          "output_type": "display_data",
          "data": {
            "text/plain": [
              "<Figure size 432x288 with 2 Axes>"
            ],
            "image/png": "[encoded data removed]"
          },
          "metadata": {
            "needs_background": "light"
          }
        }
      ]
    },
    {
      "cell_type": "markdown",
      "source": [
        "**Compute the correlation matrix**"
      ],
      "metadata": {
        "id": "HdNJWt3QSVUZ"
      }
    },
    {
      "cell_type": "code",
      "source": [
        "# Drop id column\n",
        "\n",
        "df.corr()"
      ],
      "metadata": {
        "colab": {
          "base_uri": "https://localhost:8080/",
          "height": 490
        },
        "outputId": "4af0f6ea-a385-41da-b660-5cd9c5c6fe54",
        "id": "yHYL-7QvSVUa"
      },
      "execution_count": 13,
      "outputs": [
        {
          "output_type": "execute_result",
          "data": {
            "text/plain": [
              "                 LICENSE ID  ACCOUNT NUMBER  SITE NUMBER      WARD  PRECINCT  \\\n",
              "LICENSE ID         1.000000        0.359277     0.067159  0.005275 -0.138596   \n",
              "ACCOUNT NUMBER     0.359277        1.000000    -0.149178  0.009602 -0.094132   \n",
              "SITE NUMBER        0.067159       -0.149178     1.000000 -0.015393 -0.030387   \n",
              "WARD               0.005275        0.009602    -0.015393  1.000000  0.053996   \n",
              "PRECINCT          -0.138596       -0.094132    -0.030387  0.053996  1.000000   \n",
              "POLICE DISTRICT   -0.041838       -0.029867     0.011103  0.487728  0.184356   \n",
              "LICENSE CODE       0.010405        0.063140     0.109418 -0.040709 -0.026586   \n",
              "LICENSE NUMBER     0.476062        0.790922     0.042001  0.007125 -0.121079   \n",
              "SSA                0.034191        0.051646     0.023474 -0.147276  0.095194   \n",
              "LATITUDE          -0.023492       -0.012561    -0.005174  0.667520  0.097531   \n",
              "LONGITUDE          0.004883        0.017993     0.042247 -0.233630 -0.105979   \n",
              "\n",
              "                 POLICE DISTRICT  LICENSE CODE  LICENSE NUMBER       SSA  \\\n",
              "LICENSE ID             -0.041838      0.010405        0.476062  0.034191   \n",
              "ACCOUNT NUMBER         -0.029867      0.063140        0.790922  0.051646   \n",
              "SITE NUMBER             0.011103      0.109418        0.042001  0.023474   \n",
              "WARD                    0.487728     -0.040709        0.007125 -0.147276   \n",
              "PRECINCT                0.184356     -0.026586       -0.121079  0.095194   \n",
              "POLICE DISTRICT         1.000000      0.048442       -0.042338 -0.014021   \n",
              "LICENSE CODE            0.048442      1.000000        0.069720  0.062682   \n",
              "LICENSE NUMBER         -0.042338      0.069720        1.000000  0.047638   \n",
              "SSA                    -0.014021      0.062682        0.047638  1.000000   \n",
              "LATITUDE                0.619882     -0.009484       -0.010265 -0.039811   \n",
              "LONGITUDE              -0.455247     -0.001010        0.029111  0.078811   \n",
              "\n",
              "                 LATITUDE  LONGITUDE  \n",
              "LICENSE ID      -0.023492   0.004883  \n",
              "ACCOUNT NUMBER  -0.012561   0.017993  \n",
              "SITE NUMBER     -0.005174   0.042247  \n",
              "WARD             0.667520  -0.233630  \n",
              "PRECINCT         0.097531  -0.105979  \n",
              "POLICE DISTRICT  0.619882  -0.455247  \n",
              "LICENSE CODE    -0.009484  -0.001010  \n",
              "LICENSE NUMBER  -0.010265   0.029111  \n",
              "SSA             -0.039811   0.078811  \n",
              "LATITUDE         1.000000  -0.404510  \n",
              "LONGITUDE       -0.404510   1.000000  "
            ],
            "text/html": [
              "\n",
              "  <div id=\"df-98657f45-f2ed-4fc6-8b37-0f5bbecf5a30\">\n",
              "    <div class=\"colab-df-container\">\n",
              "      <div>\n",
              "<style scoped>\n",
              "    .dataframe tbody tr th:only-of-type {\n",
              "        vertical-align: middle;\n",
              "    }\n",
              "\n",
              "    .dataframe tbody tr th {\n",
              "        vertical-align: top;\n",
              "    }\n",
              "\n",
              "    .dataframe thead th {\n",
              "        text-align: right;\n",
              "    }\n",
              "</style>\n",
              "<table border=\"1\" class=\"dataframe\">\n",
              "  <thead>\n",
              "    <tr style=\"text-align: right;\">\n",
              "      <th></th>\n",
              "      <th>LICENSE ID</th>\n",
              "      <th>ACCOUNT NUMBER</th>\n",
              "      <th>SITE NUMBER</th>\n",
              "      <th>WARD</th>\n",
              "      <th>PRECINCT</th>\n",
              "      <th>POLICE DISTRICT</th>\n",
              "      <th>LICENSE CODE</th>\n",
              "      <th>LICENSE NUMBER</th>\n",
              "      <th>SSA</th>\n",
              "      <th>LATITUDE</th>\n",
              "      <th>LONGITUDE</th>\n",
              "    </tr>\n",
              "  </thead>\n",
              "  <tbody>\n",
              "    <tr>\n",
              "      <th>LICENSE ID</th>\n",
              "      <td>1.000000</td>\n",
              "      <td>0.359277</td>\n",
              "      <td>0.067159</td>\n",
              "      <td>0.005275</td>\n",
              "      <td>-0.138596</td>\n",
              "      <td>-0.041838</td>\n",
              "      <td>0.010405</td>\n",
              "      <td>0.476062</td>\n",
              "      <td>0.034191</td>\n",
              "      <td>-0.023492</td>\n",
              "      <td>0.004883</td>\n",
              "    </tr>\n",
              "    <tr>\n",
              "      <th>ACCOUNT NUMBER</th>\n",
              "      <td>0.359277</td>\n",
              "      <td>1.000000</td>\n",
              "      <td>-0.149178</td>\n",
              "      <td>0.009602</td>\n",
              "      <td>-0.094132</td>\n",
              "      <td>-0.029867</td>\n",
              "      <td>0.063140</td>\n",
              "      <td>0.790922</td>\n",
              "      <td>0.051646</td>\n",
              "      <td>-0.012561</td>\n",
              "      <td>0.017993</td>\n",
              "    </tr>\n",
              "    <tr>\n",
              "      <th>SITE NUMBER</th>\n",
              "      <td>0.067159</td>\n",
              "      <td>-0.149178</td>\n",
              "      <td>1.000000</td>\n",
              "      <td>-0.015393</td>\n",
              "      <td>-0.030387</td>\n",
              "      <td>0.011103</td>\n",
              "      <td>0.109418</td>\n",
              "      <td>0.042001</td>\n",
              "      <td>0.023474</td>\n",
              "      <td>-0.005174</td>\n",
              "      <td>0.042247</td>\n",
              "    </tr>\n",
              "    <tr>\n",
              "      <th>WARD</th>\n",
              "      <td>0.005275</td>\n",
              "      <td>0.009602</td>\n",
              "      <td>-0.015393</td>\n",
              "      <td>1.000000</td>\n",
              "      <td>0.053996</td>\n",
              "      <td>0.487728</td>\n",
              "      <td>-0.040709</td>\n",
              "      <td>0.007125</td>\n",
              "      <td>-0.147276</td>\n",
              "      <td>0.667520</td>\n",
              "      <td>-0.233630</td>\n",
              "    </tr>\n",
              "    <tr>\n",
              "      <th>PRECINCT</th>\n",
              "      <td>-0.138596</td>\n",
              "      <td>-0.094132</td>\n",
              "      <td>-0.030387</td>\n",
              "      <td>0.053996</td>\n",
              "      <td>1.000000</td>\n",
              "      <td>0.184356</td>\n",
              "      <td>-0.026586</td>\n",
              "      <td>-0.121079</td>\n",
              "      <td>0.095194</td>\n",
              "      <td>0.097531</td>\n",
              "      <td>-0.105979</td>\n",
              "    </tr>\n",
              "    <tr>\n",
              "      <th>POLICE DISTRICT</th>\n",
              "      <td>-0.041838</td>\n",
              "      <td>-0.029867</td>\n",
              "      <td>0.011103</td>\n",
              "      <td>0.487728</td>\n",
              "      <td>0.184356</td>\n",
              "      <td>1.000000</td>\n",
              "      <td>0.048442</td>\n",
              "      <td>-0.042338</td>\n",
              "      <td>-0.014021</td>\n",
              "      <td>0.619882</td>\n",
              "      <td>-0.455247</td>\n",
              "    </tr>\n",
              "    <tr>\n",
              "      <th>LICENSE CODE</th>\n",
              "      <td>0.010405</td>\n",
              "      <td>0.063140</td>\n",
              "      <td>0.109418</td>\n",
              "      <td>-0.040709</td>\n",
              "      <td>-0.026586</td>\n",
              "      <td>0.048442</td>\n",
              "      <td>1.000000</td>\n",
              "      <td>0.069720</td>\n",
              "      <td>0.062682</td>\n",
              "      <td>-0.009484</td>\n",
              "      <td>-0.001010</td>\n",
              "    </tr>\n",
              "    <tr>\n",
              "      <th>LICENSE NUMBER</th>\n",
              "      <td>0.476062</td>\n",
              "      <td>0.790922</td>\n",
              "      <td>0.042001</td>\n",
              "      <td>0.007125</td>\n",
              "      <td>-0.121079</td>\n",
              "      <td>-0.042338</td>\n",
              "      <td>0.069720</td>\n",
              "      <td>1.000000</td>\n",
              "      <td>0.047638</td>\n",
              "      <td>-0.010265</td>\n",
              "      <td>0.029111</td>\n",
              "    </tr>\n",
              "    <tr>\n",
              "      <th>SSA</th>\n",
              "      <td>0.034191</td>\n",
              "      <td>0.051646</td>\n",
              "      <td>0.023474</td>\n",
              "      <td>-0.147276</td>\n",
              "      <td>0.095194</td>\n",
              "      <td>-0.014021</td>\n",
              "      <td>0.062682</td>\n",
              "      <td>0.047638</td>\n",
              "      <td>1.000000</td>\n",
              "      <td>-0.039811</td>\n",
              "      <td>0.078811</td>\n",
              "    </tr>\n",
              "    <tr>\n",
              "      <th>LATITUDE</th>\n",
              "      <td>-0.023492</td>\n",
              "      <td>-0.012561</td>\n",
              "      <td>-0.005174</td>\n",
              "      <td>0.667520</td>\n",
              "      <td>0.097531</td>\n",
              "      <td>0.619882</td>\n",
              "      <td>-0.009484</td>\n",
              "      <td>-0.010265</td>\n",
              "      <td>-0.039811</td>\n",
              "      <td>1.000000</td>\n",
              "      <td>-0.404510</td>\n",
              "    </tr>\n",
              "    <tr>\n",
              "      <th>LONGITUDE</th>\n",
              "      <td>0.004883</td>\n",
              "      <td>0.017993</td>\n",
              "      <td>0.042247</td>\n",
              "      <td>-0.233630</td>\n",
              "      <td>-0.105979</td>\n",
              "      <td>-0.455247</td>\n",
              "      <td>-0.001010</td>\n",
              "      <td>0.029111</td>\n",
              "      <td>0.078811</td>\n",
              "      <td>-0.404510</td>\n",
              "      <td>1.000000</td>\n",
              "    </tr>\n",
              "  </tbody>\n",
              "</table>\n",
              "</div>\n",
              "      <button class=\"colab-df-convert\" onclick=\"convertToInteractive('df-98657f45-f2ed-4fc6-8b37-0f5bbecf5a30')\"\n",
              "              title=\"Convert this dataframe to an interactive table.\"\n",
              "              style=\"display:none;\">\n",
              "        \n",
              "  <svg xmlns=\"http://www.w3.org/2000/svg\" height=\"24px\"viewBox=\"0 0 24 24\"\n",
              "       width=\"24px\">\n",
              "    <path d=\"M0 0h24v24H0V0z\" fill=\"none\"/>\n",
              "    <path d=\"M18.56 5.44l.94 2.06.94-2.06 2.06-.94-2.06-.94-.94-2.06-.94 2.06-2.06.94zm-11 1L8.5 8.5l.94-2.06 2.06-.94-2.06-.94L8.5 2.5l-.94 2.06-2.06.94zm10 10l.94 2.06.94-2.06 2.06-.94-2.06-.94-.94-2.06-.94 2.06-2.06.94z\"/><path d=\"M17.41 7.96l-1.37-1.37c-.4-.4-.92-.59-1.43-.59-.52 0-1.04.2-1.43.59L10.3 9.45l-7.72 7.72c-.78.78-.78 2.05 0 2.83L4 21.41c.39.39.9.59 1.41.59.51 0 1.02-.2 1.41-.59l7.78-7.78 2.81-2.81c.8-.78.8-2.07 0-2.86zM5.41 20L4 18.59l7.72-7.72 1.47 1.35L5.41 20z\"/>\n",
              "  </svg>\n",
              "      </button>\n",
              "      \n",
              "  <style>\n",
              "    .colab-df-container {\n",
              "      display:flex;\n",
              "      flex-wrap:wrap;\n",
              "      gap: 12px;\n",
              "    }\n",
              "\n",
              "    .colab-df-convert {\n",
              "      background-color: #E8F0FE;\n",
              "      border: none;\n",
              "      border-radius: 50%;\n",
              "      cursor: pointer;\n",
              "      display: none;\n",
              "      fill: #1967D2;\n",
              "      height: 32px;\n",
              "      padding: 0 0 0 0;\n",
              "      width: 32px;\n",
              "    }\n",
              "\n",
              "    .colab-df-convert:hover {\n",
              "      background-color: #E2EBFA;\n",
              "      box-shadow: 0px 1px 2px rgba(60, 64, 67, 0.3), 0px 1px 3px 1px rgba(60, 64, 67, 0.15);\n",
              "      fill: #174EA6;\n",
              "    }\n",
              "\n",
              "    [theme=dark] .colab-df-convert {\n",
              "      background-color: #3B4455;\n",
              "      fill: #D2E3FC;\n",
              "    }\n",
              "\n",
              "    [theme=dark] .colab-df-convert:hover {\n",
              "      background-color: #434B5C;\n",
              "      box-shadow: 0px 1px 3px 1px rgba(0, 0, 0, 0.15);\n",
              "      filter: drop-shadow(0px 1px 2px rgba(0, 0, 0, 0.3));\n",
              "      fill: #FFFFFF;\n",
              "    }\n",
              "  </style>\n",
              "\n",
              "      <script>\n",
              "        const buttonEl =\n",
              "          document.querySelector('#df-98657f45-f2ed-4fc6-8b37-0f5bbecf5a30 button.colab-df-convert');\n",
              "        buttonEl.style.display =\n",
              "          google.colab.kernel.accessAllowed ? 'block' : 'none';\n",
              "\n",
              "        async function convertToInteractive(key) {\n",
              "          const element = document.querySelector('#df-98657f45-f2ed-4fc6-8b37-0f5bbecf5a30');\n",
              "          const dataTable =\n",
              "            await google.colab.kernel.invokeFunction('convertToInteractive',\n",
              "                                                     [key], {});\n",
              "          if (!dataTable) return;\n",
              "\n",
              "          const docLinkHtml = 'Like what you see? Visit the ' +\n",
              "            '<a target=\"_blank\" href=https://colab.research.google.com/notebooks/data_table.ipynb>data table notebook</a>'\n",
              "            + ' to learn more about interactive tables.';\n",
              "          element.innerHTML = '';\n",
              "          dataTable['output_type'] = 'display_data';\n",
              "          await google.colab.output.renderOutput(dataTable, element);\n",
              "          const docLink = document.createElement('div');\n",
              "          docLink.innerHTML = docLinkHtml;\n",
              "          element.appendChild(docLink);\n",
              "        }\n",
              "      </script>\n",
              "    </div>\n",
              "  </div>\n",
              "  "
            ]
          },
          "metadata": {},
          "execution_count": 13
        }
      ]
    },
    {
      "cell_type": "markdown",
      "source": [
        "**Make the heat map**"
      ],
      "metadata": {
        "id": "vTdqxo6NSVUb"
      }
    },
    {
      "cell_type": "code",
      "source": [
        "# plotting correlation heatmap\n",
        "dataplot = sns.heatmap(df.corr(), cmap=\"YlGnBu\", annot=True)\n",
        "  \n",
        "# displaying heatmap\n",
        "plt.show()"
      ],
      "metadata": {
        "colab": {
          "base_uri": "https://localhost:8080/",
          "height": 355
        },
        "outputId": "f12ea138-39b2-4122-dcc4-6ec73cefb2bd",
        "id": "6Rvr9LDESVUc"
      },
      "execution_count": 14,
      "outputs": [
        {
          "output_type": "display_data",
          "data": {
            "text/plain": [
              "<Figure size 432x288 with 2 Axes>"
            ],
            "image/png": "[encoded data removed]"
          },
          "metadata": {
            "needs_background": "light"
          }
        }
      ]
    },
    {
      "cell_type": "markdown",
      "source": [
        "**box Plot**"
      ],
      "metadata": {
        "id": "m6XeYpNRScYp"
      }
    },
    {
      "cell_type": "code",
      "source": [
        "df.plot.box()"
      ],
      "metadata": {
        "colab": {
          "base_uri": "https://localhost:8080/",
          "height": 348
        },
        "id": "7MZm4k0_Si-m",
        "outputId": "71230fa3-9613-46dd-b715-befac707b4c5"
      },
      "execution_count": 15,
      "outputs": [
        {
          "output_type": "stream",
          "name": "stderr",
          "text": [
            "/usr/local/lib/python3.7/dist-packages/matplotlib/cbook/__init__.py:1376: VisibleDeprecationWarning: Creating an ndarray from ragged nested sequences (which is a list-or-tuple of lists-or-tuples-or ndarrays with different lengths or shapes) is deprecated. If you meant to do this, you must specify 'dtype=object' when creating the ndarray.\n",
            "  X = np.atleast_1d(X.T if isinstance(X, np.ndarray) else np.asarray(X))\n"
          ]
        },
        {
          "output_type": "execute_result",
          "data": {
            "text/plain": [
              "<matplotlib.axes._subplots.AxesSubplot at 0x7f748f480990>"
            ]
          },
          "metadata": {},
          "execution_count": 15
        },
        {
          "output_type": "display_data",
          "data": {
            "text/plain": [
              "<Figure size 432x288 with 1 Axes>"
            ],
            "image/png": "[encoded data removed]"
          },
          "metadata": {
            "needs_background": "light"
          }
        }
      ]
    },
    {
      "cell_type": "code",
      "source": [
        "df['CONDITIONAL APPROVAL'].unique()"
      ],
      "metadata": {
        "id": "2Is5lVS5tLR9",
        "colab": {
          "base_uri": "https://localhost:8080/"
        },
        "outputId": "ef76a0de-62b2-4e75-e303-f9ec78c45ab6"
      },
      "execution_count": 16,
      "outputs": [
        {
          "output_type": "execute_result",
          "data": {
            "text/plain": [
              "array(['N', 'Y'], dtype=object)"
            ]
          },
          "metadata": {},
          "execution_count": 16
        }
      ]
    },
    {
      "cell_type": "code",
      "source": [
        "##HAndling categorical feature CONDITIONAL APPROVAL\n",
        "df['CONDITIONAL APPROVAL']=df['CONDITIONAL APPROVAL'].map({'N':0,'Y':1})\n",
        "df.head()"
      ],
      "metadata": {
        "colab": {
          "base_uri": "https://localhost:8080/",
          "height": 525
        },
        "id": "HDIswqvRUNp2",
        "outputId": "afa607df-d854-4b16-f38b-1556be3b9ff2"
      },
      "execution_count": 17,
      "outputs": [
        {
          "output_type": "execute_result",
          "data": {
            "text/plain": [
              "                 ID  LICENSE ID  ACCOUNT NUMBER  SITE NUMBER  \\\n",
              "0    35342-20020816     1256593           32811            1   \n",
              "1  1358463-20051116     1639294          262311           29   \n",
              "2  1980233-20090722     1980233          345008            1   \n",
              "3  1476582-20040211     1476582          273121            1   \n",
              "4  1141408-20080516     1896750          213785            1   \n",
              "\n",
              "                     LEGAL NAME        DOING BUSINESS AS NAME  \\\n",
              "0                  CARMEN CAHUE         CLAUDIA'S BRIDAL SHOP   \n",
              "1           ISLA TROPICAL, INC.                 ISLA TROPICAL   \n",
              "2                DJS REMODELING          DJS REMODELING, INC.   \n",
              "3      ALL-BRY CONSTRUCTION CO.      ALL-BRY CONSTRUCTION CO.   \n",
              "4  MCDONOUGH MECHANICAL SERVICE  MCDONOUGH MECHANICAL SERVICE   \n",
              "\n",
              "                      ADDRESS      CITY STATE ZIP CODE  ...  \\\n",
              "0  2625 S CENTRAL PARK AVE  1   CHICAGO    IL  60623.0  ...   \n",
              "1         2825 W MONTROSE AVE   CHICAGO    IL    60618  ...   \n",
              "2           1605  CLAVEY RD 1  HIGHLAND    IL    60035  ...   \n",
              "3              8  NORTH TRAIL    LEMONT    IL    60439  ...   \n",
              "4             4081  JOSEPH DR  WAUKEGAN    IL    60087  ...   \n",
              "\n",
              "   LICENSE TERM START DATE  LICENSE TERM EXPIRATION DATE  \\\n",
              "0      2002-08-16T00:00:00           2003-08-15T00:00:00   \n",
              "1      2005-11-16T00:00:00           2006-11-15T00:00:00   \n",
              "2      2009-07-22T00:00:00           2011-07-15T00:00:00   \n",
              "3      2004-02-11T00:00:00           2005-02-15T00:00:00   \n",
              "4      2008-05-16T00:00:00           2010-05-15T00:00:00   \n",
              "\n",
              "  LICENSE APPROVED FOR ISSUANCE          DATE ISSUED  \\\n",
              "0           2002-08-21T00:00:00  2006-04-11T00:00:00   \n",
              "1           2006-04-05T00:00:00  2006-06-12T00:00:00   \n",
              "2           2009-07-22T00:00:00  2009-07-22T00:00:00   \n",
              "3           2004-02-10T00:00:00  2004-02-11T00:00:00   \n",
              "4           2008-06-04T00:00:00  2008-06-05T00:00:00   \n",
              "\n",
              "   LICENSE STATUS CHANGE DATE   SSA   LATITUDE  LONGITUDE  \\\n",
              "0                         NaN  25.0  41.843613 -87.714618   \n",
              "1         2006-06-15T00:00:00  60.0  41.961132 -87.699626   \n",
              "2                         NaN   NaN        NaN        NaN   \n",
              "3                         NaN   NaN        NaN        NaN   \n",
              "4                         NaN   NaN        NaN        NaN   \n",
              "\n",
              "                                            LOCATION LICENSE STATUS  \n",
              "0  {'latitude': '41.843612879431845', 'longitude'...            AAI  \n",
              "1  {'latitude': '41.96113244107215', 'longitude':...            AAC  \n",
              "2                                                NaN            AAI  \n",
              "3                                                NaN            AAI  \n",
              "4                                                NaN            AAI  \n",
              "\n",
              "[5 rows x 32 columns]"
            ],
            "text/html": [
              "\n",
              "  <div id=\"df-4716b794-f9ec-4eb5-915d-5d943bedadfd\">\n",
              "    <div class=\"colab-df-container\">\n",
              "      <div>\n",
              "<style scoped>\n",
              "    .dataframe tbody tr th:only-of-type {\n",
              "        vertical-align: middle;\n",
              "    }\n",
              "\n",
              "    .dataframe tbody tr th {\n",
              "        vertical-align: top;\n",
              "    }\n",
              "\n",
              "    .dataframe thead th {\n",
              "        text-align: right;\n",
              "    }\n",
              "</style>\n",
              "<table border=\"1\" class=\"dataframe\">\n",
              "  <thead>\n",
              "    <tr style=\"text-align: right;\">\n",
              "      <th></th>\n",
              "      <th>ID</th>\n",
              "      <th>LICENSE ID</th>\n",
              "      <th>ACCOUNT NUMBER</th>\n",
              "      <th>SITE NUMBER</th>\n",
              "      <th>LEGAL NAME</th>\n",
              "      <th>DOING BUSINESS AS NAME</th>\n",
              "      <th>ADDRESS</th>\n",
              "      <th>CITY</th>\n",
              "      <th>STATE</th>\n",
              "      <th>ZIP CODE</th>\n",
              "      <th>...</th>\n",
              "      <th>LICENSE TERM START DATE</th>\n",
              "      <th>LICENSE TERM EXPIRATION DATE</th>\n",
              "      <th>LICENSE APPROVED FOR ISSUANCE</th>\n",
              "      <th>DATE ISSUED</th>\n",
              "      <th>LICENSE STATUS CHANGE DATE</th>\n",
              "      <th>SSA</th>\n",
              "      <th>LATITUDE</th>\n",
              "      <th>LONGITUDE</th>\n",
              "      <th>LOCATION</th>\n",
              "      <th>LICENSE STATUS</th>\n",
              "    </tr>\n",
              "  </thead>\n",
              "  <tbody>\n",
              "    <tr>\n",
              "      <th>0</th>\n",
              "      <td>35342-20020816</td>\n",
              "      <td>1256593</td>\n",
              "      <td>32811</td>\n",
              "      <td>1</td>\n",
              "      <td>CARMEN CAHUE</td>\n",
              "      <td>CLAUDIA'S BRIDAL SHOP</td>\n",
              "      <td>2625 S CENTRAL PARK AVE  1</td>\n",
              "      <td>CHICAGO</td>\n",
              "      <td>IL</td>\n",
              "      <td>60623.0</td>\n",
              "      <td>...</td>\n",
              "      <td>2002-08-16T00:00:00</td>\n",
              "      <td>2003-08-15T00:00:00</td>\n",
              "      <td>2002-08-21T00:00:00</td>\n",
              "      <td>2006-04-11T00:00:00</td>\n",
              "      <td>NaN</td>\n",
              "      <td>25.0</td>\n",
              "      <td>41.843613</td>\n",
              "      <td>-87.714618</td>\n",
              "      <td>{'latitude': '41.843612879431845', 'longitude'...</td>\n",
              "      <td>AAI</td>\n",
              "    </tr>\n",
              "    <tr>\n",
              "      <th>1</th>\n",
              "      <td>1358463-20051116</td>\n",
              "      <td>1639294</td>\n",
              "      <td>262311</td>\n",
              "      <td>29</td>\n",
              "      <td>ISLA TROPICAL, INC.</td>\n",
              "      <td>ISLA TROPICAL</td>\n",
              "      <td>2825 W MONTROSE AVE</td>\n",
              "      <td>CHICAGO</td>\n",
              "      <td>IL</td>\n",
              "      <td>60618</td>\n",
              "      <td>...</td>\n",
              "      <td>2005-11-16T00:00:00</td>\n",
              "      <td>2006-11-15T00:00:00</td>\n",
              "      <td>2006-04-05T00:00:00</td>\n",
              "      <td>2006-06-12T00:00:00</td>\n",
              "      <td>2006-06-15T00:00:00</td>\n",
              "      <td>60.0</td>\n",
              "      <td>41.961132</td>\n",
              "      <td>-87.699626</td>\n",
              "      <td>{'latitude': '41.96113244107215', 'longitude':...</td>\n",
              "      <td>AAC</td>\n",
              "    </tr>\n",
              "    <tr>\n",
              "      <th>2</th>\n",
              "      <td>1980233-20090722</td>\n",
              "      <td>1980233</td>\n",
              "      <td>345008</td>\n",
              "      <td>1</td>\n",
              "      <td>DJS REMODELING</td>\n",
              "      <td>DJS REMODELING, INC.</td>\n",
              "      <td>1605  CLAVEY RD 1</td>\n",
              "      <td>HIGHLAND</td>\n",
              "      <td>IL</td>\n",
              "      <td>60035</td>\n",
              "      <td>...</td>\n",
              "      <td>2009-07-22T00:00:00</td>\n",
              "      <td>2011-07-15T00:00:00</td>\n",
              "      <td>2009-07-22T00:00:00</td>\n",
              "      <td>2009-07-22T00:00:00</td>\n",
              "      <td>NaN</td>\n",
              "      <td>NaN</td>\n",
              "      <td>NaN</td>\n",
              "      <td>NaN</td>\n",
              "      <td>NaN</td>\n",
              "      <td>AAI</td>\n",
              "    </tr>\n",
              "    <tr>\n",
              "      <th>3</th>\n",
              "      <td>1476582-20040211</td>\n",
              "      <td>1476582</td>\n",
              "      <td>273121</td>\n",
              "      <td>1</td>\n",
              "      <td>ALL-BRY CONSTRUCTION CO.</td>\n",
              "      <td>ALL-BRY CONSTRUCTION CO.</td>\n",
              "      <td>8  NORTH TRAIL</td>\n",
              "      <td>LEMONT</td>\n",
              "      <td>IL</td>\n",
              "      <td>60439</td>\n",
              "      <td>...</td>\n",
              "      <td>2004-02-11T00:00:00</td>\n",
              "      <td>2005-02-15T00:00:00</td>\n",
              "      <td>2004-02-10T00:00:00</td>\n",
              "      <td>2004-02-11T00:00:00</td>\n",
              "      <td>NaN</td>\n",
              "      <td>NaN</td>\n",
              "      <td>NaN</td>\n",
              "      <td>NaN</td>\n",
              "      <td>NaN</td>\n",
              "      <td>AAI</td>\n",
              "    </tr>\n",
              "    <tr>\n",
              "      <th>4</th>\n",
              "      <td>1141408-20080516</td>\n",
              "      <td>1896750</td>\n",
              "      <td>213785</td>\n",
              "      <td>1</td>\n",
              "      <td>MCDONOUGH MECHANICAL SERVICE</td>\n",
              "      <td>MCDONOUGH MECHANICAL SERVICE</td>\n",
              "      <td>4081  JOSEPH DR</td>\n",
              "      <td>WAUKEGAN</td>\n",
              "      <td>IL</td>\n",
              "      <td>60087</td>\n",
              "      <td>...</td>\n",
              "      <td>2008-05-16T00:00:00</td>\n",
              "      <td>2010-05-15T00:00:00</td>\n",
              "      <td>2008-06-04T00:00:00</td>\n",
              "      <td>2008-06-05T00:00:00</td>\n",
              "      <td>NaN</td>\n",
              "      <td>NaN</td>\n",
              "      <td>NaN</td>\n",
              "      <td>NaN</td>\n",
              "      <td>NaN</td>\n",
              "      <td>AAI</td>\n",
              "    </tr>\n",
              "  </tbody>\n",
              "</table>\n",
              "<p>5 rows × 32 columns</p>\n",
              "</div>\n",
              "      <button class=\"colab-df-convert\" onclick=\"convertToInteractive('df-4716b794-f9ec-4eb5-915d-5d943bedadfd')\"\n",
              "              title=\"Convert this dataframe to an interactive table.\"\n",
              "              style=\"display:none;\">\n",
              "        \n",
              "  <svg xmlns=\"http://www.w3.org/2000/svg\" height=\"24px\"viewBox=\"0 0 24 24\"\n",
              "       width=\"24px\">\n",
              "    <path d=\"M0 0h24v24H0V0z\" fill=\"none\"/>\n",
              "    <path d=\"M18.56 5.44l.94 2.06.94-2.06 2.06-.94-2.06-.94-.94-2.06-.94 2.06-2.06.94zm-11 1L8.5 8.5l.94-2.06 2.06-.94-2.06-.94L8.5 2.5l-.94 2.06-2.06.94zm10 10l.94 2.06.94-2.06 2.06-.94-2.06-.94-.94-2.06-.94 2.06-2.06.94z\"/><path d=\"M17.41 7.96l-1.37-1.37c-.4-.4-.92-.59-1.43-.59-.52 0-1.04.2-1.43.59L10.3 9.45l-7.72 7.72c-.78.78-.78 2.05 0 2.83L4 21.41c.39.39.9.59 1.41.59.51 0 1.02-.2 1.41-.59l7.78-7.78 2.81-2.81c.8-.78.8-2.07 0-2.86zM5.41 20L4 18.59l7.72-7.72 1.47 1.35L5.41 20z\"/>\n",
              "  </svg>\n",
              "      </button>\n",
              "      \n",
              "  <style>\n",
              "    .colab-df-container {\n",
              "      display:flex;\n",
              "      flex-wrap:wrap;\n",
              "      gap: 12px;\n",
              "    }\n",
              "\n",
              "    .colab-df-convert {\n",
              "      background-color: #E8F0FE;\n",
              "      border: none;\n",
              "      border-radius: 50%;\n",
              "      cursor: pointer;\n",
              "      display: none;\n",
              "      fill: #1967D2;\n",
              "      height: 32px;\n",
              "      padding: 0 0 0 0;\n",
              "      width: 32px;\n",
              "    }\n",
              "\n",
              "    .colab-df-convert:hover {\n",
              "      background-color: #E2EBFA;\n",
              "      box-shadow: 0px 1px 2px rgba(60, 64, 67, 0.3), 0px 1px 3px 1px rgba(60, 64, 67, 0.15);\n",
              "      fill: #174EA6;\n",
              "    }\n",
              "\n",
              "    [theme=dark] .colab-df-convert {\n",
              "      background-color: #3B4455;\n",
              "      fill: #D2E3FC;\n",
              "    }\n",
              "\n",
              "    [theme=dark] .colab-df-convert:hover {\n",
              "      background-color: #434B5C;\n",
              "      box-shadow: 0px 1px 3px 1px rgba(0, 0, 0, 0.15);\n",
              "      filter: drop-shadow(0px 1px 2px rgba(0, 0, 0, 0.3));\n",
              "      fill: #FFFFFF;\n",
              "    }\n",
              "  </style>\n",
              "\n",
              "      <script>\n",
              "        const buttonEl =\n",
              "          document.querySelector('#df-4716b794-f9ec-4eb5-915d-5d943bedadfd button.colab-df-convert');\n",
              "        buttonEl.style.display =\n",
              "          google.colab.kernel.accessAllowed ? 'block' : 'none';\n",
              "\n",
              "        async function convertToInteractive(key) {\n",
              "          const element = document.querySelector('#df-4716b794-f9ec-4eb5-915d-5d943bedadfd');\n",
              "          const dataTable =\n",
              "            await google.colab.kernel.invokeFunction('convertToInteractive',\n",
              "                                                     [key], {});\n",
              "          if (!dataTable) return;\n",
              "\n",
              "          const docLinkHtml = 'Like what you see? Visit the ' +\n",
              "            '<a target=\"_blank\" href=https://colab.research.google.com/notebooks/data_table.ipynb>data table notebook</a>'\n",
              "            + ' to learn more about interactive tables.';\n",
              "          element.innerHTML = '';\n",
              "          dataTable['output_type'] = 'display_data';\n",
              "          await google.colab.output.renderOutput(dataTable, element);\n",
              "          const docLink = document.createElement('div');\n",
              "          docLink.innerHTML = docLinkHtml;\n",
              "          element.appendChild(docLink);\n",
              "        }\n",
              "      </script>\n",
              "    </div>\n",
              "  </div>\n",
              "  "
            ]
          },
          "metadata": {},
          "execution_count": 17
        }
      ]
    },
    {
      "cell_type": "code",
      "source": [
        "# find Object type of features\n",
        "categorical_columns = df.select_dtypes(include=['object']).columns\n",
        "categorical_columns"
      ],
      "metadata": {
        "colab": {
          "base_uri": "https://localhost:8080/"
        },
        "id": "PKAoq_f64_nK",
        "outputId": "d6b4182d-396b-407f-faa7-5368da529c5e"
      },
      "execution_count": 18,
      "outputs": [
        {
          "output_type": "execute_result",
          "data": {
            "text/plain": [
              "Index(['ID', 'LEGAL NAME', 'DOING BUSINESS AS NAME', 'ADDRESS', 'CITY',\n",
              "       'STATE', 'ZIP CODE', 'WARD PRECINCT', 'LICENSE DESCRIPTION',\n",
              "       'APPLICATION TYPE', 'APPLICATION CREATED DATE',\n",
              "       'APPLICATION REQUIREMENTS COMPLETE', 'PAYMENT DATE',\n",
              "       'LICENSE TERM START DATE', 'LICENSE TERM EXPIRATION DATE',\n",
              "       'LICENSE APPROVED FOR ISSUANCE', 'DATE ISSUED',\n",
              "       'LICENSE STATUS CHANGE DATE', 'LOCATION', 'LICENSE STATUS'],\n",
              "      dtype='object')"
            ]
          },
          "metadata": {},
          "execution_count": 18
        }
      ]
    },
    {
      "cell_type": "code",
      "source": [
        "## APPLICATION TYPE replace missing values\n",
        "print(df['APPLICATION TYPE'].unique())\n",
        "print()\n",
        "print(df['APPLICATION TYPE'].value_counts())"
      ],
      "metadata": {
        "colab": {
          "base_uri": "https://localhost:8080/"
        },
        "id": "VVAmRSQYEEzC",
        "outputId": "e110719d-3c11-4eb2-c33d-1b89ddb2cbba"
      },
      "execution_count": 19,
      "outputs": [
        {
          "output_type": "stream",
          "name": "stdout",
          "text": [
            "['RENEW' 'ISSUE' 'C_LOC' 'C_EXPA' 'C_CAPA']\n",
            "\n",
            "RENEW     61085\n",
            "ISSUE     23398\n",
            "C_LOC      1400\n",
            "C_CAPA        7\n",
            "C_EXPA        5\n",
            "Name: APPLICATION TYPE, dtype: int64\n"
          ]
        }
      ]
    },
    {
      "cell_type": "code",
      "source": [
        "## LICENSE DESCRIPTION replace missing values\n",
        "df['LICENSE DESCRIPTION'].unique().shape"
      ],
      "metadata": {
        "colab": {
          "base_uri": "https://localhost:8080/"
        },
        "id": "wuixzkQbG4ed",
        "outputId": "11dc91b6-4d88-4b70-e548-f979e14e6335"
      },
      "execution_count": 20,
      "outputs": [
        {
          "output_type": "execute_result",
          "data": {
            "text/plain": [
              "(106,)"
            ]
          },
          "metadata": {},
          "execution_count": 20
        }
      ]
    },
    {
      "cell_type": "code",
      "source": [
        "# LICENSE STATUS\n",
        "df['LICENSE STATUS'].unique()"
      ],
      "metadata": {
        "colab": {
          "base_uri": "https://localhost:8080/"
        },
        "id": "YpSa1d-QaTmQ",
        "outputId": "ef28f9d2-03f1-472e-e7eb-a2585f8d632c"
      },
      "execution_count": 21,
      "outputs": [
        {
          "output_type": "execute_result",
          "data": {
            "text/plain": [
              "array(['AAI', 'AAC', 'REV', 'REA', 'INQ'], dtype=object)"
            ]
          },
          "metadata": {},
          "execution_count": 21
        }
      ]
    },
    {
      "cell_type": "markdown",
      "source": [
        "**Replace the missing values with mode on missing values - WARD, PRECINCT, POLICE DISTRICT, LICENSE CODE**"
      ],
      "metadata": {
        "id": "WRq32hI53TGq"
      }
    },
    {
      "cell_type": "code",
      "source": [
        "## Replace the missing values with mode for INT64\n",
        "df['WARD']=df['WARD'].fillna(df['WARD'].mode()[0])\n",
        "df['PRECINCT']=df['PRECINCT'].fillna(df['PRECINCT'].mode()[0])\n",
        "df['POLICE DISTRICT']=df['POLICE DISTRICT'].fillna(df['POLICE DISTRICT'].mode()[0])\n",
        "df['LICENSE CODE']=df['LICENSE CODE'].fillna(df['LICENSE CODE'].mode()[0])"
      ],
      "metadata": {
        "id": "mmrcwo0f1e5i"
      },
      "execution_count": 22,
      "outputs": []
    },
    {
      "cell_type": "code",
      "source": [
        "## Replace the missing values with mode for float64\n",
        "\n",
        "df['LICENSE NUMBER']=df['LICENSE NUMBER'].fillna(df['LICENSE NUMBER'].mean())\n",
        "df['SSA']=df['SSA'].fillna(df['SSA'].median())\n",
        "df['LATITUDE']=df['LATITUDE'].fillna(df['LATITUDE'].median())\n",
        "df['LONGITUDE']=df['LONGITUDE'].fillna(df['LONGITUDE'].median())"
      ],
      "metadata": {
        "id": "dDSFuM2n36oV"
      },
      "execution_count": 23,
      "outputs": []
    },
    {
      "cell_type": "markdown",
      "source": [
        "**Type cast ZIP CODE from object to int64**"
      ],
      "metadata": {
        "id": "G6yrwViY9Doq"
      }
    },
    {
      "cell_type": "code",
      "source": [
        "# df['ZIP CODE']=df['ZIP CODE'].astype(float)\n",
        "\n",
        "df['ZIP CODE'].unique().shape"
      ],
      "metadata": {
        "colab": {
          "base_uri": "https://localhost:8080/"
        },
        "id": "CcnaOtDC54E6",
        "outputId": "80478f8b-3db6-4ff6-f31d-1d4638ea5c48"
      },
      "execution_count": 24,
      "outputs": [
        {
          "output_type": "execute_result",
          "data": {
            "text/plain": [
              "(2457,)"
            ]
          },
          "metadata": {},
          "execution_count": 24
        }
      ]
    },
    {
      "cell_type": "code",
      "source": [
        "for i in df['ZIP CODE']:\n",
        "  if isinstance(i, np.float64):\n",
        "    df['ZIP CODE'] = df['ZIP CODE'].replace(np.nan, 0)\n",
        "  \n",
        "# df['ZIP CODE'] = df['ZIP CODE'].astype(float)\n",
        "  \n",
        "#df['ZIP CODE'].fillna(df['ZIP CODE'].median()"
      ],
      "metadata": {
        "id": "Fma_cpL254Jr"
      },
      "execution_count": 25,
      "outputs": []
    },
    {
      "cell_type": "code",
      "source": [
        "# str_char = ['L5K', 'J3Y8Y', 'H2T2V', 'H3P3C', 'M4N', 'T5H2E', 'H3P']\n",
        "for i in df['ZIP CODE']:\n",
        "  if 'H3P' in str(i):\n",
        "    df['ZIP CODE'] = df['ZIP CODE'].replace('H3P', 0)"
      ],
      "metadata": {
        "id": "N8VfLQCCbMMt"
      },
      "execution_count": 34,
      "outputs": []
    },
    {
      "cell_type": "code",
      "source": [
        "df['ZIP CODE'] = df['ZIP CODE'].astype(np.float64)"
      ],
      "metadata": {
        "id": "Z4pddRNHbsvU"
      },
      "execution_count": 35,
      "outputs": []
    },
    {
      "cell_type": "code",
      "source": [
        "df['ZIP CODE']=df['ZIP CODE'].fillna(df['ZIP CODE'].median())"
      ],
      "metadata": {
        "id": "dDx1rmQP_EGf"
      },
      "execution_count": 36,
      "outputs": []
    },
    {
      "cell_type": "code",
      "source": [
        "df['ZIP CODE'].isnull().sum()"
      ],
      "metadata": {
        "colab": {
          "base_uri": "https://localhost:8080/"
        },
        "id": "7VYx5Gsf_q86",
        "outputId": "657a8b51-a4fe-4665-dfc7-be57aacbd83f"
      },
      "execution_count": 37,
      "outputs": [
        {
          "output_type": "execute_result",
          "data": {
            "text/plain": [
              "0"
            ]
          },
          "metadata": {},
          "execution_count": 37
        }
      ]
    },
    {
      "cell_type": "markdown",
      "source": [
        "**Convert datetime object into datetime**"
      ],
      "metadata": {
        "id": "OoNlxOp87GAl"
      }
    },
    {
      "cell_type": "code",
      "source": [
        "df['APPLICATION CREATED DATE']=pd.to_datetime(df['APPLICATION CREATED DATE'])\n",
        "df['APPLICATION REQUIREMENTS COMPLETE']=pd.to_datetime(df['APPLICATION REQUIREMENTS COMPLETE'])\n",
        "df['PAYMENT DATE']=pd.to_datetime(df['PAYMENT DATE'])\n",
        "df['CONDITIONAL APPROVAL']=pd.to_datetime(df['CONDITIONAL APPROVAL'])\n",
        "df['LICENSE TERM START DATE']=pd.to_datetime(df['LICENSE TERM START DATE'])\n",
        "df['LICENSE TERM EXPIRATION DATE']=pd.to_datetime(df['LICENSE TERM EXPIRATION DATE'])\n",
        "df['LICENSE APPROVED FOR ISSUANCE']=pd.to_datetime(df['LICENSE APPROVED FOR ISSUANCE'])\n",
        "df['DATE ISSUED']=pd.to_datetime(df['DATE ISSUED'])\n",
        "df['LICENSE STATUS CHANGE DATE']=pd.to_datetime(df['LICENSE STATUS CHANGE DATE'])"
      ],
      "metadata": {
        "id": "c6NxWUnK1fEL"
      },
      "execution_count": 38,
      "outputs": []
    },
    {
      "cell_type": "markdown",
      "source": [
        "**Replace the NaT values with mode**"
      ],
      "metadata": {
        "id": "gXdLlIegBvSy"
      }
    },
    {
      "cell_type": "code",
      "source": [
        "df['APPLICATION CREATED DATE']=df['APPLICATION CREATED DATE'].fillna(df['APPLICATION CREATED DATE'].median())\n",
        "df['APPLICATION REQUIREMENTS COMPLETE']=df['APPLICATION REQUIREMENTS COMPLETE'].fillna(df['APPLICATION REQUIREMENTS COMPLETE'].median())\n",
        "df['PAYMENT DATE']=df['PAYMENT DATE'].fillna(df['PAYMENT DATE'].median())\n",
        "df['LICENSE TERM START DATE']=df['LICENSE TERM START DATE'].fillna(df['LICENSE TERM START DATE'].median())\n",
        "df['LICENSE TERM EXPIRATION DATE']=df['LICENSE TERM EXPIRATION DATE'].fillna(df['LICENSE TERM EXPIRATION DATE'].median())\n",
        "df['LICENSE APPROVED FOR ISSUANCE']=df['LICENSE APPROVED FOR ISSUANCE'].fillna(df['LICENSE APPROVED FOR ISSUANCE'].median())\n",
        "df['LICENSE STATUS CHANGE DATE']=df['LICENSE STATUS CHANGE DATE'].fillna(df['LICENSE STATUS CHANGE DATE'].median())"
      ],
      "metadata": {
        "id": "CMW-Dsrl9fqV"
      },
      "execution_count": 39,
      "outputs": []
    },
    {
      "cell_type": "markdown",
      "source": [
        "**Cam drop name address state and other columns**"
      ],
      "metadata": {
        "id": "EWG3bo7BQDt_"
      }
    },
    {
      "cell_type": "code",
      "source": [
        "# Dropped\n",
        "\n",
        "# df.drop(['ID', 'LEGAL NAME', 'DOING BUSINESS AS NAME', 'ADDRESS', 'WARD PRECINCT', 'LOCATION'], axis=1, inplace=True)"
      ],
      "metadata": {
        "id": "imuvZMn9SWu0"
      },
      "execution_count": 42,
      "outputs": []
    },
    {
      "cell_type": "code",
      "source": [
        "df.info()"
      ],
      "metadata": {
        "id": "akTN5TVDSWzJ",
        "colab": {
          "base_uri": "https://localhost:8080/"
        },
        "outputId": "f4c70a5b-08bc-4d7b-87f0-2720ddb78f25"
      },
      "execution_count": 43,
      "outputs": [
        {
          "output_type": "stream",
          "name": "stdout",
          "text": [
            "<class 'pandas.core.frame.DataFrame'>\n",
            "RangeIndex: 85895 entries, 0 to 85894\n",
            "Data columns (total 26 columns):\n",
            " #   Column                             Non-Null Count  Dtype         \n",
            "---  ------                             --------------  -----         \n",
            " 0   LICENSE ID                         85895 non-null  int64         \n",
            " 1   ACCOUNT NUMBER                     85895 non-null  int64         \n",
            " 2   SITE NUMBER                        85895 non-null  int64         \n",
            " 3   CITY                               85895 non-null  object        \n",
            " 4   STATE                              85895 non-null  object        \n",
            " 5   ZIP CODE                           85895 non-null  float64       \n",
            " 6   WARD                               85895 non-null  float64       \n",
            " 7   PRECINCT                           85895 non-null  float64       \n",
            " 8   POLICE DISTRICT                    85895 non-null  float64       \n",
            " 9   LICENSE CODE                       85895 non-null  int64         \n",
            " 10  LICENSE DESCRIPTION                85895 non-null  object        \n",
            " 11  LICENSE NUMBER                     85895 non-null  float64       \n",
            " 12  APPLICATION TYPE                   85895 non-null  object        \n",
            " 13  APPLICATION CREATED DATE           85895 non-null  datetime64[ns]\n",
            " 14  APPLICATION REQUIREMENTS COMPLETE  85895 non-null  datetime64[ns]\n",
            " 15  PAYMENT DATE                       85895 non-null  datetime64[ns]\n",
            " 16  CONDITIONAL APPROVAL               85895 non-null  datetime64[ns]\n",
            " 17  LICENSE TERM START DATE            85895 non-null  datetime64[ns]\n",
            " 18  LICENSE TERM EXPIRATION DATE       85895 non-null  datetime64[ns]\n",
            " 19  LICENSE APPROVED FOR ISSUANCE      85895 non-null  datetime64[ns]\n",
            " 20  DATE ISSUED                        85895 non-null  datetime64[ns]\n",
            " 21  LICENSE STATUS CHANGE DATE         85895 non-null  datetime64[ns]\n",
            " 22  SSA                                85895 non-null  float64       \n",
            " 23  LATITUDE                           85895 non-null  float64       \n",
            " 24  LONGITUDE                          85895 non-null  float64       \n",
            " 25  LICENSE STATUS                     85895 non-null  object        \n",
            "dtypes: datetime64[ns](9), float64(8), int64(4), object(5)\n",
            "memory usage: 17.0+ MB\n"
          ]
        }
      ]
    },
    {
      "cell_type": "code",
      "source": [
        "df.isnull().sum()"
      ],
      "metadata": {
        "colab": {
          "base_uri": "https://localhost:8080/"
        },
        "id": "lSKhiv8IFY6I",
        "outputId": "cce7f354-f0e5-4d89-db02-b2591151da9b"
      },
      "execution_count": 44,
      "outputs": [
        {
          "output_type": "execute_result",
          "data": {
            "text/plain": [
              "LICENSE ID                           0\n",
              "ACCOUNT NUMBER                       0\n",
              "SITE NUMBER                          0\n",
              "CITY                                 0\n",
              "STATE                                0\n",
              "ZIP CODE                             0\n",
              "WARD                                 0\n",
              "PRECINCT                             0\n",
              "POLICE DISTRICT                      0\n",
              "LICENSE CODE                         0\n",
              "LICENSE DESCRIPTION                  0\n",
              "LICENSE NUMBER                       0\n",
              "APPLICATION TYPE                     0\n",
              "APPLICATION CREATED DATE             0\n",
              "APPLICATION REQUIREMENTS COMPLETE    0\n",
              "PAYMENT DATE                         0\n",
              "CONDITIONAL APPROVAL                 0\n",
              "LICENSE TERM START DATE              0\n",
              "LICENSE TERM EXPIRATION DATE         0\n",
              "LICENSE APPROVED FOR ISSUANCE        0\n",
              "DATE ISSUED                          0\n",
              "LICENSE STATUS CHANGE DATE           0\n",
              "SSA                                  0\n",
              "LATITUDE                             0\n",
              "LONGITUDE                            0\n",
              "LICENSE STATUS                       0\n",
              "dtype: int64"
            ]
          },
          "metadata": {},
          "execution_count": 44
        }
      ]
    },
    {
      "cell_type": "code",
      "source": [
        "df.plot.box()"
      ],
      "metadata": {
        "colab": {
          "base_uri": "https://localhost:8080/",
          "height": 293
        },
        "id": "Ry1KsiI6FY9_",
        "outputId": "7d3e24b1-fd98-40b9-9c89-d56b89adb024"
      },
      "execution_count": 45,
      "outputs": [
        {
          "output_type": "execute_result",
          "data": {
            "text/plain": [
              "<matplotlib.axes._subplots.AxesSubplot at 0x7f748cb53c50>"
            ]
          },
          "metadata": {},
          "execution_count": 45
        },
        {
          "output_type": "display_data",
          "data": {
            "text/plain": [
              "<Figure size 432x288 with 1 Axes>"
            ],
            "image/png": "[encoded data removed]"
          },
          "metadata": {
            "needs_background": "light"
          }
        }
      ]
    },
    {
      "cell_type": "markdown",
      "source": [
        "**To handeling Categorical features we can use various methods, here i am using get_dummies**\n",
        "\n",
        "1.   We also can try other methods like OneHotEncoding, LevelEncoding ans SimpleImputer\n",
        "\n"
      ],
      "metadata": {
        "id": "aSHJC3BBAI8J"
      }
    },
    {
      "cell_type": "code",
      "source": [
        "df = pd.get_dummies(df,columns=[\"CITY\", \"STATE\", \"APPLICATION TYPE\", \"LICENSE DESCRIPTION\", \"LICENSE STATUS\"] ,drop_first = True)"
      ],
      "metadata": {
        "id": "phDB7VPlF1Bv"
      },
      "execution_count": 46,
      "outputs": []
    },
    {
      "cell_type": "code",
      "source": [
        "df.columns"
      ],
      "metadata": {
        "colab": {
          "base_uri": "https://localhost:8080/"
        },
        "id": "8SkjrNVvFuvD",
        "outputId": "cc443330-dade-439f-f157-9f02b9013a07"
      },
      "execution_count": 48,
      "outputs": [
        {
          "output_type": "execute_result",
          "data": {
            "text/plain": [
              "Index(['LICENSE ID', 'ACCOUNT NUMBER', 'SITE NUMBER', 'ZIP CODE', 'WARD',\n",
              "       'PRECINCT', 'POLICE DISTRICT', 'LICENSE CODE', 'LICENSE NUMBER',\n",
              "       'APPLICATION CREATED DATE',\n",
              "       ...\n",
              "       'LICENSE DESCRIPTION_Vacation Rental',\n",
              "       'LICENSE DESCRIPTION_Valet Parking Operator',\n",
              "       'LICENSE DESCRIPTION_Veterinary Hospital',\n",
              "       'LICENSE DESCRIPTION_Weapons Dealer',\n",
              "       'LICENSE DESCRIPTION_Wholesale Food Establishment',\n",
              "       'LICENSE DESCRIPTION_Wrigley Field', 'LICENSE STATUS_AAI',\n",
              "       'LICENSE STATUS_INQ', 'LICENSE STATUS_REA', 'LICENSE STATUS_REV'],\n",
              "      dtype='object', length=1409)"
            ]
          },
          "metadata": {},
          "execution_count": 48
        }
      ]
    },
    {
      "cell_type": "code",
      "source": [
        "# Dropped All datetime colume because while trining the models they are not training\n",
        "\n",
        "X=df.drop(['APPLICATION CREATED DATE', 'APPLICATION REQUIREMENTS COMPLETE','PAYMENT DATE', 'CONDITIONAL APPROVAL', 'LICENSE TERM START DATE','LICENSE TERM EXPIRATION DATE', 'LICENSE APPROVED FOR ISSUANCE', 'DATE ISSUED', 'LICENSE STATUS CHANGE DATE'], axis = 1)"
      ],
      "metadata": {
        "id": "jsm9kfK5B8Nq"
      },
      "execution_count": 84,
      "outputs": []
    },
    {
      "cell_type": "code",
      "source": [
        "X=df.drop(['LICENSE STATUS_AAI','LICENSE STATUS_INQ', 'LICENSE STATUS_REA', 'LICENSE STATUS_REV'], axis = 1)"
      ],
      "metadata": {
        "id": "AU7vIt99E_2o"
      },
      "execution_count": 51,
      "outputs": []
    },
    {
      "cell_type": "code",
      "source": [
        "X.head()"
      ],
      "metadata": {
        "colab": {
          "base_uri": "https://localhost:8080/",
          "height": 334
        },
        "id": "C5NumyhjFSos",
        "outputId": "b713873a-c156-49f0-8235-115fbe02db26"
      },
      "execution_count": 76,
      "outputs": [
        {
          "output_type": "execute_result",
          "data": {
            "text/plain": [
              "   LICENSE ID  ACCOUNT NUMBER  SITE NUMBER  ZIP CODE  WARD  PRECINCT  \\\n",
              "0     1256593           32811            1   60623.0  22.0      28.0   \n",
              "1     1639294          262311           29   60618.0  33.0      23.0   \n",
              "2     1980233          345008            1   60035.0  42.0       9.0   \n",
              "3     1476582          273121            1   60439.0  42.0       9.0   \n",
              "4     1896750          213785            1   60087.0  42.0       9.0   \n",
              "\n",
              "   POLICE DISTRICT  LICENSE CODE  LICENSE NUMBER   SSA  ...  \\\n",
              "0             10.0          1010         35342.0  25.0  ...   \n",
              "1             17.0          1315       1358463.0  60.0  ...   \n",
              "2             18.0          1011       1980233.0  28.0  ...   \n",
              "3             18.0          1010       1476582.0  28.0  ...   \n",
              "4             18.0          1010       1141408.0  28.0  ...   \n",
              "\n",
              "   LICENSE DESCRIPTION_Vacation Rental  \\\n",
              "0                                    0   \n",
              "1                                    0   \n",
              "2                                    0   \n",
              "3                                    0   \n",
              "4                                    0   \n",
              "\n",
              "   LICENSE DESCRIPTION_Valet Parking Operator  \\\n",
              "0                                           0   \n",
              "1                                           0   \n",
              "2                                           0   \n",
              "3                                           0   \n",
              "4                                           0   \n",
              "\n",
              "   LICENSE DESCRIPTION_Veterinary Hospital  \\\n",
              "0                                        0   \n",
              "1                                        0   \n",
              "2                                        0   \n",
              "3                                        0   \n",
              "4                                        0   \n",
              "\n",
              "   LICENSE DESCRIPTION_Weapons Dealer  \\\n",
              "0                                   0   \n",
              "1                                   0   \n",
              "2                                   0   \n",
              "3                                   0   \n",
              "4                                   0   \n",
              "\n",
              "   LICENSE DESCRIPTION_Wholesale Food Establishment  \\\n",
              "0                                                 0   \n",
              "1                                                 0   \n",
              "2                                                 0   \n",
              "3                                                 0   \n",
              "4                                                 0   \n",
              "\n",
              "   LICENSE DESCRIPTION_Wrigley Field  LICENSE STATUS_AAI  LICENSE STATUS_INQ  \\\n",
              "0                                  0                   1                   0   \n",
              "1                                  0                   0                   0   \n",
              "2                                  0                   1                   0   \n",
              "3                                  0                   1                   0   \n",
              "4                                  0                   1                   0   \n",
              "\n",
              "   LICENSE STATUS_REA  LICENSE STATUS_REV  \n",
              "0                   0                   0  \n",
              "1                   0                   0  \n",
              "2                   0                   0  \n",
              "3                   0                   0  \n",
              "4                   0                   0  \n",
              "\n",
              "[5 rows x 1400 columns]"
            ],
            "text/html": [
              "\n",
              "  <div id=\"df-294caf1d-2292-4e8a-8147-bc52f49d674a\">\n",
              "    <div class=\"colab-df-container\">\n",
              "      <div>\n",
              "<style scoped>\n",
              "    .dataframe tbody tr th:only-of-type {\n",
              "        vertical-align: middle;\n",
              "    }\n",
              "\n",
              "    .dataframe tbody tr th {\n",
              "        vertical-align: top;\n",
              "    }\n",
              "\n",
              "    .dataframe thead th {\n",
              "        text-align: right;\n",
              "    }\n",
              "</style>\n",
              "<table border=\"1\" class=\"dataframe\">\n",
              "  <thead>\n",
              "    <tr style=\"text-align: right;\">\n",
              "      <th></th>\n",
              "      <th>LICENSE ID</th>\n",
              "      <th>ACCOUNT NUMBER</th>\n",
              "      <th>SITE NUMBER</th>\n",
              "      <th>ZIP CODE</th>\n",
              "      <th>WARD</th>\n",
              "      <th>PRECINCT</th>\n",
              "      <th>POLICE DISTRICT</th>\n",
              "      <th>LICENSE CODE</th>\n",
              "      <th>LICENSE NUMBER</th>\n",
              "      <th>SSA</th>\n",
              "      <th>...</th>\n",
              "      <th>LICENSE DESCRIPTION_Vacation Rental</th>\n",
              "      <th>LICENSE DESCRIPTION_Valet Parking Operator</th>\n",
              "      <th>LICENSE DESCRIPTION_Veterinary Hospital</th>\n",
              "      <th>LICENSE DESCRIPTION_Weapons Dealer</th>\n",
              "      <th>LICENSE DESCRIPTION_Wholesale Food Establishment</th>\n",
              "      <th>LICENSE DESCRIPTION_Wrigley Field</th>\n",
              "      <th>LICENSE STATUS_AAI</th>\n",
              "      <th>LICENSE STATUS_INQ</th>\n",
              "      <th>LICENSE STATUS_REA</th>\n",
              "      <th>LICENSE STATUS_REV</th>\n",
              "    </tr>\n",
              "  </thead>\n",
              "  <tbody>\n",
              "    <tr>\n",
              "      <th>0</th>\n",
              "      <td>1256593</td>\n",
              "      <td>32811</td>\n",
              "      <td>1</td>\n",
              "      <td>60623.0</td>\n",
              "      <td>22.0</td>\n",
              "      <td>28.0</td>\n",
              "      <td>10.0</td>\n",
              "      <td>1010</td>\n",
              "      <td>35342.0</td>\n",
              "      <td>25.0</td>\n",
              "      <td>...</td>\n",
              "      <td>0</td>\n",
              "      <td>0</td>\n",
              "      <td>0</td>\n",
              "      <td>0</td>\n",
              "      <td>0</td>\n",
              "      <td>0</td>\n",
              "      <td>1</td>\n",
              "      <td>0</td>\n",
              "      <td>0</td>\n",
              "      <td>0</td>\n",
              "    </tr>\n",
              "    <tr>\n",
              "      <th>1</th>\n",
              "      <td>1639294</td>\n",
              "      <td>262311</td>\n",
              "      <td>29</td>\n",
              "      <td>60618.0</td>\n",
              "      <td>33.0</td>\n",
              "      <td>23.0</td>\n",
              "      <td>17.0</td>\n",
              "      <td>1315</td>\n",
              "      <td>1358463.0</td>\n",
              "      <td>60.0</td>\n",
              "      <td>...</td>\n",
              "      <td>0</td>\n",
              "      <td>0</td>\n",
              "      <td>0</td>\n",
              "      <td>0</td>\n",
              "      <td>0</td>\n",
              "      <td>0</td>\n",
              "      <td>0</td>\n",
              "      <td>0</td>\n",
              "      <td>0</td>\n",
              "      <td>0</td>\n",
              "    </tr>\n",
              "    <tr>\n",
              "      <th>2</th>\n",
              "      <td>1980233</td>\n",
              "      <td>345008</td>\n",
              "      <td>1</td>\n",
              "      <td>60035.0</td>\n",
              "      <td>42.0</td>\n",
              "      <td>9.0</td>\n",
              "      <td>18.0</td>\n",
              "      <td>1011</td>\n",
              "      <td>1980233.0</td>\n",
              "      <td>28.0</td>\n",
              "      <td>...</td>\n",
              "      <td>0</td>\n",
              "      <td>0</td>\n",
              "      <td>0</td>\n",
              "      <td>0</td>\n",
              "      <td>0</td>\n",
              "      <td>0</td>\n",
              "      <td>1</td>\n",
              "      <td>0</td>\n",
              "      <td>0</td>\n",
              "      <td>0</td>\n",
              "    </tr>\n",
              "    <tr>\n",
              "      <th>3</th>\n",
              "      <td>1476582</td>\n",
              "      <td>273121</td>\n",
              "      <td>1</td>\n",
              "      <td>60439.0</td>\n",
              "      <td>42.0</td>\n",
              "      <td>9.0</td>\n",
              "      <td>18.0</td>\n",
              "      <td>1010</td>\n",
              "      <td>1476582.0</td>\n",
              "      <td>28.0</td>\n",
              "      <td>...</td>\n",
              "      <td>0</td>\n",
              "      <td>0</td>\n",
              "      <td>0</td>\n",
              "      <td>0</td>\n",
              "      <td>0</td>\n",
              "      <td>0</td>\n",
              "      <td>1</td>\n",
              "      <td>0</td>\n",
              "      <td>0</td>\n",
              "      <td>0</td>\n",
              "    </tr>\n",
              "    <tr>\n",
              "      <th>4</th>\n",
              "      <td>1896750</td>\n",
              "      <td>213785</td>\n",
              "      <td>1</td>\n",
              "      <td>60087.0</td>\n",
              "      <td>42.0</td>\n",
              "      <td>9.0</td>\n",
              "      <td>18.0</td>\n",
              "      <td>1010</td>\n",
              "      <td>1141408.0</td>\n",
              "      <td>28.0</td>\n",
              "      <td>...</td>\n",
              "      <td>0</td>\n",
              "      <td>0</td>\n",
              "      <td>0</td>\n",
              "      <td>0</td>\n",
              "      <td>0</td>\n",
              "      <td>0</td>\n",
              "      <td>1</td>\n",
              "      <td>0</td>\n",
              "      <td>0</td>\n",
              "      <td>0</td>\n",
              "    </tr>\n",
              "  </tbody>\n",
              "</table>\n",
              "<p>5 rows × 1400 columns</p>\n",
              "</div>\n",
              "      <button class=\"colab-df-convert\" onclick=\"convertToInteractive('df-294caf1d-2292-4e8a-8147-bc52f49d674a')\"\n",
              "              title=\"Convert this dataframe to an interactive table.\"\n",
              "              style=\"display:none;\">\n",
              "        \n",
              "  <svg xmlns=\"http://www.w3.org/2000/svg\" height=\"24px\"viewBox=\"0 0 24 24\"\n",
              "       width=\"24px\">\n",
              "    <path d=\"M0 0h24v24H0V0z\" fill=\"none\"/>\n",
              "    <path d=\"M18.56 5.44l.94 2.06.94-2.06 2.06-.94-2.06-.94-.94-2.06-.94 2.06-2.06.94zm-11 1L8.5 8.5l.94-2.06 2.06-.94-2.06-.94L8.5 2.5l-.94 2.06-2.06.94zm10 10l.94 2.06.94-2.06 2.06-.94-2.06-.94-.94-2.06-.94 2.06-2.06.94z\"/><path d=\"M17.41 7.96l-1.37-1.37c-.4-.4-.92-.59-1.43-.59-.52 0-1.04.2-1.43.59L10.3 9.45l-7.72 7.72c-.78.78-.78 2.05 0 2.83L4 21.41c.39.39.9.59 1.41.59.51 0 1.02-.2 1.41-.59l7.78-7.78 2.81-2.81c.8-.78.8-2.07 0-2.86zM5.41 20L4 18.59l7.72-7.72 1.47 1.35L5.41 20z\"/>\n",
              "  </svg>\n",
              "      </button>\n",
              "      \n",
              "  <style>\n",
              "    .colab-df-container {\n",
              "      display:flex;\n",
              "      flex-wrap:wrap;\n",
              "      gap: 12px;\n",
              "    }\n",
              "\n",
              "    .colab-df-convert {\n",
              "      background-color: #E8F0FE;\n",
              "      border: none;\n",
              "      border-radius: 50%;\n",
              "      cursor: pointer;\n",
              "      display: none;\n",
              "      fill: #1967D2;\n",
              "      height: 32px;\n",
              "      padding: 0 0 0 0;\n",
              "      width: 32px;\n",
              "    }\n",
              "\n",
              "    .colab-df-convert:hover {\n",
              "      background-color: #E2EBFA;\n",
              "      box-shadow: 0px 1px 2px rgba(60, 64, 67, 0.3), 0px 1px 3px 1px rgba(60, 64, 67, 0.15);\n",
              "      fill: #174EA6;\n",
              "    }\n",
              "\n",
              "    [theme=dark] .colab-df-convert {\n",
              "      background-color: #3B4455;\n",
              "      fill: #D2E3FC;\n",
              "    }\n",
              "\n",
              "    [theme=dark] .colab-df-convert:hover {\n",
              "      background-color: #434B5C;\n",
              "      box-shadow: 0px 1px 3px 1px rgba(0, 0, 0, 0.15);\n",
              "      filter: drop-shadow(0px 1px 2px rgba(0, 0, 0, 0.3));\n",
              "      fill: #FFFFFF;\n",
              "    }\n",
              "  </style>\n",
              "\n",
              "      <script>\n",
              "        const buttonEl =\n",
              "          document.querySelector('#df-294caf1d-2292-4e8a-8147-bc52f49d674a button.colab-df-convert');\n",
              "        buttonEl.style.display =\n",
              "          google.colab.kernel.accessAllowed ? 'block' : 'none';\n",
              "\n",
              "        async function convertToInteractive(key) {\n",
              "          const element = document.querySelector('#df-294caf1d-2292-4e8a-8147-bc52f49d674a');\n",
              "          const dataTable =\n",
              "            await google.colab.kernel.invokeFunction('convertToInteractive',\n",
              "                                                     [key], {});\n",
              "          if (!dataTable) return;\n",
              "\n",
              "          const docLinkHtml = 'Like what you see? Visit the ' +\n",
              "            '<a target=\"_blank\" href=https://colab.research.google.com/notebooks/data_table.ipynb>data table notebook</a>'\n",
              "            + ' to learn more about interactive tables.';\n",
              "          element.innerHTML = '';\n",
              "          dataTable['output_type'] = 'display_data';\n",
              "          await google.colab.output.renderOutput(dataTable, element);\n",
              "          const docLink = document.createElement('div');\n",
              "          docLink.innerHTML = docLinkHtml;\n",
              "          element.appendChild(docLink);\n",
              "        }\n",
              "      </script>\n",
              "    </div>\n",
              "  </div>\n",
              "  "
            ]
          },
          "metadata": {},
          "execution_count": 76
        }
      ]
    },
    {
      "cell_type": "code",
      "source": [
        "X.shape"
      ],
      "metadata": {
        "colab": {
          "base_uri": "https://localhost:8080/"
        },
        "id": "BA2fLk3sFSzo",
        "outputId": "25e02d3c-c7f7-4ca5-d602-a0c48df2a671"
      },
      "execution_count": 77,
      "outputs": [
        {
          "output_type": "execute_result",
          "data": {
            "text/plain": [
              "(85895, 1400)"
            ]
          },
          "metadata": {},
          "execution_count": 77
        }
      ]
    },
    {
      "cell_type": "code",
      "source": [
        "y=df[['LICENSE STATUS_AAI','LICENSE STATUS_INQ', 'LICENSE STATUS_REA', 'LICENSE STATUS_REV']]"
      ],
      "metadata": {
        "id": "R2QTOFX2FAIJ"
      },
      "execution_count": 57,
      "outputs": []
    },
    {
      "cell_type": "code",
      "source": [
        "y"
      ],
      "metadata": {
        "colab": {
          "base_uri": "https://localhost:8080/",
          "height": 423
        },
        "id": "H0Av6eifH2xZ",
        "outputId": "41399abc-3bf6-4bdf-e9a0-2b0f912f1aac"
      },
      "execution_count": 58,
      "outputs": [
        {
          "output_type": "execute_result",
          "data": {
            "text/plain": [
              "       LICENSE STATUS_AAI  LICENSE STATUS_INQ  LICENSE STATUS_REA  \\\n",
              "0                       1                   0                   0   \n",
              "1                       0                   0                   0   \n",
              "2                       1                   0                   0   \n",
              "3                       1                   0                   0   \n",
              "4                       1                   0                   0   \n",
              "...                   ...                 ...                 ...   \n",
              "85890                   0                   0                   0   \n",
              "85891                   1                   0                   0   \n",
              "85892                   1                   0                   0   \n",
              "85893                   0                   0                   0   \n",
              "85894                   0                   0                   0   \n",
              "\n",
              "       LICENSE STATUS_REV  \n",
              "0                       0  \n",
              "1                       0  \n",
              "2                       0  \n",
              "3                       0  \n",
              "4                       0  \n",
              "...                   ...  \n",
              "85890                   0  \n",
              "85891                   0  \n",
              "85892                   0  \n",
              "85893                   0  \n",
              "85894                   0  \n",
              "\n",
              "[85895 rows x 4 columns]"
            ],
            "text/html": [
              "\n",
              "  <div id=\"df-43284c33-d470-4b96-8203-79a2dc6628d1\">\n",
              "    <div class=\"colab-df-container\">\n",
              "      <div>\n",
              "<style scoped>\n",
              "    .dataframe tbody tr th:only-of-type {\n",
              "        vertical-align: middle;\n",
              "    }\n",
              "\n",
              "    .dataframe tbody tr th {\n",
              "        vertical-align: top;\n",
              "    }\n",
              "\n",
              "    .dataframe thead th {\n",
              "        text-align: right;\n",
              "    }\n",
              "</style>\n",
              "<table border=\"1\" class=\"dataframe\">\n",
              "  <thead>\n",
              "    <tr style=\"text-align: right;\">\n",
              "      <th></th>\n",
              "      <th>LICENSE STATUS_AAI</th>\n",
              "      <th>LICENSE STATUS_INQ</th>\n",
              "      <th>LICENSE STATUS_REA</th>\n",
              "      <th>LICENSE STATUS_REV</th>\n",
              "    </tr>\n",
              "  </thead>\n",
              "  <tbody>\n",
              "    <tr>\n",
              "      <th>0</th>\n",
              "      <td>1</td>\n",
              "      <td>0</td>\n",
              "      <td>0</td>\n",
              "      <td>0</td>\n",
              "    </tr>\n",
              "    <tr>\n",
              "      <th>1</th>\n",
              "      <td>0</td>\n",
              "      <td>0</td>\n",
              "      <td>0</td>\n",
              "      <td>0</td>\n",
              "    </tr>\n",
              "    <tr>\n",
              "      <th>2</th>\n",
              "      <td>1</td>\n",
              "      <td>0</td>\n",
              "      <td>0</td>\n",
              "      <td>0</td>\n",
              "    </tr>\n",
              "    <tr>\n",
              "      <th>3</th>\n",
              "      <td>1</td>\n",
              "      <td>0</td>\n",
              "      <td>0</td>\n",
              "      <td>0</td>\n",
              "    </tr>\n",
              "    <tr>\n",
              "      <th>4</th>\n",
              "      <td>1</td>\n",
              "      <td>0</td>\n",
              "      <td>0</td>\n",
              "      <td>0</td>\n",
              "    </tr>\n",
              "    <tr>\n",
              "      <th>...</th>\n",
              "      <td>...</td>\n",
              "      <td>...</td>\n",
              "      <td>...</td>\n",
              "      <td>...</td>\n",
              "    </tr>\n",
              "    <tr>\n",
              "      <th>85890</th>\n",
              "      <td>0</td>\n",
              "      <td>0</td>\n",
              "      <td>0</td>\n",
              "      <td>0</td>\n",
              "    </tr>\n",
              "    <tr>\n",
              "      <th>85891</th>\n",
              "      <td>1</td>\n",
              "      <td>0</td>\n",
              "      <td>0</td>\n",
              "      <td>0</td>\n",
              "    </tr>\n",
              "    <tr>\n",
              "      <th>85892</th>\n",
              "      <td>1</td>\n",
              "      <td>0</td>\n",
              "      <td>0</td>\n",
              "      <td>0</td>\n",
              "    </tr>\n",
              "    <tr>\n",
              "      <th>85893</th>\n",
              "      <td>0</td>\n",
              "      <td>0</td>\n",
              "      <td>0</td>\n",
              "      <td>0</td>\n",
              "    </tr>\n",
              "    <tr>\n",
              "      <th>85894</th>\n",
              "      <td>0</td>\n",
              "      <td>0</td>\n",
              "      <td>0</td>\n",
              "      <td>0</td>\n",
              "    </tr>\n",
              "  </tbody>\n",
              "</table>\n",
              "<p>85895 rows × 4 columns</p>\n",
              "</div>\n",
              "      <button class=\"colab-df-convert\" onclick=\"convertToInteractive('df-43284c33-d470-4b96-8203-79a2dc6628d1')\"\n",
              "              title=\"Convert this dataframe to an interactive table.\"\n",
              "              style=\"display:none;\">\n",
              "        \n",
              "  <svg xmlns=\"http://www.w3.org/2000/svg\" height=\"24px\"viewBox=\"0 0 24 24\"\n",
              "       width=\"24px\">\n",
              "    <path d=\"M0 0h24v24H0V0z\" fill=\"none\"/>\n",
              "    <path d=\"M18.56 5.44l.94 2.06.94-2.06 2.06-.94-2.06-.94-.94-2.06-.94 2.06-2.06.94zm-11 1L8.5 8.5l.94-2.06 2.06-.94-2.06-.94L8.5 2.5l-.94 2.06-2.06.94zm10 10l.94 2.06.94-2.06 2.06-.94-2.06-.94-.94-2.06-.94 2.06-2.06.94z\"/><path d=\"M17.41 7.96l-1.37-1.37c-.4-.4-.92-.59-1.43-.59-.52 0-1.04.2-1.43.59L10.3 9.45l-7.72 7.72c-.78.78-.78 2.05 0 2.83L4 21.41c.39.39.9.59 1.41.59.51 0 1.02-.2 1.41-.59l7.78-7.78 2.81-2.81c.8-.78.8-2.07 0-2.86zM5.41 20L4 18.59l7.72-7.72 1.47 1.35L5.41 20z\"/>\n",
              "  </svg>\n",
              "      </button>\n",
              "      \n",
              "  <style>\n",
              "    .colab-df-container {\n",
              "      display:flex;\n",
              "      flex-wrap:wrap;\n",
              "      gap: 12px;\n",
              "    }\n",
              "\n",
              "    .colab-df-convert {\n",
              "      background-color: #E8F0FE;\n",
              "      border: none;\n",
              "      border-radius: 50%;\n",
              "      cursor: pointer;\n",
              "      display: none;\n",
              "      fill: #1967D2;\n",
              "      height: 32px;\n",
              "      padding: 0 0 0 0;\n",
              "      width: 32px;\n",
              "    }\n",
              "\n",
              "    .colab-df-convert:hover {\n",
              "      background-color: #E2EBFA;\n",
              "      box-shadow: 0px 1px 2px rgba(60, 64, 67, 0.3), 0px 1px 3px 1px rgba(60, 64, 67, 0.15);\n",
              "      fill: #174EA6;\n",
              "    }\n",
              "\n",
              "    [theme=dark] .colab-df-convert {\n",
              "      background-color: #3B4455;\n",
              "      fill: #D2E3FC;\n",
              "    }\n",
              "\n",
              "    [theme=dark] .colab-df-convert:hover {\n",
              "      background-color: #434B5C;\n",
              "      box-shadow: 0px 1px 3px 1px rgba(0, 0, 0, 0.15);\n",
              "      filter: drop-shadow(0px 1px 2px rgba(0, 0, 0, 0.3));\n",
              "      fill: #FFFFFF;\n",
              "    }\n",
              "  </style>\n",
              "\n",
              "      <script>\n",
              "        const buttonEl =\n",
              "          document.querySelector('#df-43284c33-d470-4b96-8203-79a2dc6628d1 button.colab-df-convert');\n",
              "        buttonEl.style.display =\n",
              "          google.colab.kernel.accessAllowed ? 'block' : 'none';\n",
              "\n",
              "        async function convertToInteractive(key) {\n",
              "          const element = document.querySelector('#df-43284c33-d470-4b96-8203-79a2dc6628d1');\n",
              "          const dataTable =\n",
              "            await google.colab.kernel.invokeFunction('convertToInteractive',\n",
              "                                                     [key], {});\n",
              "          if (!dataTable) return;\n",
              "\n",
              "          const docLinkHtml = 'Like what you see? Visit the ' +\n",
              "            '<a target=\"_blank\" href=https://colab.research.google.com/notebooks/data_table.ipynb>data table notebook</a>'\n",
              "            + ' to learn more about interactive tables.';\n",
              "          element.innerHTML = '';\n",
              "          dataTable['output_type'] = 'display_data';\n",
              "          await google.colab.output.renderOutput(dataTable, element);\n",
              "          const docLink = document.createElement('div');\n",
              "          docLink.innerHTML = docLinkHtml;\n",
              "          element.appendChild(docLink);\n",
              "        }\n",
              "      </script>\n",
              "    </div>\n",
              "  </div>\n",
              "  "
            ]
          },
          "metadata": {},
          "execution_count": 58
        }
      ]
    },
    {
      "cell_type": "code",
      "source": [
        "y.shape"
      ],
      "metadata": {
        "colab": {
          "base_uri": "https://localhost:8080/"
        },
        "id": "XrWSTZ4aH84s",
        "outputId": "b211fc70-6ef6-499c-ea5d-a301b3b06ff7"
      },
      "execution_count": 59,
      "outputs": [
        {
          "output_type": "execute_result",
          "data": {
            "text/plain": [
              "(85895, 4)"
            ]
          },
          "metadata": {},
          "execution_count": 59
        }
      ]
    },
    {
      "cell_type": "code",
      "source": [
        "from sklearn.model_selection import train_test_split\n",
        "X_train, X_test, y_train, y_test = train_test_split(X, y, test_size=0.33, random_state=42)"
      ],
      "metadata": {
        "id": "nm3Py5GPIAUU"
      },
      "execution_count": 78,
      "outputs": []
    },
    {
      "cell_type": "code",
      "source": [
        "X_train"
      ],
      "metadata": {
        "colab": {
          "base_uri": "https://localhost:8080/",
          "height": 522
        },
        "id": "4JMjRQjsIAX3",
        "outputId": "b681db38-faeb-48b1-c765-56b58ea20467"
      },
      "execution_count": 79,
      "outputs": [
        {
          "output_type": "execute_result",
          "data": {
            "text/plain": [
              "       LICENSE ID  ACCOUNT NUMBER  SITE NUMBER  ZIP CODE  WARD  PRECINCT  \\\n",
              "33768     1479463          274153           25   60644.0  29.0      16.0   \n",
              "69664     2306418          255088            1   60473.0  42.0       9.0   \n",
              "37278     1327123          245935            1   46312.0  42.0       9.0   \n",
              "39209     1915675          330718            2   60609.0  20.0       4.0   \n",
              "62629     2143828           32008            3   60532.0  42.0       9.0   \n",
              "...           ...             ...          ...       ...   ...       ...   \n",
              "6265      1542987          282868            1   60634.0  36.0      17.0   \n",
              "54886     1918238           85937            1   60606.0  42.0       9.0   \n",
              "76820     2093534          361743            1   60647.0  31.0       9.0   \n",
              "860       1554986           30756            1   46383.0  42.0       9.0   \n",
              "15795     1922872          277678            1   60035.0  42.0       9.0   \n",
              "\n",
              "       POLICE DISTRICT  LICENSE CODE  LICENSE NUMBER   SSA  ...  \\\n",
              "33768             15.0          1010       1479463.0  28.0  ...   \n",
              "69664             18.0          1010       1301788.0  28.0  ...   \n",
              "37278             18.0          1010       1243904.0  28.0  ...   \n",
              "39209              9.0          1010       1915675.0  28.0  ...   \n",
              "62629             18.0          1010       2027570.0  28.0  ...   \n",
              "...                ...           ...             ...   ...  ...   \n",
              "6265              16.0          1525       1542987.0  28.0  ...   \n",
              "54886              1.0          1010         26083.0  28.0  ...   \n",
              "76820             18.0          1010       2093534.0  28.0  ...   \n",
              "860               18.0          1010         27349.0  28.0  ...   \n",
              "15795             18.0          1010       1494361.0  28.0  ...   \n",
              "\n",
              "       LICENSE DESCRIPTION_Vacation Rental  \\\n",
              "33768                                    0   \n",
              "69664                                    0   \n",
              "37278                                    0   \n",
              "39209                                    0   \n",
              "62629                                    0   \n",
              "...                                    ...   \n",
              "6265                                     0   \n",
              "54886                                    0   \n",
              "76820                                    0   \n",
              "860                                      0   \n",
              "15795                                    0   \n",
              "\n",
              "       LICENSE DESCRIPTION_Valet Parking Operator  \\\n",
              "33768                                           0   \n",
              "69664                                           0   \n",
              "37278                                           0   \n",
              "39209                                           0   \n",
              "62629                                           0   \n",
              "...                                           ...   \n",
              "6265                                            0   \n",
              "54886                                           0   \n",
              "76820                                           0   \n",
              "860                                             0   \n",
              "15795                                           0   \n",
              "\n",
              "       LICENSE DESCRIPTION_Veterinary Hospital  \\\n",
              "33768                                        0   \n",
              "69664                                        0   \n",
              "37278                                        0   \n",
              "39209                                        0   \n",
              "62629                                        0   \n",
              "...                                        ...   \n",
              "6265                                         0   \n",
              "54886                                        0   \n",
              "76820                                        0   \n",
              "860                                          0   \n",
              "15795                                        0   \n",
              "\n",
              "       LICENSE DESCRIPTION_Weapons Dealer  \\\n",
              "33768                                   0   \n",
              "69664                                   0   \n",
              "37278                                   0   \n",
              "39209                                   0   \n",
              "62629                                   0   \n",
              "...                                   ...   \n",
              "6265                                    0   \n",
              "54886                                   0   \n",
              "76820                                   0   \n",
              "860                                     0   \n",
              "15795                                   0   \n",
              "\n",
              "       LICENSE DESCRIPTION_Wholesale Food Establishment  \\\n",
              "33768                                                 0   \n",
              "69664                                                 0   \n",
              "37278                                                 0   \n",
              "39209                                                 0   \n",
              "62629                                                 0   \n",
              "...                                                 ...   \n",
              "6265                                                  0   \n",
              "54886                                                 0   \n",
              "76820                                                 0   \n",
              "860                                                   0   \n",
              "15795                                                 0   \n",
              "\n",
              "       LICENSE DESCRIPTION_Wrigley Field  LICENSE STATUS_AAI  \\\n",
              "33768                                  0                   0   \n",
              "69664                                  0                   1   \n",
              "37278                                  0                   1   \n",
              "39209                                  0                   0   \n",
              "62629                                  0                   1   \n",
              "...                                  ...                 ...   \n",
              "6265                                   0                   0   \n",
              "54886                                  0                   0   \n",
              "76820                                  0                   1   \n",
              "860                                    0                   1   \n",
              "15795                                  0                   1   \n",
              "\n",
              "       LICENSE STATUS_INQ  LICENSE STATUS_REA  LICENSE STATUS_REV  \n",
              "33768                   0                   0                   0  \n",
              "69664                   0                   0                   0  \n",
              "37278                   0                   0                   0  \n",
              "39209                   0                   0                   0  \n",
              "62629                   0                   0                   0  \n",
              "...                   ...                 ...                 ...  \n",
              "6265                    0                   0                   0  \n",
              "54886                   0                   0                   0  \n",
              "76820                   0                   0                   0  \n",
              "860                     0                   0                   0  \n",
              "15795                   0                   0                   0  \n",
              "\n",
              "[57549 rows x 1400 columns]"
            ],
            "text/html": [
              "\n",
              "  <div id=\"df-ce4fde73-783f-4a6e-b846-a0619d076585\">\n",
              "    <div class=\"colab-df-container\">\n",
              "      <div>\n",
              "<style scoped>\n",
              "    .dataframe tbody tr th:only-of-type {\n",
              "        vertical-align: middle;\n",
              "    }\n",
              "\n",
              "    .dataframe tbody tr th {\n",
              "        vertical-align: top;\n",
              "    }\n",
              "\n",
              "    .dataframe thead th {\n",
              "        text-align: right;\n",
              "    }\n",
              "</style>\n",
              "<table border=\"1\" class=\"dataframe\">\n",
              "  <thead>\n",
              "    <tr style=\"text-align: right;\">\n",
              "      <th></th>\n",
              "      <th>LICENSE ID</th>\n",
              "      <th>ACCOUNT NUMBER</th>\n",
              "      <th>SITE NUMBER</th>\n",
              "      <th>ZIP CODE</th>\n",
              "      <th>WARD</th>\n",
              "      <th>PRECINCT</th>\n",
              "      <th>POLICE DISTRICT</th>\n",
              "      <th>LICENSE CODE</th>\n",
              "      <th>LICENSE NUMBER</th>\n",
              "      <th>SSA</th>\n",
              "      <th>...</th>\n",
              "      <th>LICENSE DESCRIPTION_Vacation Rental</th>\n",
              "      <th>LICENSE DESCRIPTION_Valet Parking Operator</th>\n",
              "      <th>LICENSE DESCRIPTION_Veterinary Hospital</th>\n",
              "      <th>LICENSE DESCRIPTION_Weapons Dealer</th>\n",
              "      <th>LICENSE DESCRIPTION_Wholesale Food Establishment</th>\n",
              "      <th>LICENSE DESCRIPTION_Wrigley Field</th>\n",
              "      <th>LICENSE STATUS_AAI</th>\n",
              "      <th>LICENSE STATUS_INQ</th>\n",
              "      <th>LICENSE STATUS_REA</th>\n",
              "      <th>LICENSE STATUS_REV</th>\n",
              "    </tr>\n",
              "  </thead>\n",
              "  <tbody>\n",
              "    <tr>\n",
              "      <th>33768</th>\n",
              "      <td>1479463</td>\n",
              "      <td>274153</td>\n",
              "      <td>25</td>\n",
              "      <td>60644.0</td>\n",
              "      <td>29.0</td>\n",
              "      <td>16.0</td>\n",
              "      <td>15.0</td>\n",
              "      <td>1010</td>\n",
              "      <td>1479463.0</td>\n",
              "      <td>28.0</td>\n",
              "      <td>...</td>\n",
              "      <td>0</td>\n",
              "      <td>0</td>\n",
              "      <td>0</td>\n",
              "      <td>0</td>\n",
              "      <td>0</td>\n",
              "      <td>0</td>\n",
              "      <td>0</td>\n",
              "      <td>0</td>\n",
              "      <td>0</td>\n",
              "      <td>0</td>\n",
              "    </tr>\n",
              "    <tr>\n",
              "      <th>69664</th>\n",
              "      <td>2306418</td>\n",
              "      <td>255088</td>\n",
              "      <td>1</td>\n",
              "      <td>60473.0</td>\n",
              "      <td>42.0</td>\n",
              "      <td>9.0</td>\n",
              "      <td>18.0</td>\n",
              "      <td>1010</td>\n",
              "      <td>1301788.0</td>\n",
              "      <td>28.0</td>\n",
              "      <td>...</td>\n",
              "      <td>0</td>\n",
              "      <td>0</td>\n",
              "      <td>0</td>\n",
              "      <td>0</td>\n",
              "      <td>0</td>\n",
              "      <td>0</td>\n",
              "      <td>1</td>\n",
              "      <td>0</td>\n",
              "      <td>0</td>\n",
              "      <td>0</td>\n",
              "    </tr>\n",
              "    <tr>\n",
              "      <th>37278</th>\n",
              "      <td>1327123</td>\n",
              "      <td>245935</td>\n",
              "      <td>1</td>\n",
              "      <td>46312.0</td>\n",
              "      <td>42.0</td>\n",
              "      <td>9.0</td>\n",
              "      <td>18.0</td>\n",
              "      <td>1010</td>\n",
              "      <td>1243904.0</td>\n",
              "      <td>28.0</td>\n",
              "      <td>...</td>\n",
              "      <td>0</td>\n",
              "      <td>0</td>\n",
              "      <td>0</td>\n",
              "      <td>0</td>\n",
              "      <td>0</td>\n",
              "      <td>0</td>\n",
              "      <td>1</td>\n",
              "      <td>0</td>\n",
              "      <td>0</td>\n",
              "      <td>0</td>\n",
              "    </tr>\n",
              "    <tr>\n",
              "      <th>39209</th>\n",
              "      <td>1915675</td>\n",
              "      <td>330718</td>\n",
              "      <td>2</td>\n",
              "      <td>60609.0</td>\n",
              "      <td>20.0</td>\n",
              "      <td>4.0</td>\n",
              "      <td>9.0</td>\n",
              "      <td>1010</td>\n",
              "      <td>1915675.0</td>\n",
              "      <td>28.0</td>\n",
              "      <td>...</td>\n",
              "      <td>0</td>\n",
              "      <td>0</td>\n",
              "      <td>0</td>\n",
              "      <td>0</td>\n",
              "      <td>0</td>\n",
              "      <td>0</td>\n",
              "      <td>0</td>\n",
              "      <td>0</td>\n",
              "      <td>0</td>\n",
              "      <td>0</td>\n",
              "    </tr>\n",
              "    <tr>\n",
              "      <th>62629</th>\n",
              "      <td>2143828</td>\n",
              "      <td>32008</td>\n",
              "      <td>3</td>\n",
              "      <td>60532.0</td>\n",
              "      <td>42.0</td>\n",
              "      <td>9.0</td>\n",
              "      <td>18.0</td>\n",
              "      <td>1010</td>\n",
              "      <td>2027570.0</td>\n",
              "      <td>28.0</td>\n",
              "      <td>...</td>\n",
              "      <td>0</td>\n",
              "      <td>0</td>\n",
              "      <td>0</td>\n",
              "      <td>0</td>\n",
              "      <td>0</td>\n",
              "      <td>0</td>\n",
              "      <td>1</td>\n",
              "      <td>0</td>\n",
              "      <td>0</td>\n",
              "      <td>0</td>\n",
              "    </tr>\n",
              "    <tr>\n",
              "      <th>...</th>\n",
              "      <td>...</td>\n",
              "      <td>...</td>\n",
              "      <td>...</td>\n",
              "      <td>...</td>\n",
              "      <td>...</td>\n",
              "      <td>...</td>\n",
              "      <td>...</td>\n",
              "      <td>...</td>\n",
              "      <td>...</td>\n",
              "      <td>...</td>\n",
              "      <td>...</td>\n",
              "      <td>...</td>\n",
              "      <td>...</td>\n",
              "      <td>...</td>\n",
              "      <td>...</td>\n",
              "      <td>...</td>\n",
              "      <td>...</td>\n",
              "      <td>...</td>\n",
              "      <td>...</td>\n",
              "      <td>...</td>\n",
              "      <td>...</td>\n",
              "    </tr>\n",
              "    <tr>\n",
              "      <th>6265</th>\n",
              "      <td>1542987</td>\n",
              "      <td>282868</td>\n",
              "      <td>1</td>\n",
              "      <td>60634.0</td>\n",
              "      <td>36.0</td>\n",
              "      <td>17.0</td>\n",
              "      <td>16.0</td>\n",
              "      <td>1525</td>\n",
              "      <td>1542987.0</td>\n",
              "      <td>28.0</td>\n",
              "      <td>...</td>\n",
              "      <td>0</td>\n",
              "      <td>0</td>\n",
              "      <td>0</td>\n",
              "      <td>0</td>\n",
              "      <td>0</td>\n",
              "      <td>0</td>\n",
              "      <td>0</td>\n",
              "      <td>0</td>\n",
              "      <td>0</td>\n",
              "      <td>0</td>\n",
              "    </tr>\n",
              "    <tr>\n",
              "      <th>54886</th>\n",
              "      <td>1918238</td>\n",
              "      <td>85937</td>\n",
              "      <td>1</td>\n",
              "      <td>60606.0</td>\n",
              "      <td>42.0</td>\n",
              "      <td>9.0</td>\n",
              "      <td>1.0</td>\n",
              "      <td>1010</td>\n",
              "      <td>26083.0</td>\n",
              "      <td>28.0</td>\n",
              "      <td>...</td>\n",
              "      <td>0</td>\n",
              "      <td>0</td>\n",
              "      <td>0</td>\n",
              "      <td>0</td>\n",
              "      <td>0</td>\n",
              "      <td>0</td>\n",
              "      <td>0</td>\n",
              "      <td>0</td>\n",
              "      <td>0</td>\n",
              "      <td>0</td>\n",
              "    </tr>\n",
              "    <tr>\n",
              "      <th>76820</th>\n",
              "      <td>2093534</td>\n",
              "      <td>361743</td>\n",
              "      <td>1</td>\n",
              "      <td>60647.0</td>\n",
              "      <td>31.0</td>\n",
              "      <td>9.0</td>\n",
              "      <td>18.0</td>\n",
              "      <td>1010</td>\n",
              "      <td>2093534.0</td>\n",
              "      <td>28.0</td>\n",
              "      <td>...</td>\n",
              "      <td>0</td>\n",
              "      <td>0</td>\n",
              "      <td>0</td>\n",
              "      <td>0</td>\n",
              "      <td>0</td>\n",
              "      <td>0</td>\n",
              "      <td>1</td>\n",
              "      <td>0</td>\n",
              "      <td>0</td>\n",
              "      <td>0</td>\n",
              "    </tr>\n",
              "    <tr>\n",
              "      <th>860</th>\n",
              "      <td>1554986</td>\n",
              "      <td>30756</td>\n",
              "      <td>1</td>\n",
              "      <td>46383.0</td>\n",
              "      <td>42.0</td>\n",
              "      <td>9.0</td>\n",
              "      <td>18.0</td>\n",
              "      <td>1010</td>\n",
              "      <td>27349.0</td>\n",
              "      <td>28.0</td>\n",
              "      <td>...</td>\n",
              "      <td>0</td>\n",
              "      <td>0</td>\n",
              "      <td>0</td>\n",
              "      <td>0</td>\n",
              "      <td>0</td>\n",
              "      <td>0</td>\n",
              "      <td>1</td>\n",
              "      <td>0</td>\n",
              "      <td>0</td>\n",
              "      <td>0</td>\n",
              "    </tr>\n",
              "    <tr>\n",
              "      <th>15795</th>\n",
              "      <td>1922872</td>\n",
              "      <td>277678</td>\n",
              "      <td>1</td>\n",
              "      <td>60035.0</td>\n",
              "      <td>42.0</td>\n",
              "      <td>9.0</td>\n",
              "      <td>18.0</td>\n",
              "      <td>1010</td>\n",
              "      <td>1494361.0</td>\n",
              "      <td>28.0</td>\n",
              "      <td>...</td>\n",
              "      <td>0</td>\n",
              "      <td>0</td>\n",
              "      <td>0</td>\n",
              "      <td>0</td>\n",
              "      <td>0</td>\n",
              "      <td>0</td>\n",
              "      <td>1</td>\n",
              "      <td>0</td>\n",
              "      <td>0</td>\n",
              "      <td>0</td>\n",
              "    </tr>\n",
              "  </tbody>\n",
              "</table>\n",
              "<p>57549 rows × 1400 columns</p>\n",
              "</div>\n",
              "      <button class=\"colab-df-convert\" onclick=\"convertToInteractive('df-ce4fde73-783f-4a6e-b846-a0619d076585')\"\n",
              "              title=\"Convert this dataframe to an interactive table.\"\n",
              "              style=\"display:none;\">\n",
              "        \n",
              "  <svg xmlns=\"http://www.w3.org/2000/svg\" height=\"24px\"viewBox=\"0 0 24 24\"\n",
              "       width=\"24px\">\n",
              "    <path d=\"M0 0h24v24H0V0z\" fill=\"none\"/>\n",
              "    <path d=\"M18.56 5.44l.94 2.06.94-2.06 2.06-.94-2.06-.94-.94-2.06-.94 2.06-2.06.94zm-11 1L8.5 8.5l.94-2.06 2.06-.94-2.06-.94L8.5 2.5l-.94 2.06-2.06.94zm10 10l.94 2.06.94-2.06 2.06-.94-2.06-.94-.94-2.06-.94 2.06-2.06.94z\"/><path d=\"M17.41 7.96l-1.37-1.37c-.4-.4-.92-.59-1.43-.59-.52 0-1.04.2-1.43.59L10.3 9.45l-7.72 7.72c-.78.78-.78 2.05 0 2.83L4 21.41c.39.39.9.59 1.41.59.51 0 1.02-.2 1.41-.59l7.78-7.78 2.81-2.81c.8-.78.8-2.07 0-2.86zM5.41 20L4 18.59l7.72-7.72 1.47 1.35L5.41 20z\"/>\n",
              "  </svg>\n",
              "      </button>\n",
              "      \n",
              "  <style>\n",
              "    .colab-df-container {\n",
              "      display:flex;\n",
              "      flex-wrap:wrap;\n",
              "      gap: 12px;\n",
              "    }\n",
              "\n",
              "    .colab-df-convert {\n",
              "      background-color: #E8F0FE;\n",
              "      border: none;\n",
              "      border-radius: 50%;\n",
              "      cursor: pointer;\n",
              "      display: none;\n",
              "      fill: #1967D2;\n",
              "      height: 32px;\n",
              "      padding: 0 0 0 0;\n",
              "      width: 32px;\n",
              "    }\n",
              "\n",
              "    .colab-df-convert:hover {\n",
              "      background-color: #E2EBFA;\n",
              "      box-shadow: 0px 1px 2px rgba(60, 64, 67, 0.3), 0px 1px 3px 1px rgba(60, 64, 67, 0.15);\n",
              "      fill: #174EA6;\n",
              "    }\n",
              "\n",
              "    [theme=dark] .colab-df-convert {\n",
              "      background-color: #3B4455;\n",
              "      fill: #D2E3FC;\n",
              "    }\n",
              "\n",
              "    [theme=dark] .colab-df-convert:hover {\n",
              "      background-color: #434B5C;\n",
              "      box-shadow: 0px 1px 3px 1px rgba(0, 0, 0, 0.15);\n",
              "      filter: drop-shadow(0px 1px 2px rgba(0, 0, 0, 0.3));\n",
              "      fill: #FFFFFF;\n",
              "    }\n",
              "  </style>\n",
              "\n",
              "      <script>\n",
              "        const buttonEl =\n",
              "          document.querySelector('#df-ce4fde73-783f-4a6e-b846-a0619d076585 button.colab-df-convert');\n",
              "        buttonEl.style.display =\n",
              "          google.colab.kernel.accessAllowed ? 'block' : 'none';\n",
              "\n",
              "        async function convertToInteractive(key) {\n",
              "          const element = document.querySelector('#df-ce4fde73-783f-4a6e-b846-a0619d076585');\n",
              "          const dataTable =\n",
              "            await google.colab.kernel.invokeFunction('convertToInteractive',\n",
              "                                                     [key], {});\n",
              "          if (!dataTable) return;\n",
              "\n",
              "          const docLinkHtml = 'Like what you see? Visit the ' +\n",
              "            '<a target=\"_blank\" href=https://colab.research.google.com/notebooks/data_table.ipynb>data table notebook</a>'\n",
              "            + ' to learn more about interactive tables.';\n",
              "          element.innerHTML = '';\n",
              "          dataTable['output_type'] = 'display_data';\n",
              "          await google.colab.output.renderOutput(dataTable, element);\n",
              "          const docLink = document.createElement('div');\n",
              "          docLink.innerHTML = docLinkHtml;\n",
              "          element.appendChild(docLink);\n",
              "        }\n",
              "      </script>\n",
              "    </div>\n",
              "  </div>\n",
              "  "
            ]
          },
          "metadata": {},
          "execution_count": 79
        }
      ]
    },
    {
      "cell_type": "code",
      "source": [
        "print(X_train.shape)\n",
        "print()\n",
        "print(y_train.shape)\n"
      ],
      "metadata": {
        "colab": {
          "base_uri": "https://localhost:8080/"
        },
        "id": "P7tDXoP8IApV",
        "outputId": "4ca8d940-3c37-4014-9363-538784cc178a"
      },
      "execution_count": 80,
      "outputs": [
        {
          "output_type": "stream",
          "name": "stdout",
          "text": [
            "(57549, 1400)\n",
            "\n",
            "(57549, 4)\n"
          ]
        }
      ]
    },
    {
      "cell_type": "code",
      "source": [
        "y_train"
      ],
      "metadata": {
        "colab": {
          "base_uri": "https://localhost:8080/",
          "height": 423
        },
        "id": "lBON0A5jIPiL",
        "outputId": "6c613ee9-acb4-4f6f-b27d-41d4fe67c58c"
      },
      "execution_count": 63,
      "outputs": [
        {
          "output_type": "execute_result",
          "data": {
            "text/plain": [
              "       LICENSE STATUS_AAI  LICENSE STATUS_INQ  LICENSE STATUS_REA  \\\n",
              "33768                   0                   0                   0   \n",
              "69664                   1                   0                   0   \n",
              "37278                   1                   0                   0   \n",
              "39209                   0                   0                   0   \n",
              "62629                   1                   0                   0   \n",
              "...                   ...                 ...                 ...   \n",
              "6265                    0                   0                   0   \n",
              "54886                   0                   0                   0   \n",
              "76820                   1                   0                   0   \n",
              "860                     1                   0                   0   \n",
              "15795                   1                   0                   0   \n",
              "\n",
              "       LICENSE STATUS_REV  \n",
              "33768                   0  \n",
              "69664                   0  \n",
              "37278                   0  \n",
              "39209                   0  \n",
              "62629                   0  \n",
              "...                   ...  \n",
              "6265                    0  \n",
              "54886                   0  \n",
              "76820                   0  \n",
              "860                     0  \n",
              "15795                   0  \n",
              "\n",
              "[57549 rows x 4 columns]"
            ],
            "text/html": [
              "\n",
              "  <div id=\"df-e207372b-0d55-48f7-a125-f02b24e8afda\">\n",
              "    <div class=\"colab-df-container\">\n",
              "      <div>\n",
              "<style scoped>\n",
              "    .dataframe tbody tr th:only-of-type {\n",
              "        vertical-align: middle;\n",
              "    }\n",
              "\n",
              "    .dataframe tbody tr th {\n",
              "        vertical-align: top;\n",
              "    }\n",
              "\n",
              "    .dataframe thead th {\n",
              "        text-align: right;\n",
              "    }\n",
              "</style>\n",
              "<table border=\"1\" class=\"dataframe\">\n",
              "  <thead>\n",
              "    <tr style=\"text-align: right;\">\n",
              "      <th></th>\n",
              "      <th>LICENSE STATUS_AAI</th>\n",
              "      <th>LICENSE STATUS_INQ</th>\n",
              "      <th>LICENSE STATUS_REA</th>\n",
              "      <th>LICENSE STATUS_REV</th>\n",
              "    </tr>\n",
              "  </thead>\n",
              "  <tbody>\n",
              "    <tr>\n",
              "      <th>33768</th>\n",
              "      <td>0</td>\n",
              "      <td>0</td>\n",
              "      <td>0</td>\n",
              "      <td>0</td>\n",
              "    </tr>\n",
              "    <tr>\n",
              "      <th>69664</th>\n",
              "      <td>1</td>\n",
              "      <td>0</td>\n",
              "      <td>0</td>\n",
              "      <td>0</td>\n",
              "    </tr>\n",
              "    <tr>\n",
              "      <th>37278</th>\n",
              "      <td>1</td>\n",
              "      <td>0</td>\n",
              "      <td>0</td>\n",
              "      <td>0</td>\n",
              "    </tr>\n",
              "    <tr>\n",
              "      <th>39209</th>\n",
              "      <td>0</td>\n",
              "      <td>0</td>\n",
              "      <td>0</td>\n",
              "      <td>0</td>\n",
              "    </tr>\n",
              "    <tr>\n",
              "      <th>62629</th>\n",
              "      <td>1</td>\n",
              "      <td>0</td>\n",
              "      <td>0</td>\n",
              "      <td>0</td>\n",
              "    </tr>\n",
              "    <tr>\n",
              "      <th>...</th>\n",
              "      <td>...</td>\n",
              "      <td>...</td>\n",
              "      <td>...</td>\n",
              "      <td>...</td>\n",
              "    </tr>\n",
              "    <tr>\n",
              "      <th>6265</th>\n",
              "      <td>0</td>\n",
              "      <td>0</td>\n",
              "      <td>0</td>\n",
              "      <td>0</td>\n",
              "    </tr>\n",
              "    <tr>\n",
              "      <th>54886</th>\n",
              "      <td>0</td>\n",
              "      <td>0</td>\n",
              "      <td>0</td>\n",
              "      <td>0</td>\n",
              "    </tr>\n",
              "    <tr>\n",
              "      <th>76820</th>\n",
              "      <td>1</td>\n",
              "      <td>0</td>\n",
              "      <td>0</td>\n",
              "      <td>0</td>\n",
              "    </tr>\n",
              "    <tr>\n",
              "      <th>860</th>\n",
              "      <td>1</td>\n",
              "      <td>0</td>\n",
              "      <td>0</td>\n",
              "      <td>0</td>\n",
              "    </tr>\n",
              "    <tr>\n",
              "      <th>15795</th>\n",
              "      <td>1</td>\n",
              "      <td>0</td>\n",
              "      <td>0</td>\n",
              "      <td>0</td>\n",
              "    </tr>\n",
              "  </tbody>\n",
              "</table>\n",
              "<p>57549 rows × 4 columns</p>\n",
              "</div>\n",
              "      <button class=\"colab-df-convert\" onclick=\"convertToInteractive('df-e207372b-0d55-48f7-a125-f02b24e8afda')\"\n",
              "              title=\"Convert this dataframe to an interactive table.\"\n",
              "              style=\"display:none;\">\n",
              "        \n",
              "  <svg xmlns=\"http://www.w3.org/2000/svg\" height=\"24px\"viewBox=\"0 0 24 24\"\n",
              "       width=\"24px\">\n",
              "    <path d=\"M0 0h24v24H0V0z\" fill=\"none\"/>\n",
              "    <path d=\"M18.56 5.44l.94 2.06.94-2.06 2.06-.94-2.06-.94-.94-2.06-.94 2.06-2.06.94zm-11 1L8.5 8.5l.94-2.06 2.06-.94-2.06-.94L8.5 2.5l-.94 2.06-2.06.94zm10 10l.94 2.06.94-2.06 2.06-.94-2.06-.94-.94-2.06-.94 2.06-2.06.94z\"/><path d=\"M17.41 7.96l-1.37-1.37c-.4-.4-.92-.59-1.43-.59-.52 0-1.04.2-1.43.59L10.3 9.45l-7.72 7.72c-.78.78-.78 2.05 0 2.83L4 21.41c.39.39.9.59 1.41.59.51 0 1.02-.2 1.41-.59l7.78-7.78 2.81-2.81c.8-.78.8-2.07 0-2.86zM5.41 20L4 18.59l7.72-7.72 1.47 1.35L5.41 20z\"/>\n",
              "  </svg>\n",
              "      </button>\n",
              "      \n",
              "  <style>\n",
              "    .colab-df-container {\n",
              "      display:flex;\n",
              "      flex-wrap:wrap;\n",
              "      gap: 12px;\n",
              "    }\n",
              "\n",
              "    .colab-df-convert {\n",
              "      background-color: #E8F0FE;\n",
              "      border: none;\n",
              "      border-radius: 50%;\n",
              "      cursor: pointer;\n",
              "      display: none;\n",
              "      fill: #1967D2;\n",
              "      height: 32px;\n",
              "      padding: 0 0 0 0;\n",
              "      width: 32px;\n",
              "    }\n",
              "\n",
              "    .colab-df-convert:hover {\n",
              "      background-color: #E2EBFA;\n",
              "      box-shadow: 0px 1px 2px rgba(60, 64, 67, 0.3), 0px 1px 3px 1px rgba(60, 64, 67, 0.15);\n",
              "      fill: #174EA6;\n",
              "    }\n",
              "\n",
              "    [theme=dark] .colab-df-convert {\n",
              "      background-color: #3B4455;\n",
              "      fill: #D2E3FC;\n",
              "    }\n",
              "\n",
              "    [theme=dark] .colab-df-convert:hover {\n",
              "      background-color: #434B5C;\n",
              "      box-shadow: 0px 1px 3px 1px rgba(0, 0, 0, 0.15);\n",
              "      filter: drop-shadow(0px 1px 2px rgba(0, 0, 0, 0.3));\n",
              "      fill: #FFFFFF;\n",
              "    }\n",
              "  </style>\n",
              "\n",
              "      <script>\n",
              "        const buttonEl =\n",
              "          document.querySelector('#df-e207372b-0d55-48f7-a125-f02b24e8afda button.colab-df-convert');\n",
              "        buttonEl.style.display =\n",
              "          google.colab.kernel.accessAllowed ? 'block' : 'none';\n",
              "\n",
              "        async function convertToInteractive(key) {\n",
              "          const element = document.querySelector('#df-e207372b-0d55-48f7-a125-f02b24e8afda');\n",
              "          const dataTable =\n",
              "            await google.colab.kernel.invokeFunction('convertToInteractive',\n",
              "                                                     [key], {});\n",
              "          if (!dataTable) return;\n",
              "\n",
              "          const docLinkHtml = 'Like what you see? Visit the ' +\n",
              "            '<a target=\"_blank\" href=https://colab.research.google.com/notebooks/data_table.ipynb>data table notebook</a>'\n",
              "            + ' to learn more about interactive tables.';\n",
              "          element.innerHTML = '';\n",
              "          dataTable['output_type'] = 'display_data';\n",
              "          await google.colab.output.renderOutput(dataTable, element);\n",
              "          const docLink = document.createElement('div');\n",
              "          docLink.innerHTML = docLinkHtml;\n",
              "          element.appendChild(docLink);\n",
              "        }\n",
              "      </script>\n",
              "    </div>\n",
              "  </div>\n",
              "  "
            ]
          },
          "metadata": {},
          "execution_count": 63
        }
      ]
    },
    {
      "cell_type": "code",
      "source": [
        ""
      ],
      "metadata": {
        "id": "7RlJUyqNIPls"
      },
      "execution_count": 70,
      "outputs": []
    },
    {
      "cell_type": "markdown",
      "source": [
        "**Let's Normalize our data by using Min-Max Scaler**\n",
        "\n",
        "*   It will scale down our feature values in between [0,1]\n",
        "\n",
        "\n"
      ],
      "metadata": {
        "id": "37auz13h2GmC"
      }
    },
    {
      "cell_type": "code",
      "source": [
        "# from sklearn.preprocessing import MinMaxScaler\n",
        "# sc=MinMaxScaler()\n",
        "# X_train=sc.fit_transform(X_train)\n",
        "# X_test=sc.transform(X_test)"
      ],
      "metadata": {
        "id": "yGt77zCmF1Ho"
      },
      "execution_count": 71,
      "outputs": []
    },
    {
      "cell_type": "code",
      "source": [
        "# scaling.fit_transform(df[['LICENSE ID', 'ACCOUNT NUMBER', 'SITE NUMBER', 'ZIP CODE', 'WARD', 'PRECINCT', 'POLICE DISTRICT', 'LICENSE CODE', 'LICENSE NUMBER', 'LATITUDE', 'LONGITUDE']])"
      ],
      "metadata": {
        "id": "gY4RpPNHF1Mt"
      },
      "execution_count": 72,
      "outputs": []
    },
    {
      "cell_type": "code",
      "source": [
        ""
      ],
      "metadata": {
        "id": "2RP7ZiZSB2l2"
      },
      "execution_count": null,
      "outputs": []
    },
    {
      "cell_type": "markdown",
      "source": [
        "**Let's apply models**"
      ],
      "metadata": {
        "id": "XarSlZzxJZy2"
      }
    },
    {
      "cell_type": "markdown",
      "source": [
        "**1. Linear Regression**"
      ],
      "metadata": {
        "id": "LvJmXbyaQemY"
      }
    },
    {
      "cell_type": "code",
      "source": [
        "from sklearn.linear_model import LinearRegression\n",
        "ln=LinearRegression()\n",
        "ln.fit(X_train, y_train)"
      ],
      "metadata": {
        "colab": {
          "base_uri": "https://localhost:8080/"
        },
        "id": "F6jC_tt7JY9Z",
        "outputId": "bc913dcf-50a8-46bb-c71f-f5998dc59bf2"
      },
      "execution_count": 82,
      "outputs": [
        {
          "output_type": "execute_result",
          "data": {
            "text/plain": [
              "LinearRegression()"
            ]
          },
          "metadata": {},
          "execution_count": 82
        }
      ]
    },
    {
      "cell_type": "code",
      "source": [
        "ln.intercept_"
      ],
      "metadata": {
        "colab": {
          "base_uri": "https://localhost:8080/"
        },
        "id": "w7hWyymWJ_nh",
        "outputId": "a9975bb6-be0b-4fe7-a896-40bb10411aa2"
      },
      "execution_count": 83,
      "outputs": [
        {
          "output_type": "execute_result",
          "data": {
            "text/plain": [
              "array([ 0.00017388,  0.01432243,  0.00586657, -0.00012823])"
            ]
          },
          "metadata": {},
          "execution_count": 83
        }
      ]
    },
    {
      "cell_type": "code",
      "source": [
        "ln.coef_"
      ],
      "metadata": {
        "colab": {
          "base_uri": "https://localhost:8080/"
        },
        "id": "Ymn7oOENPzxB",
        "outputId": "1c722e76-aaef-4d3c-e74c-6847bed4180b"
      },
      "execution_count": 85,
      "outputs": [
        {
          "output_type": "execute_result",
          "data": {
            "text/plain": [
              "array([[-7.48114209e-17, -1.32761985e-16, -1.37797607e-11, ...,\n",
              "        -5.76270612e-10,  3.28391766e-10, -4.15872010e-10],\n",
              "       [ 2.53229404e-20, -2.55542975e-19, -5.95036945e-15, ...,\n",
              "         1.00000000e+00,  2.53518994e-14, -4.19233658e-13],\n",
              "       [ 3.82760825e-21, -4.24565959e-21,  5.42134602e-15, ...,\n",
              "        -1.37548631e-12,  1.00000000e+00,  6.67891306e-14],\n",
              "       [ 1.41818195e-18, -4.26359163e-18,  4.00994104e-13, ...,\n",
              "         2.34526736e-11, -3.14526083e-11,  1.00000000e+00]])"
            ]
          },
          "metadata": {},
          "execution_count": 85
        }
      ]
    },
    {
      "cell_type": "code",
      "source": [
        "ln.predict(X_test)"
      ],
      "metadata": {
        "colab": {
          "base_uri": "https://localhost:8080/"
        },
        "id": "BMoYmJ1lP2OK",
        "outputId": "bf5277fb-546b-4ae5-94d6-53b5227b4557"
      },
      "execution_count": 86,
      "outputs": [
        {
          "output_type": "execute_result",
          "data": {
            "text/plain": [
              "array([[-2.98017115e-10, -3.98922215e-13,  1.93895247e-13,\n",
              "         1.11053839e-11],\n",
              "       [-4.77777331e-11, -1.11697110e-13,  8.66797953e-14,\n",
              "        -3.44765720e-14],\n",
              "       [ 1.00000000e+00, -5.53007293e-13, -4.51843424e-13,\n",
              "         1.01475615e-10],\n",
              "       ...,\n",
              "       [ 1.00000000e+00, -4.18807176e-12, -3.53735270e-13,\n",
              "         7.28326731e-11],\n",
              "       [ 1.00000000e+00,  1.45058271e-12, -4.58651346e-13,\n",
              "        -3.74158579e-12],\n",
              "       [-2.39370900e-10,  9.44595097e-13, -2.73056751e-13,\n",
              "        -5.85502838e-13]])"
            ]
          },
          "metadata": {},
          "execution_count": 86
        }
      ]
    },
    {
      "cell_type": "code",
      "source": [
        "y_pred=ln.predict(X_test)\n",
        "y_pred"
      ],
      "metadata": {
        "colab": {
          "base_uri": "https://localhost:8080/"
        },
        "id": "IgDDsWlqP2tL",
        "outputId": "19044935-6246-4b61-c172-bc3a61d04a10"
      },
      "execution_count": 87,
      "outputs": [
        {
          "output_type": "execute_result",
          "data": {
            "text/plain": [
              "array([[-2.98017115e-10, -3.98922215e-13,  1.93895247e-13,\n",
              "         1.11053839e-11],\n",
              "       [-4.77777331e-11, -1.11697110e-13,  8.66797953e-14,\n",
              "        -3.44765720e-14],\n",
              "       [ 1.00000000e+00, -5.53007293e-13, -4.51843424e-13,\n",
              "         1.01475615e-10],\n",
              "       ...,\n",
              "       [ 1.00000000e+00, -4.18807176e-12, -3.53735270e-13,\n",
              "         7.28326731e-11],\n",
              "       [ 1.00000000e+00,  1.45058271e-12, -4.58651346e-13,\n",
              "        -3.74158579e-12],\n",
              "       [-2.39370900e-10,  9.44595097e-13, -2.73056751e-13,\n",
              "        -5.85502838e-13]])"
            ]
          },
          "metadata": {},
          "execution_count": 87
        }
      ]
    },
    {
      "cell_type": "markdown",
      "source": [
        "**Model Evaluation**"
      ],
      "metadata": {
        "id": "hrYl4oC_QJg3"
      }
    },
    {
      "cell_type": "code",
      "source": [
        "from sklearn import metrics"
      ],
      "metadata": {
        "id": "FliOkDWCQSRv"
      },
      "execution_count": 89,
      "outputs": []
    },
    {
      "cell_type": "code",
      "source": [
        "metrics.r2_score(y_test, y_pred)"
      ],
      "metadata": {
        "colab": {
          "base_uri": "https://localhost:8080/"
        },
        "id": "_jxIdWV7QUt2",
        "outputId": "bece0138-4b85-4049-e0cf-12d1af15c7c3"
      },
      "execution_count": 90,
      "outputs": [
        {
          "output_type": "execute_result",
          "data": {
            "text/plain": [
              "0.7499806355539662"
            ]
          },
          "metadata": {},
          "execution_count": 90
        }
      ]
    },
    {
      "cell_type": "code",
      "source": [
        "from sklearn.metrics import confusion_matrix,classification_report, accuracy_score"
      ],
      "metadata": {
        "id": "I11BN7WQT3jm"
      },
      "execution_count": 92,
      "outputs": []
    },
    {
      "cell_type": "code",
      "source": [
        "# print(accuracy_score(y_test,y_pred))\n",
        "\n",
        "# ValueError: Classification metrics can't handle a mix of multilabel-indicator and continuous-multioutput targets"
      ],
      "metadata": {
        "id": "4uNRFGSdT6Zz"
      },
      "execution_count": 98,
      "outputs": []
    },
    {
      "cell_type": "code",
      "source": [
        "# classification_report(y_test,y_pred)\n",
        "\n",
        "# ValueError: Classification metrics can't handle a mix of multilabel-indicator and continuous-multioutput targets"
      ],
      "metadata": {
        "id": "tneQbCAQUDj8"
      },
      "execution_count": 97,
      "outputs": []
    },
    {
      "cell_type": "markdown",
      "source": [
        "**2. Logistic Regression**"
      ],
      "metadata": {
        "id": "0JhMgBqeQlyb"
      }
    },
    {
      "cell_type": "code",
      "source": [
        "# from sklearn.linear_model import LogisticRegression\n",
        "# lgr=LogisticRegression()\n",
        "# lgr.fit(X_train, y_train)\n",
        "\n",
        "# ValueError: y should be a 1d array, got an array of shape (57549, 4) instead."
      ],
      "metadata": {
        "id": "PZlmb1o3QrRE"
      },
      "execution_count": 96,
      "outputs": []
    },
    {
      "cell_type": "markdown",
      "source": [
        "**3. KMeans Clustering**"
      ],
      "metadata": {
        "id": "J-X24Xu2UfgT"
      }
    },
    {
      "cell_type": "code",
      "source": [
        "from sklearn.cluster import KMeans"
      ],
      "metadata": {
        "id": "5TSiz8f1Q2LO"
      },
      "execution_count": 99,
      "outputs": []
    },
    {
      "cell_type": "code",
      "source": [
        "kmeans=KMeans()"
      ],
      "metadata": {
        "id": "1aTZYSD7Q6Fq"
      },
      "execution_count": 100,
      "outputs": []
    },
    {
      "cell_type": "code",
      "source": [
        "kmeans.fit(X)"
      ],
      "metadata": {
        "colab": {
          "base_uri": "https://localhost:8080/"
        },
        "id": "sNW6gumoQ_8Y",
        "outputId": "d4f0cfd1-fb60-4bb0-fa42-85a10554870b"
      },
      "execution_count": 101,
      "outputs": [
        {
          "output_type": "execute_result",
          "data": {
            "text/plain": [
              "KMeans()"
            ]
          },
          "metadata": {},
          "execution_count": 101
        }
      ]
    },
    {
      "cell_type": "code",
      "source": [
        "kmeans.predict(X)"
      ],
      "metadata": {
        "colab": {
          "base_uri": "https://localhost:8080/"
        },
        "id": "llPs1FkSVWGQ",
        "outputId": "afda5581-a89a-400c-cf62-230ecee04584"
      },
      "execution_count": 103,
      "outputs": [
        {
          "output_type": "execute_result",
          "data": {
            "text/plain": [
              "array([6, 5, 2, ..., 3, 2, 0], dtype=int32)"
            ]
          },
          "metadata": {},
          "execution_count": 103
        }
      ]
    },
    {
      "cell_type": "code",
      "source": [
        "km4=KMeans(n_clusters=4).fit(X)"
      ],
      "metadata": {
        "id": "lRvYQnEDRDEy"
      },
      "execution_count": 102,
      "outputs": []
    },
    {
      "cell_type": "code",
      "source": [
        "km4.predict(X)"
      ],
      "metadata": {
        "colab": {
          "base_uri": "https://localhost:8080/"
        },
        "id": "sNttOZsGVOGU",
        "outputId": "3031a25d-1e5b-4ab2-f2b0-a1668483f419"
      },
      "execution_count": 104,
      "outputs": [
        {
          "output_type": "execute_result",
          "data": {
            "text/plain": [
              "array([3, 2, 1, ..., 0, 1, 2], dtype=int32)"
            ]
          },
          "metadata": {},
          "execution_count": 104
        }
      ]
    },
    {
      "cell_type": "code",
      "source": [
        "km_inertia=[]\n",
        "k_val= list(range(2,10))\n",
        "for k in k_val:\n",
        "    kmeans=KMeans(n_clusters=k)\n",
        "    kmeans.fit(X)\n",
        "    km_inertia.append(kmeans.inertia_)"
      ],
      "metadata": {
        "id": "k7ytP8JqVZi3"
      },
      "execution_count": 105,
      "outputs": []
    },
    {
      "cell_type": "code",
      "source": [
        "plt.plot(k_val,km_inertia )"
      ],
      "metadata": {
        "colab": {
          "base_uri": "https://localhost:8080/",
          "height": 293
        },
        "id": "mZb-ou05Vg0f",
        "outputId": "8780006e-fd8f-4cd2-943b-b00f06db4c33"
      },
      "execution_count": 106,
      "outputs": [
        {
          "output_type": "execute_result",
          "data": {
            "text/plain": [
              "[<matplotlib.lines.Line2D at 0x7f74887811d0>]"
            ]
          },
          "metadata": {},
          "execution_count": 106
        },
        {
          "output_type": "display_data",
          "data": {
            "text/plain": [
              "<Figure size 432x288 with 1 Axes>"
            ],
            "image/png": "[encoded data removed]"
          },
          "metadata": {
            "needs_background": "light"
          }
        }
      ]
    },
    {
      "cell_type": "markdown",
      "source": [
        "**4. PCA**"
      ],
      "metadata": {
        "id": "d0roFER3XTpE"
      }
    },
    {
      "cell_type": "code",
      "source": [
        "from sklearn.decomposition import PCA\n",
        "pca=PCA()\n",
        "pca_data=pca.fit_transform(X)"
      ],
      "metadata": {
        "id": "54umbK2dXJsG"
      },
      "execution_count": 107,
      "outputs": []
    },
    {
      "cell_type": "code",
      "source": [
        "pca_data"
      ],
      "metadata": {
        "colab": {
          "base_uri": "https://localhost:8080/"
        },
        "id": "7azi1qoMXaWw",
        "outputId": "267326dc-5678-4039-8f39-e4e01f1cc3c9"
      },
      "execution_count": 108,
      "outputs": [
        {
          "output_type": "execute_result",
          "data": {
            "text/plain": [
              "array([[ 1.28801957e+06,  1.88097927e+05, -3.75031291e+03, ...,\n",
              "        -4.06185595e-18,  1.90910677e-18, -2.47257681e-18],\n",
              "       [-1.06704797e+05,  1.42642130e+05,  4.58200758e+04, ...,\n",
              "         3.82310531e-18,  3.30437827e-18, -4.04330409e-19],\n",
              "       [-7.97880651e+05, -3.61086409e+04,  4.59927044e+04, ...,\n",
              "        -2.00466682e-18, -1.24643729e-18,  2.07983252e-18],\n",
              "       ...,\n",
              "       [ 1.08842113e+06, -4.66079054e+05, -2.56303998e+04, ...,\n",
              "        -3.88011931e-21, -7.03341597e-22, -2.06193940e-20],\n",
              "       [-8.51140949e+05, -1.60603861e+05, -3.01672735e+05, ...,\n",
              "         3.20825325e-20,  2.54090921e-20, -3.04607401e-22],\n",
              "       [ 2.20849349e+05,  2.43734856e+05,  2.76609475e+04, ...,\n",
              "         1.58540758e-20, -2.49917333e-20,  8.86639096e-21]])"
            ]
          },
          "metadata": {},
          "execution_count": 108
        }
      ]
    },
    {
      "cell_type": "code",
      "source": [
        "pca.components_"
      ],
      "metadata": {
        "colab": {
          "base_uri": "https://localhost:8080/"
        },
        "id": "EzdYb9nwXf59",
        "outputId": "7631a938-68bc-4f48-83e0-8f4fa386e2ec"
      },
      "execution_count": 109,
      "outputs": [
        {
          "output_type": "execute_result",
          "data": {
            "text/plain": [
              "array([[-2.42380182e-01, -1.30781376e-01, -4.82185646e-07, ...,\n",
              "        -1.98481896e-13,  2.77574210e-11, -2.03198640e-10],\n",
              "       [-9.70117680e-01,  4.40012783e-02, -1.59429810e-06, ...,\n",
              "         1.21897068e-10, -1.81291103e-10, -1.03666702e-08],\n",
              "       [ 1.10952554e-02,  9.90431708e-01, -3.34012706e-05, ...,\n",
              "         1.33002303e-10,  6.50438811e-11,  7.50172733e-09],\n",
              "       ...,\n",
              "       [ 0.00000000e+00, -2.14060208e-23, -2.36133694e-18, ...,\n",
              "         3.81639165e-17,  8.45677695e-17, -1.04083409e-17],\n",
              "       [ 0.00000000e+00,  6.05608502e-22, -2.53407736e-18, ...,\n",
              "        -5.68121938e-17,  8.80372164e-17, -2.42861287e-17],\n",
              "       [-0.00000000e+00, -1.32240440e-21,  8.95427452e-18, ...,\n",
              "         1.73472348e-17, -2.94902991e-17,  2.77555756e-17]])"
            ]
          },
          "metadata": {},
          "execution_count": 109
        }
      ]
    },
    {
      "cell_type": "code",
      "source": [
        "pca.explained_variance_"
      ],
      "metadata": {
        "colab": {
          "base_uri": "https://localhost:8080/"
        },
        "id": "1Ydz8O_JX_La",
        "outputId": "bf611435-1233-4a16-939c-e9906ec85cd9"
      },
      "execution_count": 110,
      "outputs": [
        {
          "output_type": "execute_result",
          "data": {
            "text/plain": [
              "array([5.92364354e+11, 8.28930401e+10, 5.90342372e+09, ...,\n",
              "       1.10794349e-36, 1.00030420e-36, 7.99561343e-37])"
            ]
          },
          "metadata": {},
          "execution_count": 110
        }
      ]
    },
    {
      "cell_type": "code",
      "source": [
        "pca.explained_variance_ratio_"
      ],
      "metadata": {
        "colab": {
          "base_uri": "https://localhost:8080/"
        },
        "id": "xPtos0Z5YB-z",
        "outputId": "06ebfc6d-e2f9-47bc-deb2-10013a2966a7"
      },
      "execution_count": 111,
      "outputs": [
        {
          "output_type": "execute_result",
          "data": {
            "text/plain": [
              "array([8.69590255e-01, 1.21686897e-01, 8.66621987e-03, ...,\n",
              "       1.62645989e-48, 1.46844552e-48, 1.17375522e-48])"
            ]
          },
          "metadata": {},
          "execution_count": 111
        }
      ]
    },
    {
      "cell_type": "markdown",
      "source": [
        "**5. KNN**"
      ],
      "metadata": {
        "id": "mZAF61xiYKSR"
      }
    },
    {
      "cell_type": "code",
      "source": [
        "from sklearn.neighbors import KNeighborsClassifier\n",
        "knn=KNeighborsClassifier(n_neighbors=3)"
      ],
      "metadata": {
        "id": "SkcAc5DbYFsS"
      },
      "execution_count": 112,
      "outputs": []
    },
    {
      "cell_type": "code",
      "source": [
        "knn.fit(X_train, y_train)"
      ],
      "metadata": {
        "colab": {
          "base_uri": "https://localhost:8080/"
        },
        "id": "F15HP7XDYflD",
        "outputId": "9b793512-83f3-4f73-c9b2-7f449ff72cd9"
      },
      "execution_count": 113,
      "outputs": [
        {
          "output_type": "execute_result",
          "data": {
            "text/plain": [
              "KNeighborsClassifier(n_neighbors=3)"
            ]
          },
          "metadata": {},
          "execution_count": 113
        }
      ]
    },
    {
      "cell_type": "code",
      "source": [
        "y_pred=knn.predict(X_test)"
      ],
      "metadata": {
        "id": "KhIe7eCuYkIL"
      },
      "execution_count": 114,
      "outputs": []
    },
    {
      "cell_type": "code",
      "source": [
        "from sklearn.metrics import accuracy_score, confusion_matrix, classification_report"
      ],
      "metadata": {
        "id": "IPckmDMkYnqi"
      },
      "execution_count": 115,
      "outputs": []
    },
    {
      "cell_type": "code",
      "source": [
        "print(accuracy_score(y_test, y_pred))\n",
        "# print(confusion_matrix(y_test, y_pred))\n",
        "print(classification_report(y_test, y_pred))"
      ],
      "metadata": {
        "colab": {
          "base_uri": "https://localhost:8080/"
        },
        "id": "smlfSn2VYuN8",
        "outputId": "b3841e57-83cb-42e4-c08a-dcd95a18e325"
      },
      "execution_count": 117,
      "outputs": [
        {
          "output_type": "stream",
          "name": "stdout",
          "text": [
            "0.767974317364002\n",
            "              precision    recall  f1-score   support\n",
            "\n",
            "           0       0.81      0.84      0.82     18203\n",
            "           1       0.00      0.00      0.00         0\n",
            "           2       0.00      0.00      0.00         1\n",
            "           3       0.23      0.16      0.19        88\n",
            "\n",
            "   micro avg       0.81      0.84      0.82     18292\n",
            "   macro avg       0.26      0.25      0.25     18292\n",
            "weighted avg       0.81      0.84      0.82     18292\n",
            " samples avg       0.54      0.54      0.54     18292\n",
            "\n"
          ]
        },
        {
          "output_type": "stream",
          "name": "stderr",
          "text": [
            "/usr/local/lib/python3.7/dist-packages/sklearn/metrics/_classification.py:1318: UndefinedMetricWarning: Precision and F-score are ill-defined and being set to 0.0 in labels with no predicted samples. Use `zero_division` parameter to control this behavior.\n",
            "  _warn_prf(average, modifier, msg_start, len(result))\n",
            "/usr/local/lib/python3.7/dist-packages/sklearn/metrics/_classification.py:1318: UndefinedMetricWarning: Recall and F-score are ill-defined and being set to 0.0 in labels with no true samples. Use `zero_division` parameter to control this behavior.\n",
            "  _warn_prf(average, modifier, msg_start, len(result))\n",
            "/usr/local/lib/python3.7/dist-packages/sklearn/metrics/_classification.py:1318: UndefinedMetricWarning: Precision and F-score are ill-defined and being set to 0.0 in samples with no predicted labels. Use `zero_division` parameter to control this behavior.\n",
            "  _warn_prf(average, modifier, msg_start, len(result))\n",
            "/usr/local/lib/python3.7/dist-packages/sklearn/metrics/_classification.py:1318: UndefinedMetricWarning: Recall and F-score are ill-defined and being set to 0.0 in samples with no true labels. Use `zero_division` parameter to control this behavior.\n",
            "  _warn_prf(average, modifier, msg_start, len(result))\n"
          ]
        }
      ]
    },
    {
      "cell_type": "code",
      "source": [
        "#f1-score=2*recall*precision/(recall+precision)\n",
        "acc_sc=[]\n",
        "k_val=[]\n",
        "for k in range(3, 20, 2):\n",
        "    knn=KNeighborsClassifier(n_neighbors=k)\n",
        "    knn.fit(X_train, y_train)\n",
        "    y_pred_knn=knn.predict(X_test)\n",
        "    acc_sc.append(accuracy_score(y_test, y_pred_knn))\n",
        "    k_val.append(k)"
      ],
      "metadata": {
        "id": "9TTF_MmRZRPh"
      },
      "execution_count": 119,
      "outputs": []
    },
    {
      "cell_type": "code",
      "source": [
        "acc_sc"
      ],
      "metadata": {
        "colab": {
          "base_uri": "https://localhost:8080/"
        },
        "id": "EdF74I8BZaNp",
        "outputId": "60c9d36d-6e44-4f93-8539-210f2b304a2c"
      },
      "execution_count": 120,
      "outputs": [
        {
          "output_type": "execute_result",
          "data": {
            "text/plain": [
              "[0.767974317364002,\n",
              " 0.7722782755944402,\n",
              " 0.7752063783249842,\n",
              " 0.7755238834403443,\n",
              " 0.7764058420941227,\n",
              " 0.7757708318634022,\n",
              " 0.7748535948634728,\n",
              " 0.7753474917095886,\n",
              " 0.7730896775559162]"
            ]
          },
          "metadata": {},
          "execution_count": 120
        }
      ]
    },
    {
      "cell_type": "code",
      "source": [
        "k"
      ],
      "metadata": {
        "colab": {
          "base_uri": "https://localhost:8080/"
        },
        "id": "aafPAUAOZtGR",
        "outputId": "eb6f6c3a-7231-4def-b210-e901378ab9cb"
      },
      "execution_count": 121,
      "outputs": [
        {
          "output_type": "execute_result",
          "data": {
            "text/plain": [
              "19"
            ]
          },
          "metadata": {},
          "execution_count": 121
        }
      ]
    },
    {
      "cell_type": "code",
      "source": [
        "plt.plot(k_val,acc_sc)\n",
        "plt.show()"
      ],
      "metadata": {
        "colab": {
          "base_uri": "https://localhost:8080/",
          "height": 265
        },
        "id": "Bv7xOWDrZpH8",
        "outputId": "7a34d231-bb48-49dd-8d85-12f62e462b91"
      },
      "execution_count": 122,
      "outputs": [
        {
          "output_type": "display_data",
          "data": {
            "text/plain": [
              "<Figure size 432x288 with 1 Axes>"
            ],
            "image/png": "[encoded data removed]"
          },
          "metadata": {
            "needs_background": "light"
          }
        }
      ]
    },
    {
      "cell_type": "markdown",
      "source": [
        "**6. Ensemble_Learning**"
      ],
      "metadata": {
        "id": "1Fs6N0mmfBEa"
      }
    },
    {
      "cell_type": "markdown",
      "source": [
        "**6.1 RandomForestClassifier**"
      ],
      "metadata": {
        "id": "wV1qK6N2fQPC"
      }
    },
    {
      "cell_type": "code",
      "source": [
        "from sklearn.ensemble import RandomForestClassifier\n",
        "rfc = RandomForestClassifier(n_estimators=600)"
      ],
      "metadata": {
        "id": "Gp9fYGKNe-sC"
      },
      "execution_count": 123,
      "outputs": []
    },
    {
      "cell_type": "code",
      "source": [
        "rfc.fit(X_train,y_train)"
      ],
      "metadata": {
        "colab": {
          "base_uri": "https://localhost:8080/"
        },
        "id": "QoC57Vwxfc51",
        "outputId": "706d8e0a-cc5b-4b1b-9b46-d809912fd9ec"
      },
      "execution_count": 124,
      "outputs": [
        {
          "output_type": "execute_result",
          "data": {
            "text/plain": [
              "RandomForestClassifier(n_estimators=600)"
            ]
          },
          "metadata": {},
          "execution_count": 124
        }
      ]
    },
    {
      "cell_type": "code",
      "source": [
        "predictions = rfc.predict(X_test)"
      ],
      "metadata": {
        "id": "D9mkVbFsfe6M"
      },
      "execution_count": 125,
      "outputs": []
    },
    {
      "cell_type": "code",
      "source": [
        "print(classification_report(y_test,predictions))"
      ],
      "metadata": {
        "colab": {
          "base_uri": "https://localhost:8080/"
        },
        "id": "R87GaiZ7fwt5",
        "outputId": "7e720c87-344e-483f-afda-c022fa922d02"
      },
      "execution_count": 126,
      "outputs": [
        {
          "output_type": "stream",
          "name": "stdout",
          "text": [
            "              precision    recall  f1-score   support\n",
            "\n",
            "           0       1.00      1.00      1.00     18203\n",
            "           1       0.00      0.00      0.00         0\n",
            "           2       0.00      0.00      0.00         1\n",
            "           3       1.00      0.95      0.98        88\n",
            "\n",
            "   micro avg       1.00      1.00      1.00     18292\n",
            "   macro avg       0.50      0.49      0.49     18292\n",
            "weighted avg       1.00      1.00      1.00     18292\n",
            " samples avg       0.65      0.65      0.65     18292\n",
            "\n"
          ]
        },
        {
          "output_type": "stream",
          "name": "stderr",
          "text": [
            "/usr/local/lib/python3.7/dist-packages/sklearn/metrics/_classification.py:1318: UndefinedMetricWarning: Precision and F-score are ill-defined and being set to 0.0 in labels with no predicted samples. Use `zero_division` parameter to control this behavior.\n",
            "  _warn_prf(average, modifier, msg_start, len(result))\n",
            "/usr/local/lib/python3.7/dist-packages/sklearn/metrics/_classification.py:1318: UndefinedMetricWarning: Recall and F-score are ill-defined and being set to 0.0 in labels with no true samples. Use `zero_division` parameter to control this behavior.\n",
            "  _warn_prf(average, modifier, msg_start, len(result))\n",
            "/usr/local/lib/python3.7/dist-packages/sklearn/metrics/_classification.py:1318: UndefinedMetricWarning: Precision and F-score are ill-defined and being set to 0.0 in samples with no predicted labels. Use `zero_division` parameter to control this behavior.\n",
            "  _warn_prf(average, modifier, msg_start, len(result))\n",
            "/usr/local/lib/python3.7/dist-packages/sklearn/metrics/_classification.py:1318: UndefinedMetricWarning: Recall and F-score are ill-defined and being set to 0.0 in samples with no true labels. Use `zero_division` parameter to control this behavior.\n",
            "  _warn_prf(average, modifier, msg_start, len(result))\n"
          ]
        }
      ]
    },
    {
      "cell_type": "markdown",
      "source": [
        "**6.2 AdaBoost**"
      ],
      "metadata": {
        "id": "cYRd6-C3g8dX"
      }
    },
    {
      "cell_type": "code",
      "source": [
        "from sklearn.ensemble import AdaBoostClassifier\n",
        "abc = AdaBoostClassifier(n_estimators=60000)"
      ],
      "metadata": {
        "id": "1Qa2mkycgir9"
      },
      "execution_count": 134,
      "outputs": []
    },
    {
      "cell_type": "code",
      "source": [
        "# abc.fit(X_train,y_train)"
      ],
      "metadata": {
        "id": "MjgC0jMKhg4k"
      },
      "execution_count": 139,
      "outputs": []
    },
    {
      "cell_type": "markdown",
      "source": [
        "**6.3 Gradient Boosting**"
      ],
      "metadata": {
        "id": "qJB6rcyuhWKu"
      }
    },
    {
      "cell_type": "code",
      "source": [
        "from sklearn.ensemble import GradientBoostingClassifier"
      ],
      "metadata": {
        "id": "_3ZIZgkMhGKF"
      },
      "execution_count": 133,
      "outputs": []
    },
    {
      "cell_type": "markdown",
      "source": [
        "**6.4 XGBoost**"
      ],
      "metadata": {
        "id": "x2lzpyS_hLGd"
      }
    },
    {
      "cell_type": "code",
      "source": [
        "from xgboost import XGBClassifier"
      ],
      "metadata": {
        "id": "zFau46Obf465"
      },
      "execution_count": 136,
      "outputs": []
    },
    {
      "cell_type": "code",
      "source": [
        "# xgbc=XGBClassifier()\n",
        "# xgbc.fit(X_train,y_train)\n",
        "# xgbc_pred=xgbc.predict(X_test)\n",
        "# print('accuracy_score: ', accuracy_score(y_test,xgbc_pred))\n",
        "# print(\"Confusion Matrix:\\n\" ,confusion_matrix(y_test,xgbc_pred))\n",
        "# print(\"Recall: \",recall_score(y_test,xgbc_pred))\n",
        "# print(\"precision:  \", precision_score(y_test,xgbc_pred))\n",
        "# print(\"f1_score: \", f1_score(y_test,xgbc_pred))\n",
        "\n",
        "\n",
        "# ValueError: y should be a 1d array, got an array of shape (57549, 4) instead."
      ],
      "metadata": {
        "id": "DBrPHkcNgjmo"
      },
      "execution_count": 138,
      "outputs": []
    }
  ]
}