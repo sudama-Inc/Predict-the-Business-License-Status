{
  "nbformat": 4,
  "nbformat_minor": 0,
  "metadata": {
    "colab": {
      "name": "predictBusinessLicenseStatus.ipynb",
      "provenance": [],
      "collapsed_sections": [],
      "authorship_tag": "ABX9TyNmI8UvU/QkWdJDft8oaCmD",
      "include_colab_link": true
    },
    "kernelspec": {
      "name": "python3",
      "display_name": "Python 3"
    },
    "language_info": {
      "name": "python"
    }
  },
  "cells": [
    {
      "cell_type": "markdown",
      "metadata": {
        "id": "view-in-github",
        "colab_type": "text"
      },
      "source": [
        "<a href=\"https://colab.research.google.com/github/sudama-Inc/Predict-the-Business-License-Status/blob/main/predictBusinessLicenseStatus.ipynb\" target=\"_parent\"><img src=\"https://colab.research.google.com/assets/colab-badge.svg\" alt=\"Open In Colab\"/></a>"
      ]
    },
    {
      "cell_type": "code",
      "execution_count": 1,
      "metadata": {
        "id": "Ssay6HAc__-B"
      },
      "outputs": [],
      "source": [
        "import pandas as pd\n",
        "import numpy as np\n",
        "\n",
        "import seaborn as sns\n",
        "import matplotlib.pyplot as plt\n",
        "\n",
        "import matplotlib.dates as mdates\n",
        "%matplotlib inline\n",
        "\n",
        "import datetime\n",
        "import re"
      ]
    },
    {
      "cell_type": "code",
      "source": [
        "from sklearn.preprocessing import LabelEncoder\n",
        "from sklearn.metrics import r2_score\n",
        "\n",
        "from sklearn.metrics import precision_score\n",
        "from sklearn.metrics import recall_score\n",
        "from sklearn.metrics import f1_score\n",
        "\n",
        "from sklearn.model_selection import train_test_split\n",
        "\n",
        "from sklearn.metrics import accuracy_score, confusion_matrix, classification_report"
      ],
      "metadata": {
        "id": "ThFXY5bNAvTL"
      },
      "execution_count": 2,
      "outputs": []
    },
    {
      "cell_type": "code",
      "source": [
        "from sklearn.linear_model import LinearRegression\n",
        "from sklearn.ensemble import RandomForestRegressor\n",
        "from xgboost import XGBClassifier"
      ],
      "metadata": {
        "id": "eKIiGxEIM8pA"
      },
      "execution_count": null,
      "outputs": []
    },
    {
      "cell_type": "markdown",
      "source": [
        "### Mount google Drive"
      ],
      "metadata": {
        "id": "sDakMZsZA2zv"
      }
    },
    {
      "cell_type": "code",
      "source": [
        "from google.colab import drive\n",
        "drive.mount('/content/drive')"
      ],
      "metadata": {
        "colab": {
          "base_uri": "https://localhost:8080/"
        },
        "id": "4y3idJ2yAwdr",
        "outputId": "69ea78b9-6b72-4802-b256-5838d2dee410"
      },
      "execution_count": 3,
      "outputs": [
        {
          "output_type": "stream",
          "name": "stdout",
          "text": [
            "Drive already mounted at /content/drive; to attempt to forcibly remount, call drive.mount(\"/content/drive\", force_remount=True).\n"
          ]
        }
      ]
    },
    {
      "cell_type": "markdown",
      "source": [
        "### Read Train DataSet"
      ],
      "metadata": {
        "id": "paw355IxBmcq"
      }
    },
    {
      "cell_type": "code",
      "source": [
        "df = pd.read_csv(\"/content/drive/MyDrive/Datasets/train_file.csv\")\n",
        "df.head(3)"
      ],
      "metadata": {
        "colab": {
          "base_uri": "https://localhost:8080/",
          "height": 428
        },
        "id": "s8PgNV5BBD7I",
        "outputId": "62e3be4f-aeac-43bc-e94b-f34b4325ff9a"
      },
      "execution_count": 4,
      "outputs": [
        {
          "output_type": "stream",
          "name": "stderr",
          "text": [
            "/usr/local/lib/python3.7/dist-packages/IPython/core/interactiveshell.py:2882: DtypeWarning: Columns (9) have mixed types.Specify dtype option on import or set low_memory=False.\n",
            "  exec(code_obj, self.user_global_ns, self.user_ns)\n"
          ]
        },
        {
          "output_type": "execute_result",
          "data": {
            "text/plain": [
              "                 ID  LICENSE ID  ACCOUNT NUMBER  SITE NUMBER  \\\n",
              "0    35342-20020816     1256593           32811            1   \n",
              "1  1358463-20051116     1639294          262311           29   \n",
              "2  1980233-20090722     1980233          345008            1   \n",
              "\n",
              "            LEGAL NAME DOING BUSINESS AS NAME                     ADDRESS  \\\n",
              "0         CARMEN CAHUE  CLAUDIA'S BRIDAL SHOP  2625 S CENTRAL PARK AVE  1   \n",
              "1  ISLA TROPICAL, INC.          ISLA TROPICAL         2825 W MONTROSE AVE   \n",
              "2       DJS REMODELING   DJS REMODELING, INC.           1605  CLAVEY RD 1   \n",
              "\n",
              "       CITY STATE ZIP CODE  ...  LICENSE TERM START DATE  \\\n",
              "0   CHICAGO    IL  60623.0  ...      2002-08-16T00:00:00   \n",
              "1   CHICAGO    IL    60618  ...      2005-11-16T00:00:00   \n",
              "2  HIGHLAND    IL    60035  ...      2009-07-22T00:00:00   \n",
              "\n",
              "   LICENSE TERM EXPIRATION DATE LICENSE APPROVED FOR ISSUANCE  \\\n",
              "0           2003-08-15T00:00:00           2002-08-21T00:00:00   \n",
              "1           2006-11-15T00:00:00           2006-04-05T00:00:00   \n",
              "2           2011-07-15T00:00:00           2009-07-22T00:00:00   \n",
              "\n",
              "           DATE ISSUED  LICENSE STATUS CHANGE DATE   SSA   LATITUDE  \\\n",
              "0  2006-04-11T00:00:00                         NaN  25.0  41.843613   \n",
              "1  2006-06-12T00:00:00         2006-06-15T00:00:00  60.0  41.961132   \n",
              "2  2009-07-22T00:00:00                         NaN   NaN        NaN   \n",
              "\n",
              "   LONGITUDE                                           LOCATION LICENSE STATUS  \n",
              "0 -87.714618  {'latitude': '41.843612879431845', 'longitude'...            AAI  \n",
              "1 -87.699626  {'latitude': '41.96113244107215', 'longitude':...            AAC  \n",
              "2        NaN                                                NaN            AAI  \n",
              "\n",
              "[3 rows x 32 columns]"
            ],
            "text/html": [
              "\n",
              "  <div id=\"df-d4cc9373-6c4a-442c-87f6-2a7b0a562896\">\n",
              "    <div class=\"colab-df-container\">\n",
              "      <div>\n",
              "<style scoped>\n",
              "    .dataframe tbody tr th:only-of-type {\n",
              "        vertical-align: middle;\n",
              "    }\n",
              "\n",
              "    .dataframe tbody tr th {\n",
              "        vertical-align: top;\n",
              "    }\n",
              "\n",
              "    .dataframe thead th {\n",
              "        text-align: right;\n",
              "    }\n",
              "</style>\n",
              "<table border=\"1\" class=\"dataframe\">\n",
              "  <thead>\n",
              "    <tr style=\"text-align: right;\">\n",
              "      <th></th>\n",
              "      <th>ID</th>\n",
              "      <th>LICENSE ID</th>\n",
              "      <th>ACCOUNT NUMBER</th>\n",
              "      <th>SITE NUMBER</th>\n",
              "      <th>LEGAL NAME</th>\n",
              "      <th>DOING BUSINESS AS NAME</th>\n",
              "      <th>ADDRESS</th>\n",
              "      <th>CITY</th>\n",
              "      <th>STATE</th>\n",
              "      <th>ZIP CODE</th>\n",
              "      <th>...</th>\n",
              "      <th>LICENSE TERM START DATE</th>\n",
              "      <th>LICENSE TERM EXPIRATION DATE</th>\n",
              "      <th>LICENSE APPROVED FOR ISSUANCE</th>\n",
              "      <th>DATE ISSUED</th>\n",
              "      <th>LICENSE STATUS CHANGE DATE</th>\n",
              "      <th>SSA</th>\n",
              "      <th>LATITUDE</th>\n",
              "      <th>LONGITUDE</th>\n",
              "      <th>LOCATION</th>\n",
              "      <th>LICENSE STATUS</th>\n",
              "    </tr>\n",
              "  </thead>\n",
              "  <tbody>\n",
              "    <tr>\n",
              "      <th>0</th>\n",
              "      <td>35342-20020816</td>\n",
              "      <td>1256593</td>\n",
              "      <td>32811</td>\n",
              "      <td>1</td>\n",
              "      <td>CARMEN CAHUE</td>\n",
              "      <td>CLAUDIA'S BRIDAL SHOP</td>\n",
              "      <td>2625 S CENTRAL PARK AVE  1</td>\n",
              "      <td>CHICAGO</td>\n",
              "      <td>IL</td>\n",
              "      <td>60623.0</td>\n",
              "      <td>...</td>\n",
              "      <td>2002-08-16T00:00:00</td>\n",
              "      <td>2003-08-15T00:00:00</td>\n",
              "      <td>2002-08-21T00:00:00</td>\n",
              "      <td>2006-04-11T00:00:00</td>\n",
              "      <td>NaN</td>\n",
              "      <td>25.0</td>\n",
              "      <td>41.843613</td>\n",
              "      <td>-87.714618</td>\n",
              "      <td>{'latitude': '41.843612879431845', 'longitude'...</td>\n",
              "      <td>AAI</td>\n",
              "    </tr>\n",
              "    <tr>\n",
              "      <th>1</th>\n",
              "      <td>1358463-20051116</td>\n",
              "      <td>1639294</td>\n",
              "      <td>262311</td>\n",
              "      <td>29</td>\n",
              "      <td>ISLA TROPICAL, INC.</td>\n",
              "      <td>ISLA TROPICAL</td>\n",
              "      <td>2825 W MONTROSE AVE</td>\n",
              "      <td>CHICAGO</td>\n",
              "      <td>IL</td>\n",
              "      <td>60618</td>\n",
              "      <td>...</td>\n",
              "      <td>2005-11-16T00:00:00</td>\n",
              "      <td>2006-11-15T00:00:00</td>\n",
              "      <td>2006-04-05T00:00:00</td>\n",
              "      <td>2006-06-12T00:00:00</td>\n",
              "      <td>2006-06-15T00:00:00</td>\n",
              "      <td>60.0</td>\n",
              "      <td>41.961132</td>\n",
              "      <td>-87.699626</td>\n",
              "      <td>{'latitude': '41.96113244107215', 'longitude':...</td>\n",
              "      <td>AAC</td>\n",
              "    </tr>\n",
              "    <tr>\n",
              "      <th>2</th>\n",
              "      <td>1980233-20090722</td>\n",
              "      <td>1980233</td>\n",
              "      <td>345008</td>\n",
              "      <td>1</td>\n",
              "      <td>DJS REMODELING</td>\n",
              "      <td>DJS REMODELING, INC.</td>\n",
              "      <td>1605  CLAVEY RD 1</td>\n",
              "      <td>HIGHLAND</td>\n",
              "      <td>IL</td>\n",
              "      <td>60035</td>\n",
              "      <td>...</td>\n",
              "      <td>2009-07-22T00:00:00</td>\n",
              "      <td>2011-07-15T00:00:00</td>\n",
              "      <td>2009-07-22T00:00:00</td>\n",
              "      <td>2009-07-22T00:00:00</td>\n",
              "      <td>NaN</td>\n",
              "      <td>NaN</td>\n",
              "      <td>NaN</td>\n",
              "      <td>NaN</td>\n",
              "      <td>NaN</td>\n",
              "      <td>AAI</td>\n",
              "    </tr>\n",
              "  </tbody>\n",
              "</table>\n",
              "<p>3 rows × 32 columns</p>\n",
              "</div>\n",
              "      <button class=\"colab-df-convert\" onclick=\"convertToInteractive('df-d4cc9373-6c4a-442c-87f6-2a7b0a562896')\"\n",
              "              title=\"Convert this dataframe to an interactive table.\"\n",
              "              style=\"display:none;\">\n",
              "        \n",
              "  <svg xmlns=\"http://www.w3.org/2000/svg\" height=\"24px\"viewBox=\"0 0 24 24\"\n",
              "       width=\"24px\">\n",
              "    <path d=\"M0 0h24v24H0V0z\" fill=\"none\"/>\n",
              "    <path d=\"M18.56 5.44l.94 2.06.94-2.06 2.06-.94-2.06-.94-.94-2.06-.94 2.06-2.06.94zm-11 1L8.5 8.5l.94-2.06 2.06-.94-2.06-.94L8.5 2.5l-.94 2.06-2.06.94zm10 10l.94 2.06.94-2.06 2.06-.94-2.06-.94-.94-2.06-.94 2.06-2.06.94z\"/><path d=\"M17.41 7.96l-1.37-1.37c-.4-.4-.92-.59-1.43-.59-.52 0-1.04.2-1.43.59L10.3 9.45l-7.72 7.72c-.78.78-.78 2.05 0 2.83L4 21.41c.39.39.9.59 1.41.59.51 0 1.02-.2 1.41-.59l7.78-7.78 2.81-2.81c.8-.78.8-2.07 0-2.86zM5.41 20L4 18.59l7.72-7.72 1.47 1.35L5.41 20z\"/>\n",
              "  </svg>\n",
              "      </button>\n",
              "      \n",
              "  <style>\n",
              "    .colab-df-container {\n",
              "      display:flex;\n",
              "      flex-wrap:wrap;\n",
              "      gap: 12px;\n",
              "    }\n",
              "\n",
              "    .colab-df-convert {\n",
              "      background-color: #E8F0FE;\n",
              "      border: none;\n",
              "      border-radius: 50%;\n",
              "      cursor: pointer;\n",
              "      display: none;\n",
              "      fill: #1967D2;\n",
              "      height: 32px;\n",
              "      padding: 0 0 0 0;\n",
              "      width: 32px;\n",
              "    }\n",
              "\n",
              "    .colab-df-convert:hover {\n",
              "      background-color: #E2EBFA;\n",
              "      box-shadow: 0px 1px 2px rgba(60, 64, 67, 0.3), 0px 1px 3px 1px rgba(60, 64, 67, 0.15);\n",
              "      fill: #174EA6;\n",
              "    }\n",
              "\n",
              "    [theme=dark] .colab-df-convert {\n",
              "      background-color: #3B4455;\n",
              "      fill: #D2E3FC;\n",
              "    }\n",
              "\n",
              "    [theme=dark] .colab-df-convert:hover {\n",
              "      background-color: #434B5C;\n",
              "      box-shadow: 0px 1px 3px 1px rgba(0, 0, 0, 0.15);\n",
              "      filter: drop-shadow(0px 1px 2px rgba(0, 0, 0, 0.3));\n",
              "      fill: #FFFFFF;\n",
              "    }\n",
              "  </style>\n",
              "\n",
              "      <script>\n",
              "        const buttonEl =\n",
              "          document.querySelector('#df-d4cc9373-6c4a-442c-87f6-2a7b0a562896 button.colab-df-convert');\n",
              "        buttonEl.style.display =\n",
              "          google.colab.kernel.accessAllowed ? 'block' : 'none';\n",
              "\n",
              "        async function convertToInteractive(key) {\n",
              "          const element = document.querySelector('#df-d4cc9373-6c4a-442c-87f6-2a7b0a562896');\n",
              "          const dataTable =\n",
              "            await google.colab.kernel.invokeFunction('convertToInteractive',\n",
              "                                                     [key], {});\n",
              "          if (!dataTable) return;\n",
              "\n",
              "          const docLinkHtml = 'Like what you see? Visit the ' +\n",
              "            '<a target=\"_blank\" href=https://colab.research.google.com/notebooks/data_table.ipynb>data table notebook</a>'\n",
              "            + ' to learn more about interactive tables.';\n",
              "          element.innerHTML = '';\n",
              "          dataTable['output_type'] = 'display_data';\n",
              "          await google.colab.output.renderOutput(dataTable, element);\n",
              "          const docLink = document.createElement('div');\n",
              "          docLink.innerHTML = docLinkHtml;\n",
              "          element.appendChild(docLink);\n",
              "        }\n",
              "      </script>\n",
              "    </div>\n",
              "  </div>\n",
              "  "
            ]
          },
          "metadata": {},
          "execution_count": 4
        }
      ]
    },
    {
      "cell_type": "code",
      "source": [
        "df.shape"
      ],
      "metadata": {
        "colab": {
          "base_uri": "https://localhost:8080/"
        },
        "id": "c9pwXBn2GIgd",
        "outputId": "60178cd5-6f31-4c99-e787-4139bbe5ccda"
      },
      "execution_count": 5,
      "outputs": [
        {
          "output_type": "execute_result",
          "data": {
            "text/plain": [
              "(85895, 32)"
            ]
          },
          "metadata": {},
          "execution_count": 5
        }
      ]
    },
    {
      "cell_type": "code",
      "source": [
        "df.columns"
      ],
      "metadata": {
        "colab": {
          "base_uri": "https://localhost:8080/"
        },
        "id": "zq9nw6r0W5cH",
        "outputId": "17e81cc7-f0fe-481d-f7b8-de4654f4837e"
      },
      "execution_count": 6,
      "outputs": [
        {
          "output_type": "execute_result",
          "data": {
            "text/plain": [
              "Index(['ID', 'LICENSE ID', 'ACCOUNT NUMBER', 'SITE NUMBER', 'LEGAL NAME',\n",
              "       'DOING BUSINESS AS NAME', 'ADDRESS', 'CITY', 'STATE', 'ZIP CODE',\n",
              "       'WARD', 'PRECINCT', 'WARD PRECINCT', 'POLICE DISTRICT', 'LICENSE CODE',\n",
              "       'LICENSE DESCRIPTION', 'LICENSE NUMBER', 'APPLICATION TYPE',\n",
              "       'APPLICATION CREATED DATE', 'APPLICATION REQUIREMENTS COMPLETE',\n",
              "       'PAYMENT DATE', 'CONDITIONAL APPROVAL', 'LICENSE TERM START DATE',\n",
              "       'LICENSE TERM EXPIRATION DATE', 'LICENSE APPROVED FOR ISSUANCE',\n",
              "       'DATE ISSUED', 'LICENSE STATUS CHANGE DATE', 'SSA', 'LATITUDE',\n",
              "       'LONGITUDE', 'LOCATION', 'LICENSE STATUS'],\n",
              "      dtype='object')"
            ]
          },
          "metadata": {},
          "execution_count": 6
        }
      ]
    },
    {
      "cell_type": "code",
      "source": [
        "df['LICENSE STATUS'].unique()"
      ],
      "metadata": {
        "colab": {
          "base_uri": "https://localhost:8080/"
        },
        "id": "tDL_TmOpB4GM",
        "outputId": "e19bb9bf-e24a-40b2-b563-7f3a81b1e70b"
      },
      "execution_count": 7,
      "outputs": [
        {
          "output_type": "execute_result",
          "data": {
            "text/plain": [
              "array(['AAI', 'AAC', 'REV', 'REA', 'INQ'], dtype=object)"
            ]
          },
          "metadata": {},
          "execution_count": 7
        }
      ]
    },
    {
      "cell_type": "code",
      "source": [
        "df.isnull().sum()"
      ],
      "metadata": {
        "colab": {
          "base_uri": "https://localhost:8080/"
        },
        "id": "TMri3gGqFJpQ",
        "outputId": "c93e5a42-30b4-4bbc-8e00-671f3c3a1176"
      },
      "execution_count": 8,
      "outputs": [
        {
          "output_type": "execute_result",
          "data": {
            "text/plain": [
              "ID                                       0\n",
              "LICENSE ID                               0\n",
              "ACCOUNT NUMBER                           0\n",
              "SITE NUMBER                              0\n",
              "LEGAL NAME                               0\n",
              "DOING BUSINESS AS NAME                   1\n",
              "ADDRESS                                  0\n",
              "CITY                                     0\n",
              "STATE                                    0\n",
              "ZIP CODE                                31\n",
              "WARD                                 49701\n",
              "PRECINCT                             56701\n",
              "WARD PRECINCT                        49700\n",
              "POLICE DISTRICT                      54012\n",
              "LICENSE CODE                             0\n",
              "LICENSE DESCRIPTION                      0\n",
              "LICENSE NUMBER                           1\n",
              "APPLICATION TYPE                         0\n",
              "APPLICATION CREATED DATE             64660\n",
              "APPLICATION REQUIREMENTS COMPLETE      214\n",
              "PAYMENT DATE                          1289\n",
              "CONDITIONAL APPROVAL                     0\n",
              "LICENSE TERM START DATE                228\n",
              "LICENSE TERM EXPIRATION DATE            18\n",
              "LICENSE APPROVED FOR ISSUANCE         6789\n",
              "DATE ISSUED                              0\n",
              "LICENSE STATUS CHANGE DATE           55400\n",
              "SSA                                  76446\n",
              "LATITUDE                             47246\n",
              "LONGITUDE                            47246\n",
              "LOCATION                             47246\n",
              "LICENSE STATUS                           0\n",
              "dtype: int64"
            ]
          },
          "metadata": {},
          "execution_count": 8
        }
      ]
    },
    {
      "cell_type": "markdown",
      "source": [
        "**Dataset have many missing values, Let's Analyse the data**"
      ],
      "metadata": {
        "id": "TS-wPQKXFrfe"
      }
    },
    {
      "cell_type": "code",
      "source": [
        "df.describe()"
      ],
      "metadata": {
        "colab": {
          "base_uri": "https://localhost:8080/",
          "height": 381
        },
        "id": "v7Qc-QLRFSiE",
        "outputId": "bf6f920c-ea27-4ce2-c3dc-d52133b3e9eb"
      },
      "execution_count": 9,
      "outputs": [
        {
          "output_type": "execute_result",
          "data": {
            "text/plain": [
              "         LICENSE ID  ACCOUNT NUMBER   SITE NUMBER          WARD      PRECINCT  \\\n",
              "count  8.589500e+04    85895.000000  85895.000000  36194.000000  29194.000000   \n",
              "mean   1.751303e+06   196695.421701      2.556028     28.528927     54.632973   \n",
              "std    3.358780e+05   126819.343760      8.655706     13.921710    163.174955   \n",
              "min    3.079300e+04       10.000000      1.000000      1.000000      1.000000   \n",
              "25%    1.469024e+06    54615.000000      1.000000     17.000000     12.000000   \n",
              "50%    1.778754e+06   248313.000000      1.000000     30.000000     26.000000   \n",
              "75%    2.067578e+06   300243.500000      2.000000     42.000000     41.000000   \n",
              "max    2.456551e+06   397444.000000    417.000000     50.000000    999.000000   \n",
              "\n",
              "       POLICE DISTRICT  LICENSE CODE  LICENSE NUMBER          SSA  \\\n",
              "count     31883.000000  85895.000000    8.589400e+04  9449.000000   \n",
              "mean         13.529812   1111.736620    1.228151e+06    29.152080   \n",
              "std           7.275874    250.020872    7.431487e+05    17.419898   \n",
              "min           1.000000   1002.000000    1.290000e+02     1.000000   \n",
              "25%           8.000000   1010.000000    8.710900e+04    17.000000   \n",
              "50%          14.000000   1010.000000    1.442202e+06    28.000000   \n",
              "75%          19.000000   1011.000000    1.816581e+06    40.000000   \n",
              "max         181.000000   8340.000000    2.391410e+06    69.000000   \n",
              "\n",
              "           LATITUDE     LONGITUDE  \n",
              "count  38649.000000  38649.000000  \n",
              "mean      41.880952    -87.681165  \n",
              "std        0.079617      0.056248  \n",
              "min       41.644694    -87.915285  \n",
              "25%       41.834312    -87.719150  \n",
              "50%       41.892679    -87.673321  \n",
              "75%       41.938624    -87.639509  \n",
              "max       42.022660    -87.525872  "
            ],
            "text/html": [
              "\n",
              "  <div id=\"df-9aacdc41-7ebf-44a7-a200-0424e64ce7a4\">\n",
              "    <div class=\"colab-df-container\">\n",
              "      <div>\n",
              "<style scoped>\n",
              "    .dataframe tbody tr th:only-of-type {\n",
              "        vertical-align: middle;\n",
              "    }\n",
              "\n",
              "    .dataframe tbody tr th {\n",
              "        vertical-align: top;\n",
              "    }\n",
              "\n",
              "    .dataframe thead th {\n",
              "        text-align: right;\n",
              "    }\n",
              "</style>\n",
              "<table border=\"1\" class=\"dataframe\">\n",
              "  <thead>\n",
              "    <tr style=\"text-align: right;\">\n",
              "      <th></th>\n",
              "      <th>LICENSE ID</th>\n",
              "      <th>ACCOUNT NUMBER</th>\n",
              "      <th>SITE NUMBER</th>\n",
              "      <th>WARD</th>\n",
              "      <th>PRECINCT</th>\n",
              "      <th>POLICE DISTRICT</th>\n",
              "      <th>LICENSE CODE</th>\n",
              "      <th>LICENSE NUMBER</th>\n",
              "      <th>SSA</th>\n",
              "      <th>LATITUDE</th>\n",
              "      <th>LONGITUDE</th>\n",
              "    </tr>\n",
              "  </thead>\n",
              "  <tbody>\n",
              "    <tr>\n",
              "      <th>count</th>\n",
              "      <td>8.589500e+04</td>\n",
              "      <td>85895.000000</td>\n",
              "      <td>85895.000000</td>\n",
              "      <td>36194.000000</td>\n",
              "      <td>29194.000000</td>\n",
              "      <td>31883.000000</td>\n",
              "      <td>85895.000000</td>\n",
              "      <td>8.589400e+04</td>\n",
              "      <td>9449.000000</td>\n",
              "      <td>38649.000000</td>\n",
              "      <td>38649.000000</td>\n",
              "    </tr>\n",
              "    <tr>\n",
              "      <th>mean</th>\n",
              "      <td>1.751303e+06</td>\n",
              "      <td>196695.421701</td>\n",
              "      <td>2.556028</td>\n",
              "      <td>28.528927</td>\n",
              "      <td>54.632973</td>\n",
              "      <td>13.529812</td>\n",
              "      <td>1111.736620</td>\n",
              "      <td>1.228151e+06</td>\n",
              "      <td>29.152080</td>\n",
              "      <td>41.880952</td>\n",
              "      <td>-87.681165</td>\n",
              "    </tr>\n",
              "    <tr>\n",
              "      <th>std</th>\n",
              "      <td>3.358780e+05</td>\n",
              "      <td>126819.343760</td>\n",
              "      <td>8.655706</td>\n",
              "      <td>13.921710</td>\n",
              "      <td>163.174955</td>\n",
              "      <td>7.275874</td>\n",
              "      <td>250.020872</td>\n",
              "      <td>7.431487e+05</td>\n",
              "      <td>17.419898</td>\n",
              "      <td>0.079617</td>\n",
              "      <td>0.056248</td>\n",
              "    </tr>\n",
              "    <tr>\n",
              "      <th>min</th>\n",
              "      <td>3.079300e+04</td>\n",
              "      <td>10.000000</td>\n",
              "      <td>1.000000</td>\n",
              "      <td>1.000000</td>\n",
              "      <td>1.000000</td>\n",
              "      <td>1.000000</td>\n",
              "      <td>1002.000000</td>\n",
              "      <td>1.290000e+02</td>\n",
              "      <td>1.000000</td>\n",
              "      <td>41.644694</td>\n",
              "      <td>-87.915285</td>\n",
              "    </tr>\n",
              "    <tr>\n",
              "      <th>25%</th>\n",
              "      <td>1.469024e+06</td>\n",
              "      <td>54615.000000</td>\n",
              "      <td>1.000000</td>\n",
              "      <td>17.000000</td>\n",
              "      <td>12.000000</td>\n",
              "      <td>8.000000</td>\n",
              "      <td>1010.000000</td>\n",
              "      <td>8.710900e+04</td>\n",
              "      <td>17.000000</td>\n",
              "      <td>41.834312</td>\n",
              "      <td>-87.719150</td>\n",
              "    </tr>\n",
              "    <tr>\n",
              "      <th>50%</th>\n",
              "      <td>1.778754e+06</td>\n",
              "      <td>248313.000000</td>\n",
              "      <td>1.000000</td>\n",
              "      <td>30.000000</td>\n",
              "      <td>26.000000</td>\n",
              "      <td>14.000000</td>\n",
              "      <td>1010.000000</td>\n",
              "      <td>1.442202e+06</td>\n",
              "      <td>28.000000</td>\n",
              "      <td>41.892679</td>\n",
              "      <td>-87.673321</td>\n",
              "    </tr>\n",
              "    <tr>\n",
              "      <th>75%</th>\n",
              "      <td>2.067578e+06</td>\n",
              "      <td>300243.500000</td>\n",
              "      <td>2.000000</td>\n",
              "      <td>42.000000</td>\n",
              "      <td>41.000000</td>\n",
              "      <td>19.000000</td>\n",
              "      <td>1011.000000</td>\n",
              "      <td>1.816581e+06</td>\n",
              "      <td>40.000000</td>\n",
              "      <td>41.938624</td>\n",
              "      <td>-87.639509</td>\n",
              "    </tr>\n",
              "    <tr>\n",
              "      <th>max</th>\n",
              "      <td>2.456551e+06</td>\n",
              "      <td>397444.000000</td>\n",
              "      <td>417.000000</td>\n",
              "      <td>50.000000</td>\n",
              "      <td>999.000000</td>\n",
              "      <td>181.000000</td>\n",
              "      <td>8340.000000</td>\n",
              "      <td>2.391410e+06</td>\n",
              "      <td>69.000000</td>\n",
              "      <td>42.022660</td>\n",
              "      <td>-87.525872</td>\n",
              "    </tr>\n",
              "  </tbody>\n",
              "</table>\n",
              "</div>\n",
              "      <button class=\"colab-df-convert\" onclick=\"convertToInteractive('df-9aacdc41-7ebf-44a7-a200-0424e64ce7a4')\"\n",
              "              title=\"Convert this dataframe to an interactive table.\"\n",
              "              style=\"display:none;\">\n",
              "        \n",
              "  <svg xmlns=\"http://www.w3.org/2000/svg\" height=\"24px\"viewBox=\"0 0 24 24\"\n",
              "       width=\"24px\">\n",
              "    <path d=\"M0 0h24v24H0V0z\" fill=\"none\"/>\n",
              "    <path d=\"M18.56 5.44l.94 2.06.94-2.06 2.06-.94-2.06-.94-.94-2.06-.94 2.06-2.06.94zm-11 1L8.5 8.5l.94-2.06 2.06-.94-2.06-.94L8.5 2.5l-.94 2.06-2.06.94zm10 10l.94 2.06.94-2.06 2.06-.94-2.06-.94-.94-2.06-.94 2.06-2.06.94z\"/><path d=\"M17.41 7.96l-1.37-1.37c-.4-.4-.92-.59-1.43-.59-.52 0-1.04.2-1.43.59L10.3 9.45l-7.72 7.72c-.78.78-.78 2.05 0 2.83L4 21.41c.39.39.9.59 1.41.59.51 0 1.02-.2 1.41-.59l7.78-7.78 2.81-2.81c.8-.78.8-2.07 0-2.86zM5.41 20L4 18.59l7.72-7.72 1.47 1.35L5.41 20z\"/>\n",
              "  </svg>\n",
              "      </button>\n",
              "      \n",
              "  <style>\n",
              "    .colab-df-container {\n",
              "      display:flex;\n",
              "      flex-wrap:wrap;\n",
              "      gap: 12px;\n",
              "    }\n",
              "\n",
              "    .colab-df-convert {\n",
              "      background-color: #E8F0FE;\n",
              "      border: none;\n",
              "      border-radius: 50%;\n",
              "      cursor: pointer;\n",
              "      display: none;\n",
              "      fill: #1967D2;\n",
              "      height: 32px;\n",
              "      padding: 0 0 0 0;\n",
              "      width: 32px;\n",
              "    }\n",
              "\n",
              "    .colab-df-convert:hover {\n",
              "      background-color: #E2EBFA;\n",
              "      box-shadow: 0px 1px 2px rgba(60, 64, 67, 0.3), 0px 1px 3px 1px rgba(60, 64, 67, 0.15);\n",
              "      fill: #174EA6;\n",
              "    }\n",
              "\n",
              "    [theme=dark] .colab-df-convert {\n",
              "      background-color: #3B4455;\n",
              "      fill: #D2E3FC;\n",
              "    }\n",
              "\n",
              "    [theme=dark] .colab-df-convert:hover {\n",
              "      background-color: #434B5C;\n",
              "      box-shadow: 0px 1px 3px 1px rgba(0, 0, 0, 0.15);\n",
              "      filter: drop-shadow(0px 1px 2px rgba(0, 0, 0, 0.3));\n",
              "      fill: #FFFFFF;\n",
              "    }\n",
              "  </style>\n",
              "\n",
              "      <script>\n",
              "        const buttonEl =\n",
              "          document.querySelector('#df-9aacdc41-7ebf-44a7-a200-0424e64ce7a4 button.colab-df-convert');\n",
              "        buttonEl.style.display =\n",
              "          google.colab.kernel.accessAllowed ? 'block' : 'none';\n",
              "\n",
              "        async function convertToInteractive(key) {\n",
              "          const element = document.querySelector('#df-9aacdc41-7ebf-44a7-a200-0424e64ce7a4');\n",
              "          const dataTable =\n",
              "            await google.colab.kernel.invokeFunction('convertToInteractive',\n",
              "                                                     [key], {});\n",
              "          if (!dataTable) return;\n",
              "\n",
              "          const docLinkHtml = 'Like what you see? Visit the ' +\n",
              "            '<a target=\"_blank\" href=https://colab.research.google.com/notebooks/data_table.ipynb>data table notebook</a>'\n",
              "            + ' to learn more about interactive tables.';\n",
              "          element.innerHTML = '';\n",
              "          dataTable['output_type'] = 'display_data';\n",
              "          await google.colab.output.renderOutput(dataTable, element);\n",
              "          const docLink = document.createElement('div');\n",
              "          docLink.innerHTML = docLinkHtml;\n",
              "          element.appendChild(docLink);\n",
              "        }\n",
              "      </script>\n",
              "    </div>\n",
              "  </div>\n",
              "  "
            ]
          },
          "metadata": {},
          "execution_count": 9
        }
      ]
    },
    {
      "cell_type": "markdown",
      "source": [
        "**In Data Analysis What All Things We Do**\n",
        "1.   Missing Values\n",
        "2.   Explore About the Numerical Variables\n",
        "3.   Explore About categorical Variables\n",
        "4.   Finding Relationship between features"
      ],
      "metadata": {
        "id": "sVqan05qP1Ba"
      }
    },
    {
      "cell_type": "code",
      "source": [
        "sns.heatmap(df.isnull(),yticklabels=False,cbar=False,cmap='viridis')"
      ],
      "metadata": {
        "colab": {
          "base_uri": "https://localhost:8080/",
          "height": 475
        },
        "id": "jOEarMiEFcI5",
        "outputId": "9f0b4149-5731-4b0a-c129-59158ccfaeac"
      },
      "execution_count": 10,
      "outputs": [
        {
          "output_type": "execute_result",
          "data": {
            "text/plain": [
              "<matplotlib.axes._subplots.AxesSubplot at 0x7f6de72bca50>"
            ]
          },
          "metadata": {},
          "execution_count": 10
        },
        {
          "output_type": "display_data",
          "data": {
            "text/plain": [
              "<Figure size 432x288 with 1 Axes>"
            ],
            "image/png": "[encoded data removed]"
          },
          "metadata": {
            "needs_background": "light"
          }
        }
      ]
    },
    {
      "cell_type": "markdown",
      "source": [
        "**Heat map**\n"
      ],
      "metadata": {
        "id": "NgNqVetZSQuE"
      }
    },
    {
      "cell_type": "markdown",
      "source": [
        "**Compute the correlation matrix**"
      ],
      "metadata": {
        "id": "SKWGrO5xSQuF"
      }
    },
    {
      "cell_type": "code",
      "source": [
        "# Drop id column\n",
        "\n",
        "df.corr()"
      ],
      "metadata": {
        "colab": {
          "base_uri": "https://localhost:8080/",
          "height": 490
        },
        "outputId": "39a6ec8f-4709-4ae9-b9f1-bb06a4c76740",
        "id": "hqQT4Z1FSQuG"
      },
      "execution_count": 11,
      "outputs": [
        {
          "output_type": "execute_result",
          "data": {
            "text/plain": [
              "                 LICENSE ID  ACCOUNT NUMBER  SITE NUMBER      WARD  PRECINCT  \\\n",
              "LICENSE ID         1.000000        0.359277     0.067159  0.005275 -0.138596   \n",
              "ACCOUNT NUMBER     0.359277        1.000000    -0.149178  0.009602 -0.094132   \n",
              "SITE NUMBER        0.067159       -0.149178     1.000000 -0.015393 -0.030387   \n",
              "WARD               0.005275        0.009602    -0.015393  1.000000  0.053996   \n",
              "PRECINCT          -0.138596       -0.094132    -0.030387  0.053996  1.000000   \n",
              "POLICE DISTRICT   -0.041838       -0.029867     0.011103  0.487728  0.184356   \n",
              "LICENSE CODE       0.010405        0.063140     0.109418 -0.040709 -0.026586   \n",
              "LICENSE NUMBER     0.476062        0.790922     0.042001  0.007125 -0.121079   \n",
              "SSA                0.034191        0.051646     0.023474 -0.147276  0.095194   \n",
              "LATITUDE          -0.023492       -0.012561    -0.005174  0.667520  0.097531   \n",
              "LONGITUDE          0.004883        0.017993     0.042247 -0.233630 -0.105979   \n",
              "\n",
              "                 POLICE DISTRICT  LICENSE CODE  LICENSE NUMBER       SSA  \\\n",
              "LICENSE ID             -0.041838      0.010405        0.476062  0.034191   \n",
              "ACCOUNT NUMBER         -0.029867      0.063140        0.790922  0.051646   \n",
              "SITE NUMBER             0.011103      0.109418        0.042001  0.023474   \n",
              "WARD                    0.487728     -0.040709        0.007125 -0.147276   \n",
              "PRECINCT                0.184356     -0.026586       -0.121079  0.095194   \n",
              "POLICE DISTRICT         1.000000      0.048442       -0.042338 -0.014021   \n",
              "LICENSE CODE            0.048442      1.000000        0.069720  0.062682   \n",
              "LICENSE NUMBER         -0.042338      0.069720        1.000000  0.047638   \n",
              "SSA                    -0.014021      0.062682        0.047638  1.000000   \n",
              "LATITUDE                0.619882     -0.009484       -0.010265 -0.039811   \n",
              "LONGITUDE              -0.455247     -0.001010        0.029111  0.078811   \n",
              "\n",
              "                 LATITUDE  LONGITUDE  \n",
              "LICENSE ID      -0.023492   0.004883  \n",
              "ACCOUNT NUMBER  -0.012561   0.017993  \n",
              "SITE NUMBER     -0.005174   0.042247  \n",
              "WARD             0.667520  -0.233630  \n",
              "PRECINCT         0.097531  -0.105979  \n",
              "POLICE DISTRICT  0.619882  -0.455247  \n",
              "LICENSE CODE    -0.009484  -0.001010  \n",
              "LICENSE NUMBER  -0.010265   0.029111  \n",
              "SSA             -0.039811   0.078811  \n",
              "LATITUDE         1.000000  -0.404510  \n",
              "LONGITUDE       -0.404510   1.000000  "
            ],
            "text/html": [
              "\n",
              "  <div id=\"df-bcc99f2d-7fe8-4824-a97b-eecb563d0c8e\">\n",
              "    <div class=\"colab-df-container\">\n",
              "      <div>\n",
              "<style scoped>\n",
              "    .dataframe tbody tr th:only-of-type {\n",
              "        vertical-align: middle;\n",
              "    }\n",
              "\n",
              "    .dataframe tbody tr th {\n",
              "        vertical-align: top;\n",
              "    }\n",
              "\n",
              "    .dataframe thead th {\n",
              "        text-align: right;\n",
              "    }\n",
              "</style>\n",
              "<table border=\"1\" class=\"dataframe\">\n",
              "  <thead>\n",
              "    <tr style=\"text-align: right;\">\n",
              "      <th></th>\n",
              "      <th>LICENSE ID</th>\n",
              "      <th>ACCOUNT NUMBER</th>\n",
              "      <th>SITE NUMBER</th>\n",
              "      <th>WARD</th>\n",
              "      <th>PRECINCT</th>\n",
              "      <th>POLICE DISTRICT</th>\n",
              "      <th>LICENSE CODE</th>\n",
              "      <th>LICENSE NUMBER</th>\n",
              "      <th>SSA</th>\n",
              "      <th>LATITUDE</th>\n",
              "      <th>LONGITUDE</th>\n",
              "    </tr>\n",
              "  </thead>\n",
              "  <tbody>\n",
              "    <tr>\n",
              "      <th>LICENSE ID</th>\n",
              "      <td>1.000000</td>\n",
              "      <td>0.359277</td>\n",
              "      <td>0.067159</td>\n",
              "      <td>0.005275</td>\n",
              "      <td>-0.138596</td>\n",
              "      <td>-0.041838</td>\n",
              "      <td>0.010405</td>\n",
              "      <td>0.476062</td>\n",
              "      <td>0.034191</td>\n",
              "      <td>-0.023492</td>\n",
              "      <td>0.004883</td>\n",
              "    </tr>\n",
              "    <tr>\n",
              "      <th>ACCOUNT NUMBER</th>\n",
              "      <td>0.359277</td>\n",
              "      <td>1.000000</td>\n",
              "      <td>-0.149178</td>\n",
              "      <td>0.009602</td>\n",
              "      <td>-0.094132</td>\n",
              "      <td>-0.029867</td>\n",
              "      <td>0.063140</td>\n",
              "      <td>0.790922</td>\n",
              "      <td>0.051646</td>\n",
              "      <td>-0.012561</td>\n",
              "      <td>0.017993</td>\n",
              "    </tr>\n",
              "    <tr>\n",
              "      <th>SITE NUMBER</th>\n",
              "      <td>0.067159</td>\n",
              "      <td>-0.149178</td>\n",
              "      <td>1.000000</td>\n",
              "      <td>-0.015393</td>\n",
              "      <td>-0.030387</td>\n",
              "      <td>0.011103</td>\n",
              "      <td>0.109418</td>\n",
              "      <td>0.042001</td>\n",
              "      <td>0.023474</td>\n",
              "      <td>-0.005174</td>\n",
              "      <td>0.042247</td>\n",
              "    </tr>\n",
              "    <tr>\n",
              "      <th>WARD</th>\n",
              "      <td>0.005275</td>\n",
              "      <td>0.009602</td>\n",
              "      <td>-0.015393</td>\n",
              "      <td>1.000000</td>\n",
              "      <td>0.053996</td>\n",
              "      <td>0.487728</td>\n",
              "      <td>-0.040709</td>\n",
              "      <td>0.007125</td>\n",
              "      <td>-0.147276</td>\n",
              "      <td>0.667520</td>\n",
              "      <td>-0.233630</td>\n",
              "    </tr>\n",
              "    <tr>\n",
              "      <th>PRECINCT</th>\n",
              "      <td>-0.138596</td>\n",
              "      <td>-0.094132</td>\n",
              "      <td>-0.030387</td>\n",
              "      <td>0.053996</td>\n",
              "      <td>1.000000</td>\n",
              "      <td>0.184356</td>\n",
              "      <td>-0.026586</td>\n",
              "      <td>-0.121079</td>\n",
              "      <td>0.095194</td>\n",
              "      <td>0.097531</td>\n",
              "      <td>-0.105979</td>\n",
              "    </tr>\n",
              "    <tr>\n",
              "      <th>POLICE DISTRICT</th>\n",
              "      <td>-0.041838</td>\n",
              "      <td>-0.029867</td>\n",
              "      <td>0.011103</td>\n",
              "      <td>0.487728</td>\n",
              "      <td>0.184356</td>\n",
              "      <td>1.000000</td>\n",
              "      <td>0.048442</td>\n",
              "      <td>-0.042338</td>\n",
              "      <td>-0.014021</td>\n",
              "      <td>0.619882</td>\n",
              "      <td>-0.455247</td>\n",
              "    </tr>\n",
              "    <tr>\n",
              "      <th>LICENSE CODE</th>\n",
              "      <td>0.010405</td>\n",
              "      <td>0.063140</td>\n",
              "      <td>0.109418</td>\n",
              "      <td>-0.040709</td>\n",
              "      <td>-0.026586</td>\n",
              "      <td>0.048442</td>\n",
              "      <td>1.000000</td>\n",
              "      <td>0.069720</td>\n",
              "      <td>0.062682</td>\n",
              "      <td>-0.009484</td>\n",
              "      <td>-0.001010</td>\n",
              "    </tr>\n",
              "    <tr>\n",
              "      <th>LICENSE NUMBER</th>\n",
              "      <td>0.476062</td>\n",
              "      <td>0.790922</td>\n",
              "      <td>0.042001</td>\n",
              "      <td>0.007125</td>\n",
              "      <td>-0.121079</td>\n",
              "      <td>-0.042338</td>\n",
              "      <td>0.069720</td>\n",
              "      <td>1.000000</td>\n",
              "      <td>0.047638</td>\n",
              "      <td>-0.010265</td>\n",
              "      <td>0.029111</td>\n",
              "    </tr>\n",
              "    <tr>\n",
              "      <th>SSA</th>\n",
              "      <td>0.034191</td>\n",
              "      <td>0.051646</td>\n",
              "      <td>0.023474</td>\n",
              "      <td>-0.147276</td>\n",
              "      <td>0.095194</td>\n",
              "      <td>-0.014021</td>\n",
              "      <td>0.062682</td>\n",
              "      <td>0.047638</td>\n",
              "      <td>1.000000</td>\n",
              "      <td>-0.039811</td>\n",
              "      <td>0.078811</td>\n",
              "    </tr>\n",
              "    <tr>\n",
              "      <th>LATITUDE</th>\n",
              "      <td>-0.023492</td>\n",
              "      <td>-0.012561</td>\n",
              "      <td>-0.005174</td>\n",
              "      <td>0.667520</td>\n",
              "      <td>0.097531</td>\n",
              "      <td>0.619882</td>\n",
              "      <td>-0.009484</td>\n",
              "      <td>-0.010265</td>\n",
              "      <td>-0.039811</td>\n",
              "      <td>1.000000</td>\n",
              "      <td>-0.404510</td>\n",
              "    </tr>\n",
              "    <tr>\n",
              "      <th>LONGITUDE</th>\n",
              "      <td>0.004883</td>\n",
              "      <td>0.017993</td>\n",
              "      <td>0.042247</td>\n",
              "      <td>-0.233630</td>\n",
              "      <td>-0.105979</td>\n",
              "      <td>-0.455247</td>\n",
              "      <td>-0.001010</td>\n",
              "      <td>0.029111</td>\n",
              "      <td>0.078811</td>\n",
              "      <td>-0.404510</td>\n",
              "      <td>1.000000</td>\n",
              "    </tr>\n",
              "  </tbody>\n",
              "</table>\n",
              "</div>\n",
              "      <button class=\"colab-df-convert\" onclick=\"convertToInteractive('df-bcc99f2d-7fe8-4824-a97b-eecb563d0c8e')\"\n",
              "              title=\"Convert this dataframe to an interactive table.\"\n",
              "              style=\"display:none;\">\n",
              "        \n",
              "  <svg xmlns=\"http://www.w3.org/2000/svg\" height=\"24px\"viewBox=\"0 0 24 24\"\n",
              "       width=\"24px\">\n",
              "    <path d=\"M0 0h24v24H0V0z\" fill=\"none\"/>\n",
              "    <path d=\"M18.56 5.44l.94 2.06.94-2.06 2.06-.94-2.06-.94-.94-2.06-.94 2.06-2.06.94zm-11 1L8.5 8.5l.94-2.06 2.06-.94-2.06-.94L8.5 2.5l-.94 2.06-2.06.94zm10 10l.94 2.06.94-2.06 2.06-.94-2.06-.94-.94-2.06-.94 2.06-2.06.94z\"/><path d=\"M17.41 7.96l-1.37-1.37c-.4-.4-.92-.59-1.43-.59-.52 0-1.04.2-1.43.59L10.3 9.45l-7.72 7.72c-.78.78-.78 2.05 0 2.83L4 21.41c.39.39.9.59 1.41.59.51 0 1.02-.2 1.41-.59l7.78-7.78 2.81-2.81c.8-.78.8-2.07 0-2.86zM5.41 20L4 18.59l7.72-7.72 1.47 1.35L5.41 20z\"/>\n",
              "  </svg>\n",
              "      </button>\n",
              "      \n",
              "  <style>\n",
              "    .colab-df-container {\n",
              "      display:flex;\n",
              "      flex-wrap:wrap;\n",
              "      gap: 12px;\n",
              "    }\n",
              "\n",
              "    .colab-df-convert {\n",
              "      background-color: #E8F0FE;\n",
              "      border: none;\n",
              "      border-radius: 50%;\n",
              "      cursor: pointer;\n",
              "      display: none;\n",
              "      fill: #1967D2;\n",
              "      height: 32px;\n",
              "      padding: 0 0 0 0;\n",
              "      width: 32px;\n",
              "    }\n",
              "\n",
              "    .colab-df-convert:hover {\n",
              "      background-color: #E2EBFA;\n",
              "      box-shadow: 0px 1px 2px rgba(60, 64, 67, 0.3), 0px 1px 3px 1px rgba(60, 64, 67, 0.15);\n",
              "      fill: #174EA6;\n",
              "    }\n",
              "\n",
              "    [theme=dark] .colab-df-convert {\n",
              "      background-color: #3B4455;\n",
              "      fill: #D2E3FC;\n",
              "    }\n",
              "\n",
              "    [theme=dark] .colab-df-convert:hover {\n",
              "      background-color: #434B5C;\n",
              "      box-shadow: 0px 1px 3px 1px rgba(0, 0, 0, 0.15);\n",
              "      filter: drop-shadow(0px 1px 2px rgba(0, 0, 0, 0.3));\n",
              "      fill: #FFFFFF;\n",
              "    }\n",
              "  </style>\n",
              "\n",
              "      <script>\n",
              "        const buttonEl =\n",
              "          document.querySelector('#df-bcc99f2d-7fe8-4824-a97b-eecb563d0c8e button.colab-df-convert');\n",
              "        buttonEl.style.display =\n",
              "          google.colab.kernel.accessAllowed ? 'block' : 'none';\n",
              "\n",
              "        async function convertToInteractive(key) {\n",
              "          const element = document.querySelector('#df-bcc99f2d-7fe8-4824-a97b-eecb563d0c8e');\n",
              "          const dataTable =\n",
              "            await google.colab.kernel.invokeFunction('convertToInteractive',\n",
              "                                                     [key], {});\n",
              "          if (!dataTable) return;\n",
              "\n",
              "          const docLinkHtml = 'Like what you see? Visit the ' +\n",
              "            '<a target=\"_blank\" href=https://colab.research.google.com/notebooks/data_table.ipynb>data table notebook</a>'\n",
              "            + ' to learn more about interactive tables.';\n",
              "          element.innerHTML = '';\n",
              "          dataTable['output_type'] = 'display_data';\n",
              "          await google.colab.output.renderOutput(dataTable, element);\n",
              "          const docLink = document.createElement('div');\n",
              "          docLink.innerHTML = docLinkHtml;\n",
              "          element.appendChild(docLink);\n",
              "        }\n",
              "      </script>\n",
              "    </div>\n",
              "  </div>\n",
              "  "
            ]
          },
          "metadata": {},
          "execution_count": 11
        }
      ]
    },
    {
      "cell_type": "markdown",
      "source": [
        "**Make the heat map**"
      ],
      "metadata": {
        "id": "vTdqxo6NSVUb"
      }
    },
    {
      "cell_type": "code",
      "source": [
        "# plotting correlation heatmap\n",
        "dataplot = sns.heatmap(df.corr(), cmap=\"YlGnBu\", annot=True)\n",
        "  \n",
        "# displaying heatmap\n",
        "plt.show()"
      ],
      "metadata": {
        "colab": {
          "base_uri": "https://localhost:8080/",
          "height": 355
        },
        "outputId": "5d6f15ac-4e08-4cf1-dec7-2e93fe2ed5e2",
        "id": "6Rvr9LDESVUc"
      },
      "execution_count": 14,
      "outputs": [
        {
          "output_type": "display_data",
          "data": {
            "text/plain": [
              "<Figure size 432x288 with 2 Axes>"
            ],
            "image/png": "[encoded data removed]"
          },
          "metadata": {
            "needs_background": "light"
          }
        }
      ]
    },
    {
      "cell_type": "markdown",
      "source": [
        "**box Plot**"
      ],
      "metadata": {
        "id": "m6XeYpNRScYp"
      }
    },
    {
      "cell_type": "code",
      "source": [
        "df.plot.box()"
      ],
      "metadata": {
        "colab": {
          "base_uri": "https://localhost:8080/",
          "height": 348
        },
        "id": "7MZm4k0_Si-m",
        "outputId": "30108c0c-93b1-44a9-a7b9-0303c15cd644"
      },
      "execution_count": 15,
      "outputs": [
        {
          "output_type": "stream",
          "name": "stderr",
          "text": [
            "/usr/local/lib/python3.7/dist-packages/matplotlib/cbook/__init__.py:1376: VisibleDeprecationWarning: Creating an ndarray from ragged nested sequences (which is a list-or-tuple of lists-or-tuples-or ndarrays with different lengths or shapes) is deprecated. If you meant to do this, you must specify 'dtype=object' when creating the ndarray.\n",
            "  X = np.atleast_1d(X.T if isinstance(X, np.ndarray) else np.asarray(X))\n"
          ]
        },
        {
          "output_type": "execute_result",
          "data": {
            "text/plain": [
              "<matplotlib.axes._subplots.AxesSubplot at 0x7f6de28edcd0>"
            ]
          },
          "metadata": {},
          "execution_count": 15
        },
        {
          "output_type": "display_data",
          "data": {
            "text/plain": [
              "<Figure size 432x288 with 1 Axes>"
            ],
            "image/png": "[encoded data removed]"
          },
          "metadata": {
            "needs_background": "light"
          }
        }
      ]
    },
    {
      "cell_type": "code",
      "source": [
        "df['CONDITIONAL APPROVAL'].unique()"
      ],
      "metadata": {
        "id": "2Is5lVS5tLR9",
        "colab": {
          "base_uri": "https://localhost:8080/"
        },
        "outputId": "748032d7-5aca-4b74-cf7a-a7755a644697"
      },
      "execution_count": 16,
      "outputs": [
        {
          "output_type": "execute_result",
          "data": {
            "text/plain": [
              "array(['N', 'Y'], dtype=object)"
            ]
          },
          "metadata": {},
          "execution_count": 16
        }
      ]
    },
    {
      "cell_type": "code",
      "source": [
        "##HAndling categorical feature CONDITIONAL APPROVAL\n",
        "df['CONDITIONAL APPROVAL']=df['CONDITIONAL APPROVAL'].map({'N':0,'Y':1})\n",
        "df.head()"
      ],
      "metadata": {
        "colab": {
          "base_uri": "https://localhost:8080/",
          "height": 525
        },
        "id": "HDIswqvRUNp2",
        "outputId": "8bf687e8-494a-4adc-b17a-12678005cdf0"
      },
      "execution_count": 17,
      "outputs": [
        {
          "output_type": "execute_result",
          "data": {
            "text/plain": [
              "                 ID  LICENSE ID  ACCOUNT NUMBER  SITE NUMBER  \\\n",
              "0    35342-20020816     1256593           32811            1   \n",
              "1  1358463-20051116     1639294          262311           29   \n",
              "2  1980233-20090722     1980233          345008            1   \n",
              "3  1476582-20040211     1476582          273121            1   \n",
              "4  1141408-20080516     1896750          213785            1   \n",
              "\n",
              "                     LEGAL NAME        DOING BUSINESS AS NAME  \\\n",
              "0                  CARMEN CAHUE         CLAUDIA'S BRIDAL SHOP   \n",
              "1           ISLA TROPICAL, INC.                 ISLA TROPICAL   \n",
              "2                DJS REMODELING          DJS REMODELING, INC.   \n",
              "3      ALL-BRY CONSTRUCTION CO.      ALL-BRY CONSTRUCTION CO.   \n",
              "4  MCDONOUGH MECHANICAL SERVICE  MCDONOUGH MECHANICAL SERVICE   \n",
              "\n",
              "                      ADDRESS      CITY STATE ZIP CODE  ...  \\\n",
              "0  2625 S CENTRAL PARK AVE  1   CHICAGO    IL  60623.0  ...   \n",
              "1         2825 W MONTROSE AVE   CHICAGO    IL    60618  ...   \n",
              "2           1605  CLAVEY RD 1  HIGHLAND    IL    60035  ...   \n",
              "3              8  NORTH TRAIL    LEMONT    IL    60439  ...   \n",
              "4             4081  JOSEPH DR  WAUKEGAN    IL    60087  ...   \n",
              "\n",
              "   LICENSE TERM START DATE  LICENSE TERM EXPIRATION DATE  \\\n",
              "0      2002-08-16T00:00:00           2003-08-15T00:00:00   \n",
              "1      2005-11-16T00:00:00           2006-11-15T00:00:00   \n",
              "2      2009-07-22T00:00:00           2011-07-15T00:00:00   \n",
              "3      2004-02-11T00:00:00           2005-02-15T00:00:00   \n",
              "4      2008-05-16T00:00:00           2010-05-15T00:00:00   \n",
              "\n",
              "  LICENSE APPROVED FOR ISSUANCE          DATE ISSUED  \\\n",
              "0           2002-08-21T00:00:00  2006-04-11T00:00:00   \n",
              "1           2006-04-05T00:00:00  2006-06-12T00:00:00   \n",
              "2           2009-07-22T00:00:00  2009-07-22T00:00:00   \n",
              "3           2004-02-10T00:00:00  2004-02-11T00:00:00   \n",
              "4           2008-06-04T00:00:00  2008-06-05T00:00:00   \n",
              "\n",
              "   LICENSE STATUS CHANGE DATE   SSA   LATITUDE  LONGITUDE  \\\n",
              "0                         NaN  25.0  41.843613 -87.714618   \n",
              "1         2006-06-15T00:00:00  60.0  41.961132 -87.699626   \n",
              "2                         NaN   NaN        NaN        NaN   \n",
              "3                         NaN   NaN        NaN        NaN   \n",
              "4                         NaN   NaN        NaN        NaN   \n",
              "\n",
              "                                            LOCATION LICENSE STATUS  \n",
              "0  {'latitude': '41.843612879431845', 'longitude'...            AAI  \n",
              "1  {'latitude': '41.96113244107215', 'longitude':...            AAC  \n",
              "2                                                NaN            AAI  \n",
              "3                                                NaN            AAI  \n",
              "4                                                NaN            AAI  \n",
              "\n",
              "[5 rows x 32 columns]"
            ],
            "text/html": [
              "\n",
              "  <div id=\"df-a8c2d108-a54f-4982-9928-4a76a9ae6e35\">\n",
              "    <div class=\"colab-df-container\">\n",
              "      <div>\n",
              "<style scoped>\n",
              "    .dataframe tbody tr th:only-of-type {\n",
              "        vertical-align: middle;\n",
              "    }\n",
              "\n",
              "    .dataframe tbody tr th {\n",
              "        vertical-align: top;\n",
              "    }\n",
              "\n",
              "    .dataframe thead th {\n",
              "        text-align: right;\n",
              "    }\n",
              "</style>\n",
              "<table border=\"1\" class=\"dataframe\">\n",
              "  <thead>\n",
              "    <tr style=\"text-align: right;\">\n",
              "      <th></th>\n",
              "      <th>ID</th>\n",
              "      <th>LICENSE ID</th>\n",
              "      <th>ACCOUNT NUMBER</th>\n",
              "      <th>SITE NUMBER</th>\n",
              "      <th>LEGAL NAME</th>\n",
              "      <th>DOING BUSINESS AS NAME</th>\n",
              "      <th>ADDRESS</th>\n",
              "      <th>CITY</th>\n",
              "      <th>STATE</th>\n",
              "      <th>ZIP CODE</th>\n",
              "      <th>...</th>\n",
              "      <th>LICENSE TERM START DATE</th>\n",
              "      <th>LICENSE TERM EXPIRATION DATE</th>\n",
              "      <th>LICENSE APPROVED FOR ISSUANCE</th>\n",
              "      <th>DATE ISSUED</th>\n",
              "      <th>LICENSE STATUS CHANGE DATE</th>\n",
              "      <th>SSA</th>\n",
              "      <th>LATITUDE</th>\n",
              "      <th>LONGITUDE</th>\n",
              "      <th>LOCATION</th>\n",
              "      <th>LICENSE STATUS</th>\n",
              "    </tr>\n",
              "  </thead>\n",
              "  <tbody>\n",
              "    <tr>\n",
              "      <th>0</th>\n",
              "      <td>35342-20020816</td>\n",
              "      <td>1256593</td>\n",
              "      <td>32811</td>\n",
              "      <td>1</td>\n",
              "      <td>CARMEN CAHUE</td>\n",
              "      <td>CLAUDIA'S BRIDAL SHOP</td>\n",
              "      <td>2625 S CENTRAL PARK AVE  1</td>\n",
              "      <td>CHICAGO</td>\n",
              "      <td>IL</td>\n",
              "      <td>60623.0</td>\n",
              "      <td>...</td>\n",
              "      <td>2002-08-16T00:00:00</td>\n",
              "      <td>2003-08-15T00:00:00</td>\n",
              "      <td>2002-08-21T00:00:00</td>\n",
              "      <td>2006-04-11T00:00:00</td>\n",
              "      <td>NaN</td>\n",
              "      <td>25.0</td>\n",
              "      <td>41.843613</td>\n",
              "      <td>-87.714618</td>\n",
              "      <td>{'latitude': '41.843612879431845', 'longitude'...</td>\n",
              "      <td>AAI</td>\n",
              "    </tr>\n",
              "    <tr>\n",
              "      <th>1</th>\n",
              "      <td>1358463-20051116</td>\n",
              "      <td>1639294</td>\n",
              "      <td>262311</td>\n",
              "      <td>29</td>\n",
              "      <td>ISLA TROPICAL, INC.</td>\n",
              "      <td>ISLA TROPICAL</td>\n",
              "      <td>2825 W MONTROSE AVE</td>\n",
              "      <td>CHICAGO</td>\n",
              "      <td>IL</td>\n",
              "      <td>60618</td>\n",
              "      <td>...</td>\n",
              "      <td>2005-11-16T00:00:00</td>\n",
              "      <td>2006-11-15T00:00:00</td>\n",
              "      <td>2006-04-05T00:00:00</td>\n",
              "      <td>2006-06-12T00:00:00</td>\n",
              "      <td>2006-06-15T00:00:00</td>\n",
              "      <td>60.0</td>\n",
              "      <td>41.961132</td>\n",
              "      <td>-87.699626</td>\n",
              "      <td>{'latitude': '41.96113244107215', 'longitude':...</td>\n",
              "      <td>AAC</td>\n",
              "    </tr>\n",
              "    <tr>\n",
              "      <th>2</th>\n",
              "      <td>1980233-20090722</td>\n",
              "      <td>1980233</td>\n",
              "      <td>345008</td>\n",
              "      <td>1</td>\n",
              "      <td>DJS REMODELING</td>\n",
              "      <td>DJS REMODELING, INC.</td>\n",
              "      <td>1605  CLAVEY RD 1</td>\n",
              "      <td>HIGHLAND</td>\n",
              "      <td>IL</td>\n",
              "      <td>60035</td>\n",
              "      <td>...</td>\n",
              "      <td>2009-07-22T00:00:00</td>\n",
              "      <td>2011-07-15T00:00:00</td>\n",
              "      <td>2009-07-22T00:00:00</td>\n",
              "      <td>2009-07-22T00:00:00</td>\n",
              "      <td>NaN</td>\n",
              "      <td>NaN</td>\n",
              "      <td>NaN</td>\n",
              "      <td>NaN</td>\n",
              "      <td>NaN</td>\n",
              "      <td>AAI</td>\n",
              "    </tr>\n",
              "    <tr>\n",
              "      <th>3</th>\n",
              "      <td>1476582-20040211</td>\n",
              "      <td>1476582</td>\n",
              "      <td>273121</td>\n",
              "      <td>1</td>\n",
              "      <td>ALL-BRY CONSTRUCTION CO.</td>\n",
              "      <td>ALL-BRY CONSTRUCTION CO.</td>\n",
              "      <td>8  NORTH TRAIL</td>\n",
              "      <td>LEMONT</td>\n",
              "      <td>IL</td>\n",
              "      <td>60439</td>\n",
              "      <td>...</td>\n",
              "      <td>2004-02-11T00:00:00</td>\n",
              "      <td>2005-02-15T00:00:00</td>\n",
              "      <td>2004-02-10T00:00:00</td>\n",
              "      <td>2004-02-11T00:00:00</td>\n",
              "      <td>NaN</td>\n",
              "      <td>NaN</td>\n",
              "      <td>NaN</td>\n",
              "      <td>NaN</td>\n",
              "      <td>NaN</td>\n",
              "      <td>AAI</td>\n",
              "    </tr>\n",
              "    <tr>\n",
              "      <th>4</th>\n",
              "      <td>1141408-20080516</td>\n",
              "      <td>1896750</td>\n",
              "      <td>213785</td>\n",
              "      <td>1</td>\n",
              "      <td>MCDONOUGH MECHANICAL SERVICE</td>\n",
              "      <td>MCDONOUGH MECHANICAL SERVICE</td>\n",
              "      <td>4081  JOSEPH DR</td>\n",
              "      <td>WAUKEGAN</td>\n",
              "      <td>IL</td>\n",
              "      <td>60087</td>\n",
              "      <td>...</td>\n",
              "      <td>2008-05-16T00:00:00</td>\n",
              "      <td>2010-05-15T00:00:00</td>\n",
              "      <td>2008-06-04T00:00:00</td>\n",
              "      <td>2008-06-05T00:00:00</td>\n",
              "      <td>NaN</td>\n",
              "      <td>NaN</td>\n",
              "      <td>NaN</td>\n",
              "      <td>NaN</td>\n",
              "      <td>NaN</td>\n",
              "      <td>AAI</td>\n",
              "    </tr>\n",
              "  </tbody>\n",
              "</table>\n",
              "<p>5 rows × 32 columns</p>\n",
              "</div>\n",
              "      <button class=\"colab-df-convert\" onclick=\"convertToInteractive('df-a8c2d108-a54f-4982-9928-4a76a9ae6e35')\"\n",
              "              title=\"Convert this dataframe to an interactive table.\"\n",
              "              style=\"display:none;\">\n",
              "        \n",
              "  <svg xmlns=\"http://www.w3.org/2000/svg\" height=\"24px\"viewBox=\"0 0 24 24\"\n",
              "       width=\"24px\">\n",
              "    <path d=\"M0 0h24v24H0V0z\" fill=\"none\"/>\n",
              "    <path d=\"M18.56 5.44l.94 2.06.94-2.06 2.06-.94-2.06-.94-.94-2.06-.94 2.06-2.06.94zm-11 1L8.5 8.5l.94-2.06 2.06-.94-2.06-.94L8.5 2.5l-.94 2.06-2.06.94zm10 10l.94 2.06.94-2.06 2.06-.94-2.06-.94-.94-2.06-.94 2.06-2.06.94z\"/><path d=\"M17.41 7.96l-1.37-1.37c-.4-.4-.92-.59-1.43-.59-.52 0-1.04.2-1.43.59L10.3 9.45l-7.72 7.72c-.78.78-.78 2.05 0 2.83L4 21.41c.39.39.9.59 1.41.59.51 0 1.02-.2 1.41-.59l7.78-7.78 2.81-2.81c.8-.78.8-2.07 0-2.86zM5.41 20L4 18.59l7.72-7.72 1.47 1.35L5.41 20z\"/>\n",
              "  </svg>\n",
              "      </button>\n",
              "      \n",
              "  <style>\n",
              "    .colab-df-container {\n",
              "      display:flex;\n",
              "      flex-wrap:wrap;\n",
              "      gap: 12px;\n",
              "    }\n",
              "\n",
              "    .colab-df-convert {\n",
              "      background-color: #E8F0FE;\n",
              "      border: none;\n",
              "      border-radius: 50%;\n",
              "      cursor: pointer;\n",
              "      display: none;\n",
              "      fill: #1967D2;\n",
              "      height: 32px;\n",
              "      padding: 0 0 0 0;\n",
              "      width: 32px;\n",
              "    }\n",
              "\n",
              "    .colab-df-convert:hover {\n",
              "      background-color: #E2EBFA;\n",
              "      box-shadow: 0px 1px 2px rgba(60, 64, 67, 0.3), 0px 1px 3px 1px rgba(60, 64, 67, 0.15);\n",
              "      fill: #174EA6;\n",
              "    }\n",
              "\n",
              "    [theme=dark] .colab-df-convert {\n",
              "      background-color: #3B4455;\n",
              "      fill: #D2E3FC;\n",
              "    }\n",
              "\n",
              "    [theme=dark] .colab-df-convert:hover {\n",
              "      background-color: #434B5C;\n",
              "      box-shadow: 0px 1px 3px 1px rgba(0, 0, 0, 0.15);\n",
              "      filter: drop-shadow(0px 1px 2px rgba(0, 0, 0, 0.3));\n",
              "      fill: #FFFFFF;\n",
              "    }\n",
              "  </style>\n",
              "\n",
              "      <script>\n",
              "        const buttonEl =\n",
              "          document.querySelector('#df-a8c2d108-a54f-4982-9928-4a76a9ae6e35 button.colab-df-convert');\n",
              "        buttonEl.style.display =\n",
              "          google.colab.kernel.accessAllowed ? 'block' : 'none';\n",
              "\n",
              "        async function convertToInteractive(key) {\n",
              "          const element = document.querySelector('#df-a8c2d108-a54f-4982-9928-4a76a9ae6e35');\n",
              "          const dataTable =\n",
              "            await google.colab.kernel.invokeFunction('convertToInteractive',\n",
              "                                                     [key], {});\n",
              "          if (!dataTable) return;\n",
              "\n",
              "          const docLinkHtml = 'Like what you see? Visit the ' +\n",
              "            '<a target=\"_blank\" href=https://colab.research.google.com/notebooks/data_table.ipynb>data table notebook</a>'\n",
              "            + ' to learn more about interactive tables.';\n",
              "          element.innerHTML = '';\n",
              "          dataTable['output_type'] = 'display_data';\n",
              "          await google.colab.output.renderOutput(dataTable, element);\n",
              "          const docLink = document.createElement('div');\n",
              "          docLink.innerHTML = docLinkHtml;\n",
              "          element.appendChild(docLink);\n",
              "        }\n",
              "      </script>\n",
              "    </div>\n",
              "  </div>\n",
              "  "
            ]
          },
          "metadata": {},
          "execution_count": 17
        }
      ]
    },
    {
      "cell_type": "code",
      "source": [
        "# find Object type of features\n",
        "categorical_columns = df.select_dtypes(include=['object']).columns\n",
        "categorical_columns"
      ],
      "metadata": {
        "colab": {
          "base_uri": "https://localhost:8080/"
        },
        "id": "PKAoq_f64_nK",
        "outputId": "d4b2d1cc-a9d7-432a-d082-005617064546"
      },
      "execution_count": 18,
      "outputs": [
        {
          "output_type": "execute_result",
          "data": {
            "text/plain": [
              "Index(['ID', 'LEGAL NAME', 'DOING BUSINESS AS NAME', 'ADDRESS', 'CITY',\n",
              "       'STATE', 'ZIP CODE', 'WARD PRECINCT', 'LICENSE DESCRIPTION',\n",
              "       'APPLICATION TYPE', 'APPLICATION CREATED DATE',\n",
              "       'APPLICATION REQUIREMENTS COMPLETE', 'PAYMENT DATE',\n",
              "       'LICENSE TERM START DATE', 'LICENSE TERM EXPIRATION DATE',\n",
              "       'LICENSE APPROVED FOR ISSUANCE', 'DATE ISSUED',\n",
              "       'LICENSE STATUS CHANGE DATE', 'LOCATION', 'LICENSE STATUS'],\n",
              "      dtype='object')"
            ]
          },
          "metadata": {},
          "execution_count": 18
        }
      ]
    },
    {
      "cell_type": "code",
      "source": [
        "## APPLICATION TYPE replace missing values\n",
        "print(df['APPLICATION TYPE'].unique())\n",
        "print()\n",
        "print(df['APPLICATION TYPE'].value_counts())"
      ],
      "metadata": {
        "colab": {
          "base_uri": "https://localhost:8080/"
        },
        "id": "VVAmRSQYEEzC",
        "outputId": "16c55144-00b4-408c-fd5e-446384a138f8"
      },
      "execution_count": 19,
      "outputs": [
        {
          "output_type": "stream",
          "name": "stdout",
          "text": [
            "['RENEW' 'ISSUE' 'C_LOC' 'C_EXPA' 'C_CAPA']\n",
            "\n",
            "RENEW     61085\n",
            "ISSUE     23398\n",
            "C_LOC      1400\n",
            "C_CAPA        7\n",
            "C_EXPA        5\n",
            "Name: APPLICATION TYPE, dtype: int64\n"
          ]
        }
      ]
    },
    {
      "cell_type": "code",
      "source": [
        "## LICENSE DESCRIPTION replace missing values\n",
        "df['LICENSE DESCRIPTION'].unique().shape"
      ],
      "metadata": {
        "colab": {
          "base_uri": "https://localhost:8080/"
        },
        "id": "wuixzkQbG4ed",
        "outputId": "319a26ac-4c61-4f94-89c3-25a0ba87e026"
      },
      "execution_count": 20,
      "outputs": [
        {
          "output_type": "execute_result",
          "data": {
            "text/plain": [
              "(106,)"
            ]
          },
          "metadata": {},
          "execution_count": 20
        }
      ]
    },
    {
      "cell_type": "code",
      "source": [
        "# LICENSE STATUS\n",
        "df['LICENSE STATUS'].unique()"
      ],
      "metadata": {
        "colab": {
          "base_uri": "https://localhost:8080/"
        },
        "id": "YpSa1d-QaTmQ",
        "outputId": "a262cd71-80ad-4978-e670-9e7b4e65b9d0"
      },
      "execution_count": 21,
      "outputs": [
        {
          "output_type": "execute_result",
          "data": {
            "text/plain": [
              "array(['AAI', 'AAC', 'REV', 'REA', 'INQ'], dtype=object)"
            ]
          },
          "metadata": {},
          "execution_count": 21
        }
      ]
    },
    {
      "cell_type": "markdown",
      "source": [
        "**Replace the missing values with mode on missing values - WARD, PRECINCT, POLICE DISTRICT, LICENSE CODE**"
      ],
      "metadata": {
        "id": "WRq32hI53TGq"
      }
    },
    {
      "cell_type": "code",
      "source": [
        "## Replace the missing values with mode for INT64\n",
        "df['WARD']=df['WARD'].fillna(df['WARD'].mode()[0])\n",
        "df['PRECINCT']=df['PRECINCT'].fillna(df['PRECINCT'].mode()[0])\n",
        "df['POLICE DISTRICT']=df['POLICE DISTRICT'].fillna(df['POLICE DISTRICT'].mode()[0])\n",
        "df['LICENSE CODE']=df['LICENSE CODE'].fillna(df['LICENSE CODE'].mode()[0])"
      ],
      "metadata": {
        "id": "mmrcwo0f1e5i"
      },
      "execution_count": 22,
      "outputs": []
    },
    {
      "cell_type": "code",
      "source": [
        "## Replace the missing values with mode for float64\n",
        "\n",
        "df['LICENSE NUMBER']=df['LICENSE NUMBER'].fillna(df['LICENSE NUMBER'].mean())\n",
        "df['SSA']=df['SSA'].fillna(df['SSA'].median())\n",
        "df['LATITUDE']=df['LATITUDE'].fillna(df['LATITUDE'].median())\n",
        "df['LONGITUDE']=df['LONGITUDE'].fillna(df['LONGITUDE'].median())"
      ],
      "metadata": {
        "id": "dDSFuM2n36oV"
      },
      "execution_count": 23,
      "outputs": []
    },
    {
      "cell_type": "markdown",
      "source": [
        "**Type cast ZIP CODE from object to int64**"
      ],
      "metadata": {
        "id": "G6yrwViY9Doq"
      }
    },
    {
      "cell_type": "code",
      "source": [
        "# df['ZIP CODE']=df['ZIP CODE'].astype(float)\n",
        "\n",
        "df['ZIP CODE'].unique().shape"
      ],
      "metadata": {
        "colab": {
          "base_uri": "https://localhost:8080/"
        },
        "id": "CcnaOtDC54E6",
        "outputId": "6b1ad31b-383e-42bf-8138-8b844abc64aa"
      },
      "execution_count": 24,
      "outputs": [
        {
          "output_type": "execute_result",
          "data": {
            "text/plain": [
              "(2457,)"
            ]
          },
          "metadata": {},
          "execution_count": 24
        }
      ]
    },
    {
      "cell_type": "code",
      "source": [
        "for i in df['ZIP CODE']:\n",
        "  if isinstance(i, np.float64):\n",
        "    df['ZIP CODE'] = df['ZIP CODE'].replace(np.nan, 0)\n",
        "  \n",
        "# df['ZIP CODE'] = df['ZIP CODE'].astype(float)\n",
        "  \n",
        "#df['ZIP CODE'].fillna(df['ZIP CODE'].median()"
      ],
      "metadata": {
        "id": "Fma_cpL254Jr"
      },
      "execution_count": 25,
      "outputs": []
    },
    {
      "cell_type": "code",
      "source": [
        "# str_char = ['L5K', 'J3Y8Y', 'H2T2V', 'H3P3C', 'M4N', 'T5H2E', 'H3P']\n",
        "for i in df['ZIP CODE']:\n",
        "  if 'T5H2E' in str(i):\n",
        "    df['ZIP CODE'] = df['ZIP CODE'].replace('T5H2E', 0)"
      ],
      "metadata": {
        "id": "N8VfLQCCbMMt"
      },
      "execution_count": 34,
      "outputs": []
    },
    {
      "cell_type": "code",
      "source": [
        "df['ZIP CODE'] = df['ZIP CODE'].astype(np.float64)"
      ],
      "metadata": {
        "id": "Z4pddRNHbsvU"
      },
      "execution_count": 35,
      "outputs": []
    },
    {
      "cell_type": "code",
      "source": [
        "df['ZIP CODE']=df['ZIP CODE'].fillna(df['ZIP CODE'].median())"
      ],
      "metadata": {
        "id": "dDx1rmQP_EGf"
      },
      "execution_count": 36,
      "outputs": []
    },
    {
      "cell_type": "code",
      "source": [
        "df['ZIP CODE'].isnull().sum()"
      ],
      "metadata": {
        "colab": {
          "base_uri": "https://localhost:8080/"
        },
        "id": "7VYx5Gsf_q86",
        "outputId": "6a2b3fdb-3942-459c-e12f-0ca080428b07"
      },
      "execution_count": 37,
      "outputs": [
        {
          "output_type": "execute_result",
          "data": {
            "text/plain": [
              "0"
            ]
          },
          "metadata": {},
          "execution_count": 37
        }
      ]
    },
    {
      "cell_type": "markdown",
      "source": [
        "**Convert datetime object into datetime**"
      ],
      "metadata": {
        "id": "OoNlxOp87GAl"
      }
    },
    {
      "cell_type": "code",
      "source": [
        "df['APPLICATION CREATED DATE']=pd.to_datetime(df['APPLICATION CREATED DATE'],format='%Y%m%d')\n",
        "df['APPLICATION REQUIREMENTS COMPLETE']=pd.to_datetime(df['APPLICATION REQUIREMENTS COMPLETE'],format='%Y%m%d')\n",
        "df['PAYMENT DATE']=pd.to_datetime(df['PAYMENT DATE'],format='%Y%m%d')\n",
        "df['CONDITIONAL APPROVAL']=pd.to_datetime(df['CONDITIONAL APPROVAL'],format='%Y%m%d')\n",
        "df['LICENSE TERM START DATE']=pd.to_datetime(df['LICENSE TERM START DATE'],format='%Y%m%d')\n",
        "df['LICENSE TERM EXPIRATION DATE']=pd.to_datetime(df['LICENSE TERM EXPIRATION DATE'],format='%Y%m%d')\n",
        "df['LICENSE APPROVED FOR ISSUANCE']=pd.to_datetime(df['LICENSE APPROVED FOR ISSUANCE'],format='%Y%m%d')\n",
        "df['DATE ISSUED'] = pd.to_datetime(df['DATE ISSUED'],format='%Y%m%d')\n",
        "df['LICENSE STATUS CHANGE DATE']=pd.to_datetime(df['LICENSE STATUS CHANGE DATE'],format='%Y%m%d')"
      ],
      "metadata": {
        "id": "c6NxWUnK1fEL"
      },
      "execution_count": 52,
      "outputs": []
    },
    {
      "cell_type": "markdown",
      "source": [
        "**Need to keep only Year from date**"
      ],
      "metadata": {
        "id": "acj5AfEr_2r1"
      }
    },
    {
      "cell_type": "code",
      "source": [
        "df['APPLICATION CREATED DATE'] = pd.DatetimeIndex(df['APPLICATION CREATED DATE']).year\n",
        "df['APPLICATION REQUIREMENTS COMPLETE'] = pd.DatetimeIndex(df['APPLICATION REQUIREMENTS COMPLETE']).year\n",
        "df['PAYMENT DATE'] = pd.DatetimeIndex(df['PAYMENT DATE']).year\n",
        "df['CONDITIONAL APPROVAL'] = pd.DatetimeIndex(df['CONDITIONAL APPROVAL']).year\n",
        "df['LICENSE TERM START DATE'] = pd.DatetimeIndex(df['LICENSE TERM START DATE']).year\n",
        "df['LICENSE TERM EXPIRATION DATE'] = pd.DatetimeIndex(df['LICENSE TERM EXPIRATION DATE']).year\n",
        "df['LICENSE APPROVED FOR ISSUANCE'] = pd.DatetimeIndex(df['LICENSE APPROVED FOR ISSUANCE']).year\n",
        "df['DATE ISSUED'] = pd.DatetimeIndex(df['DATE ISSUED']).year\n",
        "df['LICENSE STATUS CHANGE DATE'] = pd.DatetimeIndex(df['LICENSE STATUS CHANGE DATE']).year"
      ],
      "metadata": {
        "id": "f1q3L4ajABYS"
      },
      "execution_count": 53,
      "outputs": []
    },
    {
      "cell_type": "code",
      "source": [
        "df['LICENSE STATUS CHANGE DATE']"
      ],
      "metadata": {
        "colab": {
          "base_uri": "https://localhost:8080/"
        },
        "id": "KUaOPUNfACI8",
        "outputId": "34291725-2865-4acd-c64c-74eff3ce689b"
      },
      "execution_count": 55,
      "outputs": [
        {
          "output_type": "execute_result",
          "data": {
            "text/plain": [
              "0        2012\n",
              "1        2006\n",
              "2        2012\n",
              "3        2012\n",
              "4        2012\n",
              "         ... \n",
              "85890    2012\n",
              "85891    2012\n",
              "85892    2012\n",
              "85893    2012\n",
              "85894    2005\n",
              "Name: LICENSE STATUS CHANGE DATE, Length: 85895, dtype: int64"
            ]
          },
          "metadata": {},
          "execution_count": 55
        }
      ]
    },
    {
      "cell_type": "markdown",
      "source": [
        "**Replace the NaT values with mode**"
      ],
      "metadata": {
        "id": "gXdLlIegBvSy"
      }
    },
    {
      "cell_type": "code",
      "source": [
        "df['APPLICATION CREATED DATE']=df['APPLICATION CREATED DATE'].fillna(df['APPLICATION CREATED DATE'].mode())\n",
        "df['APPLICATION REQUIREMENTS COMPLETE']=df['APPLICATION REQUIREMENTS COMPLETE'].fillna(df['APPLICATION REQUIREMENTS COMPLETE'].mode())\n",
        "df['PAYMENT DATE']=df['PAYMENT DATE'].fillna(df['PAYMENT DATE'].mode())\n",
        "df['LICENSE TERM START DATE']=df['LICENSE TERM START DATE'].fillna(df['LICENSE TERM START DATE'].mode())\n",
        "df['LICENSE TERM EXPIRATION DATE']=df['LICENSE TERM EXPIRATION DATE'].fillna(df['LICENSE TERM EXPIRATION DATE'].mode())\n",
        "df['LICENSE APPROVED FOR ISSUANCE']=df['LICENSE APPROVED FOR ISSUANCE'].fillna(df['LICENSE APPROVED FOR ISSUANCE'].mode())\n",
        "df['LICENSE STATUS CHANGE DATE']=df['LICENSE STATUS CHANGE DATE'].fillna(df['LICENSE STATUS CHANGE DATE'].mode())"
      ],
      "metadata": {
        "id": "CMW-Dsrl9fqV"
      },
      "execution_count": 56,
      "outputs": []
    },
    {
      "cell_type": "markdown",
      "source": [
        "**Cam drop name address state and other columns**"
      ],
      "metadata": {
        "id": "EWG3bo7BQDt_"
      }
    },
    {
      "cell_type": "code",
      "source": [
        "# Dropped\n",
        "\n",
        "# df.drop(['ID', 'LEGAL NAME', 'DOING BUSINESS AS NAME', 'ADDRESS', 'WARD PRECINCT', 'LOCATION'], axis=1, inplace=True)"
      ],
      "metadata": {
        "id": "imuvZMn9SWu0"
      },
      "execution_count": 58,
      "outputs": []
    },
    {
      "cell_type": "code",
      "source": [
        "df.info()"
      ],
      "metadata": {
        "id": "akTN5TVDSWzJ",
        "colab": {
          "base_uri": "https://localhost:8080/"
        },
        "outputId": "9825020d-662b-41f2-f1c3-8a106a1f9022"
      },
      "execution_count": 59,
      "outputs": [
        {
          "output_type": "stream",
          "name": "stdout",
          "text": [
            "<class 'pandas.core.frame.DataFrame'>\n",
            "RangeIndex: 85895 entries, 0 to 85894\n",
            "Data columns (total 26 columns):\n",
            " #   Column                             Non-Null Count  Dtype  \n",
            "---  ------                             --------------  -----  \n",
            " 0   LICENSE ID                         85895 non-null  int64  \n",
            " 1   ACCOUNT NUMBER                     85895 non-null  int64  \n",
            " 2   SITE NUMBER                        85895 non-null  int64  \n",
            " 3   CITY                               85895 non-null  object \n",
            " 4   STATE                              85895 non-null  object \n",
            " 5   ZIP CODE                           85895 non-null  float64\n",
            " 6   WARD                               85895 non-null  float64\n",
            " 7   PRECINCT                           85895 non-null  float64\n",
            " 8   POLICE DISTRICT                    85895 non-null  float64\n",
            " 9   LICENSE CODE                       85895 non-null  int64  \n",
            " 10  LICENSE DESCRIPTION                85895 non-null  object \n",
            " 11  LICENSE NUMBER                     85895 non-null  float64\n",
            " 12  APPLICATION TYPE                   85895 non-null  object \n",
            " 13  APPLICATION CREATED DATE           85895 non-null  int64  \n",
            " 14  APPLICATION REQUIREMENTS COMPLETE  85895 non-null  int64  \n",
            " 15  PAYMENT DATE                       85895 non-null  int64  \n",
            " 16  CONDITIONAL APPROVAL               85895 non-null  int64  \n",
            " 17  LICENSE TERM START DATE            85895 non-null  int64  \n",
            " 18  LICENSE TERM EXPIRATION DATE       85895 non-null  int64  \n",
            " 19  LICENSE APPROVED FOR ISSUANCE      85895 non-null  int64  \n",
            " 20  DATE ISSUED                        85895 non-null  int64  \n",
            " 21  LICENSE STATUS CHANGE DATE         85895 non-null  int64  \n",
            " 22  SSA                                85895 non-null  float64\n",
            " 23  LATITUDE                           85895 non-null  float64\n",
            " 24  LONGITUDE                          85895 non-null  float64\n",
            " 25  LICENSE STATUS                     85895 non-null  object \n",
            "dtypes: float64(8), int64(13), object(5)\n",
            "memory usage: 17.0+ MB\n"
          ]
        }
      ]
    },
    {
      "cell_type": "code",
      "source": [
        "df.isnull().sum()"
      ],
      "metadata": {
        "colab": {
          "base_uri": "https://localhost:8080/"
        },
        "id": "lSKhiv8IFY6I",
        "outputId": "35513b32-e35a-4b8c-c424-17b36ed8543b"
      },
      "execution_count": 61,
      "outputs": [
        {
          "output_type": "execute_result",
          "data": {
            "text/plain": [
              "LICENSE ID                           0\n",
              "ACCOUNT NUMBER                       0\n",
              "SITE NUMBER                          0\n",
              "CITY                                 0\n",
              "STATE                                0\n",
              "ZIP CODE                             0\n",
              "WARD                                 0\n",
              "PRECINCT                             0\n",
              "POLICE DISTRICT                      0\n",
              "LICENSE CODE                         0\n",
              "LICENSE DESCRIPTION                  0\n",
              "LICENSE NUMBER                       0\n",
              "APPLICATION TYPE                     0\n",
              "APPLICATION CREATED DATE             0\n",
              "APPLICATION REQUIREMENTS COMPLETE    0\n",
              "PAYMENT DATE                         0\n",
              "CONDITIONAL APPROVAL                 0\n",
              "LICENSE TERM START DATE              0\n",
              "LICENSE TERM EXPIRATION DATE         0\n",
              "LICENSE APPROVED FOR ISSUANCE        0\n",
              "DATE ISSUED                          0\n",
              "LICENSE STATUS CHANGE DATE           0\n",
              "SSA                                  0\n",
              "LATITUDE                             0\n",
              "LONGITUDE                            0\n",
              "LICENSE STATUS                       0\n",
              "dtype: int64"
            ]
          },
          "metadata": {},
          "execution_count": 61
        }
      ]
    },
    {
      "cell_type": "code",
      "source": [
        "df.plot.box()"
      ],
      "metadata": {
        "colab": {
          "base_uri": "https://localhost:8080/",
          "height": 293
        },
        "id": "Ry1KsiI6FY9_",
        "outputId": "70e57faf-4bbd-43aa-d9e1-7e0023edf22f"
      },
      "execution_count": 62,
      "outputs": [
        {
          "output_type": "execute_result",
          "data": {
            "text/plain": [
              "<matplotlib.axes._subplots.AxesSubplot at 0x7f6de2723d90>"
            ]
          },
          "metadata": {},
          "execution_count": 62
        },
        {
          "output_type": "display_data",
          "data": {
            "text/plain": [
              "<Figure size 432x288 with 1 Axes>"
            ],
            "image/png": "[encoded data removed]"
          },
          "metadata": {
            "needs_background": "light"
          }
        }
      ]
    },
    {
      "cell_type": "markdown",
      "source": [
        "**To handeling Categorical features we can use various methods, here i am using LevelEncoding**\n",
        "\n",
        "1.   We also can try other methods like get_dummies, OneHotEncoding, LevelEncoding and SimpleImputer.\n",
        "\n"
      ],
      "metadata": {
        "id": "aSHJC3BBAI8J"
      }
    },
    {
      "cell_type": "code",
      "source": [
        "from sklearn.preprocessing import LabelEncoder\n",
        "encoder = LabelEncoder()\n",
        "\n",
        "df[\"CITY\"] = encoder.fit_transform(df[\"CITY\"])\n",
        "df[\"STATE\"] = encoder.fit_transform(df[\"STATE\"])\n",
        "df[\"APPLICATION TYPE\"] = encoder.fit_transform(df[\"APPLICATION TYPE\"])\n",
        "df[\"LICENSE DESCRIPTION\"] = encoder.fit_transform(df[\"LICENSE DESCRIPTION\"])\n",
        "df[\"CONDITIONAL APPROVAL\"] = encoder.fit_transform(df[\"CONDITIONAL APPROVAL\"])"
      ],
      "metadata": {
        "id": "phDB7VPlF1Bv"
      },
      "execution_count": 63,
      "outputs": []
    },
    {
      "cell_type": "code",
      "source": [
        "##HAndling categorical feature CONDITIONAL APPROVAL\n",
        "df['LICENSE STATUS'] = df['LICENSE STATUS'].map({'AAI':0,'AAC':1, 'REV':2, 'REA':3, 'INQ':4})\n",
        "df.head()"
      ],
      "metadata": {
        "colab": {
          "base_uri": "https://localhost:8080/",
          "height": 351
        },
        "id": "5HBjVsrZGIFF",
        "outputId": "d472a36b-0d13-482d-8f28-fb4459b30825"
      },
      "execution_count": 64,
      "outputs": [
        {
          "output_type": "execute_result",
          "data": {
            "text/plain": [
              "   LICENSE ID  ACCOUNT NUMBER  SITE NUMBER  CITY  STATE  ZIP CODE  WARD  \\\n",
              "0     1256593           32811            1   193     16   60623.0  22.0   \n",
              "1     1639294          262311           29   193     16   60618.0  33.0   \n",
              "2     1980233          345008            1   466     16   60035.0  42.0   \n",
              "3     1476582          273121            1   585     16   60439.0  42.0   \n",
              "4     1896750          213785            1  1145     16   60087.0  42.0   \n",
              "\n",
              "   PRECINCT  POLICE DISTRICT  LICENSE CODE  ...  CONDITIONAL APPROVAL  \\\n",
              "0      28.0             10.0          1010  ...                     0   \n",
              "1      23.0             17.0          1315  ...                     0   \n",
              "2       9.0             18.0          1011  ...                     0   \n",
              "3       9.0             18.0          1010  ...                     0   \n",
              "4       9.0             18.0          1010  ...                     0   \n",
              "\n",
              "   LICENSE TERM START DATE  LICENSE TERM EXPIRATION DATE  \\\n",
              "0                     2002                          2003   \n",
              "1                     2005                          2006   \n",
              "2                     2009                          2011   \n",
              "3                     2004                          2005   \n",
              "4                     2008                          2010   \n",
              "\n",
              "   LICENSE APPROVED FOR ISSUANCE  DATE ISSUED  LICENSE STATUS CHANGE DATE  \\\n",
              "0                           2002         1970                        2012   \n",
              "1                           2006         1970                        2006   \n",
              "2                           2009         1970                        2012   \n",
              "3                           2004         1970                        2012   \n",
              "4                           2008         1970                        2012   \n",
              "\n",
              "    SSA   LATITUDE  LONGITUDE  LICENSE STATUS  \n",
              "0  25.0  41.843613 -87.714618               0  \n",
              "1  60.0  41.961132 -87.699626               1  \n",
              "2  28.0  41.892679 -87.673321               0  \n",
              "3  28.0  41.892679 -87.673321               0  \n",
              "4  28.0  41.892679 -87.673321               0  \n",
              "\n",
              "[5 rows x 26 columns]"
            ],
            "text/html": [
              "\n",
              "  <div id=\"df-3c96939c-3dbf-4cdd-9ae2-f3e38028b2a5\">\n",
              "    <div class=\"colab-df-container\">\n",
              "      <div>\n",
              "<style scoped>\n",
              "    .dataframe tbody tr th:only-of-type {\n",
              "        vertical-align: middle;\n",
              "    }\n",
              "\n",
              "    .dataframe tbody tr th {\n",
              "        vertical-align: top;\n",
              "    }\n",
              "\n",
              "    .dataframe thead th {\n",
              "        text-align: right;\n",
              "    }\n",
              "</style>\n",
              "<table border=\"1\" class=\"dataframe\">\n",
              "  <thead>\n",
              "    <tr style=\"text-align: right;\">\n",
              "      <th></th>\n",
              "      <th>LICENSE ID</th>\n",
              "      <th>ACCOUNT NUMBER</th>\n",
              "      <th>SITE NUMBER</th>\n",
              "      <th>CITY</th>\n",
              "      <th>STATE</th>\n",
              "      <th>ZIP CODE</th>\n",
              "      <th>WARD</th>\n",
              "      <th>PRECINCT</th>\n",
              "      <th>POLICE DISTRICT</th>\n",
              "      <th>LICENSE CODE</th>\n",
              "      <th>...</th>\n",
              "      <th>CONDITIONAL APPROVAL</th>\n",
              "      <th>LICENSE TERM START DATE</th>\n",
              "      <th>LICENSE TERM EXPIRATION DATE</th>\n",
              "      <th>LICENSE APPROVED FOR ISSUANCE</th>\n",
              "      <th>DATE ISSUED</th>\n",
              "      <th>LICENSE STATUS CHANGE DATE</th>\n",
              "      <th>SSA</th>\n",
              "      <th>LATITUDE</th>\n",
              "      <th>LONGITUDE</th>\n",
              "      <th>LICENSE STATUS</th>\n",
              "    </tr>\n",
              "  </thead>\n",
              "  <tbody>\n",
              "    <tr>\n",
              "      <th>0</th>\n",
              "      <td>1256593</td>\n",
              "      <td>32811</td>\n",
              "      <td>1</td>\n",
              "      <td>193</td>\n",
              "      <td>16</td>\n",
              "      <td>60623.0</td>\n",
              "      <td>22.0</td>\n",
              "      <td>28.0</td>\n",
              "      <td>10.0</td>\n",
              "      <td>1010</td>\n",
              "      <td>...</td>\n",
              "      <td>0</td>\n",
              "      <td>2002</td>\n",
              "      <td>2003</td>\n",
              "      <td>2002</td>\n",
              "      <td>1970</td>\n",
              "      <td>2012</td>\n",
              "      <td>25.0</td>\n",
              "      <td>41.843613</td>\n",
              "      <td>-87.714618</td>\n",
              "      <td>0</td>\n",
              "    </tr>\n",
              "    <tr>\n",
              "      <th>1</th>\n",
              "      <td>1639294</td>\n",
              "      <td>262311</td>\n",
              "      <td>29</td>\n",
              "      <td>193</td>\n",
              "      <td>16</td>\n",
              "      <td>60618.0</td>\n",
              "      <td>33.0</td>\n",
              "      <td>23.0</td>\n",
              "      <td>17.0</td>\n",
              "      <td>1315</td>\n",
              "      <td>...</td>\n",
              "      <td>0</td>\n",
              "      <td>2005</td>\n",
              "      <td>2006</td>\n",
              "      <td>2006</td>\n",
              "      <td>1970</td>\n",
              "      <td>2006</td>\n",
              "      <td>60.0</td>\n",
              "      <td>41.961132</td>\n",
              "      <td>-87.699626</td>\n",
              "      <td>1</td>\n",
              "    </tr>\n",
              "    <tr>\n",
              "      <th>2</th>\n",
              "      <td>1980233</td>\n",
              "      <td>345008</td>\n",
              "      <td>1</td>\n",
              "      <td>466</td>\n",
              "      <td>16</td>\n",
              "      <td>60035.0</td>\n",
              "      <td>42.0</td>\n",
              "      <td>9.0</td>\n",
              "      <td>18.0</td>\n",
              "      <td>1011</td>\n",
              "      <td>...</td>\n",
              "      <td>0</td>\n",
              "      <td>2009</td>\n",
              "      <td>2011</td>\n",
              "      <td>2009</td>\n",
              "      <td>1970</td>\n",
              "      <td>2012</td>\n",
              "      <td>28.0</td>\n",
              "      <td>41.892679</td>\n",
              "      <td>-87.673321</td>\n",
              "      <td>0</td>\n",
              "    </tr>\n",
              "    <tr>\n",
              "      <th>3</th>\n",
              "      <td>1476582</td>\n",
              "      <td>273121</td>\n",
              "      <td>1</td>\n",
              "      <td>585</td>\n",
              "      <td>16</td>\n",
              "      <td>60439.0</td>\n",
              "      <td>42.0</td>\n",
              "      <td>9.0</td>\n",
              "      <td>18.0</td>\n",
              "      <td>1010</td>\n",
              "      <td>...</td>\n",
              "      <td>0</td>\n",
              "      <td>2004</td>\n",
              "      <td>2005</td>\n",
              "      <td>2004</td>\n",
              "      <td>1970</td>\n",
              "      <td>2012</td>\n",
              "      <td>28.0</td>\n",
              "      <td>41.892679</td>\n",
              "      <td>-87.673321</td>\n",
              "      <td>0</td>\n",
              "    </tr>\n",
              "    <tr>\n",
              "      <th>4</th>\n",
              "      <td>1896750</td>\n",
              "      <td>213785</td>\n",
              "      <td>1</td>\n",
              "      <td>1145</td>\n",
              "      <td>16</td>\n",
              "      <td>60087.0</td>\n",
              "      <td>42.0</td>\n",
              "      <td>9.0</td>\n",
              "      <td>18.0</td>\n",
              "      <td>1010</td>\n",
              "      <td>...</td>\n",
              "      <td>0</td>\n",
              "      <td>2008</td>\n",
              "      <td>2010</td>\n",
              "      <td>2008</td>\n",
              "      <td>1970</td>\n",
              "      <td>2012</td>\n",
              "      <td>28.0</td>\n",
              "      <td>41.892679</td>\n",
              "      <td>-87.673321</td>\n",
              "      <td>0</td>\n",
              "    </tr>\n",
              "  </tbody>\n",
              "</table>\n",
              "<p>5 rows × 26 columns</p>\n",
              "</div>\n",
              "      <button class=\"colab-df-convert\" onclick=\"convertToInteractive('df-3c96939c-3dbf-4cdd-9ae2-f3e38028b2a5')\"\n",
              "              title=\"Convert this dataframe to an interactive table.\"\n",
              "              style=\"display:none;\">\n",
              "        \n",
              "  <svg xmlns=\"http://www.w3.org/2000/svg\" height=\"24px\"viewBox=\"0 0 24 24\"\n",
              "       width=\"24px\">\n",
              "    <path d=\"M0 0h24v24H0V0z\" fill=\"none\"/>\n",
              "    <path d=\"M18.56 5.44l.94 2.06.94-2.06 2.06-.94-2.06-.94-.94-2.06-.94 2.06-2.06.94zm-11 1L8.5 8.5l.94-2.06 2.06-.94-2.06-.94L8.5 2.5l-.94 2.06-2.06.94zm10 10l.94 2.06.94-2.06 2.06-.94-2.06-.94-.94-2.06-.94 2.06-2.06.94z\"/><path d=\"M17.41 7.96l-1.37-1.37c-.4-.4-.92-.59-1.43-.59-.52 0-1.04.2-1.43.59L10.3 9.45l-7.72 7.72c-.78.78-.78 2.05 0 2.83L4 21.41c.39.39.9.59 1.41.59.51 0 1.02-.2 1.41-.59l7.78-7.78 2.81-2.81c.8-.78.8-2.07 0-2.86zM5.41 20L4 18.59l7.72-7.72 1.47 1.35L5.41 20z\"/>\n",
              "  </svg>\n",
              "      </button>\n",
              "      \n",
              "  <style>\n",
              "    .colab-df-container {\n",
              "      display:flex;\n",
              "      flex-wrap:wrap;\n",
              "      gap: 12px;\n",
              "    }\n",
              "\n",
              "    .colab-df-convert {\n",
              "      background-color: #E8F0FE;\n",
              "      border: none;\n",
              "      border-radius: 50%;\n",
              "      cursor: pointer;\n",
              "      display: none;\n",
              "      fill: #1967D2;\n",
              "      height: 32px;\n",
              "      padding: 0 0 0 0;\n",
              "      width: 32px;\n",
              "    }\n",
              "\n",
              "    .colab-df-convert:hover {\n",
              "      background-color: #E2EBFA;\n",
              "      box-shadow: 0px 1px 2px rgba(60, 64, 67, 0.3), 0px 1px 3px 1px rgba(60, 64, 67, 0.15);\n",
              "      fill: #174EA6;\n",
              "    }\n",
              "\n",
              "    [theme=dark] .colab-df-convert {\n",
              "      background-color: #3B4455;\n",
              "      fill: #D2E3FC;\n",
              "    }\n",
              "\n",
              "    [theme=dark] .colab-df-convert:hover {\n",
              "      background-color: #434B5C;\n",
              "      box-shadow: 0px 1px 3px 1px rgba(0, 0, 0, 0.15);\n",
              "      filter: drop-shadow(0px 1px 2px rgba(0, 0, 0, 0.3));\n",
              "      fill: #FFFFFF;\n",
              "    }\n",
              "  </style>\n",
              "\n",
              "      <script>\n",
              "        const buttonEl =\n",
              "          document.querySelector('#df-3c96939c-3dbf-4cdd-9ae2-f3e38028b2a5 button.colab-df-convert');\n",
              "        buttonEl.style.display =\n",
              "          google.colab.kernel.accessAllowed ? 'block' : 'none';\n",
              "\n",
              "        async function convertToInteractive(key) {\n",
              "          const element = document.querySelector('#df-3c96939c-3dbf-4cdd-9ae2-f3e38028b2a5');\n",
              "          const dataTable =\n",
              "            await google.colab.kernel.invokeFunction('convertToInteractive',\n",
              "                                                     [key], {});\n",
              "          if (!dataTable) return;\n",
              "\n",
              "          const docLinkHtml = 'Like what you see? Visit the ' +\n",
              "            '<a target=\"_blank\" href=https://colab.research.google.com/notebooks/data_table.ipynb>data table notebook</a>'\n",
              "            + ' to learn more about interactive tables.';\n",
              "          element.innerHTML = '';\n",
              "          dataTable['output_type'] = 'display_data';\n",
              "          await google.colab.output.renderOutput(dataTable, element);\n",
              "          const docLink = document.createElement('div');\n",
              "          docLink.innerHTML = docLinkHtml;\n",
              "          element.appendChild(docLink);\n",
              "        }\n",
              "      </script>\n",
              "    </div>\n",
              "  </div>\n",
              "  "
            ]
          },
          "metadata": {},
          "execution_count": 64
        }
      ]
    },
    {
      "cell_type": "code",
      "source": [
        "df.isnull().sum()"
      ],
      "metadata": {
        "colab": {
          "base_uri": "https://localhost:8080/"
        },
        "id": "8SkjrNVvFuvD",
        "outputId": "45190f0c-77ea-4efe-ff4a-9ad8e3ee91bc"
      },
      "execution_count": 65,
      "outputs": [
        {
          "output_type": "execute_result",
          "data": {
            "text/plain": [
              "LICENSE ID                           0\n",
              "ACCOUNT NUMBER                       0\n",
              "SITE NUMBER                          0\n",
              "CITY                                 0\n",
              "STATE                                0\n",
              "ZIP CODE                             0\n",
              "WARD                                 0\n",
              "PRECINCT                             0\n",
              "POLICE DISTRICT                      0\n",
              "LICENSE CODE                         0\n",
              "LICENSE DESCRIPTION                  0\n",
              "LICENSE NUMBER                       0\n",
              "APPLICATION TYPE                     0\n",
              "APPLICATION CREATED DATE             0\n",
              "APPLICATION REQUIREMENTS COMPLETE    0\n",
              "PAYMENT DATE                         0\n",
              "CONDITIONAL APPROVAL                 0\n",
              "LICENSE TERM START DATE              0\n",
              "LICENSE TERM EXPIRATION DATE         0\n",
              "LICENSE APPROVED FOR ISSUANCE        0\n",
              "DATE ISSUED                          0\n",
              "LICENSE STATUS CHANGE DATE           0\n",
              "SSA                                  0\n",
              "LATITUDE                             0\n",
              "LONGITUDE                            0\n",
              "LICENSE STATUS                       0\n",
              "dtype: int64"
            ]
          },
          "metadata": {},
          "execution_count": 65
        }
      ]
    },
    {
      "cell_type": "code",
      "source": [
        "X = df.drop(['LICENSE STATUS'], axis = 1)"
      ],
      "metadata": {
        "id": "AU7vIt99E_2o"
      },
      "execution_count": 66,
      "outputs": []
    },
    {
      "cell_type": "code",
      "source": [
        "X.shape"
      ],
      "metadata": {
        "colab": {
          "base_uri": "https://localhost:8080/"
        },
        "id": "BA2fLk3sFSzo",
        "outputId": "824aefa7-23e8-44c4-d794-db7607974798"
      },
      "execution_count": 67,
      "outputs": [
        {
          "output_type": "execute_result",
          "data": {
            "text/plain": [
              "(85895, 25)"
            ]
          },
          "metadata": {},
          "execution_count": 67
        }
      ]
    },
    {
      "cell_type": "code",
      "source": [
        "y=df['LICENSE STATUS']"
      ],
      "metadata": {
        "id": "R2QTOFX2FAIJ"
      },
      "execution_count": 68,
      "outputs": []
    },
    {
      "cell_type": "code",
      "source": [
        "y.shape"
      ],
      "metadata": {
        "colab": {
          "base_uri": "https://localhost:8080/"
        },
        "id": "H0Av6eifH2xZ",
        "outputId": "1f5ccaf8-93ef-4f35-accf-dff70193a1eb"
      },
      "execution_count": 69,
      "outputs": [
        {
          "output_type": "execute_result",
          "data": {
            "text/plain": [
              "(85895,)"
            ]
          },
          "metadata": {},
          "execution_count": 69
        }
      ]
    },
    {
      "cell_type": "code",
      "source": [
        "from sklearn.model_selection import train_test_split\n",
        "X_train, X_test, y_train, y_test = train_test_split(X, y, test_size=0.33, random_state=42)"
      ],
      "metadata": {
        "id": "nm3Py5GPIAUU"
      },
      "execution_count": 70,
      "outputs": []
    },
    {
      "cell_type": "code",
      "source": [
        "X_train.head()"
      ],
      "metadata": {
        "colab": {
          "base_uri": "https://localhost:8080/",
          "height": 351
        },
        "id": "4JMjRQjsIAX3",
        "outputId": "cc6e1d20-dd88-4bca-81d2-a83dc9b9d27d"
      },
      "execution_count": 71,
      "outputs": [
        {
          "output_type": "execute_result",
          "data": {
            "text/plain": [
              "       LICENSE ID  ACCOUNT NUMBER  SITE NUMBER  CITY  STATE  ZIP CODE  WARD  \\\n",
              "33768     1479463          274153           25   193     16   60644.0  29.0   \n",
              "69664     2306418          255088            1  1019     16   60473.0  42.0   \n",
              "37278     1327123          245935            1   285     17   46312.0  42.0   \n",
              "39209     1915675          330718            2   193     16   60609.0  20.0   \n",
              "62629     2143828           32008            3   596     16   60532.0  42.0   \n",
              "\n",
              "       PRECINCT  POLICE DISTRICT  LICENSE CODE  ...  PAYMENT DATE  \\\n",
              "33768      16.0             15.0          1010  ...          2004   \n",
              "69664       9.0             18.0          1010  ...          2014   \n",
              "37278       9.0             18.0          1010  ...          2003   \n",
              "39209       4.0              9.0          1010  ...          2008   \n",
              "62629       9.0             18.0          1010  ...          2012   \n",
              "\n",
              "       CONDITIONAL APPROVAL  LICENSE TERM START DATE  \\\n",
              "33768                     0                     2004   \n",
              "69664                     0                     2014   \n",
              "37278                     0                     2003   \n",
              "39209                     0                     2008   \n",
              "62629                     0                     2012   \n",
              "\n",
              "       LICENSE TERM EXPIRATION DATE  LICENSE APPROVED FOR ISSUANCE  \\\n",
              "33768                          2005                           2004   \n",
              "69664                          2016                           2014   \n",
              "37278                          2004                           2003   \n",
              "39209                          2010                           2008   \n",
              "62629                          2014                           2012   \n",
              "\n",
              "       DATE ISSUED  LICENSE STATUS CHANGE DATE   SSA   LATITUDE  LONGITUDE  \n",
              "33768         1970                        2005  28.0  41.880140 -87.764609  \n",
              "69664         1970                        2012  28.0  41.892679 -87.673321  \n",
              "37278         1970                        2012  28.0  41.892679 -87.673321  \n",
              "39209         1970                        2009  28.0  41.802260 -87.664651  \n",
              "62629         1970                        2012  28.0  41.892679 -87.673321  \n",
              "\n",
              "[5 rows x 25 columns]"
            ],
            "text/html": [
              "\n",
              "  <div id=\"df-36061cd1-1718-4fd5-b05e-5c54bf341d2c\">\n",
              "    <div class=\"colab-df-container\">\n",
              "      <div>\n",
              "<style scoped>\n",
              "    .dataframe tbody tr th:only-of-type {\n",
              "        vertical-align: middle;\n",
              "    }\n",
              "\n",
              "    .dataframe tbody tr th {\n",
              "        vertical-align: top;\n",
              "    }\n",
              "\n",
              "    .dataframe thead th {\n",
              "        text-align: right;\n",
              "    }\n",
              "</style>\n",
              "<table border=\"1\" class=\"dataframe\">\n",
              "  <thead>\n",
              "    <tr style=\"text-align: right;\">\n",
              "      <th></th>\n",
              "      <th>LICENSE ID</th>\n",
              "      <th>ACCOUNT NUMBER</th>\n",
              "      <th>SITE NUMBER</th>\n",
              "      <th>CITY</th>\n",
              "      <th>STATE</th>\n",
              "      <th>ZIP CODE</th>\n",
              "      <th>WARD</th>\n",
              "      <th>PRECINCT</th>\n",
              "      <th>POLICE DISTRICT</th>\n",
              "      <th>LICENSE CODE</th>\n",
              "      <th>...</th>\n",
              "      <th>PAYMENT DATE</th>\n",
              "      <th>CONDITIONAL APPROVAL</th>\n",
              "      <th>LICENSE TERM START DATE</th>\n",
              "      <th>LICENSE TERM EXPIRATION DATE</th>\n",
              "      <th>LICENSE APPROVED FOR ISSUANCE</th>\n",
              "      <th>DATE ISSUED</th>\n",
              "      <th>LICENSE STATUS CHANGE DATE</th>\n",
              "      <th>SSA</th>\n",
              "      <th>LATITUDE</th>\n",
              "      <th>LONGITUDE</th>\n",
              "    </tr>\n",
              "  </thead>\n",
              "  <tbody>\n",
              "    <tr>\n",
              "      <th>33768</th>\n",
              "      <td>1479463</td>\n",
              "      <td>274153</td>\n",
              "      <td>25</td>\n",
              "      <td>193</td>\n",
              "      <td>16</td>\n",
              "      <td>60644.0</td>\n",
              "      <td>29.0</td>\n",
              "      <td>16.0</td>\n",
              "      <td>15.0</td>\n",
              "      <td>1010</td>\n",
              "      <td>...</td>\n",
              "      <td>2004</td>\n",
              "      <td>0</td>\n",
              "      <td>2004</td>\n",
              "      <td>2005</td>\n",
              "      <td>2004</td>\n",
              "      <td>1970</td>\n",
              "      <td>2005</td>\n",
              "      <td>28.0</td>\n",
              "      <td>41.880140</td>\n",
              "      <td>-87.764609</td>\n",
              "    </tr>\n",
              "    <tr>\n",
              "      <th>69664</th>\n",
              "      <td>2306418</td>\n",
              "      <td>255088</td>\n",
              "      <td>1</td>\n",
              "      <td>1019</td>\n",
              "      <td>16</td>\n",
              "      <td>60473.0</td>\n",
              "      <td>42.0</td>\n",
              "      <td>9.0</td>\n",
              "      <td>18.0</td>\n",
              "      <td>1010</td>\n",
              "      <td>...</td>\n",
              "      <td>2014</td>\n",
              "      <td>0</td>\n",
              "      <td>2014</td>\n",
              "      <td>2016</td>\n",
              "      <td>2014</td>\n",
              "      <td>1970</td>\n",
              "      <td>2012</td>\n",
              "      <td>28.0</td>\n",
              "      <td>41.892679</td>\n",
              "      <td>-87.673321</td>\n",
              "    </tr>\n",
              "    <tr>\n",
              "      <th>37278</th>\n",
              "      <td>1327123</td>\n",
              "      <td>245935</td>\n",
              "      <td>1</td>\n",
              "      <td>285</td>\n",
              "      <td>17</td>\n",
              "      <td>46312.0</td>\n",
              "      <td>42.0</td>\n",
              "      <td>9.0</td>\n",
              "      <td>18.0</td>\n",
              "      <td>1010</td>\n",
              "      <td>...</td>\n",
              "      <td>2003</td>\n",
              "      <td>0</td>\n",
              "      <td>2003</td>\n",
              "      <td>2004</td>\n",
              "      <td>2003</td>\n",
              "      <td>1970</td>\n",
              "      <td>2012</td>\n",
              "      <td>28.0</td>\n",
              "      <td>41.892679</td>\n",
              "      <td>-87.673321</td>\n",
              "    </tr>\n",
              "    <tr>\n",
              "      <th>39209</th>\n",
              "      <td>1915675</td>\n",
              "      <td>330718</td>\n",
              "      <td>2</td>\n",
              "      <td>193</td>\n",
              "      <td>16</td>\n",
              "      <td>60609.0</td>\n",
              "      <td>20.0</td>\n",
              "      <td>4.0</td>\n",
              "      <td>9.0</td>\n",
              "      <td>1010</td>\n",
              "      <td>...</td>\n",
              "      <td>2008</td>\n",
              "      <td>0</td>\n",
              "      <td>2008</td>\n",
              "      <td>2010</td>\n",
              "      <td>2008</td>\n",
              "      <td>1970</td>\n",
              "      <td>2009</td>\n",
              "      <td>28.0</td>\n",
              "      <td>41.802260</td>\n",
              "      <td>-87.664651</td>\n",
              "    </tr>\n",
              "    <tr>\n",
              "      <th>62629</th>\n",
              "      <td>2143828</td>\n",
              "      <td>32008</td>\n",
              "      <td>3</td>\n",
              "      <td>596</td>\n",
              "      <td>16</td>\n",
              "      <td>60532.0</td>\n",
              "      <td>42.0</td>\n",
              "      <td>9.0</td>\n",
              "      <td>18.0</td>\n",
              "      <td>1010</td>\n",
              "      <td>...</td>\n",
              "      <td>2012</td>\n",
              "      <td>0</td>\n",
              "      <td>2012</td>\n",
              "      <td>2014</td>\n",
              "      <td>2012</td>\n",
              "      <td>1970</td>\n",
              "      <td>2012</td>\n",
              "      <td>28.0</td>\n",
              "      <td>41.892679</td>\n",
              "      <td>-87.673321</td>\n",
              "    </tr>\n",
              "  </tbody>\n",
              "</table>\n",
              "<p>5 rows × 25 columns</p>\n",
              "</div>\n",
              "      <button class=\"colab-df-convert\" onclick=\"convertToInteractive('df-36061cd1-1718-4fd5-b05e-5c54bf341d2c')\"\n",
              "              title=\"Convert this dataframe to an interactive table.\"\n",
              "              style=\"display:none;\">\n",
              "        \n",
              "  <svg xmlns=\"http://www.w3.org/2000/svg\" height=\"24px\"viewBox=\"0 0 24 24\"\n",
              "       width=\"24px\">\n",
              "    <path d=\"M0 0h24v24H0V0z\" fill=\"none\"/>\n",
              "    <path d=\"M18.56 5.44l.94 2.06.94-2.06 2.06-.94-2.06-.94-.94-2.06-.94 2.06-2.06.94zm-11 1L8.5 8.5l.94-2.06 2.06-.94-2.06-.94L8.5 2.5l-.94 2.06-2.06.94zm10 10l.94 2.06.94-2.06 2.06-.94-2.06-.94-.94-2.06-.94 2.06-2.06.94z\"/><path d=\"M17.41 7.96l-1.37-1.37c-.4-.4-.92-.59-1.43-.59-.52 0-1.04.2-1.43.59L10.3 9.45l-7.72 7.72c-.78.78-.78 2.05 0 2.83L4 21.41c.39.39.9.59 1.41.59.51 0 1.02-.2 1.41-.59l7.78-7.78 2.81-2.81c.8-.78.8-2.07 0-2.86zM5.41 20L4 18.59l7.72-7.72 1.47 1.35L5.41 20z\"/>\n",
              "  </svg>\n",
              "      </button>\n",
              "      \n",
              "  <style>\n",
              "    .colab-df-container {\n",
              "      display:flex;\n",
              "      flex-wrap:wrap;\n",
              "      gap: 12px;\n",
              "    }\n",
              "\n",
              "    .colab-df-convert {\n",
              "      background-color: #E8F0FE;\n",
              "      border: none;\n",
              "      border-radius: 50%;\n",
              "      cursor: pointer;\n",
              "      display: none;\n",
              "      fill: #1967D2;\n",
              "      height: 32px;\n",
              "      padding: 0 0 0 0;\n",
              "      width: 32px;\n",
              "    }\n",
              "\n",
              "    .colab-df-convert:hover {\n",
              "      background-color: #E2EBFA;\n",
              "      box-shadow: 0px 1px 2px rgba(60, 64, 67, 0.3), 0px 1px 3px 1px rgba(60, 64, 67, 0.15);\n",
              "      fill: #174EA6;\n",
              "    }\n",
              "\n",
              "    [theme=dark] .colab-df-convert {\n",
              "      background-color: #3B4455;\n",
              "      fill: #D2E3FC;\n",
              "    }\n",
              "\n",
              "    [theme=dark] .colab-df-convert:hover {\n",
              "      background-color: #434B5C;\n",
              "      box-shadow: 0px 1px 3px 1px rgba(0, 0, 0, 0.15);\n",
              "      filter: drop-shadow(0px 1px 2px rgba(0, 0, 0, 0.3));\n",
              "      fill: #FFFFFF;\n",
              "    }\n",
              "  </style>\n",
              "\n",
              "      <script>\n",
              "        const buttonEl =\n",
              "          document.querySelector('#df-36061cd1-1718-4fd5-b05e-5c54bf341d2c button.colab-df-convert');\n",
              "        buttonEl.style.display =\n",
              "          google.colab.kernel.accessAllowed ? 'block' : 'none';\n",
              "\n",
              "        async function convertToInteractive(key) {\n",
              "          const element = document.querySelector('#df-36061cd1-1718-4fd5-b05e-5c54bf341d2c');\n",
              "          const dataTable =\n",
              "            await google.colab.kernel.invokeFunction('convertToInteractive',\n",
              "                                                     [key], {});\n",
              "          if (!dataTable) return;\n",
              "\n",
              "          const docLinkHtml = 'Like what you see? Visit the ' +\n",
              "            '<a target=\"_blank\" href=https://colab.research.google.com/notebooks/data_table.ipynb>data table notebook</a>'\n",
              "            + ' to learn more about interactive tables.';\n",
              "          element.innerHTML = '';\n",
              "          dataTable['output_type'] = 'display_data';\n",
              "          await google.colab.output.renderOutput(dataTable, element);\n",
              "          const docLink = document.createElement('div');\n",
              "          docLink.innerHTML = docLinkHtml;\n",
              "          element.appendChild(docLink);\n",
              "        }\n",
              "      </script>\n",
              "    </div>\n",
              "  </div>\n",
              "  "
            ]
          },
          "metadata": {},
          "execution_count": 71
        }
      ]
    },
    {
      "cell_type": "code",
      "source": [
        "print(X_train.shape)\n",
        "print()\n",
        "print(y_train.shape)\n"
      ],
      "metadata": {
        "colab": {
          "base_uri": "https://localhost:8080/"
        },
        "id": "P7tDXoP8IApV",
        "outputId": "53d3d785-84c2-4ec5-e82a-15a56104e661"
      },
      "execution_count": 72,
      "outputs": [
        {
          "output_type": "stream",
          "name": "stdout",
          "text": [
            "(57549, 25)\n",
            "\n",
            "(57549,)\n"
          ]
        }
      ]
    },
    {
      "cell_type": "code",
      "source": [
        "y_train.head()"
      ],
      "metadata": {
        "colab": {
          "base_uri": "https://localhost:8080/"
        },
        "id": "lBON0A5jIPiL",
        "outputId": "254c2c01-bcbe-4cee-e965-fa4482ca0030"
      },
      "execution_count": 73,
      "outputs": [
        {
          "output_type": "execute_result",
          "data": {
            "text/plain": [
              "33768    1\n",
              "69664    0\n",
              "37278    0\n",
              "39209    1\n",
              "62629    0\n",
              "Name: LICENSE STATUS, dtype: int64"
            ]
          },
          "metadata": {},
          "execution_count": 73
        }
      ]
    },
    {
      "cell_type": "markdown",
      "source": [
        "**Let's Standardize our data by using Standard Scaler**\n",
        "\n",
        "*   It will scale down our feature values as Mean of the data to be Zero & Varience to be 1. \n",
        "\n",
        "\n"
      ],
      "metadata": {
        "id": "37auz13h2GmC"
      }
    },
    {
      "cell_type": "code",
      "source": [
        "# from sklearn.preprocessing import StandardScaler\n",
        "# scaler=StandardScaler()\n",
        "# X_train=scaler.fit_transform(X_train)\n",
        "# X_test=sc.transform(X_test)"
      ],
      "metadata": {
        "id": "yGt77zCmF1Ho"
      },
      "execution_count": 74,
      "outputs": []
    },
    {
      "cell_type": "markdown",
      "source": [
        "**Let's apply models**"
      ],
      "metadata": {
        "id": "XarSlZzxJZy2"
      }
    },
    {
      "cell_type": "markdown",
      "source": [
        "**1. Linear Regression**"
      ],
      "metadata": {
        "id": "LvJmXbyaQemY"
      }
    },
    {
      "cell_type": "code",
      "source": [
        "from sklearn.linear_model import LinearRegression\n",
        "ln=LinearRegression()\n",
        "ln.fit(X_train, y_train)"
      ],
      "metadata": {
        "colab": {
          "base_uri": "https://localhost:8080/"
        },
        "id": "F6jC_tt7JY9Z",
        "outputId": "a997b232-f58d-4fa1-c7c4-d2325e19cc6d"
      },
      "execution_count": 75,
      "outputs": [
        {
          "output_type": "execute_result",
          "data": {
            "text/plain": [
              "LinearRegression()"
            ]
          },
          "metadata": {},
          "execution_count": 75
        }
      ]
    },
    {
      "cell_type": "code",
      "source": [
        "ln.intercept_"
      ],
      "metadata": {
        "colab": {
          "base_uri": "https://localhost:8080/"
        },
        "id": "w7hWyymWJ_nh",
        "outputId": "f682e98b-e002-4f4c-8485-d04d24af9d40"
      },
      "execution_count": 76,
      "outputs": [
        {
          "output_type": "execute_result",
          "data": {
            "text/plain": [
              "-67.64580001622632"
            ]
          },
          "metadata": {},
          "execution_count": 76
        }
      ]
    },
    {
      "cell_type": "code",
      "source": [
        "ln.coef_"
      ],
      "metadata": {
        "colab": {
          "base_uri": "https://localhost:8080/"
        },
        "id": "Ymn7oOENPzxB",
        "outputId": "abc1182c-1f2e-4dac-ab7c-648ada34f819"
      },
      "execution_count": 77,
      "outputs": [
        {
          "output_type": "execute_result",
          "data": {
            "text/plain": [
              "array([-4.16337923e-07,  8.62227121e-08,  9.09926634e-04, -1.60382409e-04,\n",
              "       -1.41060242e-03,  1.01589859e-06, -9.14166504e-03, -6.64785977e-05,\n",
              "       -1.12669933e-02,  2.10133030e-04, -3.80044059e-04, -2.48445520e-08,\n",
              "       -1.74792292e-02,  2.25361616e-02, -3.69366103e-03,  1.97105173e-02,\n",
              "       -3.10542607e-16, -2.16197834e-02,  9.62735102e-02, -1.48786460e-02,\n",
              "        1.11022302e-16, -1.12551925e-01,  1.77718052e-03,  1.09427228e+00,\n",
              "       -5.94581171e-01])"
            ]
          },
          "metadata": {},
          "execution_count": 77
        }
      ]
    },
    {
      "cell_type": "code",
      "source": [
        "y_pred=ln.predict(X_test)\n",
        "y_pred"
      ],
      "metadata": {
        "colab": {
          "base_uri": "https://localhost:8080/"
        },
        "id": "IgDDsWlqP2tL",
        "outputId": "430f96cd-e8fc-4a79-aa8d-5382435daf0c"
      },
      "execution_count": 84,
      "outputs": [
        {
          "output_type": "execute_result",
          "data": {
            "text/plain": [
              "array([ 0.71452582,  0.78230204, -0.0153739 , ...,  0.22846604,\n",
              "        0.17829687,  0.70257948])"
            ]
          },
          "metadata": {},
          "execution_count": 84
        }
      ]
    },
    {
      "cell_type": "markdown",
      "source": [
        "**Model Evaluation**"
      ],
      "metadata": {
        "id": "hrYl4oC_QJg3"
      }
    },
    {
      "cell_type": "code",
      "source": [
        "from sklearn import metrics\n",
        "metrics.r2_score(y_test, y_pred)"
      ],
      "metadata": {
        "colab": {
          "base_uri": "https://localhost:8080/"
        },
        "id": "_jxIdWV7QUt2",
        "outputId": "9ff21f0e-155a-4cb7-b22b-c3df1928c013"
      },
      "execution_count": 81,
      "outputs": [
        {
          "output_type": "execute_result",
          "data": {
            "text/plain": [
              "0.5781863171433191"
            ]
          },
          "metadata": {},
          "execution_count": 81
        }
      ]
    },
    {
      "cell_type": "code",
      "source": [
        "from sklearn.metrics import confusion_matrix,classification_report, accuracy_score"
      ],
      "metadata": {
        "id": "I11BN7WQT3jm"
      },
      "execution_count": 82,
      "outputs": []
    },
    {
      "cell_type": "code",
      "source": [
        "# print(accuracy_score(y_test, y_pred))\n",
        "\n",
        "# ValueError: Classification metrics can't handle a mix of multilabel-indicator and continuous-multioutput targets"
      ],
      "metadata": {
        "id": "4uNRFGSdT6Zz"
      },
      "execution_count": 86,
      "outputs": []
    },
    {
      "cell_type": "code",
      "source": [
        "# classification_report(y_test,y_pred)\n",
        "\n",
        "# ValueError: Classification metrics can't handle a mix of multilabel-indicator and continuous-multioutput targets"
      ],
      "metadata": {
        "id": "tneQbCAQUDj8"
      },
      "execution_count": null,
      "outputs": []
    },
    {
      "cell_type": "markdown",
      "source": [
        "**2. Logistic Regression**"
      ],
      "metadata": {
        "id": "0JhMgBqeQlyb"
      }
    },
    {
      "cell_type": "code",
      "source": [
        "from sklearn.linear_model import LogisticRegression\n",
        "lgr=LogisticRegression()\n",
        "lgr.fit(X_train, y_train)"
      ],
      "metadata": {
        "id": "PZlmb1o3QrRE",
        "colab": {
          "base_uri": "https://localhost:8080/"
        },
        "outputId": "55f8b403-bade-4ce5-ff54-d6c51788a1a8"
      },
      "execution_count": 87,
      "outputs": [
        {
          "output_type": "stream",
          "name": "stderr",
          "text": [
            "/usr/local/lib/python3.7/dist-packages/sklearn/linear_model/_logistic.py:818: ConvergenceWarning: lbfgs failed to converge (status=1):\n",
            "STOP: TOTAL NO. of ITERATIONS REACHED LIMIT.\n",
            "\n",
            "Increase the number of iterations (max_iter) or scale the data as shown in:\n",
            "    https://scikit-learn.org/stable/modules/preprocessing.html\n",
            "Please also refer to the documentation for alternative solver options:\n",
            "    https://scikit-learn.org/stable/modules/linear_model.html#logistic-regression\n",
            "  extra_warning_msg=_LOGISTIC_SOLVER_CONVERGENCE_MSG,\n"
          ]
        },
        {
          "output_type": "execute_result",
          "data": {
            "text/plain": [
              "LogisticRegression()"
            ]
          },
          "metadata": {},
          "execution_count": 87
        }
      ]
    },
    {
      "cell_type": "code",
      "source": [
        "y_pred=ln.predict(X_test)"
      ],
      "metadata": {
        "id": "8S9AvpVfLKTJ"
      },
      "execution_count": 119,
      "outputs": []
    },
    {
      "cell_type": "code",
      "source": [
        "from sklearn import metrics\n",
        "metrics.r2_score(y_test, y_pred)"
      ],
      "metadata": {
        "colab": {
          "base_uri": "https://localhost:8080/"
        },
        "id": "_cb0CzZJLKWH",
        "outputId": "e70f8961-beec-43c6-95c3-1bec46a29eac"
      },
      "execution_count": 120,
      "outputs": [
        {
          "output_type": "execute_result",
          "data": {
            "text/plain": [
              "0.5781863171433191"
            ]
          },
          "metadata": {},
          "execution_count": 120
        }
      ]
    },
    {
      "cell_type": "code",
      "source": [
        "# print(accuracy_score(y_test, y_pred))\n",
        "\n",
        "# ValueError: Classification metrics can't handle a mix of multiclass and continuous targets"
      ],
      "metadata": {
        "id": "ybrNdoN1RDSy"
      },
      "execution_count": 122,
      "outputs": []
    },
    {
      "cell_type": "markdown",
      "source": [
        "**3. KMeans Clustering**"
      ],
      "metadata": {
        "id": "J-X24Xu2UfgT"
      }
    },
    {
      "cell_type": "code",
      "source": [
        "from sklearn.cluster import KMeans\n",
        "kmeans=KMeans()"
      ],
      "metadata": {
        "id": "5TSiz8f1Q2LO"
      },
      "execution_count": 112,
      "outputs": []
    },
    {
      "cell_type": "code",
      "source": [
        "kmeans.fit(X)"
      ],
      "metadata": {
        "colab": {
          "base_uri": "https://localhost:8080/"
        },
        "id": "sNW6gumoQ_8Y",
        "outputId": "35af397d-5661-4f68-fc8f-e6e60692ac9d"
      },
      "execution_count": 113,
      "outputs": [
        {
          "output_type": "execute_result",
          "data": {
            "text/plain": [
              "KMeans()"
            ]
          },
          "metadata": {},
          "execution_count": 113
        }
      ]
    },
    {
      "cell_type": "code",
      "source": [
        "kmeans.predict(X)"
      ],
      "metadata": {
        "colab": {
          "base_uri": "https://localhost:8080/"
        },
        "id": "llPs1FkSVWGQ",
        "outputId": "f137a1b8-b7d3-4ea9-8a9c-a32d5440dc1f"
      },
      "execution_count": 114,
      "outputs": [
        {
          "output_type": "execute_result",
          "data": {
            "text/plain": [
              "array([1, 0, 2, ..., 3, 2, 7], dtype=int32)"
            ]
          },
          "metadata": {},
          "execution_count": 114
        }
      ]
    },
    {
      "cell_type": "code",
      "source": [
        "km4=KMeans(n_clusters=4).fit(X)"
      ],
      "metadata": {
        "id": "lRvYQnEDRDEy"
      },
      "execution_count": 115,
      "outputs": []
    },
    {
      "cell_type": "code",
      "source": [
        "km4.predict(X)"
      ],
      "metadata": {
        "colab": {
          "base_uri": "https://localhost:8080/"
        },
        "id": "sNttOZsGVOGU",
        "outputId": "9054119f-4af6-488e-9667-1c2df5acf342"
      },
      "execution_count": 116,
      "outputs": [
        {
          "output_type": "execute_result",
          "data": {
            "text/plain": [
              "array([1, 3, 0, ..., 2, 0, 3], dtype=int32)"
            ]
          },
          "metadata": {},
          "execution_count": 116
        }
      ]
    },
    {
      "cell_type": "code",
      "source": [
        "km_inertia=[]\n",
        "k_val= list(range(2,10))\n",
        "for k in k_val:\n",
        "    kmeans=KMeans(n_clusters=k)\n",
        "    kmeans.fit(X)\n",
        "    km_inertia.append(kmeans.inertia_)"
      ],
      "metadata": {
        "id": "k7ytP8JqVZi3"
      },
      "execution_count": 117,
      "outputs": []
    },
    {
      "cell_type": "code",
      "source": [
        "plt.plot(k_val,km_inertia )"
      ],
      "metadata": {
        "colab": {
          "base_uri": "https://localhost:8080/",
          "height": 293
        },
        "id": "mZb-ou05Vg0f",
        "outputId": "217f26db-4041-4ae1-cbb6-920e3ff1ff5e"
      },
      "execution_count": 118,
      "outputs": [
        {
          "output_type": "execute_result",
          "data": {
            "text/plain": [
              "[<matplotlib.lines.Line2D at 0x7f6ddd3113d0>]"
            ]
          },
          "metadata": {},
          "execution_count": 118
        },
        {
          "output_type": "display_data",
          "data": {
            "text/plain": [
              "<Figure size 432x288 with 1 Axes>"
            ],
            "image/png": "[encoded data removed]"
          },
          "metadata": {
            "needs_background": "light"
          }
        }
      ]
    },
    {
      "cell_type": "markdown",
      "source": [
        "**4. PCA**"
      ],
      "metadata": {
        "id": "d0roFER3XTpE"
      }
    },
    {
      "cell_type": "code",
      "source": [
        "from sklearn.decomposition import PCA\n",
        "pca=PCA()\n",
        "pca_data=pca.fit_transform(X)"
      ],
      "metadata": {
        "id": "54umbK2dXJsG"
      },
      "execution_count": 107,
      "outputs": []
    },
    {
      "cell_type": "code",
      "source": [
        "pca_data"
      ],
      "metadata": {
        "colab": {
          "base_uri": "https://localhost:8080/"
        },
        "id": "7azi1qoMXaWw",
        "outputId": "85ff54a9-b0f4-4fbf-9e50-8dd73a01aa7b"
      },
      "execution_count": 108,
      "outputs": [
        {
          "output_type": "execute_result",
          "data": {
            "text/plain": [
              "array([[ 1.28801956e+06,  1.88097882e+05, -3.75032799e+03, ...,\n",
              "         3.75685222e-02,  8.19307025e-18,  2.22487194e-19],\n",
              "       [-1.06704800e+05,  1.42642091e+05,  4.58200625e+04, ...,\n",
              "        -1.02752102e-02,  4.01443354e-17,  1.21945414e-18],\n",
              "       [-7.97880650e+05, -3.61086275e+04,  4.59927086e+04, ...,\n",
              "        -1.18917602e-03,  1.35858782e-16,  3.29471332e-19],\n",
              "       ...,\n",
              "       [ 1.08842113e+06, -4.66079074e+05, -2.56304034e+04, ...,\n",
              "        -9.47603633e-04, -7.76668069e-19, -1.06014558e-21],\n",
              "       [-8.51140952e+05, -1.60603893e+05, -3.01672744e+05, ...,\n",
              "         7.61721840e-02, -1.18586280e-18, -2.77085664e-20],\n",
              "       [ 2.20849346e+05,  2.43734814e+05,  2.76609329e+04, ...,\n",
              "         5.18915138e-02, -1.28645555e-18, -1.38988798e-20]])"
            ]
          },
          "metadata": {},
          "execution_count": 108
        }
      ]
    },
    {
      "cell_type": "code",
      "source": [
        "# pca.components_"
      ],
      "metadata": {
        "id": "EzdYb9nwXf59"
      },
      "execution_count": 152,
      "outputs": []
    },
    {
      "cell_type": "code",
      "source": [
        "pca.explained_variance_"
      ],
      "metadata": {
        "colab": {
          "base_uri": "https://localhost:8080/"
        },
        "id": "1Ydz8O_JX_La",
        "outputId": "a5fa8b2a-167f-4b36-c2b2-91c408ba08f9"
      },
      "execution_count": 110,
      "outputs": [
        {
          "output_type": "execute_result",
          "data": {
            "text/plain": [
              "array([5.92364354e+11, 8.28930427e+10, 5.90342374e+09, 3.85037716e+07,\n",
              "       9.91928991e+04, 6.17097398e+04, 9.31732231e+03, 2.03090402e+02,\n",
              "       1.17638225e+02, 6.54152911e+01, 3.32174706e+01, 1.50990099e+01,\n",
              "       1.46738368e+01, 4.92149327e+00, 3.42749996e+00, 2.26727270e+00,\n",
              "       6.25466991e-01, 2.83199262e-01, 2.53351212e-01, 1.31764791e-01,\n",
              "       1.20193426e-01, 1.87821788e-03, 9.69084404e-04, 2.26854607e-33,\n",
              "       4.53636484e-37])"
            ]
          },
          "metadata": {},
          "execution_count": 110
        }
      ]
    },
    {
      "cell_type": "code",
      "source": [
        "pca.explained_variance_ratio_"
      ],
      "metadata": {
        "colab": {
          "base_uri": "https://localhost:8080/"
        },
        "id": "xPtos0Z5YB-z",
        "outputId": "fd7d713c-b262-4b86-e7d9-a2cf32ce19f6"
      },
      "execution_count": 111,
      "outputs": [
        {
          "output_type": "execute_result",
          "data": {
            "text/plain": [
              "array([8.69590125e-01, 1.21686882e-01, 8.66621860e-03, 5.65234881e-05,\n",
              "       1.45615051e-07, 9.05898203e-08, 1.36778174e-08, 2.98136455e-10,\n",
              "       1.72692767e-10, 9.60295649e-11, 4.87632049e-11, 2.21653275e-11,\n",
              "       2.15411739e-11, 7.22474592e-12, 5.03156562e-12, 3.32835346e-12,\n",
              "       9.18184754e-13, 4.15736159e-13, 3.71919259e-13, 1.93430547e-13,\n",
              "       1.76443799e-13, 2.75722148e-15, 1.42261468e-15, 3.33022277e-45,\n",
              "       6.65937787e-49])"
            ]
          },
          "metadata": {},
          "execution_count": 111
        }
      ]
    },
    {
      "cell_type": "markdown",
      "source": [
        "**5. KNN**"
      ],
      "metadata": {
        "id": "mZAF61xiYKSR"
      }
    },
    {
      "cell_type": "code",
      "source": [
        "from sklearn.neighbors import KNeighborsClassifier\n",
        "knn=KNeighborsClassifier(n_neighbors=3)"
      ],
      "metadata": {
        "id": "SkcAc5DbYFsS"
      },
      "execution_count": 98,
      "outputs": []
    },
    {
      "cell_type": "code",
      "source": [
        "knn.fit(X_train, y_train)"
      ],
      "metadata": {
        "colab": {
          "base_uri": "https://localhost:8080/"
        },
        "id": "F15HP7XDYflD",
        "outputId": "61ca0f31-ca2d-4cdd-a29b-74fb03bbc172"
      },
      "execution_count": 99,
      "outputs": [
        {
          "output_type": "execute_result",
          "data": {
            "text/plain": [
              "KNeighborsClassifier(n_neighbors=3)"
            ]
          },
          "metadata": {},
          "execution_count": 99
        }
      ]
    },
    {
      "cell_type": "code",
      "source": [
        "y_pred=knn.predict(X_test)"
      ],
      "metadata": {
        "id": "KhIe7eCuYkIL"
      },
      "execution_count": 100,
      "outputs": []
    },
    {
      "cell_type": "code",
      "source": [
        "from sklearn.metrics import accuracy_score, confusion_matrix, classification_report"
      ],
      "metadata": {
        "id": "IPckmDMkYnqi"
      },
      "execution_count": 101,
      "outputs": []
    },
    {
      "cell_type": "code",
      "source": [
        "print(accuracy_score(y_test, y_pred))\n",
        "print(confusion_matrix(y_test, y_pred))\n",
        "print(classification_report(y_test, y_pred))"
      ],
      "metadata": {
        "colab": {
          "base_uri": "https://localhost:8080/"
        },
        "id": "smlfSn2VYuN8",
        "outputId": "39352277-8c35-49df-d377-4de15a8ad833"
      },
      "execution_count": 102,
      "outputs": [
        {
          "output_type": "stream",
          "name": "stdout",
          "text": [
            "0.7701968531715233\n",
            "[[15293  2894    14     0     2]\n",
            " [ 3501  6525    27     0     1]\n",
            " [   32    42    14     0     0]\n",
            " [    0     0     1     0     0]\n",
            " [    0     0     0     0     0]]\n",
            "              precision    recall  f1-score   support\n",
            "\n",
            "           0       0.81      0.84      0.83     18203\n",
            "           1       0.69      0.65      0.67     10054\n",
            "           2       0.25      0.16      0.19        88\n",
            "           3       0.00      0.00      0.00         1\n",
            "           4       0.00      0.00      0.00         0\n",
            "\n",
            "    accuracy                           0.77     28346\n",
            "   macro avg       0.35      0.33      0.34     28346\n",
            "weighted avg       0.77      0.77      0.77     28346\n",
            "\n"
          ]
        },
        {
          "output_type": "stream",
          "name": "stderr",
          "text": [
            "/usr/local/lib/python3.7/dist-packages/sklearn/metrics/_classification.py:1318: UndefinedMetricWarning: Precision and F-score are ill-defined and being set to 0.0 in labels with no predicted samples. Use `zero_division` parameter to control this behavior.\n",
            "  _warn_prf(average, modifier, msg_start, len(result))\n",
            "/usr/local/lib/python3.7/dist-packages/sklearn/metrics/_classification.py:1318: UndefinedMetricWarning: Recall and F-score are ill-defined and being set to 0.0 in labels with no true samples. Use `zero_division` parameter to control this behavior.\n",
            "  _warn_prf(average, modifier, msg_start, len(result))\n",
            "/usr/local/lib/python3.7/dist-packages/sklearn/metrics/_classification.py:1318: UndefinedMetricWarning: Precision and F-score are ill-defined and being set to 0.0 in labels with no predicted samples. Use `zero_division` parameter to control this behavior.\n",
            "  _warn_prf(average, modifier, msg_start, len(result))\n",
            "/usr/local/lib/python3.7/dist-packages/sklearn/metrics/_classification.py:1318: UndefinedMetricWarning: Recall and F-score are ill-defined and being set to 0.0 in labels with no true samples. Use `zero_division` parameter to control this behavior.\n",
            "  _warn_prf(average, modifier, msg_start, len(result))\n",
            "/usr/local/lib/python3.7/dist-packages/sklearn/metrics/_classification.py:1318: UndefinedMetricWarning: Precision and F-score are ill-defined and being set to 0.0 in labels with no predicted samples. Use `zero_division` parameter to control this behavior.\n",
            "  _warn_prf(average, modifier, msg_start, len(result))\n",
            "/usr/local/lib/python3.7/dist-packages/sklearn/metrics/_classification.py:1318: UndefinedMetricWarning: Recall and F-score are ill-defined and being set to 0.0 in labels with no true samples. Use `zero_division` parameter to control this behavior.\n",
            "  _warn_prf(average, modifier, msg_start, len(result))\n"
          ]
        }
      ]
    },
    {
      "cell_type": "code",
      "source": [
        "#f1-score=2*recall*precision/(recall+precision)\n",
        "acc_sc=[]\n",
        "k_val=[]\n",
        "for k in range(3, 20, 2):\n",
        "    knn=KNeighborsClassifier(n_neighbors=k)\n",
        "    knn.fit(X_train, y_train)\n",
        "    y_pred_knn=knn.predict(X_test)\n",
        "    acc_sc.append(accuracy_score(y_test, y_pred_knn))\n",
        "    k_val.append(k)"
      ],
      "metadata": {
        "id": "9TTF_MmRZRPh"
      },
      "execution_count": 103,
      "outputs": []
    },
    {
      "cell_type": "code",
      "source": [
        "acc_sc"
      ],
      "metadata": {
        "colab": {
          "base_uri": "https://localhost:8080/"
        },
        "id": "EdF74I8BZaNp",
        "outputId": "176f72b7-c525-4c67-839e-a1378a610071"
      },
      "execution_count": 104,
      "outputs": [
        {
          "output_type": "execute_result",
          "data": {
            "text/plain": [
              "[0.7701968531715233,\n",
              " 0.7744655330558103,\n",
              " 0.7775347491709589,\n",
              " 0.7766527905171805,\n",
              " 0.7773936357863543,\n",
              " 0.7756297184787977,\n",
              " 0.7752769350172863,\n",
              " 0.7750652649403796,\n",
              " 0.7730191208636139]"
            ]
          },
          "metadata": {},
          "execution_count": 104
        }
      ]
    },
    {
      "cell_type": "code",
      "source": [
        "k"
      ],
      "metadata": {
        "colab": {
          "base_uri": "https://localhost:8080/"
        },
        "id": "aafPAUAOZtGR",
        "outputId": "da96c1c0-7872-443d-a1d0-698e4fd12f9c"
      },
      "execution_count": 105,
      "outputs": [
        {
          "output_type": "execute_result",
          "data": {
            "text/plain": [
              "19"
            ]
          },
          "metadata": {},
          "execution_count": 105
        }
      ]
    },
    {
      "cell_type": "code",
      "source": [
        "plt.plot(k_val,acc_sc)\n",
        "plt.show()"
      ],
      "metadata": {
        "colab": {
          "base_uri": "https://localhost:8080/",
          "height": 265
        },
        "id": "Bv7xOWDrZpH8",
        "outputId": "43f190f3-bade-4210-b2e1-8cbbba25075f"
      },
      "execution_count": 106,
      "outputs": [
        {
          "output_type": "display_data",
          "data": {
            "text/plain": [
              "<Figure size 432x288 with 1 Axes>"
            ],
            "image/png": "[encoded data removed]"
          },
          "metadata": {
            "needs_background": "light"
          }
        }
      ]
    },
    {
      "cell_type": "markdown",
      "source": [
        "**6. Ensemble_Learning**"
      ],
      "metadata": {
        "id": "1Fs6N0mmfBEa"
      }
    },
    {
      "cell_type": "markdown",
      "source": [
        "**6.1 RandomForestClassifier**"
      ],
      "metadata": {
        "id": "wV1qK6N2fQPC"
      }
    },
    {
      "cell_type": "code",
      "source": [
        "from sklearn.ensemble import RandomForestClassifier\n",
        "rfc = RandomForestClassifier(n_estimators=600)"
      ],
      "metadata": {
        "id": "Gp9fYGKNe-sC"
      },
      "execution_count": 94,
      "outputs": []
    },
    {
      "cell_type": "code",
      "source": [
        "rfc.fit(X_train,y_train)"
      ],
      "metadata": {
        "colab": {
          "base_uri": "https://localhost:8080/"
        },
        "id": "QoC57Vwxfc51",
        "outputId": "1eb06e09-bdbe-4b35-b6df-8004b39b64a7"
      },
      "execution_count": 95,
      "outputs": [
        {
          "output_type": "execute_result",
          "data": {
            "text/plain": [
              "RandomForestClassifier(n_estimators=600)"
            ]
          },
          "metadata": {},
          "execution_count": 95
        }
      ]
    },
    {
      "cell_type": "code",
      "source": [
        "rfc_pred = rfc.predict(X_test)"
      ],
      "metadata": {
        "id": "D9mkVbFsfe6M"
      },
      "execution_count": 127,
      "outputs": []
    },
    {
      "cell_type": "code",
      "source": [
        "print(\"Recall Score : \",recall_score(y_test,rfc_pred, pos_label='positive', average='micro'))\n",
        "print(\"Precision Score : \",precision_score(y_test,rfc_pred, pos_label='positive', average='micro'))\n",
        "print(\"f1 Score: \", f1_score(y_test,rfc_pred, pos_label='positive', average='micro'))"
      ],
      "metadata": {
        "colab": {
          "base_uri": "https://localhost:8080/"
        },
        "id": "ZVIDsJQQS44y",
        "outputId": "d7f0d6d4-b870-497c-b99f-7ee5c94a913b"
      },
      "execution_count": 128,
      "outputs": [
        {
          "output_type": "stream",
          "name": "stdout",
          "text": [
            "Recall Score :  0.9894517745008115\n",
            "Precision Score :  0.9894517745008115\n",
            "f1 Score:  0.9894517745008115\n"
          ]
        },
        {
          "output_type": "stream",
          "name": "stderr",
          "text": [
            "/usr/local/lib/python3.7/dist-packages/sklearn/metrics/_classification.py:1375: UserWarning: Note that pos_label (set to 'positive') is ignored when average != 'binary' (got 'micro'). You may use labels=[pos_label] to specify a single positive class.\n",
            "  UserWarning,\n",
            "/usr/local/lib/python3.7/dist-packages/sklearn/metrics/_classification.py:1375: UserWarning: Note that pos_label (set to 'positive') is ignored when average != 'binary' (got 'micro'). You may use labels=[pos_label] to specify a single positive class.\n",
            "  UserWarning,\n",
            "/usr/local/lib/python3.7/dist-packages/sklearn/metrics/_classification.py:1375: UserWarning: Note that pos_label (set to 'positive') is ignored when average != 'binary' (got 'micro'). You may use labels=[pos_label] to specify a single positive class.\n",
            "  UserWarning,\n"
          ]
        }
      ]
    },
    {
      "cell_type": "code",
      "source": [
        "print(classification_report(y_test,rfc_pred))"
      ],
      "metadata": {
        "colab": {
          "base_uri": "https://localhost:8080/"
        },
        "id": "R87GaiZ7fwt5",
        "outputId": "7993694e-b9c7-4abc-ad73-deb6a7edd514"
      },
      "execution_count": 129,
      "outputs": [
        {
          "output_type": "stream",
          "name": "stdout",
          "text": [
            "              precision    recall  f1-score   support\n",
            "\n",
            "           0       0.99      0.99      0.99     18203\n",
            "           1       0.98      0.99      0.99     10054\n",
            "           2       0.84      0.18      0.30        88\n",
            "           3       0.00      0.00      0.00         1\n",
            "\n",
            "    accuracy                           0.99     28346\n",
            "   macro avg       0.70      0.54      0.57     28346\n",
            "weighted avg       0.99      0.99      0.99     28346\n",
            "\n"
          ]
        },
        {
          "output_type": "stream",
          "name": "stderr",
          "text": [
            "/usr/local/lib/python3.7/dist-packages/sklearn/metrics/_classification.py:1318: UndefinedMetricWarning: Precision and F-score are ill-defined and being set to 0.0 in labels with no predicted samples. Use `zero_division` parameter to control this behavior.\n",
            "  _warn_prf(average, modifier, msg_start, len(result))\n",
            "/usr/local/lib/python3.7/dist-packages/sklearn/metrics/_classification.py:1318: UndefinedMetricWarning: Precision and F-score are ill-defined and being set to 0.0 in labels with no predicted samples. Use `zero_division` parameter to control this behavior.\n",
            "  _warn_prf(average, modifier, msg_start, len(result))\n",
            "/usr/local/lib/python3.7/dist-packages/sklearn/metrics/_classification.py:1318: UndefinedMetricWarning: Precision and F-score are ill-defined and being set to 0.0 in labels with no predicted samples. Use `zero_division` parameter to control this behavior.\n",
            "  _warn_prf(average, modifier, msg_start, len(result))\n"
          ]
        }
      ]
    },
    {
      "cell_type": "code",
      "source": [
        "rfc_pred"
      ],
      "metadata": {
        "colab": {
          "base_uri": "https://localhost:8080/"
        },
        "id": "Xl24l75Fj0Cd",
        "outputId": "f9c03931-77b2-4a34-9589-603bbf60f576"
      },
      "execution_count": 151,
      "outputs": [
        {
          "output_type": "execute_result",
          "data": {
            "text/plain": [
              "array([1, 1, 0, ..., 0, 0, 1])"
            ]
          },
          "metadata": {},
          "execution_count": 151
        }
      ]
    },
    {
      "cell_type": "code",
      "source": [
        "rf_prediction = pd.DataFrame(rfc_pred, columns =['licenseStatus'])"
      ],
      "metadata": {
        "id": "LvsEj7_-j0gP"
      },
      "execution_count": 154,
      "outputs": []
    },
    {
      "cell_type": "code",
      "source": [
        "rf_prediction"
      ],
      "metadata": {
        "colab": {
          "base_uri": "https://localhost:8080/",
          "height": 423
        },
        "id": "zam1Tlvblomb",
        "outputId": "ae472d7b-a4bf-4dd4-d2ee-6535057b8934"
      },
      "execution_count": 157,
      "outputs": [
        {
          "output_type": "execute_result",
          "data": {
            "text/plain": [
              "       licenseStatus\n",
              "0                  1\n",
              "1                  1\n",
              "2                  0\n",
              "3                  0\n",
              "4                  1\n",
              "...              ...\n",
              "28341              0\n",
              "28342              0\n",
              "28343              0\n",
              "28344              0\n",
              "28345              1\n",
              "\n",
              "[28346 rows x 1 columns]"
            ],
            "text/html": [
              "\n",
              "  <div id=\"df-332816f9-79cc-4b85-a26f-00cfc53953f1\">\n",
              "    <div class=\"colab-df-container\">\n",
              "      <div>\n",
              "<style scoped>\n",
              "    .dataframe tbody tr th:only-of-type {\n",
              "        vertical-align: middle;\n",
              "    }\n",
              "\n",
              "    .dataframe tbody tr th {\n",
              "        vertical-align: top;\n",
              "    }\n",
              "\n",
              "    .dataframe thead th {\n",
              "        text-align: right;\n",
              "    }\n",
              "</style>\n",
              "<table border=\"1\" class=\"dataframe\">\n",
              "  <thead>\n",
              "    <tr style=\"text-align: right;\">\n",
              "      <th></th>\n",
              "      <th>licenseStatus</th>\n",
              "    </tr>\n",
              "  </thead>\n",
              "  <tbody>\n",
              "    <tr>\n",
              "      <th>0</th>\n",
              "      <td>1</td>\n",
              "    </tr>\n",
              "    <tr>\n",
              "      <th>1</th>\n",
              "      <td>1</td>\n",
              "    </tr>\n",
              "    <tr>\n",
              "      <th>2</th>\n",
              "      <td>0</td>\n",
              "    </tr>\n",
              "    <tr>\n",
              "      <th>3</th>\n",
              "      <td>0</td>\n",
              "    </tr>\n",
              "    <tr>\n",
              "      <th>4</th>\n",
              "      <td>1</td>\n",
              "    </tr>\n",
              "    <tr>\n",
              "      <th>...</th>\n",
              "      <td>...</td>\n",
              "    </tr>\n",
              "    <tr>\n",
              "      <th>28341</th>\n",
              "      <td>0</td>\n",
              "    </tr>\n",
              "    <tr>\n",
              "      <th>28342</th>\n",
              "      <td>0</td>\n",
              "    </tr>\n",
              "    <tr>\n",
              "      <th>28343</th>\n",
              "      <td>0</td>\n",
              "    </tr>\n",
              "    <tr>\n",
              "      <th>28344</th>\n",
              "      <td>0</td>\n",
              "    </tr>\n",
              "    <tr>\n",
              "      <th>28345</th>\n",
              "      <td>1</td>\n",
              "    </tr>\n",
              "  </tbody>\n",
              "</table>\n",
              "<p>28346 rows × 1 columns</p>\n",
              "</div>\n",
              "      <button class=\"colab-df-convert\" onclick=\"convertToInteractive('df-332816f9-79cc-4b85-a26f-00cfc53953f1')\"\n",
              "              title=\"Convert this dataframe to an interactive table.\"\n",
              "              style=\"display:none;\">\n",
              "        \n",
              "  <svg xmlns=\"http://www.w3.org/2000/svg\" height=\"24px\"viewBox=\"0 0 24 24\"\n",
              "       width=\"24px\">\n",
              "    <path d=\"M0 0h24v24H0V0z\" fill=\"none\"/>\n",
              "    <path d=\"M18.56 5.44l.94 2.06.94-2.06 2.06-.94-2.06-.94-.94-2.06-.94 2.06-2.06.94zm-11 1L8.5 8.5l.94-2.06 2.06-.94-2.06-.94L8.5 2.5l-.94 2.06-2.06.94zm10 10l.94 2.06.94-2.06 2.06-.94-2.06-.94-.94-2.06-.94 2.06-2.06.94z\"/><path d=\"M17.41 7.96l-1.37-1.37c-.4-.4-.92-.59-1.43-.59-.52 0-1.04.2-1.43.59L10.3 9.45l-7.72 7.72c-.78.78-.78 2.05 0 2.83L4 21.41c.39.39.9.59 1.41.59.51 0 1.02-.2 1.41-.59l7.78-7.78 2.81-2.81c.8-.78.8-2.07 0-2.86zM5.41 20L4 18.59l7.72-7.72 1.47 1.35L5.41 20z\"/>\n",
              "  </svg>\n",
              "      </button>\n",
              "      \n",
              "  <style>\n",
              "    .colab-df-container {\n",
              "      display:flex;\n",
              "      flex-wrap:wrap;\n",
              "      gap: 12px;\n",
              "    }\n",
              "\n",
              "    .colab-df-convert {\n",
              "      background-color: #E8F0FE;\n",
              "      border: none;\n",
              "      border-radius: 50%;\n",
              "      cursor: pointer;\n",
              "      display: none;\n",
              "      fill: #1967D2;\n",
              "      height: 32px;\n",
              "      padding: 0 0 0 0;\n",
              "      width: 32px;\n",
              "    }\n",
              "\n",
              "    .colab-df-convert:hover {\n",
              "      background-color: #E2EBFA;\n",
              "      box-shadow: 0px 1px 2px rgba(60, 64, 67, 0.3), 0px 1px 3px 1px rgba(60, 64, 67, 0.15);\n",
              "      fill: #174EA6;\n",
              "    }\n",
              "\n",
              "    [theme=dark] .colab-df-convert {\n",
              "      background-color: #3B4455;\n",
              "      fill: #D2E3FC;\n",
              "    }\n",
              "\n",
              "    [theme=dark] .colab-df-convert:hover {\n",
              "      background-color: #434B5C;\n",
              "      box-shadow: 0px 1px 3px 1px rgba(0, 0, 0, 0.15);\n",
              "      filter: drop-shadow(0px 1px 2px rgba(0, 0, 0, 0.3));\n",
              "      fill: #FFFFFF;\n",
              "    }\n",
              "  </style>\n",
              "\n",
              "      <script>\n",
              "        const buttonEl =\n",
              "          document.querySelector('#df-332816f9-79cc-4b85-a26f-00cfc53953f1 button.colab-df-convert');\n",
              "        buttonEl.style.display =\n",
              "          google.colab.kernel.accessAllowed ? 'block' : 'none';\n",
              "\n",
              "        async function convertToInteractive(key) {\n",
              "          const element = document.querySelector('#df-332816f9-79cc-4b85-a26f-00cfc53953f1');\n",
              "          const dataTable =\n",
              "            await google.colab.kernel.invokeFunction('convertToInteractive',\n",
              "                                                     [key], {});\n",
              "          if (!dataTable) return;\n",
              "\n",
              "          const docLinkHtml = 'Like what you see? Visit the ' +\n",
              "            '<a target=\"_blank\" href=https://colab.research.google.com/notebooks/data_table.ipynb>data table notebook</a>'\n",
              "            + ' to learn more about interactive tables.';\n",
              "          element.innerHTML = '';\n",
              "          dataTable['output_type'] = 'display_data';\n",
              "          await google.colab.output.renderOutput(dataTable, element);\n",
              "          const docLink = document.createElement('div');\n",
              "          docLink.innerHTML = docLinkHtml;\n",
              "          element.appendChild(docLink);\n",
              "        }\n",
              "      </script>\n",
              "    </div>\n",
              "  </div>\n",
              "  "
            ]
          },
          "metadata": {},
          "execution_count": 157
        }
      ]
    },
    {
      "cell_type": "code",
      "source": [
        "licenseId = df['LICENSE ID']\n",
        "\n",
        "\n",
        "submission = pd.concat([licenseId,rf_prediction],axis=1)\n",
        "submission"
      ],
      "metadata": {
        "colab": {
          "base_uri": "https://localhost:8080/",
          "height": 423
        },
        "id": "MTzJgjNOluHp",
        "outputId": "34f6846a-668f-4618-ada7-6e17dbff46fc"
      },
      "execution_count": 159,
      "outputs": [
        {
          "output_type": "execute_result",
          "data": {
            "text/plain": [
              "       LICENSE ID  licenseStatus\n",
              "0         1256593            1.0\n",
              "1         1639294            1.0\n",
              "2         1980233            0.0\n",
              "3         1476582            0.0\n",
              "4         1896750            1.0\n",
              "...           ...            ...\n",
              "85890     2143400            NaN\n",
              "85891     1821421            NaN\n",
              "85892     1939358            NaN\n",
              "85893     2110060            NaN\n",
              "85894     1461628            NaN\n",
              "\n",
              "[85895 rows x 2 columns]"
            ],
            "text/html": [
              "\n",
              "  <div id=\"df-e8d3641e-c32e-4de8-8a9a-848139951e30\">\n",
              "    <div class=\"colab-df-container\">\n",
              "      <div>\n",
              "<style scoped>\n",
              "    .dataframe tbody tr th:only-of-type {\n",
              "        vertical-align: middle;\n",
              "    }\n",
              "\n",
              "    .dataframe tbody tr th {\n",
              "        vertical-align: top;\n",
              "    }\n",
              "\n",
              "    .dataframe thead th {\n",
              "        text-align: right;\n",
              "    }\n",
              "</style>\n",
              "<table border=\"1\" class=\"dataframe\">\n",
              "  <thead>\n",
              "    <tr style=\"text-align: right;\">\n",
              "      <th></th>\n",
              "      <th>LICENSE ID</th>\n",
              "      <th>licenseStatus</th>\n",
              "    </tr>\n",
              "  </thead>\n",
              "  <tbody>\n",
              "    <tr>\n",
              "      <th>0</th>\n",
              "      <td>1256593</td>\n",
              "      <td>1.0</td>\n",
              "    </tr>\n",
              "    <tr>\n",
              "      <th>1</th>\n",
              "      <td>1639294</td>\n",
              "      <td>1.0</td>\n",
              "    </tr>\n",
              "    <tr>\n",
              "      <th>2</th>\n",
              "      <td>1980233</td>\n",
              "      <td>0.0</td>\n",
              "    </tr>\n",
              "    <tr>\n",
              "      <th>3</th>\n",
              "      <td>1476582</td>\n",
              "      <td>0.0</td>\n",
              "    </tr>\n",
              "    <tr>\n",
              "      <th>4</th>\n",
              "      <td>1896750</td>\n",
              "      <td>1.0</td>\n",
              "    </tr>\n",
              "    <tr>\n",
              "      <th>...</th>\n",
              "      <td>...</td>\n",
              "      <td>...</td>\n",
              "    </tr>\n",
              "    <tr>\n",
              "      <th>85890</th>\n",
              "      <td>2143400</td>\n",
              "      <td>NaN</td>\n",
              "    </tr>\n",
              "    <tr>\n",
              "      <th>85891</th>\n",
              "      <td>1821421</td>\n",
              "      <td>NaN</td>\n",
              "    </tr>\n",
              "    <tr>\n",
              "      <th>85892</th>\n",
              "      <td>1939358</td>\n",
              "      <td>NaN</td>\n",
              "    </tr>\n",
              "    <tr>\n",
              "      <th>85893</th>\n",
              "      <td>2110060</td>\n",
              "      <td>NaN</td>\n",
              "    </tr>\n",
              "    <tr>\n",
              "      <th>85894</th>\n",
              "      <td>1461628</td>\n",
              "      <td>NaN</td>\n",
              "    </tr>\n",
              "  </tbody>\n",
              "</table>\n",
              "<p>85895 rows × 2 columns</p>\n",
              "</div>\n",
              "      <button class=\"colab-df-convert\" onclick=\"convertToInteractive('df-e8d3641e-c32e-4de8-8a9a-848139951e30')\"\n",
              "              title=\"Convert this dataframe to an interactive table.\"\n",
              "              style=\"display:none;\">\n",
              "        \n",
              "  <svg xmlns=\"http://www.w3.org/2000/svg\" height=\"24px\"viewBox=\"0 0 24 24\"\n",
              "       width=\"24px\">\n",
              "    <path d=\"M0 0h24v24H0V0z\" fill=\"none\"/>\n",
              "    <path d=\"M18.56 5.44l.94 2.06.94-2.06 2.06-.94-2.06-.94-.94-2.06-.94 2.06-2.06.94zm-11 1L8.5 8.5l.94-2.06 2.06-.94-2.06-.94L8.5 2.5l-.94 2.06-2.06.94zm10 10l.94 2.06.94-2.06 2.06-.94-2.06-.94-.94-2.06-.94 2.06-2.06.94z\"/><path d=\"M17.41 7.96l-1.37-1.37c-.4-.4-.92-.59-1.43-.59-.52 0-1.04.2-1.43.59L10.3 9.45l-7.72 7.72c-.78.78-.78 2.05 0 2.83L4 21.41c.39.39.9.59 1.41.59.51 0 1.02-.2 1.41-.59l7.78-7.78 2.81-2.81c.8-.78.8-2.07 0-2.86zM5.41 20L4 18.59l7.72-7.72 1.47 1.35L5.41 20z\"/>\n",
              "  </svg>\n",
              "      </button>\n",
              "      \n",
              "  <style>\n",
              "    .colab-df-container {\n",
              "      display:flex;\n",
              "      flex-wrap:wrap;\n",
              "      gap: 12px;\n",
              "    }\n",
              "\n",
              "    .colab-df-convert {\n",
              "      background-color: #E8F0FE;\n",
              "      border: none;\n",
              "      border-radius: 50%;\n",
              "      cursor: pointer;\n",
              "      display: none;\n",
              "      fill: #1967D2;\n",
              "      height: 32px;\n",
              "      padding: 0 0 0 0;\n",
              "      width: 32px;\n",
              "    }\n",
              "\n",
              "    .colab-df-convert:hover {\n",
              "      background-color: #E2EBFA;\n",
              "      box-shadow: 0px 1px 2px rgba(60, 64, 67, 0.3), 0px 1px 3px 1px rgba(60, 64, 67, 0.15);\n",
              "      fill: #174EA6;\n",
              "    }\n",
              "\n",
              "    [theme=dark] .colab-df-convert {\n",
              "      background-color: #3B4455;\n",
              "      fill: #D2E3FC;\n",
              "    }\n",
              "\n",
              "    [theme=dark] .colab-df-convert:hover {\n",
              "      background-color: #434B5C;\n",
              "      box-shadow: 0px 1px 3px 1px rgba(0, 0, 0, 0.15);\n",
              "      filter: drop-shadow(0px 1px 2px rgba(0, 0, 0, 0.3));\n",
              "      fill: #FFFFFF;\n",
              "    }\n",
              "  </style>\n",
              "\n",
              "      <script>\n",
              "        const buttonEl =\n",
              "          document.querySelector('#df-e8d3641e-c32e-4de8-8a9a-848139951e30 button.colab-df-convert');\n",
              "        buttonEl.style.display =\n",
              "          google.colab.kernel.accessAllowed ? 'block' : 'none';\n",
              "\n",
              "        async function convertToInteractive(key) {\n",
              "          const element = document.querySelector('#df-e8d3641e-c32e-4de8-8a9a-848139951e30');\n",
              "          const dataTable =\n",
              "            await google.colab.kernel.invokeFunction('convertToInteractive',\n",
              "                                                     [key], {});\n",
              "          if (!dataTable) return;\n",
              "\n",
              "          const docLinkHtml = 'Like what you see? Visit the ' +\n",
              "            '<a target=\"_blank\" href=https://colab.research.google.com/notebooks/data_table.ipynb>data table notebook</a>'\n",
              "            + ' to learn more about interactive tables.';\n",
              "          element.innerHTML = '';\n",
              "          dataTable['output_type'] = 'display_data';\n",
              "          await google.colab.output.renderOutput(dataTable, element);\n",
              "          const docLink = document.createElement('div');\n",
              "          docLink.innerHTML = docLinkHtml;\n",
              "          element.appendChild(docLink);\n",
              "        }\n",
              "      </script>\n",
              "    </div>\n",
              "  </div>\n",
              "  "
            ]
          },
          "metadata": {},
          "execution_count": 159
        }
      ]
    },
    {
      "cell_type": "code",
      "source": [
        "final_submission = submission.dropna(axis=0)\n",
        "final_submission"
      ],
      "metadata": {
        "colab": {
          "base_uri": "https://localhost:8080/",
          "height": 423
        },
        "id": "sHT3LYdxluVz",
        "outputId": "854085f4-5e90-40cb-df1f-6cda1c37f606"
      },
      "execution_count": 167,
      "outputs": [
        {
          "output_type": "execute_result",
          "data": {
            "text/plain": [
              "       LICENSE ID  licenseStatus\n",
              "0         1256593            1.0\n",
              "1         1639294            1.0\n",
              "2         1980233            0.0\n",
              "3         1476582            0.0\n",
              "4         1896750            1.0\n",
              "...           ...            ...\n",
              "28341     1211588            0.0\n",
              "28342     1519841            0.0\n",
              "28343     1339277            0.0\n",
              "28344     1563349            0.0\n",
              "28345     2153066            1.0\n",
              "\n",
              "[28346 rows x 2 columns]"
            ],
            "text/html": [
              "\n",
              "  <div id=\"df-9e429275-cb3d-4198-bff9-1658033cb06f\">\n",
              "    <div class=\"colab-df-container\">\n",
              "      <div>\n",
              "<style scoped>\n",
              "    .dataframe tbody tr th:only-of-type {\n",
              "        vertical-align: middle;\n",
              "    }\n",
              "\n",
              "    .dataframe tbody tr th {\n",
              "        vertical-align: top;\n",
              "    }\n",
              "\n",
              "    .dataframe thead th {\n",
              "        text-align: right;\n",
              "    }\n",
              "</style>\n",
              "<table border=\"1\" class=\"dataframe\">\n",
              "  <thead>\n",
              "    <tr style=\"text-align: right;\">\n",
              "      <th></th>\n",
              "      <th>LICENSE ID</th>\n",
              "      <th>licenseStatus</th>\n",
              "    </tr>\n",
              "  </thead>\n",
              "  <tbody>\n",
              "    <tr>\n",
              "      <th>0</th>\n",
              "      <td>1256593</td>\n",
              "      <td>1.0</td>\n",
              "    </tr>\n",
              "    <tr>\n",
              "      <th>1</th>\n",
              "      <td>1639294</td>\n",
              "      <td>1.0</td>\n",
              "    </tr>\n",
              "    <tr>\n",
              "      <th>2</th>\n",
              "      <td>1980233</td>\n",
              "      <td>0.0</td>\n",
              "    </tr>\n",
              "    <tr>\n",
              "      <th>3</th>\n",
              "      <td>1476582</td>\n",
              "      <td>0.0</td>\n",
              "    </tr>\n",
              "    <tr>\n",
              "      <th>4</th>\n",
              "      <td>1896750</td>\n",
              "      <td>1.0</td>\n",
              "    </tr>\n",
              "    <tr>\n",
              "      <th>...</th>\n",
              "      <td>...</td>\n",
              "      <td>...</td>\n",
              "    </tr>\n",
              "    <tr>\n",
              "      <th>28341</th>\n",
              "      <td>1211588</td>\n",
              "      <td>0.0</td>\n",
              "    </tr>\n",
              "    <tr>\n",
              "      <th>28342</th>\n",
              "      <td>1519841</td>\n",
              "      <td>0.0</td>\n",
              "    </tr>\n",
              "    <tr>\n",
              "      <th>28343</th>\n",
              "      <td>1339277</td>\n",
              "      <td>0.0</td>\n",
              "    </tr>\n",
              "    <tr>\n",
              "      <th>28344</th>\n",
              "      <td>1563349</td>\n",
              "      <td>0.0</td>\n",
              "    </tr>\n",
              "    <tr>\n",
              "      <th>28345</th>\n",
              "      <td>2153066</td>\n",
              "      <td>1.0</td>\n",
              "    </tr>\n",
              "  </tbody>\n",
              "</table>\n",
              "<p>28346 rows × 2 columns</p>\n",
              "</div>\n",
              "      <button class=\"colab-df-convert\" onclick=\"convertToInteractive('df-9e429275-cb3d-4198-bff9-1658033cb06f')\"\n",
              "              title=\"Convert this dataframe to an interactive table.\"\n",
              "              style=\"display:none;\">\n",
              "        \n",
              "  <svg xmlns=\"http://www.w3.org/2000/svg\" height=\"24px\"viewBox=\"0 0 24 24\"\n",
              "       width=\"24px\">\n",
              "    <path d=\"M0 0h24v24H0V0z\" fill=\"none\"/>\n",
              "    <path d=\"M18.56 5.44l.94 2.06.94-2.06 2.06-.94-2.06-.94-.94-2.06-.94 2.06-2.06.94zm-11 1L8.5 8.5l.94-2.06 2.06-.94-2.06-.94L8.5 2.5l-.94 2.06-2.06.94zm10 10l.94 2.06.94-2.06 2.06-.94-2.06-.94-.94-2.06-.94 2.06-2.06.94z\"/><path d=\"M17.41 7.96l-1.37-1.37c-.4-.4-.92-.59-1.43-.59-.52 0-1.04.2-1.43.59L10.3 9.45l-7.72 7.72c-.78.78-.78 2.05 0 2.83L4 21.41c.39.39.9.59 1.41.59.51 0 1.02-.2 1.41-.59l7.78-7.78 2.81-2.81c.8-.78.8-2.07 0-2.86zM5.41 20L4 18.59l7.72-7.72 1.47 1.35L5.41 20z\"/>\n",
              "  </svg>\n",
              "      </button>\n",
              "      \n",
              "  <style>\n",
              "    .colab-df-container {\n",
              "      display:flex;\n",
              "      flex-wrap:wrap;\n",
              "      gap: 12px;\n",
              "    }\n",
              "\n",
              "    .colab-df-convert {\n",
              "      background-color: #E8F0FE;\n",
              "      border: none;\n",
              "      border-radius: 50%;\n",
              "      cursor: pointer;\n",
              "      display: none;\n",
              "      fill: #1967D2;\n",
              "      height: 32px;\n",
              "      padding: 0 0 0 0;\n",
              "      width: 32px;\n",
              "    }\n",
              "\n",
              "    .colab-df-convert:hover {\n",
              "      background-color: #E2EBFA;\n",
              "      box-shadow: 0px 1px 2px rgba(60, 64, 67, 0.3), 0px 1px 3px 1px rgba(60, 64, 67, 0.15);\n",
              "      fill: #174EA6;\n",
              "    }\n",
              "\n",
              "    [theme=dark] .colab-df-convert {\n",
              "      background-color: #3B4455;\n",
              "      fill: #D2E3FC;\n",
              "    }\n",
              "\n",
              "    [theme=dark] .colab-df-convert:hover {\n",
              "      background-color: #434B5C;\n",
              "      box-shadow: 0px 1px 3px 1px rgba(0, 0, 0, 0.15);\n",
              "      filter: drop-shadow(0px 1px 2px rgba(0, 0, 0, 0.3));\n",
              "      fill: #FFFFFF;\n",
              "    }\n",
              "  </style>\n",
              "\n",
              "      <script>\n",
              "        const buttonEl =\n",
              "          document.querySelector('#df-9e429275-cb3d-4198-bff9-1658033cb06f button.colab-df-convert');\n",
              "        buttonEl.style.display =\n",
              "          google.colab.kernel.accessAllowed ? 'block' : 'none';\n",
              "\n",
              "        async function convertToInteractive(key) {\n",
              "          const element = document.querySelector('#df-9e429275-cb3d-4198-bff9-1658033cb06f');\n",
              "          const dataTable =\n",
              "            await google.colab.kernel.invokeFunction('convertToInteractive',\n",
              "                                                     [key], {});\n",
              "          if (!dataTable) return;\n",
              "\n",
              "          const docLinkHtml = 'Like what you see? Visit the ' +\n",
              "            '<a target=\"_blank\" href=https://colab.research.google.com/notebooks/data_table.ipynb>data table notebook</a>'\n",
              "            + ' to learn more about interactive tables.';\n",
              "          element.innerHTML = '';\n",
              "          dataTable['output_type'] = 'display_data';\n",
              "          await google.colab.output.renderOutput(dataTable, element);\n",
              "          const docLink = document.createElement('div');\n",
              "          docLink.innerHTML = docLinkHtml;\n",
              "          element.appendChild(docLink);\n",
              "        }\n",
              "      </script>\n",
              "    </div>\n",
              "  </div>\n",
              "  "
            ]
          },
          "metadata": {},
          "execution_count": 167
        }
      ]
    },
    {
      "cell_type": "code",
      "source": [
        "##HAndling categorical feature CONDITIONAL APPROVAL\n",
        "\n",
        "# final_submission['licenseStatus'] = final_submission['licenseStatus'].map({0:'AAI',1:'AAC', 2:'REV', 3:'REA', 4:'INQ'})\n",
        "final_submission"
      ],
      "metadata": {
        "colab": {
          "base_uri": "https://localhost:8080/",
          "height": 528
        },
        "id": "eJRM3gzbpiRQ",
        "outputId": "a8f8bd94-073b-48f6-f2a4-264e4eeb8acf"
      },
      "execution_count": 168,
      "outputs": [
        {
          "output_type": "stream",
          "name": "stderr",
          "text": [
            "/usr/local/lib/python3.7/dist-packages/ipykernel_launcher.py:2: SettingWithCopyWarning: \n",
            "A value is trying to be set on a copy of a slice from a DataFrame.\n",
            "Try using .loc[row_indexer,col_indexer] = value instead\n",
            "\n",
            "See the caveats in the documentation: https://pandas.pydata.org/pandas-docs/stable/user_guide/indexing.html#returning-a-view-versus-a-copy\n",
            "  \n"
          ]
        },
        {
          "output_type": "execute_result",
          "data": {
            "text/plain": [
              "       LICENSE ID licenseStatus\n",
              "0         1256593           AAC\n",
              "1         1639294           AAC\n",
              "2         1980233           AAI\n",
              "3         1476582           AAI\n",
              "4         1896750           AAC\n",
              "...           ...           ...\n",
              "28341     1211588           AAI\n",
              "28342     1519841           AAI\n",
              "28343     1339277           AAI\n",
              "28344     1563349           AAI\n",
              "28345     2153066           AAC\n",
              "\n",
              "[28346 rows x 2 columns]"
            ],
            "text/html": [
              "\n",
              "  <div id=\"df-97f8745d-c571-40ed-a911-3b58a7175de7\">\n",
              "    <div class=\"colab-df-container\">\n",
              "      <div>\n",
              "<style scoped>\n",
              "    .dataframe tbody tr th:only-of-type {\n",
              "        vertical-align: middle;\n",
              "    }\n",
              "\n",
              "    .dataframe tbody tr th {\n",
              "        vertical-align: top;\n",
              "    }\n",
              "\n",
              "    .dataframe thead th {\n",
              "        text-align: right;\n",
              "    }\n",
              "</style>\n",
              "<table border=\"1\" class=\"dataframe\">\n",
              "  <thead>\n",
              "    <tr style=\"text-align: right;\">\n",
              "      <th></th>\n",
              "      <th>LICENSE ID</th>\n",
              "      <th>licenseStatus</th>\n",
              "    </tr>\n",
              "  </thead>\n",
              "  <tbody>\n",
              "    <tr>\n",
              "      <th>0</th>\n",
              "      <td>1256593</td>\n",
              "      <td>AAC</td>\n",
              "    </tr>\n",
              "    <tr>\n",
              "      <th>1</th>\n",
              "      <td>1639294</td>\n",
              "      <td>AAC</td>\n",
              "    </tr>\n",
              "    <tr>\n",
              "      <th>2</th>\n",
              "      <td>1980233</td>\n",
              "      <td>AAI</td>\n",
              "    </tr>\n",
              "    <tr>\n",
              "      <th>3</th>\n",
              "      <td>1476582</td>\n",
              "      <td>AAI</td>\n",
              "    </tr>\n",
              "    <tr>\n",
              "      <th>4</th>\n",
              "      <td>1896750</td>\n",
              "      <td>AAC</td>\n",
              "    </tr>\n",
              "    <tr>\n",
              "      <th>...</th>\n",
              "      <td>...</td>\n",
              "      <td>...</td>\n",
              "    </tr>\n",
              "    <tr>\n",
              "      <th>28341</th>\n",
              "      <td>1211588</td>\n",
              "      <td>AAI</td>\n",
              "    </tr>\n",
              "    <tr>\n",
              "      <th>28342</th>\n",
              "      <td>1519841</td>\n",
              "      <td>AAI</td>\n",
              "    </tr>\n",
              "    <tr>\n",
              "      <th>28343</th>\n",
              "      <td>1339277</td>\n",
              "      <td>AAI</td>\n",
              "    </tr>\n",
              "    <tr>\n",
              "      <th>28344</th>\n",
              "      <td>1563349</td>\n",
              "      <td>AAI</td>\n",
              "    </tr>\n",
              "    <tr>\n",
              "      <th>28345</th>\n",
              "      <td>2153066</td>\n",
              "      <td>AAC</td>\n",
              "    </tr>\n",
              "  </tbody>\n",
              "</table>\n",
              "<p>28346 rows × 2 columns</p>\n",
              "</div>\n",
              "      <button class=\"colab-df-convert\" onclick=\"convertToInteractive('df-97f8745d-c571-40ed-a911-3b58a7175de7')\"\n",
              "              title=\"Convert this dataframe to an interactive table.\"\n",
              "              style=\"display:none;\">\n",
              "        \n",
              "  <svg xmlns=\"http://www.w3.org/2000/svg\" height=\"24px\"viewBox=\"0 0 24 24\"\n",
              "       width=\"24px\">\n",
              "    <path d=\"M0 0h24v24H0V0z\" fill=\"none\"/>\n",
              "    <path d=\"M18.56 5.44l.94 2.06.94-2.06 2.06-.94-2.06-.94-.94-2.06-.94 2.06-2.06.94zm-11 1L8.5 8.5l.94-2.06 2.06-.94-2.06-.94L8.5 2.5l-.94 2.06-2.06.94zm10 10l.94 2.06.94-2.06 2.06-.94-2.06-.94-.94-2.06-.94 2.06-2.06.94z\"/><path d=\"M17.41 7.96l-1.37-1.37c-.4-.4-.92-.59-1.43-.59-.52 0-1.04.2-1.43.59L10.3 9.45l-7.72 7.72c-.78.78-.78 2.05 0 2.83L4 21.41c.39.39.9.59 1.41.59.51 0 1.02-.2 1.41-.59l7.78-7.78 2.81-2.81c.8-.78.8-2.07 0-2.86zM5.41 20L4 18.59l7.72-7.72 1.47 1.35L5.41 20z\"/>\n",
              "  </svg>\n",
              "      </button>\n",
              "      \n",
              "  <style>\n",
              "    .colab-df-container {\n",
              "      display:flex;\n",
              "      flex-wrap:wrap;\n",
              "      gap: 12px;\n",
              "    }\n",
              "\n",
              "    .colab-df-convert {\n",
              "      background-color: #E8F0FE;\n",
              "      border: none;\n",
              "      border-radius: 50%;\n",
              "      cursor: pointer;\n",
              "      display: none;\n",
              "      fill: #1967D2;\n",
              "      height: 32px;\n",
              "      padding: 0 0 0 0;\n",
              "      width: 32px;\n",
              "    }\n",
              "\n",
              "    .colab-df-convert:hover {\n",
              "      background-color: #E2EBFA;\n",
              "      box-shadow: 0px 1px 2px rgba(60, 64, 67, 0.3), 0px 1px 3px 1px rgba(60, 64, 67, 0.15);\n",
              "      fill: #174EA6;\n",
              "    }\n",
              "\n",
              "    [theme=dark] .colab-df-convert {\n",
              "      background-color: #3B4455;\n",
              "      fill: #D2E3FC;\n",
              "    }\n",
              "\n",
              "    [theme=dark] .colab-df-convert:hover {\n",
              "      background-color: #434B5C;\n",
              "      box-shadow: 0px 1px 3px 1px rgba(0, 0, 0, 0.15);\n",
              "      filter: drop-shadow(0px 1px 2px rgba(0, 0, 0, 0.3));\n",
              "      fill: #FFFFFF;\n",
              "    }\n",
              "  </style>\n",
              "\n",
              "      <script>\n",
              "        const buttonEl =\n",
              "          document.querySelector('#df-97f8745d-c571-40ed-a911-3b58a7175de7 button.colab-df-convert');\n",
              "        buttonEl.style.display =\n",
              "          google.colab.kernel.accessAllowed ? 'block' : 'none';\n",
              "\n",
              "        async function convertToInteractive(key) {\n",
              "          const element = document.querySelector('#df-97f8745d-c571-40ed-a911-3b58a7175de7');\n",
              "          const dataTable =\n",
              "            await google.colab.kernel.invokeFunction('convertToInteractive',\n",
              "                                                     [key], {});\n",
              "          if (!dataTable) return;\n",
              "\n",
              "          const docLinkHtml = 'Like what you see? Visit the ' +\n",
              "            '<a target=\"_blank\" href=https://colab.research.google.com/notebooks/data_table.ipynb>data table notebook</a>'\n",
              "            + ' to learn more about interactive tables.';\n",
              "          element.innerHTML = '';\n",
              "          dataTable['output_type'] = 'display_data';\n",
              "          await google.colab.output.renderOutput(dataTable, element);\n",
              "          const docLink = document.createElement('div');\n",
              "          docLink.innerHTML = docLinkHtml;\n",
              "          element.appendChild(docLink);\n",
              "        }\n",
              "      </script>\n",
              "    </div>\n",
              "  </div>\n",
              "  "
            ]
          },
          "metadata": {},
          "execution_count": 168
        }
      ]
    },
    {
      "cell_type": "code",
      "source": [
        "final_submission.rename(columns = {'licenseStatus':['LICENSE STATUS']}, inplace = True)\n",
        "final_submission"
      ],
      "metadata": {
        "colab": {
          "base_uri": "https://localhost:8080/"
        },
        "id": "KxswUNuBr9iw",
        "outputId": "65610043-9892-435d-b19a-013385d2cdc5"
      },
      "execution_count": 171,
      "outputs": [
        {
          "output_type": "stream",
          "name": "stderr",
          "text": [
            "/usr/local/lib/python3.7/dist-packages/pandas/core/frame.py:5047: SettingWithCopyWarning: \n",
            "A value is trying to be set on a copy of a slice from a DataFrame\n",
            "\n",
            "See the caveats in the documentation: https://pandas.pydata.org/pandas-docs/stable/user_guide/indexing.html#returning-a-view-versus-a-copy\n",
            "  errors=errors,\n"
          ]
        }
      ]
    },
    {
      "cell_type": "code",
      "source": [
        "final_submission.to_csv('final_submission.csv')"
      ],
      "metadata": {
        "id": "O4-I551osaPZ"
      },
      "execution_count": 173,
      "outputs": []
    },
    {
      "cell_type": "markdown",
      "source": [
        "**In all of Models RandomForestClassifier gives good accuracy and F1 Score**"
      ],
      "metadata": {
        "id": "UBMA9rqqt9Ow"
      }
    },
    {
      "cell_type": "markdown",
      "source": [
        "**6.2 AdaBoost**"
      ],
      "metadata": {
        "id": "cYRd6-C3g8dX"
      }
    },
    {
      "cell_type": "code",
      "source": [
        "from sklearn.ensemble import AdaBoostClassifier\n",
        "abc = AdaBoostClassifier(n_estimators=5000)"
      ],
      "metadata": {
        "id": "1Qa2mkycgir9"
      },
      "execution_count": 139,
      "outputs": []
    },
    {
      "cell_type": "code",
      "source": [
        "abc.fit(X_train,y_train)"
      ],
      "metadata": {
        "id": "MjgC0jMKhg4k",
        "colab": {
          "base_uri": "https://localhost:8080/"
        },
        "outputId": "2e3f1991-3a6e-45f5-942f-34f19cfff3e9"
      },
      "execution_count": 140,
      "outputs": [
        {
          "output_type": "execute_result",
          "data": {
            "text/plain": [
              "AdaBoostClassifier(n_estimators=5000)"
            ]
          },
          "metadata": {},
          "execution_count": 140
        }
      ]
    },
    {
      "cell_type": "code",
      "source": [
        "abc_pred = abc.predict(X_test)"
      ],
      "metadata": {
        "id": "fM_cIjCKTj6r"
      },
      "execution_count": 141,
      "outputs": []
    },
    {
      "cell_type": "code",
      "source": [
        "print(\"Recall Score : \",recall_score(y_test,abc_pred, pos_label='positive', average='micro'))\n",
        "print(\"Precision Score : \",precision_score(y_test,abc_pred, pos_label='positive', average='micro'))\n",
        "print(\"f1 Score: \", f1_score(y_test,abc_pred, pos_label='positive', average='micro'))"
      ],
      "metadata": {
        "colab": {
          "base_uri": "https://localhost:8080/"
        },
        "id": "1Etpk_tTToS9",
        "outputId": "2370265a-942f-404d-bbd9-799dba6c5d44"
      },
      "execution_count": 142,
      "outputs": [
        {
          "output_type": "stream",
          "name": "stdout",
          "text": [
            "Recall Score :  0.8292175262823679\n",
            "Precision Score :  0.8292175262823679\n",
            "f1 Score:  0.8292175262823679\n"
          ]
        },
        {
          "output_type": "stream",
          "name": "stderr",
          "text": [
            "/usr/local/lib/python3.7/dist-packages/sklearn/metrics/_classification.py:1375: UserWarning: Note that pos_label (set to 'positive') is ignored when average != 'binary' (got 'micro'). You may use labels=[pos_label] to specify a single positive class.\n",
            "  UserWarning,\n",
            "/usr/local/lib/python3.7/dist-packages/sklearn/metrics/_classification.py:1375: UserWarning: Note that pos_label (set to 'positive') is ignored when average != 'binary' (got 'micro'). You may use labels=[pos_label] to specify a single positive class.\n",
            "  UserWarning,\n",
            "/usr/local/lib/python3.7/dist-packages/sklearn/metrics/_classification.py:1375: UserWarning: Note that pos_label (set to 'positive') is ignored when average != 'binary' (got 'micro'). You may use labels=[pos_label] to specify a single positive class.\n",
            "  UserWarning,\n"
          ]
        }
      ]
    },
    {
      "cell_type": "markdown",
      "source": [
        "**6.3 Gradient Boosting**"
      ],
      "metadata": {
        "id": "qJB6rcyuhWKu"
      }
    },
    {
      "cell_type": "code",
      "source": [
        "from sklearn.ensemble import GradientBoostingClassifier\n",
        "\n",
        "gbc = GradientBoostingClassifier(n_estimators=500, learning_rate=1.0, max_depth=1, random_state=0)"
      ],
      "metadata": {
        "id": "_3ZIZgkMhGKF"
      },
      "execution_count": 147,
      "outputs": []
    },
    {
      "cell_type": "code",
      "source": [
        "gbc.fit(X_train, y_train)\n",
        "gbc_pred = gbc.predict(X_test)"
      ],
      "metadata": {
        "id": "NEuyxdQgglWH"
      },
      "execution_count": 148,
      "outputs": []
    },
    {
      "cell_type": "code",
      "source": [
        "print(\"Recall Score : \",recall_score(y_test,abc_pred, pos_label='positive', average='micro'))\n",
        "print(\"Precision Score : \",precision_score(y_test,abc_pred, pos_label='positive', average='micro'))\n",
        "print(\"f1 Score: \", f1_score(y_test,abc_pred, pos_label='positive', average='micro'))"
      ],
      "metadata": {
        "colab": {
          "base_uri": "https://localhost:8080/"
        },
        "id": "xqKnBMJ_Uc7w",
        "outputId": "8e5a5a30-3856-439f-ee7e-d7e17ea56bbb"
      },
      "execution_count": 150,
      "outputs": [
        {
          "output_type": "stream",
          "name": "stdout",
          "text": [
            "Recall Score :  0.8292175262823679\n",
            "Precision Score :  0.8292175262823679\n",
            "f1 Score:  0.8292175262823679\n"
          ]
        },
        {
          "output_type": "stream",
          "name": "stderr",
          "text": [
            "/usr/local/lib/python3.7/dist-packages/sklearn/metrics/_classification.py:1375: UserWarning: Note that pos_label (set to 'positive') is ignored when average != 'binary' (got 'micro'). You may use labels=[pos_label] to specify a single positive class.\n",
            "  UserWarning,\n",
            "/usr/local/lib/python3.7/dist-packages/sklearn/metrics/_classification.py:1375: UserWarning: Note that pos_label (set to 'positive') is ignored when average != 'binary' (got 'micro'). You may use labels=[pos_label] to specify a single positive class.\n",
            "  UserWarning,\n",
            "/usr/local/lib/python3.7/dist-packages/sklearn/metrics/_classification.py:1375: UserWarning: Note that pos_label (set to 'positive') is ignored when average != 'binary' (got 'micro'). You may use labels=[pos_label] to specify a single positive class.\n",
            "  UserWarning,\n"
          ]
        },
        {
          "output_type": "stream",
          "name": "stdout",
          "text": [
            "Recall Score :  0.8292175262823679\n",
            "Precision Score :  0.8292175262823679\n",
            "f1 Score:  0.8292175262823679\n"
          ]
        },
        {
          "output_type": "stream",
          "name": "stderr",
          "text": [
            "/usr/local/lib/python3.7/dist-packages/sklearn/metrics/_classification.py:1375: UserWarning: Note that pos_label (set to 'positive') is ignored when average != 'binary' (got 'micro'). You may use labels=[pos_label] to specify a single positive class.\n",
            "  UserWarning,\n",
            "/usr/local/lib/python3.7/dist-packages/sklearn/metrics/_classification.py:1375: UserWarning: Note that pos_label (set to 'positive') is ignored when average != 'binary' (got 'micro'). You may use labels=[pos_label] to specify a single positive class.\n",
            "  UserWarning,\n",
            "/usr/local/lib/python3.7/dist-packages/sklearn/metrics/_classification.py:1375: UserWarning: Note that pos_label (set to 'positive') is ignored when average != 'binary' (got 'micro'). You may use labels=[pos_label] to specify a single positive class.\n",
            "  UserWarning,\n"
          ]
        }
      ]
    },
    {
      "cell_type": "markdown",
      "source": [
        "**6.4 XGBoost**"
      ],
      "metadata": {
        "id": "x2lzpyS_hLGd"
      }
    },
    {
      "cell_type": "code",
      "source": [
        "from xgboost import XGBClassifier\n",
        "\n",
        "xgbc=XGBClassifier()\n",
        "xgbc.fit(X_train,y_train)\n",
        "xgbc_pred=xgbc.predict(X_test)\n",
        "print('accuracy_score: ', accuracy_score(y_test,xgbc_pred))\n",
        "print(\"Confusion Matrix:\\n\" ,confusion_matrix(y_test,xgbc_pred))\n",
        "\n",
        "print(\"Recall Score : \",recall_score(y_test,xgbc_pred, pos_label='positive', average='micro'))\n",
        "print(\"Precision Score : \",precision_score(y_test,xgbc_pred, pos_label='positive', average='micro'))\n",
        "print(\"f1 Score: \", f1_score(y_test,xgbc_pred, pos_label='positive', average='micro'))\n",
        "\n",
        "# Target is multiclass but average='binary'. Please choose another average setting, one of [None, 'micro', 'macro', 'weighted']."
      ],
      "metadata": {
        "id": "DBrPHkcNgjmo",
        "colab": {
          "base_uri": "https://localhost:8080/"
        },
        "outputId": "9f90b112-6c3d-43d8-930c-6439c027594c"
      },
      "execution_count": 124,
      "outputs": [
        {
          "output_type": "stream",
          "name": "stdout",
          "text": [
            "accuracy_score:  0.98722923869329\n",
            "Confusion Matrix:\n",
            " [[18074   129     0     0]\n",
            " [  153  9894     7     0]\n",
            " [    1    71    16     0]\n",
            " [    0     1     0     0]]\n",
            "Recall Score :  0.98722923869329\n",
            "Precision Score :  0.98722923869329\n",
            "f1 Score:  0.98722923869329\n"
          ]
        },
        {
          "output_type": "stream",
          "name": "stderr",
          "text": [
            "/usr/local/lib/python3.7/dist-packages/sklearn/metrics/_classification.py:1375: UserWarning: Note that pos_label (set to 'positive') is ignored when average != 'binary' (got 'micro'). You may use labels=[pos_label] to specify a single positive class.\n",
            "  UserWarning,\n",
            "/usr/local/lib/python3.7/dist-packages/sklearn/metrics/_classification.py:1375: UserWarning: Note that pos_label (set to 'positive') is ignored when average != 'binary' (got 'micro'). You may use labels=[pos_label] to specify a single positive class.\n",
            "  UserWarning,\n",
            "/usr/local/lib/python3.7/dist-packages/sklearn/metrics/_classification.py:1375: UserWarning: Note that pos_label (set to 'positive') is ignored when average != 'binary' (got 'micro'). You may use labels=[pos_label] to specify a single positive class.\n",
            "  UserWarning,\n"
          ]
        }
      ]
    },
    {
      "cell_type": "code",
      "source": [
        "print(xgbc_pred)"
      ],
      "metadata": {
        "colab": {
          "base_uri": "https://localhost:8080/"
        },
        "id": "9Pq_VnnIRL66",
        "outputId": "409468b0-267c-473b-e05e-1d80f95ec70e"
      },
      "execution_count": 126,
      "outputs": [
        {
          "output_type": "stream",
          "name": "stdout",
          "text": [
            "[1 1 0 ... 0 0 1]\n"
          ]
        }
      ]
    },
    {
      "cell_type": "code",
      "source": [
        ""
      ],
      "metadata": {
        "id": "f8iiZDbDSQLv"
      },
      "execution_count": null,
      "outputs": []
    },
    {
      "cell_type": "code",
      "source": [
        ""
      ],
      "metadata": {
        "id": "Ti3nGYy7LVkc"
      },
      "execution_count": null,
      "outputs": []
    }
  ]
}